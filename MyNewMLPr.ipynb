{
 "cells": [
  {
   "cell_type": "code",
   "execution_count": 1,
   "metadata": {},
   "outputs": [],
   "source": [
    "import numpy as np # linear algebra\n",
    "import os\n",
    "import re\n",
    "import sys\n",
    "import pandas as pd # data processing, CSV file I/O (e.g. pd.read_csv)\n",
    "import matplotlib.pyplot as plt # this is used for the plot the graph \n",
    "import seaborn as sns # used for plot interactive graph.\n",
    "from sklearn.linear_model import LogisticRegression\n",
    "from sklearn.ensemble import RandomForestClassifier\n",
    "from sklearn.tree import DecisionTreeClassifier\n",
    "from sklearn.neighbors import KNeighborsClassifier\n",
    "from sklearn.ensemble import GradientBoostingRegressor\n",
    "from sklearn.metrics import confusion_matrix\n",
    "from sklearn.metrics import accuracy_score\n",
    "from sklearn.svm import SVC\n",
    "%matplotlib inline\n",
    "import warnings\n",
    "warnings.filterwarnings('ignore')\n",
    "from pylab import rcParams\n",
    "import time\n",
    "import datetime\n",
    "from sklearn import preprocessing\n",
    "from sklearn.ensemble import RandomForestRegressor\n",
    "from sklearn.model_selection import train_test_split\n",
    "from sklearn.linear_model import Ridge, Lasso\n",
    "\n",
    "from sklearn import metrics"
   ]
  },
  {
   "cell_type": "code",
   "execution_count": 2,
   "metadata": {},
   "outputs": [],
   "source": [
    "os.chdir('C:/Users/ybyad/Desktop/Mynewpr')"
   ]
  },
  {
   "cell_type": "code",
   "execution_count": 3,
   "metadata": {},
   "outputs": [],
   "source": [
    "data=pd.read_csv('googleplaystore.csv')"
   ]
  },
  {
   "cell_type": "code",
   "execution_count": 4,
   "metadata": {},
   "outputs": [
    {
     "data": {
      "text/plain": [
       "App                  0\n",
       "Category             0\n",
       "Rating            1474\n",
       "Reviews              0\n",
       "Size                 0\n",
       "Installs             0\n",
       "Type                 1\n",
       "Price                0\n",
       "Content Rating       1\n",
       "Genres               0\n",
       "Last Updated         0\n",
       "Current Ver          8\n",
       "Android Ver          3\n",
       "dtype: int64"
      ]
     },
     "execution_count": 4,
     "metadata": {},
     "output_type": "execute_result"
    }
   ],
   "source": [
    "data.isnull().sum()"
   ]
  },
  {
   "cell_type": "code",
   "execution_count": 5,
   "metadata": {},
   "outputs": [],
   "source": [
    "data['Rating'] = data['Rating'].fillna(data['Rating'].median())\n"
   ]
  },
  {
   "cell_type": "code",
   "execution_count": 6,
   "metadata": {},
   "outputs": [],
   "source": [
    "data.dropna(inplace = True)"
   ]
  },
  {
   "cell_type": "code",
   "execution_count": 7,
   "metadata": {},
   "outputs": [
    {
     "data": {
      "text/html": [
       "<div>\n",
       "<style scoped>\n",
       "    .dataframe tbody tr th:only-of-type {\n",
       "        vertical-align: middle;\n",
       "    }\n",
       "\n",
       "    .dataframe tbody tr th {\n",
       "        vertical-align: top;\n",
       "    }\n",
       "\n",
       "    .dataframe thead th {\n",
       "        text-align: right;\n",
       "    }\n",
       "</style>\n",
       "<table border=\"1\" class=\"dataframe\">\n",
       "  <thead>\n",
       "    <tr style=\"text-align: right;\">\n",
       "      <th></th>\n",
       "      <th>App</th>\n",
       "      <th>Category</th>\n",
       "      <th>Rating</th>\n",
       "      <th>Reviews</th>\n",
       "      <th>Size</th>\n",
       "      <th>Installs</th>\n",
       "      <th>Type</th>\n",
       "      <th>Price</th>\n",
       "      <th>Content Rating</th>\n",
       "      <th>Genres</th>\n",
       "      <th>Last Updated</th>\n",
       "      <th>Current Ver</th>\n",
       "      <th>Android Ver</th>\n",
       "    </tr>\n",
       "  </thead>\n",
       "  <tbody>\n",
       "    <tr>\n",
       "      <td>0</td>\n",
       "      <td>Photo Editor &amp; Candy Camera &amp; Grid &amp; ScrapBook</td>\n",
       "      <td>ART_AND_DESIGN</td>\n",
       "      <td>4.1</td>\n",
       "      <td>159</td>\n",
       "      <td>19M</td>\n",
       "      <td>10,000+</td>\n",
       "      <td>Free</td>\n",
       "      <td>0</td>\n",
       "      <td>Everyone</td>\n",
       "      <td>Art &amp; Design</td>\n",
       "      <td>January 7, 2018</td>\n",
       "      <td>1.0.0</td>\n",
       "      <td>4.0.3 and up</td>\n",
       "    </tr>\n",
       "    <tr>\n",
       "      <td>1</td>\n",
       "      <td>Coloring book moana</td>\n",
       "      <td>ART_AND_DESIGN</td>\n",
       "      <td>3.9</td>\n",
       "      <td>967</td>\n",
       "      <td>14M</td>\n",
       "      <td>500,000+</td>\n",
       "      <td>Free</td>\n",
       "      <td>0</td>\n",
       "      <td>Everyone</td>\n",
       "      <td>Art &amp; Design;Pretend Play</td>\n",
       "      <td>January 15, 2018</td>\n",
       "      <td>2.0.0</td>\n",
       "      <td>4.0.3 and up</td>\n",
       "    </tr>\n",
       "    <tr>\n",
       "      <td>2</td>\n",
       "      <td>U Launcher Lite – FREE Live Cool Themes, Hide ...</td>\n",
       "      <td>ART_AND_DESIGN</td>\n",
       "      <td>4.7</td>\n",
       "      <td>87510</td>\n",
       "      <td>8.7M</td>\n",
       "      <td>5,000,000+</td>\n",
       "      <td>Free</td>\n",
       "      <td>0</td>\n",
       "      <td>Everyone</td>\n",
       "      <td>Art &amp; Design</td>\n",
       "      <td>August 1, 2018</td>\n",
       "      <td>1.2.4</td>\n",
       "      <td>4.0.3 and up</td>\n",
       "    </tr>\n",
       "    <tr>\n",
       "      <td>3</td>\n",
       "      <td>Sketch - Draw &amp; Paint</td>\n",
       "      <td>ART_AND_DESIGN</td>\n",
       "      <td>4.5</td>\n",
       "      <td>215644</td>\n",
       "      <td>25M</td>\n",
       "      <td>50,000,000+</td>\n",
       "      <td>Free</td>\n",
       "      <td>0</td>\n",
       "      <td>Teen</td>\n",
       "      <td>Art &amp; Design</td>\n",
       "      <td>June 8, 2018</td>\n",
       "      <td>Varies with device</td>\n",
       "      <td>4.2 and up</td>\n",
       "    </tr>\n",
       "    <tr>\n",
       "      <td>4</td>\n",
       "      <td>Pixel Draw - Number Art Coloring Book</td>\n",
       "      <td>ART_AND_DESIGN</td>\n",
       "      <td>4.3</td>\n",
       "      <td>967</td>\n",
       "      <td>2.8M</td>\n",
       "      <td>100,000+</td>\n",
       "      <td>Free</td>\n",
       "      <td>0</td>\n",
       "      <td>Everyone</td>\n",
       "      <td>Art &amp; Design;Creativity</td>\n",
       "      <td>June 20, 2018</td>\n",
       "      <td>1.1</td>\n",
       "      <td>4.4 and up</td>\n",
       "    </tr>\n",
       "  </tbody>\n",
       "</table>\n",
       "</div>"
      ],
      "text/plain": [
       "                                                 App        Category  Rating  \\\n",
       "0     Photo Editor & Candy Camera & Grid & ScrapBook  ART_AND_DESIGN     4.1   \n",
       "1                                Coloring book moana  ART_AND_DESIGN     3.9   \n",
       "2  U Launcher Lite – FREE Live Cool Themes, Hide ...  ART_AND_DESIGN     4.7   \n",
       "3                              Sketch - Draw & Paint  ART_AND_DESIGN     4.5   \n",
       "4              Pixel Draw - Number Art Coloring Book  ART_AND_DESIGN     4.3   \n",
       "\n",
       "  Reviews  Size     Installs  Type Price Content Rating  \\\n",
       "0     159   19M      10,000+  Free     0       Everyone   \n",
       "1     967   14M     500,000+  Free     0       Everyone   \n",
       "2   87510  8.7M   5,000,000+  Free     0       Everyone   \n",
       "3  215644   25M  50,000,000+  Free     0           Teen   \n",
       "4     967  2.8M     100,000+  Free     0       Everyone   \n",
       "\n",
       "                      Genres      Last Updated         Current Ver  \\\n",
       "0               Art & Design   January 7, 2018               1.0.0   \n",
       "1  Art & Design;Pretend Play  January 15, 2018               2.0.0   \n",
       "2               Art & Design    August 1, 2018               1.2.4   \n",
       "3               Art & Design      June 8, 2018  Varies with device   \n",
       "4    Art & Design;Creativity     June 20, 2018                 1.1   \n",
       "\n",
       "    Android Ver  \n",
       "0  4.0.3 and up  \n",
       "1  4.0.3 and up  \n",
       "2  4.0.3 and up  \n",
       "3    4.2 and up  \n",
       "4    4.4 and up  "
      ]
     },
     "execution_count": 7,
     "metadata": {},
     "output_type": "execute_result"
    }
   ],
   "source": [
    "data.head()"
   ]
  },
  {
   "cell_type": "code",
   "execution_count": 8,
   "metadata": {},
   "outputs": [
    {
     "name": "stdout",
     "output_type": "stream",
     "text": [
      "Requirement already satisfied: pandas-profiling in c:\\users\\ybyad\\appdata\\local\\continuum\\anaconda3\\lib\\site-packages (2.4.0)\n",
      "Requirement already satisfied: htmlmin>=0.1.12 in c:\\users\\ybyad\\appdata\\local\\continuum\\anaconda3\\lib\\site-packages (from pandas-profiling) (0.1.12)\n",
      "Requirement already satisfied: confuse>=1.0.0 in c:\\users\\ybyad\\appdata\\local\\continuum\\anaconda3\\lib\\site-packages (from pandas-profiling) (1.0.0)\n",
      "Requirement already satisfied: matplotlib>=1.4 in c:\\users\\ybyad\\appdata\\local\\continuum\\anaconda3\\lib\\site-packages (from pandas-profiling) (3.1.1)\n",
      "Requirement already satisfied: phik>=0.9.8 in c:\\users\\ybyad\\appdata\\local\\continuum\\anaconda3\\lib\\site-packages (from pandas-profiling) (0.9.9)\n",
      "Requirement already satisfied: pandas>=0.19 in c:\\users\\ybyad\\appdata\\local\\continuum\\anaconda3\\lib\\site-packages (from pandas-profiling) (0.25.1)\n",
      "Requirement already satisfied: astropy in c:\\users\\ybyad\\appdata\\local\\continuum\\anaconda3\\lib\\site-packages (from pandas-profiling) (3.2.1)\n",
      "Requirement already satisfied: jinja2>=2.8 in c:\\users\\ybyad\\appdata\\local\\continuum\\anaconda3\\lib\\site-packages (from pandas-profiling) (2.10.3)\n",
      "Requirement already satisfied: missingno>=0.4.2 in c:\\users\\ybyad\\appdata\\local\\continuum\\anaconda3\\lib\\site-packages (from pandas-profiling) (0.4.2)\n",
      "Requirement already satisfied: pyyaml in c:\\users\\ybyad\\appdata\\local\\continuum\\anaconda3\\lib\\site-packages (from confuse>=1.0.0->pandas-profiling) (5.1.2)\n",
      "Requirement already satisfied: cycler>=0.10 in c:\\users\\ybyad\\appdata\\local\\continuum\\anaconda3\\lib\\site-packages (from matplotlib>=1.4->pandas-profiling) (0.10.0)\n",
      "Requirement already satisfied: kiwisolver>=1.0.1 in c:\\users\\ybyad\\appdata\\local\\continuum\\anaconda3\\lib\\site-packages (from matplotlib>=1.4->pandas-profiling) (1.1.0)\n",
      "Requirement already satisfied: pyparsing!=2.0.4,!=2.1.2,!=2.1.6,>=2.0.1 in c:\\users\\ybyad\\appdata\\local\\continuum\\anaconda3\\lib\\site-packages (from matplotlib>=1.4->pandas-profiling) (2.4.2)\n",
      "Requirement already satisfied: python-dateutil>=2.1 in c:\\users\\ybyad\\appdata\\local\\continuum\\anaconda3\\lib\\site-packages (from matplotlib>=1.4->pandas-profiling) (2.8.0)\n",
      "Requirement already satisfied: numpy>=1.11 in c:\\users\\ybyad\\appdata\\local\\continuum\\anaconda3\\lib\\site-packages (from matplotlib>=1.4->pandas-profiling) (1.16.5)\n",
      "Requirement already satisfied: jupyter-client>=5.2.3 in c:\\users\\ybyad\\appdata\\local\\continuum\\anaconda3\\lib\\site-packages (from phik>=0.9.8->pandas-profiling) (5.3.3)\n",
      "Requirement already satisfied: joblib>=0.14.1 in c:\\users\\ybyad\\appdata\\local\\continuum\\anaconda3\\lib\\site-packages (from phik>=0.9.8->pandas-profiling) (0.14.1)\n",
      "Requirement already satisfied: numba>=0.38.1 in c:\\users\\ybyad\\appdata\\local\\continuum\\anaconda3\\lib\\site-packages (from phik>=0.9.8->pandas-profiling) (0.45.1)\n",
      "Requirement already satisfied: pytest>=4.0.2 in c:\\users\\ybyad\\appdata\\local\\continuum\\anaconda3\\lib\\site-packages (from phik>=0.9.8->pandas-profiling) (5.2.1)\n",
      "Requirement already satisfied: pytest-pylint>=0.13.0 in c:\\users\\ybyad\\appdata\\local\\continuum\\anaconda3\\lib\\site-packages (from phik>=0.9.8->pandas-profiling) (0.15.0)\n",
      "Requirement already satisfied: nbconvert>=5.3.1 in c:\\users\\ybyad\\appdata\\local\\continuum\\anaconda3\\lib\\site-packages (from phik>=0.9.8->pandas-profiling) (5.6.0)\n",
      "Requirement already satisfied: scipy>=1.1.0 in c:\\users\\ybyad\\appdata\\local\\continuum\\anaconda3\\lib\\site-packages (from phik>=0.9.8->pandas-profiling) (1.3.1)\n",
      "Requirement already satisfied: pytz>=2017.2 in c:\\users\\ybyad\\appdata\\local\\continuum\\anaconda3\\lib\\site-packages (from pandas>=0.19->pandas-profiling) (2019.3)\n",
      "Requirement already satisfied: MarkupSafe>=0.23 in c:\\users\\ybyad\\appdata\\local\\continuum\\anaconda3\\lib\\site-packages (from jinja2>=2.8->pandas-profiling) (1.1.1)\n",
      "Requirement already satisfied: seaborn in c:\\users\\ybyad\\appdata\\local\\continuum\\anaconda3\\lib\\site-packages (from missingno>=0.4.2->pandas-profiling) (0.9.0)\n",
      "Requirement already satisfied: six in c:\\users\\ybyad\\appdata\\local\\continuum\\anaconda3\\lib\\site-packages (from cycler>=0.10->matplotlib>=1.4->pandas-profiling) (1.12.0)\n",
      "Requirement already satisfied: setuptools in c:\\users\\ybyad\\appdata\\local\\continuum\\anaconda3\\lib\\site-packages (from kiwisolver>=1.0.1->matplotlib>=1.4->pandas-profiling) (41.4.0)\n",
      "Requirement already satisfied: pywin32>=1.0; sys_platform == \"win32\" in c:\\users\\ybyad\\appdata\\local\\continuum\\anaconda3\\lib\\site-packages (from jupyter-client>=5.2.3->phik>=0.9.8->pandas-profiling) (223)\n",
      "Requirement already satisfied: pyzmq>=13 in c:\\users\\ybyad\\appdata\\local\\continuum\\anaconda3\\lib\\site-packages (from jupyter-client>=5.2.3->phik>=0.9.8->pandas-profiling) (18.1.0)\n",
      "Requirement already satisfied: jupyter-core in c:\\users\\ybyad\\appdata\\local\\continuum\\anaconda3\\lib\\site-packages (from jupyter-client>=5.2.3->phik>=0.9.8->pandas-profiling) (4.5.0)\n",
      "Requirement already satisfied: traitlets in c:\\users\\ybyad\\appdata\\local\\continuum\\anaconda3\\lib\\site-packages (from jupyter-client>=5.2.3->phik>=0.9.8->pandas-profiling) (4.3.3)\n",
      "Requirement already satisfied: tornado>=4.1 in c:\\users\\ybyad\\appdata\\local\\continuum\\anaconda3\\lib\\site-packages (from jupyter-client>=5.2.3->phik>=0.9.8->pandas-profiling) (6.0.3)\n",
      "Requirement already satisfied: llvmlite>=0.29.0dev0 in c:\\users\\ybyad\\appdata\\local\\continuum\\anaconda3\\lib\\site-packages (from numba>=0.38.1->phik>=0.9.8->pandas-profiling) (0.29.0)\n",
      "Requirement already satisfied: py>=1.5.0 in c:\\users\\ybyad\\appdata\\local\\continuum\\anaconda3\\lib\\site-packages (from pytest>=4.0.2->phik>=0.9.8->pandas-profiling) (1.8.0)\n",
      "Requirement already satisfied: packaging in c:\\users\\ybyad\\appdata\\local\\continuum\\anaconda3\\lib\\site-packages (from pytest>=4.0.2->phik>=0.9.8->pandas-profiling) (19.2)\n",
      "Requirement already satisfied: attrs>=17.4.0 in c:\\users\\ybyad\\appdata\\local\\continuum\\anaconda3\\lib\\site-packages (from pytest>=4.0.2->phik>=0.9.8->pandas-profiling) (19.2.0)\n",
      "Requirement already satisfied: more-itertools>=4.0.0 in c:\\users\\ybyad\\appdata\\local\\continuum\\anaconda3\\lib\\site-packages (from pytest>=4.0.2->phik>=0.9.8->pandas-profiling) (7.2.0)\n",
      "Requirement already satisfied: atomicwrites>=1.0 in c:\\users\\ybyad\\appdata\\local\\continuum\\anaconda3\\lib\\site-packages (from pytest>=4.0.2->phik>=0.9.8->pandas-profiling) (1.3.0)\n",
      "Requirement already satisfied: pluggy<1.0,>=0.12 in c:\\users\\ybyad\\appdata\\local\\continuum\\anaconda3\\lib\\site-packages (from pytest>=4.0.2->phik>=0.9.8->pandas-profiling) (0.13.0)\n",
      "Requirement already satisfied: wcwidth in c:\\users\\ybyad\\appdata\\local\\continuum\\anaconda3\\lib\\site-packages (from pytest>=4.0.2->phik>=0.9.8->pandas-profiling) (0.1.7)\n",
      "Requirement already satisfied: importlib-metadata>=0.12 in c:\\users\\ybyad\\appdata\\local\\continuum\\anaconda3\\lib\\site-packages (from pytest>=4.0.2->phik>=0.9.8->pandas-profiling) (0.23)\n",
      "Requirement already satisfied: colorama in c:\\users\\ybyad\\appdata\\local\\continuum\\anaconda3\\lib\\site-packages (from pytest>=4.0.2->phik>=0.9.8->pandas-profiling) (0.4.1)\n",
      "Requirement already satisfied: pylint>=2.0.0 in c:\\users\\ybyad\\appdata\\local\\continuum\\anaconda3\\lib\\site-packages (from pytest-pylint>=0.13.0->phik>=0.9.8->pandas-profiling) (2.4.2)\n",
      "Requirement already satisfied: testpath in c:\\users\\ybyad\\appdata\\local\\continuum\\anaconda3\\lib\\site-packages (from nbconvert>=5.3.1->phik>=0.9.8->pandas-profiling) (0.4.2)\n",
      "Requirement already satisfied: bleach in c:\\users\\ybyad\\appdata\\local\\continuum\\anaconda3\\lib\\site-packages (from nbconvert>=5.3.1->phik>=0.9.8->pandas-profiling) (3.1.0)\n",
      "Requirement already satisfied: pandocfilters>=1.4.1 in c:\\users\\ybyad\\appdata\\local\\continuum\\anaconda3\\lib\\site-packages (from nbconvert>=5.3.1->phik>=0.9.8->pandas-profiling) (1.4.2)\n",
      "Requirement already satisfied: defusedxml in c:\\users\\ybyad\\appdata\\local\\continuum\\anaconda3\\lib\\site-packages (from nbconvert>=5.3.1->phik>=0.9.8->pandas-profiling) (0.6.0)\n",
      "Requirement already satisfied: mistune<2,>=0.8.1 in c:\\users\\ybyad\\appdata\\local\\continuum\\anaconda3\\lib\\site-packages (from nbconvert>=5.3.1->phik>=0.9.8->pandas-profiling) (0.8.4)\n",
      "Requirement already satisfied: entrypoints>=0.2.2 in c:\\users\\ybyad\\appdata\\local\\continuum\\anaconda3\\lib\\site-packages (from nbconvert>=5.3.1->phik>=0.9.8->pandas-profiling) (0.3)\n",
      "Requirement already satisfied: nbformat>=4.4 in c:\\users\\ybyad\\appdata\\local\\continuum\\anaconda3\\lib\\site-packages (from nbconvert>=5.3.1->phik>=0.9.8->pandas-profiling) (4.4.0)\n",
      "Requirement already satisfied: pygments in c:\\users\\ybyad\\appdata\\local\\continuum\\anaconda3\\lib\\site-packages (from nbconvert>=5.3.1->phik>=0.9.8->pandas-profiling) (2.4.2)\n",
      "Requirement already satisfied: decorator in c:\\users\\ybyad\\appdata\\local\\continuum\\anaconda3\\lib\\site-packages (from traitlets->jupyter-client>=5.2.3->phik>=0.9.8->pandas-profiling) (4.4.0)\n",
      "Requirement already satisfied: ipython-genutils in c:\\users\\ybyad\\appdata\\local\\continuum\\anaconda3\\lib\\site-packages (from traitlets->jupyter-client>=5.2.3->phik>=0.9.8->pandas-profiling) (0.2.0)\n",
      "Requirement already satisfied: zipp>=0.5 in c:\\users\\ybyad\\appdata\\local\\continuum\\anaconda3\\lib\\site-packages (from importlib-metadata>=0.12->pytest>=4.0.2->phik>=0.9.8->pandas-profiling) (0.6.0)\n",
      "Requirement already satisfied: isort<5,>=4.2.5 in c:\\users\\ybyad\\appdata\\local\\continuum\\anaconda3\\lib\\site-packages (from pylint>=2.0.0->pytest-pylint>=0.13.0->phik>=0.9.8->pandas-profiling) (4.3.21)\n",
      "Requirement already satisfied: mccabe<0.7,>=0.6 in c:\\users\\ybyad\\appdata\\local\\continuum\\anaconda3\\lib\\site-packages (from pylint>=2.0.0->pytest-pylint>=0.13.0->phik>=0.9.8->pandas-profiling) (0.6.1)\n",
      "Requirement already satisfied: astroid<2.4,>=2.3.0 in c:\\users\\ybyad\\appdata\\local\\continuum\\anaconda3\\lib\\site-packages (from pylint>=2.0.0->pytest-pylint>=0.13.0->phik>=0.9.8->pandas-profiling) (2.3.1)\n",
      "Requirement already satisfied: webencodings in c:\\users\\ybyad\\appdata\\local\\continuum\\anaconda3\\lib\\site-packages (from bleach->nbconvert>=5.3.1->phik>=0.9.8->pandas-profiling) (0.5.1)\n",
      "Requirement already satisfied: jsonschema!=2.5.0,>=2.4 in c:\\users\\ybyad\\appdata\\local\\continuum\\anaconda3\\lib\\site-packages (from nbformat>=4.4->nbconvert>=5.3.1->phik>=0.9.8->pandas-profiling) (3.0.2)\n",
      "Requirement already satisfied: typed-ast<1.5,>=1.4.0; implementation_name == \"cpython\" and python_version < \"3.8\" in c:\\users\\ybyad\\appdata\\local\\continuum\\anaconda3\\lib\\site-packages (from astroid<2.4,>=2.3.0->pylint>=2.0.0->pytest-pylint>=0.13.0->phik>=0.9.8->pandas-profiling) (1.4.1)\n",
      "Requirement already satisfied: lazy-object-proxy==1.4.* in c:\\users\\ybyad\\appdata\\local\\continuum\\anaconda3\\lib\\site-packages (from astroid<2.4,>=2.3.0->pylint>=2.0.0->pytest-pylint>=0.13.0->phik>=0.9.8->pandas-profiling) (1.4.2)\n",
      "Requirement already satisfied: wrapt==1.11.* in c:\\users\\ybyad\\appdata\\local\\continuum\\anaconda3\\lib\\site-packages (from astroid<2.4,>=2.3.0->pylint>=2.0.0->pytest-pylint>=0.13.0->phik>=0.9.8->pandas-profiling) (1.11.2)\n",
      "Requirement already satisfied: pyrsistent>=0.14.0 in c:\\users\\ybyad\\appdata\\local\\continuum\\anaconda3\\lib\\site-packages (from jsonschema!=2.5.0,>=2.4->nbformat>=4.4->nbconvert>=5.3.1->phik>=0.9.8->pandas-profiling) (0.15.4)\n",
      "Note: you may need to restart the kernel to use updated packages.\n"
     ]
    }
   ],
   "source": [
    "pip install pandas-profiling"
   ]
  },
  {
   "cell_type": "code",
   "execution_count": 9,
   "metadata": {},
   "outputs": [
    {
     "data": {
      "application/vnd.jupyter.widget-view+json": {
       "model_id": "78bcd5b0333d4ef58eb53bd26ed992ae",
       "version_major": 2,
       "version_minor": 0
      },
      "text/plain": [
       "Tab(children=(HTML(value='<div id=\"overview-content\" class=\"row variable spacing\">\\n    <div class=\"row\">\\n   …"
      ]
     },
     "metadata": {},
     "output_type": "display_data"
    },
    {
     "data": {
      "text/html": [
       "Report generated with <a href=\"https://github.com/pandas-profiling/pandas-profiling\">pandas-profiling</a>."
      ],
      "text/plain": [
       "<IPython.core.display.HTML object>"
      ]
     },
     "metadata": {},
     "output_type": "display_data"
    },
    {
     "data": {
      "text/plain": []
     },
     "execution_count": 9,
     "metadata": {},
     "output_type": "execute_result"
    }
   ],
   "source": [
    "import pandas_profiling\n",
    "pandas_profiling.ProfileReport(data)"
   ]
  },
  {
   "cell_type": "code",
   "execution_count": 10,
   "metadata": {},
   "outputs": [
    {
     "name": "stdout",
     "output_type": "stream",
     "text": [
      "Requirement already satisfied: plotly in c:\\users\\ybyad\\appdata\\local\\continuum\\anaconda3\\lib\\site-packages (4.5.2)\n",
      "Requirement already satisfied: retrying>=1.3.3 in c:\\users\\ybyad\\appdata\\local\\continuum\\anaconda3\\lib\\site-packages (from plotly) (1.3.3)\n",
      "Requirement already satisfied: six in c:\\users\\ybyad\\appdata\\local\\continuum\\anaconda3\\lib\\site-packages (from plotly) (1.12.0)\n",
      "Note: you may need to restart the kernel to use updated packages.\n"
     ]
    }
   ],
   "source": [
    "pip install plotly "
   ]
  },
  {
   "cell_type": "code",
   "execution_count": 11,
   "metadata": {},
   "outputs": [
    {
     "name": "stdout",
     "output_type": "stream",
     "text": [
      "Requirement already satisfied: chart_studio in c:\\users\\ybyad\\appdata\\local\\continuum\\anaconda3\\lib\\site-packages (1.0.0)\n",
      "Requirement already satisfied: plotly in c:\\users\\ybyad\\appdata\\local\\continuum\\anaconda3\\lib\\site-packages (from chart_studio) (4.5.2)\n",
      "Requirement already satisfied: six in c:\\users\\ybyad\\appdata\\local\\continuum\\anaconda3\\lib\\site-packages (from chart_studio) (1.12.0)\n",
      "Requirement already satisfied: retrying>=1.3.3 in c:\\users\\ybyad\\appdata\\local\\continuum\\anaconda3\\lib\\site-packages (from chart_studio) (1.3.3)\n",
      "Requirement already satisfied: requests in c:\\users\\ybyad\\appdata\\local\\continuum\\anaconda3\\lib\\site-packages (from chart_studio) (2.22.0)\n",
      "Requirement already satisfied: certifi>=2017.4.17 in c:\\users\\ybyad\\appdata\\local\\continuum\\anaconda3\\lib\\site-packages (from requests->chart_studio) (2019.9.11)\n",
      "Requirement already satisfied: chardet<3.1.0,>=3.0.2 in c:\\users\\ybyad\\appdata\\local\\continuum\\anaconda3\\lib\\site-packages (from requests->chart_studio) (3.0.4)\n",
      "Requirement already satisfied: urllib3!=1.25.0,!=1.25.1,<1.26,>=1.21.1 in c:\\users\\ybyad\\appdata\\local\\continuum\\anaconda3\\lib\\site-packages (from requests->chart_studio) (1.24.2)\n",
      "Requirement already satisfied: idna<2.9,>=2.5 in c:\\users\\ybyad\\appdata\\local\\continuum\\anaconda3\\lib\\site-packages (from requests->chart_studio) (2.8)\n"
     ]
    }
   ],
   "source": [
    "!pip install chart_studio"
   ]
  },
  {
   "cell_type": "code",
   "execution_count": 12,
   "metadata": {},
   "outputs": [
    {
     "data": {
      "text/plain": [
       "App               0\n",
       "Category          0\n",
       "Rating            0\n",
       "Reviews           0\n",
       "Size              0\n",
       "Installs          0\n",
       "Type              0\n",
       "Price             0\n",
       "Content Rating    0\n",
       "Genres            0\n",
       "Last Updated      0\n",
       "Current Ver       0\n",
       "Android Ver       0\n",
       "dtype: int64"
      ]
     },
     "execution_count": 12,
     "metadata": {},
     "output_type": "execute_result"
    }
   ],
   "source": [
    "data.isnull().sum()"
   ]
  },
  {
   "cell_type": "code",
   "execution_count": 13,
   "metadata": {},
   "outputs": [
    {
     "data": {
      "text/html": [
       "<div>\n",
       "<style scoped>\n",
       "    .dataframe tbody tr th:only-of-type {\n",
       "        vertical-align: middle;\n",
       "    }\n",
       "\n",
       "    .dataframe tbody tr th {\n",
       "        vertical-align: top;\n",
       "    }\n",
       "\n",
       "    .dataframe thead th {\n",
       "        text-align: right;\n",
       "    }\n",
       "</style>\n",
       "<table border=\"1\" class=\"dataframe\">\n",
       "  <thead>\n",
       "    <tr style=\"text-align: right;\">\n",
       "      <th></th>\n",
       "      <th>App</th>\n",
       "      <th>Category</th>\n",
       "      <th>Rating</th>\n",
       "      <th>Reviews</th>\n",
       "      <th>Size</th>\n",
       "      <th>Installs</th>\n",
       "      <th>Type</th>\n",
       "      <th>Price</th>\n",
       "      <th>Content Rating</th>\n",
       "      <th>Genres</th>\n",
       "      <th>Last Updated</th>\n",
       "      <th>Current Ver</th>\n",
       "      <th>Android Ver</th>\n",
       "    </tr>\n",
       "  </thead>\n",
       "  <tbody>\n",
       "  </tbody>\n",
       "</table>\n",
       "</div>"
      ],
      "text/plain": [
       "Empty DataFrame\n",
       "Columns: [App, Category, Rating, Reviews, Size, Installs, Type, Price, Content Rating, Genres, Last Updated, Current Ver, Android Ver]\n",
       "Index: []"
      ]
     },
     "execution_count": 13,
     "metadata": {},
     "output_type": "execute_result"
    }
   ],
   "source": [
    "data[data['Rating'] == 19]"
   ]
  },
  {
   "cell_type": "code",
   "execution_count": 14,
   "metadata": {},
   "outputs": [],
   "source": [
    "data[\"Last Updated\"] = pd.to_datetime(data['Last Updated'])\n",
    "data['year_added']=data['Last Updated'].dt.year\n",
    "data['month_added']=data['Last Updated'].dt.month"
   ]
  },
  {
   "cell_type": "code",
   "execution_count": 15,
   "metadata": {},
   "outputs": [
    {
     "data": {
      "text/plain": [
       "Text(0.5, 1.0, 'Number of Apps in each category')"
      ]
     },
     "execution_count": 15,
     "metadata": {},
     "output_type": "execute_result"
    },
    {
     "data": {
      "image/png": "[encoded data removed]",
      "text/plain": [
       "<Figure size 792x792 with 1 Axes>"
      ]
     },
     "metadata": {},
     "output_type": "display_data"
    }
   ],
   "source": [
    "rcParams['figure.figsize'] = 11,11\n",
    "cat_cnt = sns.countplot(x=\"Category\",data=data, palette = \"Set3\")\n",
    "cat_cnt.set_xticklabels(cat_cnt.get_xticklabels(), rotation=90, ha=\"right\")\n",
    "cat_cnt\n",
    "plt.title('Number of Apps in each category',size = 15)"
   ]
  },
  {
   "cell_type": "code",
   "execution_count": 16,
   "metadata": {},
   "outputs": [],
   "source": [
    "data.drop(data[(data['Category'] == 'HOUSE_AND_HOME')].index, inplace=True)\n",
    "data.drop(data[(data['Category'] == 'AUTO_AND_VEHICLES')].index, inplace=True)\n",
    "data.drop(data[(data['Category'] == 'LIBRARIES_AND_DEMO')].index, inplace=True)\n",
    "data.drop(data[(data['Category'] == 'NEWS_AND_MAGAZINES')].index, inplace=True)\n",
    "data.drop(data[(data['Category'] == 'TRAVEL_AND_LOCAL')].index, inplace=True)\n",
    "data.drop(data[(data['Category'] == 'BOOKS_AND_REFERENCE')].index, inplace=True)\n",
    "data.drop(data[(data['Category'] == 'ART_AND_DESIGN')].index, inplace=True)\n",
    "data.drop(data[(data['Category'] == 'HEALTH_AND_FITNESS')].index, inplace=True)\n",
    "data.drop(data[(data['Category'] == 'MEDICAL')].index, inplace=True)\n",
    "data.drop(data[(data['Category'] == 'DATING')].index, inplace=True)\n",
    "data.drop(data[(data['Category'] == 'WEATHER')].index, inplace=True)\n",
    "data.drop(data[(data['Category'] == 'EVENTS')].index, inplace=True)\n",
    "data.drop(data[(data['Category'] == 'BEAUTY')].index, inplace=True)\n",
    "data.drop(data[(data['Category'] == 'COMICS')].index, inplace=True)\n",
    "data.drop(data[(data['Category'] == 'MAPS_AND_NAVIGATION')].index, inplace=True)\n",
    "data.drop(data[(data['Category'] == 'PARENTING')].index, inplace=True)\n",
    "data.drop(data[(data['Category'] == 'FOOD_AND_DRINK')].index, inplace=True)\n",
    "data.drop(data[(data['Category'] == 'EDUCATION')].index, inplace=True)\n",
    "data.drop(data[(data['Category'] == 'LIFESTYLE')].index, inplace=True)"
   ]
  },
  {
   "cell_type": "code",
   "execution_count": 17,
   "metadata": {},
   "outputs": [
    {
     "data": {
      "text/plain": [
       "Text(0.5, 1.0, 'Number of Apps in each category')"
      ]
     },
     "execution_count": 17,
     "metadata": {},
     "output_type": "execute_result"
    },
    {
     "data": {
      "image/png": "[encoded data removed]",
      "text/plain": [
       "<Figure size 792x792 with 1 Axes>"
      ]
     },
     "metadata": {},
     "output_type": "display_data"
    }
   ],
   "source": [
    "rcParams['figure.figsize'] = 11,11\n",
    "cat_cnt = sns.countplot(x=\"Category\",data=data, palette = \"Set3\")\n",
    "cat_cnt.set_xticklabels(cat_cnt.get_xticklabels(), rotation=90, ha=\"right\")\n",
    "cat_cnt\n",
    "plt.title('Number of Apps in each category',size = 15)"
   ]
  },
  {
   "cell_type": "code",
   "execution_count": 18,
   "metadata": {},
   "outputs": [],
   "source": [
    "data['Reviews'] = data['Reviews'].astype(int)"
   ]
  },
  {
   "cell_type": "code",
   "execution_count": 19,
   "metadata": {},
   "outputs": [],
   "source": [
    "data['Rating'] = data['Rating'].astype(str).astype(float)\n",
    "data['Size'] = data['Size'].apply(lambda x: str(x).replace('Varies with device', 'NaN') if 'Varies with device' in str(x) else x)\n",
    "data['Size'] = data['Size'].apply(lambda x: str(x).replace('M', '') if 'M' in str(x) else x)\n",
    "data['Size'] = data['Size'].apply(lambda x: str(x).replace(',', '') if 'M' in str(x) else x)\n",
    "data['Size'] = data['Size'].apply(lambda x: float(str(x).replace('k', '')) / 1000 if 'k' in str(x) else x)\n",
    "data['Size'] = data['Size'].apply(lambda x: float(x))"
   ]
  },
  {
   "cell_type": "code",
   "execution_count": 20,
   "metadata": {},
   "outputs": [],
   "source": [
    "data['Price'] = data['Price'].apply(lambda x: str(x).replace('$', '') if '$' in str(x) else str(x))\n",
    "data['Price'] = data['Price'].apply(lambda x: float(x))\n",
    "data = data[data['Installs'] != 'Free']\n",
    "data = data[data['Installs'] != 'Paid']\n",
    "data['Installs'] = data['Installs'].apply(lambda x: x.replace('+', '') if '+' in str(x) else x)\n",
    "data['Installs'] = data['Installs'].apply(lambda x: x.replace(',', '') if ',' in str(x) else x)\n",
    "data['Installs'] = data['Installs'].apply(lambda x: int(x))"
   ]
  },
  {
   "cell_type": "code",
   "execution_count": 21,
   "metadata": {},
   "outputs": [],
   "source": [
    "no_reviews = data.groupby('Category', as_index=False)['Reviews'].sum()\n",
    "most_space = data.groupby('Category', as_index=False)['Size'].sum().sort_values(by='Size', ascending=False)\n",
    "\n",
    "best_cat = data.groupby('Category', as_index=False)['Installs'].sum()"
   ]
  },
  {
   "cell_type": "code",
   "execution_count": 22,
   "metadata": {},
   "outputs": [
    {
     "data": {
      "text/html": [
       "        <script type=\"text/javascript\">\n",
       "        window.PlotlyConfig = {MathJaxConfig: 'local'};\n",
       "        if (window.MathJax) {MathJax.Hub.Config({SVG: {font: \"STIX-Web\"}});}\n",
       "        if (typeof require !== 'undefined') {\n",
       "        require.undef(\"plotly\");\n",
       "        requirejs.config({\n",
       "            paths: {\n",
       "                'plotly': ['https://cdn.plot.ly/plotly-latest.min']\n",
       "            }\n",
       "        });\n",
       "        require(['plotly'], function(Plotly) {\n",
       "            window._Plotly = Plotly;\n",
       "        });\n",
       "        }\n",
       "        </script>\n",
       "        "
      ]
     },
     "metadata": {},
     "output_type": "display_data"
    }
   ],
   "source": [
    "import matplotlib.pyplot as plt\n",
    "import seaborn as sns\n",
    "color = sns.color_palette()\n",
    "\n",
    "%matplotlib inline\n",
    "\n",
    "from plotly import tools\n",
    "import plotly.offline as py\n",
    "py.init_notebook_mode(connected=True)\n",
    "import plotly.graph_objs as go"
   ]
  },
  {
   "cell_type": "code",
   "execution_count": 23,
   "metadata": {},
   "outputs": [],
   "source": [
    "#correlation\n",
    "relate = data.corr()"
   ]
  },
  {
   "cell_type": "code",
   "execution_count": 24,
   "metadata": {},
   "outputs": [
    {
     "data": {
      "application/vnd.plotly.v1+json": {
       "config": {
        "linkText": "Export to plot.ly",
        "plotlyServerURL": "https://plot.ly",
        "showLink": false
       },
       "data": [
        {
         "type": "heatmap",
         "x": [
          "Rating",
          "Reviews",
          "Size",
          "Installs",
          "Price"
         ],
         "y": [
          "Rating",
          "Reviews",
          "Size",
          "Installs",
          "Price"
         ],
         "z": [
          [
           1,
           0.073322538923668,
           0.09706146348323699,
           0.05931689312983884,
           -0.01038248026797209,
           0.1499933907981763,
           0.006822015740169003
          ],
          [
           0.073322538923668,
           1,
           0.2533223662435331,
           0.6746594821657056,
           -0.009926529106327733,
           0.08961341248187484,
           0.050764141407813
          ],
          [
           0.09706146348323699,
           0.2533223662435331,
           1,
           0.19466672440854144,
           -0.029128612333032298,
           0.23110846380351838,
           0.0388391687408181
          ],
          [
           0.05931689312983884,
           0.6746594821657056,
           0.19466672440854144,
           1,
           -0.012067510283377565,
           0.10598960307119411,
           0.06017998113720867
          ],
          [
           -0.01038248026797209,
           -0.009926529106327733,
           -0.029128612333032298,
           -0.012067510283377565,
           1,
           -0.00519863396439252,
           0.010573473998224189
          ]
         ]
        }
       ],
       "layout": {
        "template": {
         "data": {
          "bar": [
           {
            "error_x": {
             "color": "#2a3f5f"
            },
            "error_y": {
             "color": "#2a3f5f"
            },
            "marker": {
             "line": {
              "color": "#E5ECF6",
              "width": 0.5
             }
            },
            "type": "bar"
           }
          ],
          "barpolar": [
           {
            "marker": {
             "line": {
              "color": "#E5ECF6",
              "width": 0.5
             }
            },
            "type": "barpolar"
           }
          ],
          "carpet": [
           {
            "aaxis": {
             "endlinecolor": "#2a3f5f",
             "gridcolor": "white",
             "linecolor": "white",
             "minorgridcolor": "white",
             "startlinecolor": "#2a3f5f"
            },
            "baxis": {
             "endlinecolor": "#2a3f5f",
             "gridcolor": "white",
             "linecolor": "white",
             "minorgridcolor": "white",
             "startlinecolor": "#2a3f5f"
            },
            "type": "carpet"
           }
          ],
          "choropleth": [
           {
            "colorbar": {
             "outlinewidth": 0,
             "ticks": ""
            },
            "type": "choropleth"
           }
          ],
          "contour": [
           {
            "colorbar": {
             "outlinewidth": 0,
             "ticks": ""
            },
            "colorscale": [
             [
              0,
              "#0d0887"
             ],
             [
              0.1111111111111111,
              "#46039f"
             ],
             [
              0.2222222222222222,
              "#7201a8"
             ],
             [
              0.3333333333333333,
              "#9c179e"
             ],
             [
              0.4444444444444444,
              "#bd3786"
             ],
             [
              0.5555555555555556,
              "#d8576b"
             ],
             [
              0.6666666666666666,
              "#ed7953"
             ],
             [
              0.7777777777777778,
              "#fb9f3a"
             ],
             [
              0.8888888888888888,
              "#fdca26"
             ],
             [
              1,
              "#f0f921"
             ]
            ],
            "type": "contour"
           }
          ],
          "contourcarpet": [
           {
            "colorbar": {
             "outlinewidth": 0,
             "ticks": ""
            },
            "type": "contourcarpet"
           }
          ],
          "heatmap": [
           {
            "colorbar": {
             "outlinewidth": 0,
             "ticks": ""
            },
            "colorscale": [
             [
              0,
              "#0d0887"
             ],
             [
              0.1111111111111111,
              "#46039f"
             ],
             [
              0.2222222222222222,
              "#7201a8"
             ],
             [
              0.3333333333333333,
              "#9c179e"
             ],
             [
              0.4444444444444444,
              "#bd3786"
             ],
             [
              0.5555555555555556,
              "#d8576b"
             ],
             [
              0.6666666666666666,
              "#ed7953"
             ],
             [
              0.7777777777777778,
              "#fb9f3a"
             ],
             [
              0.8888888888888888,
              "#fdca26"
             ],
             [
              1,
              "#f0f921"
             ]
            ],
            "type": "heatmap"
           }
          ],
          "heatmapgl": [
           {
            "colorbar": {
             "outlinewidth": 0,
             "ticks": ""
            },
            "colorscale": [
             [
              0,
              "#0d0887"
             ],
             [
              0.1111111111111111,
              "#46039f"
             ],
             [
              0.2222222222222222,
              "#7201a8"
             ],
             [
              0.3333333333333333,
              "#9c179e"
             ],
             [
              0.4444444444444444,
              "#bd3786"
             ],
             [
              0.5555555555555556,
              "#d8576b"
             ],
             [
              0.6666666666666666,
              "#ed7953"
             ],
             [
              0.7777777777777778,
              "#fb9f3a"
             ],
             [
              0.8888888888888888,
              "#fdca26"
             ],
             [
              1,
              "#f0f921"
             ]
            ],
            "type": "heatmapgl"
           }
          ],
          "histogram": [
           {
            "marker": {
             "colorbar": {
              "outlinewidth": 0,
              "ticks": ""
             }
            },
            "type": "histogram"
           }
          ],
          "histogram2d": [
           {
            "colorbar": {
             "outlinewidth": 0,
             "ticks": ""
            },
            "colorscale": [
             [
              0,
              "#0d0887"
             ],
             [
              0.1111111111111111,
              "#46039f"
             ],
             [
              0.2222222222222222,
              "#7201a8"
             ],
             [
              0.3333333333333333,
              "#9c179e"
             ],
             [
              0.4444444444444444,
              "#bd3786"
             ],
             [
              0.5555555555555556,
              "#d8576b"
             ],
             [
              0.6666666666666666,
              "#ed7953"
             ],
             [
              0.7777777777777778,
              "#fb9f3a"
             ],
             [
              0.8888888888888888,
              "#fdca26"
             ],
             [
              1,
              "#f0f921"
             ]
            ],
            "type": "histogram2d"
           }
          ],
          "histogram2dcontour": [
           {
            "colorbar": {
             "outlinewidth": 0,
             "ticks": ""
            },
            "colorscale": [
             [
              0,
              "#0d0887"
             ],
             [
              0.1111111111111111,
              "#46039f"
             ],
             [
              0.2222222222222222,
              "#7201a8"
             ],
             [
              0.3333333333333333,
              "#9c179e"
             ],
             [
              0.4444444444444444,
              "#bd3786"
             ],
             [
              0.5555555555555556,
              "#d8576b"
             ],
             [
              0.6666666666666666,
              "#ed7953"
             ],
             [
              0.7777777777777778,
              "#fb9f3a"
             ],
             [
              0.8888888888888888,
              "#fdca26"
             ],
             [
              1,
              "#f0f921"
             ]
            ],
            "type": "histogram2dcontour"
           }
          ],
          "mesh3d": [
           {
            "colorbar": {
             "outlinewidth": 0,
             "ticks": ""
            },
            "type": "mesh3d"
           }
          ],
          "parcoords": [
           {
            "line": {
             "colorbar": {
              "outlinewidth": 0,
              "ticks": ""
             }
            },
            "type": "parcoords"
           }
          ],
          "pie": [
           {
            "automargin": true,
            "type": "pie"
           }
          ],
          "scatter": [
           {
            "marker": {
             "colorbar": {
              "outlinewidth": 0,
              "ticks": ""
             }
            },
            "type": "scatter"
           }
          ],
          "scatter3d": [
           {
            "line": {
             "colorbar": {
              "outlinewidth": 0,
              "ticks": ""
             }
            },
            "marker": {
             "colorbar": {
              "outlinewidth": 0,
              "ticks": ""
             }
            },
            "type": "scatter3d"
           }
          ],
          "scattercarpet": [
           {
            "marker": {
             "colorbar": {
              "outlinewidth": 0,
              "ticks": ""
             }
            },
            "type": "scattercarpet"
           }
          ],
          "scattergeo": [
           {
            "marker": {
             "colorbar": {
              "outlinewidth": 0,
              "ticks": ""
             }
            },
            "type": "scattergeo"
           }
          ],
          "scattergl": [
           {
            "marker": {
             "colorbar": {
              "outlinewidth": 0,
              "ticks": ""
             }
            },
            "type": "scattergl"
           }
          ],
          "scattermapbox": [
           {
            "marker": {
             "colorbar": {
              "outlinewidth": 0,
              "ticks": ""
             }
            },
            "type": "scattermapbox"
           }
          ],
          "scatterpolar": [
           {
            "marker": {
             "colorbar": {
              "outlinewidth": 0,
              "ticks": ""
             }
            },
            "type": "scatterpolar"
           }
          ],
          "scatterpolargl": [
           {
            "marker": {
             "colorbar": {
              "outlinewidth": 0,
              "ticks": ""
             }
            },
            "type": "scatterpolargl"
           }
          ],
          "scatterternary": [
           {
            "marker": {
             "colorbar": {
              "outlinewidth": 0,
              "ticks": ""
             }
            },
            "type": "scatterternary"
           }
          ],
          "surface": [
           {
            "colorbar": {
             "outlinewidth": 0,
             "ticks": ""
            },
            "colorscale": [
             [
              0,
              "#0d0887"
             ],
             [
              0.1111111111111111,
              "#46039f"
             ],
             [
              0.2222222222222222,
              "#7201a8"
             ],
             [
              0.3333333333333333,
              "#9c179e"
             ],
             [
              0.4444444444444444,
              "#bd3786"
             ],
             [
              0.5555555555555556,
              "#d8576b"
             ],
             [
              0.6666666666666666,
              "#ed7953"
             ],
             [
              0.7777777777777778,
              "#fb9f3a"
             ],
             [
              0.8888888888888888,
              "#fdca26"
             ],
             [
              1,
              "#f0f921"
             ]
            ],
            "type": "surface"
           }
          ],
          "table": [
           {
            "cells": {
             "fill": {
              "color": "#EBF0F8"
             },
             "line": {
              "color": "white"
             }
            },
            "header": {
             "fill": {
              "color": "#C8D4E3"
             },
             "line": {
              "color": "white"
             }
            },
            "type": "table"
           }
          ]
         },
         "layout": {
          "annotationdefaults": {
           "arrowcolor": "#2a3f5f",
           "arrowhead": 0,
           "arrowwidth": 1
          },
          "coloraxis": {
           "colorbar": {
            "outlinewidth": 0,
            "ticks": ""
           }
          },
          "colorscale": {
           "diverging": [
            [
             0,
             "#8e0152"
            ],
            [
             0.1,
             "#c51b7d"
            ],
            [
             0.2,
             "#de77ae"
            ],
            [
             0.3,
             "#f1b6da"
            ],
            [
             0.4,
             "#fde0ef"
            ],
            [
             0.5,
             "#f7f7f7"
            ],
            [
             0.6,
             "#e6f5d0"
            ],
            [
             0.7,
             "#b8e186"
            ],
            [
             0.8,
             "#7fbc41"
            ],
            [
             0.9,
             "#4d9221"
            ],
            [
             1,
             "#276419"
            ]
           ],
           "sequential": [
            [
             0,
             "#0d0887"
            ],
            [
             0.1111111111111111,
             "#46039f"
            ],
            [
             0.2222222222222222,
             "#7201a8"
            ],
            [
             0.3333333333333333,
             "#9c179e"
            ],
            [
             0.4444444444444444,
             "#bd3786"
            ],
            [
             0.5555555555555556,
             "#d8576b"
            ],
            [
             0.6666666666666666,
             "#ed7953"
            ],
            [
             0.7777777777777778,
             "#fb9f3a"
            ],
            [
             0.8888888888888888,
             "#fdca26"
            ],
            [
             1,
             "#f0f921"
            ]
           ],
           "sequentialminus": [
            [
             0,
             "#0d0887"
            ],
            [
             0.1111111111111111,
             "#46039f"
            ],
            [
             0.2222222222222222,
             "#7201a8"
            ],
            [
             0.3333333333333333,
             "#9c179e"
            ],
            [
             0.4444444444444444,
             "#bd3786"
            ],
            [
             0.5555555555555556,
             "#d8576b"
            ],
            [
             0.6666666666666666,
             "#ed7953"
            ],
            [
             0.7777777777777778,
             "#fb9f3a"
            ],
            [
             0.8888888888888888,
             "#fdca26"
            ],
            [
             1,
             "#f0f921"
            ]
           ]
          },
          "colorway": [
           "#636efa",
           "#EF553B",
           "#00cc96",
           "#ab63fa",
           "#FFA15A",
           "#19d3f3",
           "#FF6692",
           "#B6E880",
           "#FF97FF",
           "#FECB52"
          ],
          "font": {
           "color": "#2a3f5f"
          },
          "geo": {
           "bgcolor": "white",
           "lakecolor": "white",
           "landcolor": "#E5ECF6",
           "showlakes": true,
           "showland": true,
           "subunitcolor": "white"
          },
          "hoverlabel": {
           "align": "left"
          },
          "hovermode": "closest",
          "mapbox": {
           "style": "light"
          },
          "paper_bgcolor": "white",
          "plot_bgcolor": "#E5ECF6",
          "polar": {
           "angularaxis": {
            "gridcolor": "white",
            "linecolor": "white",
            "ticks": ""
           },
           "bgcolor": "#E5ECF6",
           "radialaxis": {
            "gridcolor": "white",
            "linecolor": "white",
            "ticks": ""
           }
          },
          "scene": {
           "xaxis": {
            "backgroundcolor": "#E5ECF6",
            "gridcolor": "white",
            "gridwidth": 2,
            "linecolor": "white",
            "showbackground": true,
            "ticks": "",
            "zerolinecolor": "white"
           },
           "yaxis": {
            "backgroundcolor": "#E5ECF6",
            "gridcolor": "white",
            "gridwidth": 2,
            "linecolor": "white",
            "showbackground": true,
            "ticks": "",
            "zerolinecolor": "white"
           },
           "zaxis": {
            "backgroundcolor": "#E5ECF6",
            "gridcolor": "white",
            "gridwidth": 2,
            "linecolor": "white",
            "showbackground": true,
            "ticks": "",
            "zerolinecolor": "white"
           }
          },
          "shapedefaults": {
           "line": {
            "color": "#2a3f5f"
           }
          },
          "ternary": {
           "aaxis": {
            "gridcolor": "white",
            "linecolor": "white",
            "ticks": ""
           },
           "baxis": {
            "gridcolor": "white",
            "linecolor": "white",
            "ticks": ""
           },
           "bgcolor": "#E5ECF6",
           "caxis": {
            "gridcolor": "white",
            "linecolor": "white",
            "ticks": ""
           }
          },
          "title": {
           "x": 0.05
          },
          "xaxis": {
           "automargin": true,
           "gridcolor": "white",
           "linecolor": "white",
           "ticks": "",
           "title": {
            "standoff": 15
           },
           "zerolinecolor": "white",
           "zerolinewidth": 2
          },
          "yaxis": {
           "automargin": true,
           "gridcolor": "white",
           "linecolor": "white",
           "ticks": "",
           "title": {
            "standoff": 15
           },
           "zerolinecolor": "white",
           "zerolinewidth": 2
          }
         }
        }
       }
      },
      "text/html": [
       "<div>\n",
       "        \n",
       "        \n",
       "            <div id=\"e957c81c-bba9-4b56-b97e-87b090a00567\" class=\"plotly-graph-div\" style=\"height:525px; width:100%;\"></div>\n",
       "            <script type=\"text/javascript\">\n",
       "                require([\"plotly\"], function(Plotly) {\n",
       "                    window.PLOTLYENV=window.PLOTLYENV || {};\n",
       "                    \n",
       "                if (document.getElementById(\"e957c81c-bba9-4b56-b97e-87b090a00567\")) {\n",
       "                    Plotly.newPlot(\n",
       "                        'e957c81c-bba9-4b56-b97e-87b090a00567',\n",
       "                        [{\"type\": \"heatmap\", \"x\": [\"Rating\", \"Reviews\", \"Size\", \"Installs\", \"Price\"], \"y\": [\"Rating\", \"Reviews\", \"Size\", \"Installs\", \"Price\"], \"z\": [[1.0, 0.073322538923668, 0.09706146348323699, 0.05931689312983884, -0.01038248026797209, 0.1499933907981763, 0.006822015740169003], [0.073322538923668, 1.0, 0.2533223662435331, 0.6746594821657056, -0.009926529106327733, 0.08961341248187484, 0.050764141407813], [0.09706146348323699, 0.2533223662435331, 1.0, 0.19466672440854144, -0.029128612333032298, 0.23110846380351838, 0.0388391687408181], [0.05931689312983884, 0.6746594821657056, 0.19466672440854144, 1.0, -0.012067510283377565, 0.10598960307119411, 0.06017998113720867], [-0.01038248026797209, -0.009926529106327733, -0.029128612333032298, -0.012067510283377565, 1.0, -0.00519863396439252, 0.010573473998224189]]}],\n",
       "                        {\"template\": {\"data\": {\"bar\": [{\"error_x\": {\"color\": \"#2a3f5f\"}, \"error_y\": {\"color\": \"#2a3f5f\"}, \"marker\": {\"line\": {\"color\": \"#E5ECF6\", \"width\": 0.5}}, \"type\": \"bar\"}], \"barpolar\": [{\"marker\": {\"line\": {\"color\": \"#E5ECF6\", \"width\": 0.5}}, \"type\": \"barpolar\"}], \"carpet\": [{\"aaxis\": {\"endlinecolor\": \"#2a3f5f\", \"gridcolor\": \"white\", \"linecolor\": \"white\", \"minorgridcolor\": \"white\", \"startlinecolor\": \"#2a3f5f\"}, \"baxis\": {\"endlinecolor\": \"#2a3f5f\", \"gridcolor\": \"white\", \"linecolor\": \"white\", \"minorgridcolor\": \"white\", \"startlinecolor\": \"#2a3f5f\"}, \"type\": \"carpet\"}], \"choropleth\": [{\"colorbar\": {\"outlinewidth\": 0, \"ticks\": \"\"}, \"type\": \"choropleth\"}], \"contour\": [{\"colorbar\": {\"outlinewidth\": 0, \"ticks\": \"\"}, \"colorscale\": [[0.0, \"#0d0887\"], [0.1111111111111111, \"#46039f\"], [0.2222222222222222, \"#7201a8\"], [0.3333333333333333, \"#9c179e\"], [0.4444444444444444, \"#bd3786\"], [0.5555555555555556, \"#d8576b\"], [0.6666666666666666, \"#ed7953\"], [0.7777777777777778, \"#fb9f3a\"], [0.8888888888888888, \"#fdca26\"], [1.0, \"#f0f921\"]], \"type\": \"contour\"}], \"contourcarpet\": [{\"colorbar\": {\"outlinewidth\": 0, \"ticks\": \"\"}, \"type\": \"contourcarpet\"}], \"heatmap\": [{\"colorbar\": {\"outlinewidth\": 0, \"ticks\": \"\"}, \"colorscale\": [[0.0, \"#0d0887\"], [0.1111111111111111, \"#46039f\"], [0.2222222222222222, \"#7201a8\"], [0.3333333333333333, \"#9c179e\"], [0.4444444444444444, \"#bd3786\"], [0.5555555555555556, \"#d8576b\"], [0.6666666666666666, \"#ed7953\"], [0.7777777777777778, \"#fb9f3a\"], [0.8888888888888888, \"#fdca26\"], [1.0, \"#f0f921\"]], \"type\": \"heatmap\"}], \"heatmapgl\": [{\"colorbar\": {\"outlinewidth\": 0, \"ticks\": \"\"}, \"colorscale\": [[0.0, \"#0d0887\"], [0.1111111111111111, \"#46039f\"], [0.2222222222222222, \"#7201a8\"], [0.3333333333333333, \"#9c179e\"], [0.4444444444444444, \"#bd3786\"], [0.5555555555555556, \"#d8576b\"], [0.6666666666666666, \"#ed7953\"], [0.7777777777777778, \"#fb9f3a\"], [0.8888888888888888, \"#fdca26\"], [1.0, \"#f0f921\"]], \"type\": \"heatmapgl\"}], \"histogram\": [{\"marker\": {\"colorbar\": {\"outlinewidth\": 0, \"ticks\": \"\"}}, \"type\": \"histogram\"}], \"histogram2d\": [{\"colorbar\": {\"outlinewidth\": 0, \"ticks\": \"\"}, \"colorscale\": [[0.0, \"#0d0887\"], [0.1111111111111111, \"#46039f\"], [0.2222222222222222, \"#7201a8\"], [0.3333333333333333, \"#9c179e\"], [0.4444444444444444, \"#bd3786\"], [0.5555555555555556, \"#d8576b\"], [0.6666666666666666, \"#ed7953\"], [0.7777777777777778, \"#fb9f3a\"], [0.8888888888888888, \"#fdca26\"], [1.0, \"#f0f921\"]], \"type\": \"histogram2d\"}], \"histogram2dcontour\": [{\"colorbar\": {\"outlinewidth\": 0, \"ticks\": \"\"}, \"colorscale\": [[0.0, \"#0d0887\"], [0.1111111111111111, \"#46039f\"], [0.2222222222222222, \"#7201a8\"], [0.3333333333333333, \"#9c179e\"], [0.4444444444444444, \"#bd3786\"], [0.5555555555555556, \"#d8576b\"], [0.6666666666666666, \"#ed7953\"], [0.7777777777777778, \"#fb9f3a\"], [0.8888888888888888, \"#fdca26\"], [1.0, \"#f0f921\"]], \"type\": \"histogram2dcontour\"}], \"mesh3d\": [{\"colorbar\": {\"outlinewidth\": 0, \"ticks\": \"\"}, \"type\": \"mesh3d\"}], \"parcoords\": [{\"line\": {\"colorbar\": {\"outlinewidth\": 0, \"ticks\": \"\"}}, \"type\": \"parcoords\"}], \"pie\": [{\"automargin\": true, \"type\": \"pie\"}], \"scatter\": [{\"marker\": {\"colorbar\": {\"outlinewidth\": 0, \"ticks\": \"\"}}, \"type\": \"scatter\"}], \"scatter3d\": [{\"line\": {\"colorbar\": {\"outlinewidth\": 0, \"ticks\": \"\"}}, \"marker\": {\"colorbar\": {\"outlinewidth\": 0, \"ticks\": \"\"}}, \"type\": \"scatter3d\"}], \"scattercarpet\": [{\"marker\": {\"colorbar\": {\"outlinewidth\": 0, \"ticks\": \"\"}}, \"type\": \"scattercarpet\"}], \"scattergeo\": [{\"marker\": {\"colorbar\": {\"outlinewidth\": 0, \"ticks\": \"\"}}, \"type\": \"scattergeo\"}], \"scattergl\": [{\"marker\": {\"colorbar\": {\"outlinewidth\": 0, \"ticks\": \"\"}}, \"type\": \"scattergl\"}], \"scattermapbox\": [{\"marker\": {\"colorbar\": {\"outlinewidth\": 0, \"ticks\": \"\"}}, \"type\": \"scattermapbox\"}], \"scatterpolar\": [{\"marker\": {\"colorbar\": {\"outlinewidth\": 0, \"ticks\": \"\"}}, \"type\": \"scatterpolar\"}], \"scatterpolargl\": [{\"marker\": {\"colorbar\": {\"outlinewidth\": 0, \"ticks\": \"\"}}, \"type\": \"scatterpolargl\"}], \"scatterternary\": [{\"marker\": {\"colorbar\": {\"outlinewidth\": 0, \"ticks\": \"\"}}, \"type\": \"scatterternary\"}], \"surface\": [{\"colorbar\": {\"outlinewidth\": 0, \"ticks\": \"\"}, \"colorscale\": [[0.0, \"#0d0887\"], [0.1111111111111111, \"#46039f\"], [0.2222222222222222, \"#7201a8\"], [0.3333333333333333, \"#9c179e\"], [0.4444444444444444, \"#bd3786\"], [0.5555555555555556, \"#d8576b\"], [0.6666666666666666, \"#ed7953\"], [0.7777777777777778, \"#fb9f3a\"], [0.8888888888888888, \"#fdca26\"], [1.0, \"#f0f921\"]], \"type\": \"surface\"}], \"table\": [{\"cells\": {\"fill\": {\"color\": \"#EBF0F8\"}, \"line\": {\"color\": \"white\"}}, \"header\": {\"fill\": {\"color\": \"#C8D4E3\"}, \"line\": {\"color\": \"white\"}}, \"type\": \"table\"}]}, \"layout\": {\"annotationdefaults\": {\"arrowcolor\": \"#2a3f5f\", \"arrowhead\": 0, \"arrowwidth\": 1}, \"coloraxis\": {\"colorbar\": {\"outlinewidth\": 0, \"ticks\": \"\"}}, \"colorscale\": {\"diverging\": [[0, \"#8e0152\"], [0.1, \"#c51b7d\"], [0.2, \"#de77ae\"], [0.3, \"#f1b6da\"], [0.4, \"#fde0ef\"], [0.5, \"#f7f7f7\"], [0.6, \"#e6f5d0\"], [0.7, \"#b8e186\"], [0.8, \"#7fbc41\"], [0.9, \"#4d9221\"], [1, \"#276419\"]], \"sequential\": [[0.0, \"#0d0887\"], [0.1111111111111111, \"#46039f\"], [0.2222222222222222, \"#7201a8\"], [0.3333333333333333, \"#9c179e\"], [0.4444444444444444, \"#bd3786\"], [0.5555555555555556, \"#d8576b\"], [0.6666666666666666, \"#ed7953\"], [0.7777777777777778, \"#fb9f3a\"], [0.8888888888888888, \"#fdca26\"], [1.0, \"#f0f921\"]], \"sequentialminus\": [[0.0, \"#0d0887\"], [0.1111111111111111, \"#46039f\"], [0.2222222222222222, \"#7201a8\"], [0.3333333333333333, \"#9c179e\"], [0.4444444444444444, \"#bd3786\"], [0.5555555555555556, \"#d8576b\"], [0.6666666666666666, \"#ed7953\"], [0.7777777777777778, \"#fb9f3a\"], [0.8888888888888888, \"#fdca26\"], [1.0, \"#f0f921\"]]}, \"colorway\": [\"#636efa\", \"#EF553B\", \"#00cc96\", \"#ab63fa\", \"#FFA15A\", \"#19d3f3\", \"#FF6692\", \"#B6E880\", \"#FF97FF\", \"#FECB52\"], \"font\": {\"color\": \"#2a3f5f\"}, \"geo\": {\"bgcolor\": \"white\", \"lakecolor\": \"white\", \"landcolor\": \"#E5ECF6\", \"showlakes\": true, \"showland\": true, \"subunitcolor\": \"white\"}, \"hoverlabel\": {\"align\": \"left\"}, \"hovermode\": \"closest\", \"mapbox\": {\"style\": \"light\"}, \"paper_bgcolor\": \"white\", \"plot_bgcolor\": \"#E5ECF6\", \"polar\": {\"angularaxis\": {\"gridcolor\": \"white\", \"linecolor\": \"white\", \"ticks\": \"\"}, \"bgcolor\": \"#E5ECF6\", \"radialaxis\": {\"gridcolor\": \"white\", \"linecolor\": \"white\", \"ticks\": \"\"}}, \"scene\": {\"xaxis\": {\"backgroundcolor\": \"#E5ECF6\", \"gridcolor\": \"white\", \"gridwidth\": 2, \"linecolor\": \"white\", \"showbackground\": true, \"ticks\": \"\", \"zerolinecolor\": \"white\"}, \"yaxis\": {\"backgroundcolor\": \"#E5ECF6\", \"gridcolor\": \"white\", \"gridwidth\": 2, \"linecolor\": \"white\", \"showbackground\": true, \"ticks\": \"\", \"zerolinecolor\": \"white\"}, \"zaxis\": {\"backgroundcolor\": \"#E5ECF6\", \"gridcolor\": \"white\", \"gridwidth\": 2, \"linecolor\": \"white\", \"showbackground\": true, \"ticks\": \"\", \"zerolinecolor\": \"white\"}}, \"shapedefaults\": {\"line\": {\"color\": \"#2a3f5f\"}}, \"ternary\": {\"aaxis\": {\"gridcolor\": \"white\", \"linecolor\": \"white\", \"ticks\": \"\"}, \"baxis\": {\"gridcolor\": \"white\", \"linecolor\": \"white\", \"ticks\": \"\"}, \"bgcolor\": \"#E5ECF6\", \"caxis\": {\"gridcolor\": \"white\", \"linecolor\": \"white\", \"ticks\": \"\"}}, \"title\": {\"x\": 0.05}, \"xaxis\": {\"automargin\": true, \"gridcolor\": \"white\", \"linecolor\": \"white\", \"ticks\": \"\", \"title\": {\"standoff\": 15}, \"zerolinecolor\": \"white\", \"zerolinewidth\": 2}, \"yaxis\": {\"automargin\": true, \"gridcolor\": \"white\", \"linecolor\": \"white\", \"ticks\": \"\", \"title\": {\"standoff\": 15}, \"zerolinecolor\": \"white\", \"zerolinewidth\": 2}}}},\n",
       "                        {\"responsive\": true}\n",
       "                    ).then(function(){\n",
       "                            \n",
       "var gd = document.getElementById('e957c81c-bba9-4b56-b97e-87b090a00567');\n",
       "var x = new MutationObserver(function (mutations, observer) {{\n",
       "        var display = window.getComputedStyle(gd).display;\n",
       "        if (!display || display === 'none') {{\n",
       "            console.log([gd, 'removed!']);\n",
       "            Plotly.purge(gd);\n",
       "            observer.disconnect();\n",
       "        }}\n",
       "}});\n",
       "\n",
       "// Listen for the removal of the full notebook cells\n",
       "var notebookContainer = gd.closest('#notebook-container');\n",
       "if (notebookContainer) {{\n",
       "    x.observe(notebookContainer, {childList: true});\n",
       "}}\n",
       "\n",
       "// Listen for the clearing of the current output cell\n",
       "var outputEl = gd.closest('.output');\n",
       "if (outputEl) {{\n",
       "    x.observe(outputEl, {childList: true});\n",
       "}}\n",
       "\n",
       "                        })\n",
       "                };\n",
       "                });\n",
       "            </script>\n",
       "        </div>"
      ]
     },
     "metadata": {},
     "output_type": "display_data"
    }
   ],
   "source": [
    "import plotly.graph_objs as go\n",
    "\n",
    "trace = go.Heatmap(z=[relate.Rating.values.tolist(), relate.Reviews.values.tolist(), relate.Size.values.tolist(), relate.Installs.values.tolist(), relate.Price.values.tolist()],\n",
    "                   x=[relate.columns[0], relate.columns[1], relate.columns[2], relate.columns[3], relate.columns[4]],\n",
    "                   y=[relate.columns[0], relate.columns[1], relate.columns[2], relate.columns[3], relate.columns[4]])\n",
    "data_cor=[trace]\n",
    "py.iplot(data_cor, filename='corr-heatmap')"
   ]
  },
  {
   "cell_type": "code",
   "execution_count": 25,
   "metadata": {},
   "outputs": [],
   "source": [
    "avg_rate = data.groupby('Category', as_index=False)['Rating'].mean()"
   ]
  },
  {
   "cell_type": "code",
   "execution_count": 26,
   "metadata": {},
   "outputs": [
    {
     "name": "stdout",
     "output_type": "stream",
     "text": [
      "Average app rating: 4.206769596199435\n"
     ]
    },
    {
     "data": {
      "application/vnd.plotly.v1+json": {
       "config": {
        "linkText": "Export to plot.ly",
        "plotlyServerURL": "https://plot.ly",
        "showLink": false
       },
       "data": [
        {
         "type": "histogram",
         "x": [
          4.1,
          4.3,
          4.4,
          4.3,
          4.3,
          4.1,
          4.4,
          4.3,
          3.9,
          4.8,
          4.5,
          4.4,
          4,
          4.3,
          4,
          4.2,
          4.5,
          4.2,
          4.2,
          4.6,
          4.1,
          4.6,
          3.1,
          3.9,
          4.3,
          4.1,
          4.4,
          4.1,
          4.1,
          4.5,
          4.4,
          4.4,
          4.3,
          4.4,
          4.6,
          4.2,
          4.4,
          4.7,
          3.8,
          3.9,
          4.3,
          4.3,
          4.2,
          4.4,
          4.7,
          4.5,
          4.2,
          4.7,
          4.8,
          4.2,
          4.2,
          4.3,
          4.4,
          4.4,
          4.1,
          3.8,
          4.3,
          3.8,
          3.5,
          4.1,
          4.6,
          4.3,
          4.5,
          4.1,
          4.5,
          4.6,
          4,
          4.2,
          4.4,
          4.4,
          4,
          4.2,
          4.2,
          4.1,
          4,
          3.8,
          3.9,
          3.9,
          4.2,
          4.2,
          4.3,
          4.4,
          4.4,
          4.1,
          3.8,
          4.3,
          3.8,
          3.5,
          4.1,
          4.6,
          4.3,
          4.5,
          4.1,
          4.5,
          4.6,
          4,
          4.2,
          4.3,
          4.2,
          4.4,
          4.7,
          4.5,
          4.2,
          4.7,
          4.8,
          4.1,
          4.3,
          4.4,
          4.5,
          4.3,
          4,
          4.4,
          4.3,
          4.3,
          4.4,
          4.3,
          4,
          4.3,
          4.3,
          4.4,
          4.3,
          4.3,
          4.3,
          4.3,
          4.3,
          4,
          4.5,
          4.3,
          3.7,
          4.5,
          3.9,
          4.4,
          3.6,
          4.4,
          4.2,
          4.4,
          4.1,
          4.4,
          4.3,
          4.2,
          4.2,
          4.4,
          4.4,
          3.9,
          4.2,
          4.4,
          4.6,
          4.3,
          4.3,
          4.4,
          3.7,
          4.3,
          3.9,
          4.5,
          3.7,
          4.3,
          4.4,
          4,
          4.3,
          4,
          4.3,
          4,
          4.1,
          4.2,
          4.2,
          4.2,
          4.1,
          4.4,
          4.3,
          4.2,
          4.4,
          4.2,
          4.1,
          4.3,
          4.3,
          4.5,
          4.3,
          4.2,
          4.2,
          4.5,
          4.3,
          4.3,
          4.3,
          4.4,
          4.2,
          4.3,
          4.3,
          4.4,
          4.6,
          4.3,
          4.4,
          4.2,
          4.5,
          4.5,
          4.4,
          4.5,
          4.1,
          4.2,
          4.1,
          4.3,
          4.1,
          4.2,
          4,
          4.2,
          4.2,
          4.2,
          4.3,
          4.3,
          4.4,
          4.2,
          4.4,
          4.1,
          4.2,
          4.8,
          4.4,
          4.4,
          4.4,
          4,
          4.5,
          4.4,
          4.1,
          4.2,
          4.5,
          4.3,
          4.5,
          4,
          4.3,
          4.3,
          4.2,
          4.5,
          4.6,
          4.1,
          4,
          4.2,
          4.6,
          4.1,
          4.3,
          4.2,
          4.3,
          4,
          4.3,
          4.2,
          4.3,
          4.1,
          4.2,
          4.1,
          4.6,
          4.3,
          4.2,
          4.2,
          4.3,
          4.4,
          4,
          4.2,
          4.3,
          4.5,
          3.5,
          4.2,
          3.1,
          4.6,
          4.2,
          4.3,
          4.3,
          4.1,
          3.8,
          3.4,
          4.3,
          4.4,
          4.4,
          4,
          3.7,
          3.9,
          4.5,
          4.4,
          4.3,
          4.2,
          4.2,
          4.5,
          4.7,
          4.5,
          4.5,
          3.4,
          4.2,
          4.3,
          4.2,
          4.6,
          4.1,
          4.2,
          4.2,
          4.3,
          4.4,
          3.9,
          4.1,
          4.3,
          4.5,
          4.6,
          3.6,
          4.3,
          4.3,
          4.2,
          4.4,
          4.1,
          4.1,
          4.2,
          3.9,
          4.2,
          3.7,
          4.5,
          3.7,
          3.8,
          4.3,
          3,
          4.1,
          4.2,
          4.1,
          3.9,
          4,
          4.4,
          4.2,
          4,
          3.9,
          4,
          4.2,
          4,
          4.3,
          3.9,
          4.2,
          4.4,
          4.3,
          3.7,
          4.3,
          3.7,
          3.8,
          4.2,
          4,
          3.9,
          4.4,
          4.5,
          4.1,
          4.1,
          3.9,
          4.5,
          4,
          4.1,
          3.6,
          3.8,
          4,
          4.2,
          3.7,
          3.8,
          3.7,
          4.1,
          3.7,
          3.9,
          4.4,
          4.3,
          3.9,
          3.7,
          3.7,
          4.2,
          4.3,
          4,
          4.1,
          3.9,
          4.5,
          3.9,
          4.1,
          4.3,
          4.4,
          4.1,
          4,
          3.9,
          3.9,
          4,
          4.1,
          4.2,
          3.8,
          4,
          3.9,
          4.2,
          3.7,
          3.9,
          4.2,
          4.3,
          4.3,
          4.6,
          4.3,
          4.6,
          4.2,
          4.6,
          4.5,
          4.6,
          3.9,
          4.2,
          4.4,
          4.2,
          4.3,
          4.6,
          4.3,
          4.5,
          4.4,
          4.4,
          3.6,
          3.7,
          3.8,
          4.2,
          4.2,
          4.2,
          3.3,
          3.4,
          4.3,
          4.2,
          4.7,
          4.1,
          4.7,
          4,
          3.6,
          4,
          3.6,
          4.3,
          4.2,
          4.2,
          4.1,
          4,
          4.1,
          4.4,
          4.7,
          4.5,
          4.3,
          4.6,
          4.3,
          4,
          4.5,
          4.5,
          3.6,
          4.2,
          4.1,
          3.5,
          4.4,
          4,
          4.5,
          4.2,
          4.6,
          4.2,
          4.8,
          4.5,
          4.2,
          4.3,
          4.2,
          4.4,
          4.4,
          4.6,
          4.2,
          4.6,
          4.6,
          4.4,
          4.3,
          4.2,
          4.2,
          3.8,
          4.5,
          4.6,
          4.6,
          4.7,
          4.6,
          4.6,
          4.7,
          3.8,
          4.3,
          4.3,
          4.5,
          4.6,
          4.6,
          4.7,
          4.5,
          4.4,
          3.9,
          4.5,
          4.6,
          4.1,
          4.5,
          4.4,
          4.5,
          4.6,
          4.2,
          4.4,
          4.1,
          3.9,
          4.6,
          4.5,
          3.7,
          4.1,
          4.4,
          4.6,
          4.5,
          4.3,
          4.3,
          4.3,
          4.4,
          4.3,
          4.4,
          4.3,
          4.4,
          4.1,
          4.4,
          4.2,
          4.3,
          4.4,
          4.3,
          4.3,
          3.9,
          4.1,
          4.1,
          4.2,
          4.5,
          4.2,
          4.7,
          4.4,
          4.6,
          4.6,
          4.4,
          4.6,
          4.3,
          4,
          4.4,
          4.6,
          4.2,
          4.1,
          4.5,
          4.5,
          4.4,
          4.7,
          4.5,
          4.2,
          4.4,
          4.6,
          4.3,
          4.3,
          4.2,
          4.6,
          4.4,
          4.4,
          4.5,
          4.4,
          4.3,
          4.6,
          4.3,
          4.2,
          4.2,
          4.5,
          4.5,
          4.5,
          4.7,
          4.7,
          4.5,
          4.4,
          4.3,
          3.8,
          4.6,
          4.6,
          4.4,
          4.3,
          4.1,
          4.3,
          4.4,
          4.6,
          4.3,
          4.4,
          4.7,
          4.5,
          4.4,
          4.6,
          4.5,
          4.4,
          4.6,
          4.5,
          4.5,
          4.3,
          4.5,
          4.6,
          4.4,
          4.4,
          4.5,
          4.7,
          4.6,
          4.5,
          4.5,
          4.7,
          4.5,
          4.8,
          4.7,
          4.4,
          4.6,
          4.5,
          4.6,
          4.7,
          4.6,
          4.5,
          4.6,
          4.5,
          4.6,
          4.4,
          4.7,
          4.3,
          4.3,
          4.4,
          4.3,
          4.5,
          4.4,
          4.5,
          4.4,
          4.5,
          4.6,
          4.7,
          4.6,
          4.4,
          4.4,
          4.5,
          4.6,
          4.3,
          4.5,
          4.5,
          4.4,
          4.5,
          4.2,
          4.5,
          4.4,
          4.7,
          4.2,
          4.5,
          4.5,
          4.6,
          4.4,
          4.5,
          4.3,
          4.3,
          4.5,
          4.7,
          4.7,
          4.1,
          4.8,
          4.4,
          4.2,
          4.4,
          4.7,
          4.3,
          4.7,
          4.2,
          4.3,
          4.4,
          4.1,
          4.1,
          4.2,
          4.5,
          4.7,
          4.6,
          4.5,
          3.1,
          4.1,
          3.4,
          4.4,
          4.3,
          4.6,
          4.4,
          4.3,
          4.6,
          4.2,
          4.2,
          4.5,
          4.4,
          4.2,
          4.5,
          4.8,
          4.4,
          4.6,
          4.5,
          4.3,
          4.6,
          4.4,
          4.4,
          4.5,
          4.6,
          4.6,
          4.6,
          4.1,
          4.5,
          4.6,
          4.4,
          4.7,
          4.6,
          4.3,
          4.5,
          4.6,
          4.2,
          4.5,
          4.8,
          4.1,
          4.3,
          4.4,
          4,
          4.2,
          4,
          4.2,
          4.5,
          4.7,
          4.2,
          4.4,
          4.6,
          4.9,
          4.4,
          4.5,
          4.6,
          4.2,
          4.5,
          4.6,
          4.6,
          4.5,
          4.4,
          4.6,
          4.5,
          4.6,
          4.4,
          4.4,
          4.3,
          4.3,
          4.6,
          4.3,
          4.3,
          4.6,
          4.5,
          4.5,
          4.2,
          4.7,
          4.3,
          4,
          4.4,
          4.3,
          4.6,
          4.7,
          4.4,
          4.7,
          4.4,
          4.3,
          4.2,
          4.4,
          4.5,
          4.5,
          4.5,
          4.4,
          4.3,
          4.5,
          4.7,
          4.7,
          4.6,
          4.6,
          4.4,
          4.4,
          4.7,
          4.6,
          4.5,
          4.3,
          4.3,
          4.3,
          4.6,
          4.8,
          4.5,
          4.4,
          4.5,
          4.5,
          4.6,
          4.6,
          4.6,
          4.6,
          4.7,
          4.5,
          4.5,
          4.5,
          4.6,
          4.5,
          4.4,
          4.4,
          4.6,
          4.7,
          4.5,
          4.4,
          4.6,
          4.7,
          4.6,
          4.5,
          4.4,
          4.5,
          4.3,
          4.5,
          4.2,
          4.5,
          4.3,
          4.4,
          4.7,
          4.6,
          4.7,
          4.6,
          4.4,
          4.6,
          4.5,
          4.3,
          4.5,
          4.5,
          4.6,
          4.6,
          4.3,
          4.6,
          4.5,
          4.7,
          4.5,
          4.7,
          4.7,
          4.6,
          4.4,
          4.3,
          4.5,
          4.3,
          4.4,
          4.2,
          4.3,
          4.5,
          4.4,
          4.7,
          4.2,
          4.1,
          4.5,
          4.5,
          4.5,
          4.1,
          4.3,
          4.5,
          4.4,
          4.5,
          4.6,
          4,
          4.3,
          4.5,
          4.4,
          4.4,
          4.6,
          4.2,
          4.5,
          4.6,
          4.5,
          4.7,
          4.5,
          4.5,
          4.5,
          4.4,
          4.6,
          4.3,
          4.4,
          4.3,
          4.7,
          4.7,
          4.4,
          4.3,
          4.4,
          4.5,
          4.5,
          4.4,
          4.4,
          4.6,
          4.6,
          4.4,
          4.6,
          4.2,
          4.4,
          4.6,
          4.6,
          4.7,
          4.5,
          4.2,
          4.6,
          4.7,
          4.6,
          4.3,
          4.6,
          4.4,
          4.4,
          4.5,
          4.2,
          4.4,
          4.3,
          4.7,
          4.5,
          4.4,
          4.5,
          4.4,
          4.4,
          4.5,
          4.6,
          4.5,
          4.3,
          4.7,
          4.4,
          4.5,
          4.2,
          4.5,
          4.5,
          4.7,
          4.4,
          4.3,
          4.6,
          3.9,
          4.2,
          4.5,
          4.3,
          4.5,
          4.4,
          4.4,
          4.8,
          4.4,
          4.4,
          4.3,
          4.6,
          4.1,
          4.5,
          4.5,
          4.5,
          4,
          4.5,
          4.6,
          4.5,
          4.5,
          4.5,
          4.4,
          4.7,
          4.5,
          4.5,
          4.2,
          4.3,
          4.5,
          4.2,
          4.3,
          4.4,
          4.6,
          4.6,
          4.5,
          4.2,
          4.5,
          4.6,
          4.6,
          4.1,
          4.5,
          4.6,
          4.6,
          4.5,
          4.3,
          3.8,
          4.5,
          4.1,
          4.8,
          3.9,
          4.5,
          4.4,
          4.3,
          4.2,
          3,
          4.5,
          4.4,
          4.5,
          4.7,
          4.1,
          4.5,
          4.5,
          4.5,
          4.6,
          4.3,
          4.3,
          4.5,
          4.2,
          4.2,
          4.4,
          4.5,
          4.1,
          4.2,
          4.1,
          4.7,
          4.3,
          4.4,
          4.4,
          4.3,
          4.3,
          4.4,
          4.3,
          4.3,
          4.2,
          4.2,
          4.3,
          4.3,
          4.1,
          4.2,
          4.5,
          4.3,
          4.3,
          4.5,
          4.1,
          4.5,
          4.2,
          4.4,
          4,
          4.1,
          4.3,
          4.3,
          4.4,
          4.3,
          4.1,
          4,
          4.3,
          4.6,
          4.3,
          4.7,
          4.3,
          4.4,
          4.2,
          4.7,
          3.9,
          4.1,
          4.1,
          4.1,
          4.2,
          4.7,
          4.4,
          4.3,
          4.5,
          4.3,
          4.3,
          4.1,
          4.1,
          4.1,
          4.6,
          4.1,
          4.4,
          4.4,
          4.3,
          4,
          4.8,
          3.8,
          4.7,
          4.5,
          4.8,
          4.4,
          4.8,
          4.2,
          4.2,
          4,
          4.7,
          4.7,
          3.9,
          4.5,
          4.1,
          4.4,
          3.9,
          4.4,
          4.4,
          3.6,
          4.4,
          4.1,
          3.6,
          4.6,
          4.3,
          4.5,
          4.4,
          4.1,
          4.4,
          3.9,
          4.4,
          4.4,
          3.6,
          4.4,
          4.1,
          3.6,
          4.6,
          4.3,
          4.5,
          4.4,
          4.5,
          4.1,
          4.5,
          4.1,
          3.9,
          4.2,
          4.1,
          3.9,
          4.1,
          4.2,
          4.7,
          3.8,
          4.3,
          4.3,
          4.3,
          3.9,
          4.3,
          4,
          4,
          4.3,
          4.2,
          4.1,
          4,
          4.4,
          4.3,
          4.3,
          4.4,
          4.2,
          4.1,
          4.3,
          4.2,
          4.6,
          4.1,
          4.5,
          4.4,
          4.5,
          4.3,
          4.1,
          4.5,
          4.3,
          4.4,
          4.4,
          4.2,
          4,
          4.3,
          4.6,
          4.4,
          4.2,
          4.4,
          4.4,
          4.3,
          4.6,
          4.4,
          4.5,
          4.6,
          4.6,
          4.6,
          4.4,
          4.5,
          4.5,
          4.3,
          4.4,
          4.6,
          4.3,
          4.8,
          4.2,
          4.6,
          4,
          4.6,
          4.3,
          3.6,
          4,
          4.5,
          4.4,
          4.5,
          4.2,
          4.5,
          4.3,
          4.2,
          4.2,
          4.4,
          4.3,
          4.3,
          4.1,
          4.5,
          4.3,
          4.2,
          4.1,
          4.3,
          4.2,
          4.1,
          4.1,
          4.4,
          3.7,
          3.9,
          3.7,
          4,
          4.5,
          3.6,
          4.1,
          4.1,
          4,
          4.1,
          4,
          4.5,
          4.6,
          4.3,
          4.3,
          4.2,
          4.5,
          4.2,
          4.3,
          4.1,
          3.8,
          4.2,
          4.4,
          4.3,
          4.2,
          4.1,
          4,
          4.3,
          4.3,
          4.2,
          4.2,
          4,
          4.4,
          4,
          4.2,
          4.2,
          4.4,
          4.1,
          4.1,
          4.3,
          4,
          4.2,
          4.2,
          4.2,
          4.1,
          4,
          4.3,
          4.3,
          4.4,
          4.4,
          4.2,
          4.2,
          4,
          4.2,
          4,
          4.5,
          4.6,
          4.3,
          4.2,
          4.3,
          4.6,
          4.4,
          4.4,
          4.5,
          4.3,
          4.2,
          4.2,
          4.4,
          4.6,
          4.2,
          3.6,
          4.5,
          4.4,
          3.8,
          4.7,
          3.6,
          4.2,
          3.6,
          4.3,
          4.4,
          4.5,
          4.1,
          4.3,
          4.3,
          4.7,
          4.3,
          4.2,
          4.2,
          4.3,
          4.2,
          4.3,
          4.6,
          4.4,
          4.3,
          3.8,
          4.6,
          4.5,
          4.1,
          4.4,
          4.3,
          3.8,
          4,
          3.3,
          4.1,
          4.1,
          4.2,
          4.1,
          4.4,
          4.1,
          4.2,
          4.5,
          4.3,
          4.5,
          4.1,
          4.5,
          4.4,
          4.6,
          4.5,
          4.6,
          4.7,
          4.3,
          4.4,
          4.4,
          4.2,
          4.1,
          4.1,
          4.5,
          4.7,
          4.1,
          4.2,
          4.5,
          4.4,
          4.6,
          4.2,
          4.6,
          4.3,
          4.1,
          4.1,
          4.4,
          4.1,
          4.6,
          4.2,
          4.2,
          4.1,
          4.2,
          4.3,
          4.2,
          4.5,
          4.7,
          4.5,
          4.3,
          4,
          4.4,
          4.4,
          4,
          4.5,
          4.6,
          4.1,
          4.5,
          3.9,
          4.5,
          4.2,
          4.3,
          4.3,
          4.4,
          4.5,
          4.6,
          4.4,
          4.3,
          4.3,
          4.1,
          4.7,
          4.4,
          4.2,
          4.4,
          4.2,
          4.2,
          4.1,
          4,
          4.1,
          4.5,
          4.6,
          4.3,
          4.6,
          4.4,
          4,
          4.5,
          4.1,
          4.4,
          4,
          4.6,
          4.5,
          4.4,
          4.5,
          4.1,
          4.3,
          4.5,
          4.2,
          3.8,
          4.5,
          4.7,
          4.1,
          4.6,
          4.8,
          4,
          4.7,
          4.7,
          4.1,
          4.5,
          3.6,
          4.5,
          4.7,
          4.7,
          4.5,
          4.2,
          4.5,
          4.4,
          4.5,
          4.5,
          4.4,
          3.7,
          4.3,
          4.5,
          4.4,
          3.3,
          4.3,
          4.4,
          4.5,
          4.4,
          4.2,
          4.5,
          4.7,
          4.5,
          4.6,
          4.6,
          4.4,
          4.3,
          4.3,
          4.6,
          4.4,
          4.5,
          4.5,
          4.2,
          4,
          4.4,
          4.7,
          4.3,
          4.6,
          4.4,
          4.5,
          4.3,
          4.3,
          4.4,
          4.5,
          4.4,
          4.6,
          4.3,
          4.6,
          4.3,
          4.4,
          4.2,
          4.3,
          4.4,
          3.9,
          4.3,
          4.4,
          4.2,
          4.5,
          4.3,
          4.3,
          4.3,
          4.1,
          4.4,
          4.3,
          4,
          4,
          4,
          4.4,
          4.3,
          4.1,
          4.2,
          3.9,
          4.4,
          4.4,
          4.5,
          4.4,
          4.6,
          4.3,
          4.6,
          4.1,
          4,
          4.3,
          4.2,
          4,
          4.1,
          4.1,
          4,
          4.3,
          4.3,
          4.2,
          4.5,
          4,
          4.4,
          4.1,
          4.4,
          4.3,
          4.3,
          4.2,
          4.3,
          4.4,
          4.4,
          4.3,
          4.4,
          3.8,
          4.4,
          4.4,
          4.3,
          4.6,
          4,
          4.1,
          4.2,
          4.3,
          4.6,
          4.6,
          4.3,
          4.2,
          4.1,
          4.2,
          4.6,
          4.6,
          4.4,
          4.7,
          4.4,
          4.1,
          4.3,
          4.4,
          4.2,
          4.4,
          4.5,
          4.2,
          3.8,
          4.3,
          4.4,
          4.6,
          4.4,
          4.5,
          4.2,
          4.5,
          4.5,
          4.3,
          4.4,
          4.2,
          4.1,
          4.3,
          4,
          4.6,
          4.3,
          4.4,
          4.5,
          4.2,
          4.3,
          4.4,
          4.2,
          4.1,
          4.4,
          4.7,
          4.6,
          4.2,
          4.3,
          4.3,
          4.5,
          4.6,
          4.5,
          4.4,
          4.7,
          4.2,
          4.3,
          4.2,
          3.9,
          3.9,
          4.2,
          4.3,
          4.6,
          4.3,
          4,
          4,
          4,
          4.6,
          4.3,
          4.2,
          4.3,
          4.4,
          4,
          4.6,
          4.7,
          4.3,
          4,
          4.5,
          4.7,
          4.4,
          4.8,
          3.3,
          4.3,
          3.9,
          4.4,
          3.9,
          4.4,
          4.3,
          4.4,
          4.2,
          4.2,
          4.1,
          4.4,
          4,
          4.4,
          4.3,
          4.1,
          4,
          4.2,
          4.2,
          4.3,
          3.1,
          4.1,
          2.9,
          4,
          4.5,
          4.3,
          4.1,
          4.3,
          4.5,
          4.6,
          4.4,
          4.2,
          4.3,
          3.4,
          4.6,
          4.2,
          4.4,
          4,
          4.1,
          4,
          4.6,
          4.2,
          4.5,
          4.4,
          4,
          3.5,
          4,
          4.2,
          4,
          4.4,
          4.8,
          4.1,
          4.6,
          4.3,
          4.4,
          4.3,
          4.6,
          4.5,
          4.3,
          4.2,
          4.4,
          4.2,
          4.4,
          4.3,
          4.5,
          4.5,
          4.1,
          4,
          4.7,
          4.6,
          4.2,
          4.2,
          4.1,
          4.1,
          3.5,
          4.5,
          3.9,
          4.6,
          4,
          4.4,
          4.2,
          4.2,
          4.6,
          4.5,
          4.4,
          4.5,
          4.4,
          4.3,
          4.2,
          4.3,
          4.5,
          4,
          4.2,
          4.1,
          3.9,
          4.2,
          4,
          3.5,
          4,
          4,
          4.5,
          4.1,
          4.4,
          4.4,
          4.2,
          4.2,
          4.1,
          4.5,
          4.6,
          4.1,
          4.3,
          4.2,
          4.1,
          4,
          4.6,
          3.1,
          4.6,
          4.5,
          3.2,
          4.3,
          4.3,
          4.6,
          4.4,
          4.6,
          4.5,
          4.6,
          4.3,
          4.4,
          4.2,
          4.4,
          3.1,
          3.6,
          4.1,
          4.2,
          3.5,
          3.9,
          3,
          3.9,
          4.5,
          3.4,
          4.4,
          3.4,
          4.3,
          3.7,
          3.5,
          3.8,
          3.6,
          3.1,
          3.8,
          4.2,
          4,
          4.3,
          4.3,
          4.5,
          4.5,
          4.5,
          4.4,
          4.4,
          4.3,
          4.2,
          4.7,
          4.4,
          4.3,
          4.4,
          4.3,
          4.5,
          4.7,
          4.5,
          4.6,
          4.7,
          4.6,
          4.8,
          3.9,
          4.5,
          4.6,
          4.5,
          4.4,
          4.5,
          4,
          4.3,
          4,
          4.4,
          4.1,
          4.3,
          4.1,
          4.3,
          4.2,
          4.2,
          4.2,
          4.2,
          4.3,
          4.5,
          4.4,
          4.5,
          4.2,
          4.1,
          4.4,
          4.5,
          4.3,
          4.4,
          4.1,
          4.4,
          4.2,
          4.1,
          4.6,
          4.5,
          4.3,
          4.1,
          4.1,
          4.2,
          4.1,
          4.6,
          4.5,
          4,
          3.5,
          4.4,
          4.4,
          4.4,
          4.1,
          4.2,
          4.6,
          4.4,
          4.6,
          4.6,
          4.5,
          4.7,
          4.4,
          4.5,
          4.6,
          4.6,
          4,
          4.6,
          4.5,
          4.7,
          4.7,
          4.4,
          4.3,
          4.7,
          4.1,
          4.7,
          4.4,
          4.6,
          4.5,
          4.4,
          4.4,
          4.3,
          4.3,
          4.6,
          4.7,
          4.3,
          4.5,
          4.6,
          4.4,
          4.5,
          4.7,
          4.3,
          3.7,
          4.7,
          4.5,
          4.4,
          4.3,
          4.8,
          4.6,
          4.1,
          4.7,
          4.1,
          4.6,
          4.2,
          4.3,
          4.2,
          4,
          4.2,
          3.9,
          4.3,
          4.1,
          4.2,
          4.4,
          4.3,
          4.3,
          4.4,
          4.3,
          4.1,
          4.2,
          4.1,
          4.1,
          4.2,
          4.1,
          4.4,
          4.1,
          4.3,
          4.6,
          4.1,
          4.6,
          4.6,
          4.2,
          4.1,
          4.2,
          4.5,
          4.3,
          4.2,
          4,
          4.2,
          4.2,
          4.6,
          4.3,
          4.4,
          4.4,
          4.4,
          4.3,
          4.3,
          4.6,
          4.5,
          4.1,
          4.3,
          4.4,
          4.2,
          4.2,
          4.1,
          4.5,
          4.7,
          4.3,
          4.4,
          4.4,
          3.8,
          4.4,
          4.3,
          4.2,
          4.5,
          3.2,
          4.5,
          4.2,
          4.4,
          4.7,
          4.4,
          4,
          4.4,
          4,
          4.6,
          4.5,
          4.2,
          4,
          4.4,
          4.5,
          3.9,
          4.2,
          4.3,
          4.2,
          4.2,
          4.4,
          4.7,
          4.6,
          3.1,
          4.4,
          4.1,
          4.5,
          4.6,
          4.3,
          3.9,
          4.5,
          4.3,
          3.7,
          4.5,
          4.4,
          4,
          4,
          4.4,
          4.7,
          4.6,
          4.2,
          4.5,
          4.6,
          4,
          4.5,
          4.4,
          4.3,
          4.4,
          4.5,
          4.5,
          4.6,
          4.4,
          4.6,
          4.3,
          4.6,
          4.5,
          4.3,
          4.1,
          4.2,
          4.2,
          4.6,
          4.2,
          4.5,
          4.4,
          4.3,
          4.2,
          4.3,
          4.5,
          4.3,
          4.3,
          4.5,
          4.5,
          4.4,
          4.2,
          4.2,
          4.6,
          4.4,
          4.3,
          4.6,
          4.2,
          4.2,
          4.2,
          4,
          4.3,
          4.6,
          4.4,
          4.6,
          4.6,
          4.5,
          4.5,
          4.4,
          4.3,
          4,
          4.2,
          4.2,
          4.5,
          4,
          4.2,
          4.4,
          4.6,
          4.3,
          4.6,
          4.2,
          4.4,
          4.6,
          4.4,
          4.6,
          4.4,
          4.1,
          4.4,
          4.4,
          4.1,
          4.3,
          4.1,
          4.1,
          4.3,
          4.3,
          4.2,
          4.3,
          3.6,
          3.9,
          4.8,
          3.9,
          3.7,
          4.6,
          4.4,
          4.4,
          4.2,
          4.1,
          3.8,
          4.4,
          4.5,
          4.6,
          4.7,
          4.3,
          4.5,
          4.3,
          3.7,
          3.9,
          3.6,
          4.5,
          4.4,
          3.8,
          4.6,
          4.2,
          4.3,
          3.8,
          4.4,
          3.1,
          4.6,
          4.1,
          4.5,
          4,
          4.5,
          4.3,
          4.3,
          3.7,
          3.9,
          3.5,
          3.3,
          4.3,
          4.5,
          4.1,
          4.4,
          4.4,
          4,
          4.5,
          4.2,
          3.9,
          4.3,
          3.7,
          4.3,
          4.3,
          4.6,
          4.3,
          4.2,
          4.6,
          3.9,
          4.4,
          4.6,
          4.1,
          4.8,
          4.3,
          4.5,
          4.4,
          4.4,
          3.3,
          4.2,
          3.8,
          4.5,
          4.3,
          4.5,
          3.7,
          4.5,
          4.1,
          4.4,
          3.7,
          4.1,
          4.8,
          4.4,
          4.3,
          4.1,
          4.4,
          4.1,
          4.5,
          4.5,
          4.5,
          4.5,
          4.2,
          4.4,
          4.5,
          4.3,
          3.8,
          4.5,
          3.7,
          4.5,
          4.5,
          4.3,
          4.6,
          4.3,
          4.4,
          4.3,
          4.3,
          4.3,
          4.3,
          4.4,
          4.2,
          4.9,
          4.5,
          4.6,
          4.6,
          4.6,
          3.4,
          3.8,
          4.4,
          4.6,
          4.1,
          3.8,
          4.4,
          4.4,
          3.9,
          4.1,
          4.5,
          3.7,
          4.4,
          4.5,
          4.5,
          3.8,
          3.1,
          4.5,
          5,
          4.4,
          4.3,
          4.3,
          4.1,
          4.4,
          4.5,
          4.3,
          4.3,
          4.5,
          4.5,
          4.2,
          4.5,
          3.9,
          4.1,
          4.5,
          4.1,
          4.5,
          4.3,
          4.6,
          4.6,
          4.3,
          4.1,
          4.5,
          4.3,
          4.4,
          4.7,
          4.4,
          4.4,
          4.3,
          4.2,
          4.6,
          4.5,
          4.6,
          4.8,
          4.7,
          4.7,
          4,
          3.6,
          2,
          4.1,
          4.3,
          4.3,
          4.5,
          4.4,
          4.4,
          4.6,
          3.7,
          4.5,
          4.8,
          4,
          4.7,
          4.8,
          4.6,
          4.3,
          4.2,
          4.8,
          4.2,
          4.6,
          4.2,
          4.5,
          4.6,
          4.5,
          4.5,
          4.3,
          4.8,
          4.6,
          4.5,
          4.3,
          4.2,
          4.4,
          4.5,
          4.2,
          4.6,
          4.6,
          4.4,
          4.5,
          4.5,
          4.6,
          4.5,
          4.4,
          4.1,
          4.4,
          4.6,
          4.6,
          4.5,
          4.5,
          4.3,
          4.3,
          3.3,
          3.7,
          4.5,
          4.4,
          3.1,
          4.4,
          4.2,
          3.9,
          4.4,
          4.6,
          4.8,
          4.4,
          3.9,
          4.5,
          3.6,
          4.7,
          4.4,
          4.4,
          4.5,
          4.6,
          4.3,
          4.3,
          4.6,
          4.4,
          4.5,
          4.5,
          4,
          4.5,
          4.3,
          4,
          4.6,
          4.4,
          4.5,
          4.3,
          4,
          4.3,
          4.4,
          4.6,
          4.4,
          4.3,
          4.2,
          4.3,
          4.3,
          4.6,
          3.6,
          4.2,
          4.2,
          4.4,
          4.3,
          4.5,
          4.2,
          4.3,
          4.2,
          4.2,
          1,
          4,
          4.3,
          4.4,
          4.4,
          4.3,
          3.4,
          3.8,
          4.3,
          4.3,
          4.1,
          4.6,
          4.4,
          4.2,
          4.2,
          4.4,
          4.5,
          4.2,
          4.5,
          4.3,
          4.4,
          4.2,
          3.6,
          4,
          4.4,
          4.6,
          4.5,
          4.4,
          4.2,
          4.3,
          4.6,
          1.8,
          3.8,
          4.4,
          3.4,
          4.6,
          4.6,
          4.4,
          4.3,
          4.3,
          3.8,
          3.6,
          4.3,
          4.2,
          4.2,
          3.3,
          4.2,
          4.3,
          4.2,
          3.8,
          4.5,
          4.3,
          4.4,
          4.4,
          4.3,
          4.3,
          3.9,
          4.3,
          4.3,
          4.6,
          3.7,
          4.6,
          4.4,
          4.5,
          3,
          3.1,
          4.3,
          4.5,
          4.5,
          4.5,
          4.1,
          4.2,
          4.3,
          3.9,
          3.9,
          3.9,
          4.3,
          4.2,
          4.2,
          3.7,
          2.8,
          4.4,
          4.1,
          4.4,
          2.7,
          4.7,
          4.2,
          4.2,
          4.1,
          4.5,
          4.4,
          4,
          4.2,
          4.1,
          4,
          4.7,
          4.3,
          4.7,
          4.4,
          4,
          4.3,
          4.2,
          4.4,
          4.6,
          3.3,
          4.5,
          4.2,
          4.1,
          4.3,
          4.4,
          3.2,
          3.5,
          4.6,
          4.3,
          4.1,
          4.1,
          4.1,
          4.3,
          4.7,
          3.5,
          3.9,
          4.3,
          4.3,
          4.1,
          4.7,
          4.3,
          4.6,
          4.5,
          4.7,
          4.9,
          4.3,
          4.3,
          4.4,
          4.2,
          4.1,
          4.6,
          4.3,
          4.4,
          4.4,
          4.5,
          4.6,
          4.8,
          4.3,
          4.8,
          4.8,
          3.7,
          4.1,
          3.7,
          4.2,
          4.5,
          4.6,
          4.5,
          4.7,
          4.3,
          4.3,
          4.9,
          4.4,
          4.6,
          4.3,
          4.3,
          4.8,
          4.3,
          4.4,
          4.2,
          4.6,
          4.3,
          4.8,
          4,
          4.3,
          4.7,
          4.5,
          4.6,
          4.5,
          4.3,
          4.2,
          4,
          4.5,
          4,
          4.1,
          4.6,
          3.1,
          4.9,
          4.5,
          4,
          4,
          3.6,
          4.5,
          4.2,
          4.3,
          3.9,
          4.3,
          4.3,
          4.4,
          4.3,
          4.4,
          4.3,
          4.5,
          4.4,
          3.5,
          4.4,
          4.4,
          4.5,
          4.4,
          4.4,
          4,
          3.9,
          3.9,
          4.3,
          3.7,
          3.3,
          3.5,
          4.2,
          4.5,
          3.5,
          3.9,
          4.2,
          4.2,
          4,
          3.2,
          4.1,
          4.2,
          3.7,
          4.3,
          4.2,
          4.1,
          3.9,
          3.8,
          4.4,
          4,
          4.4,
          3.3,
          4.8,
          4.5,
          3.4,
          4.3,
          4.3,
          4.1,
          4,
          4.4,
          3.8,
          4.4,
          3.8,
          4.2,
          3.8,
          4.8,
          4.7,
          4.3,
          3.9,
          4.2,
          4.6,
          4.7,
          4.5,
          3.8,
          4.5,
          3.7,
          3.5,
          4.1,
          3.9,
          4.1,
          4.6,
          4.4,
          4.5,
          4.4,
          4.6,
          4,
          4.4,
          4.4,
          4.4,
          4,
          3.8,
          3.9,
          4.3,
          3.7,
          4.2,
          4.1,
          4.3,
          4.1,
          4.4,
          4.3,
          3.8,
          4.5,
          3.8,
          3.9,
          4,
          4.3,
          4.5,
          4.4,
          4.6,
          4.3,
          5,
          4.4,
          4.2,
          4,
          4.3,
          4.2,
          4.3,
          4.6,
          4.1,
          4.3,
          3.9,
          4.6,
          4.3,
          4.4,
          3.9,
          4.6,
          4.5,
          3,
          4.3,
          3.6,
          4.4,
          4.6,
          4.3,
          4.3,
          5,
          4.5,
          4.1,
          4.1,
          4.5,
          4.3,
          4.8,
          4.5,
          4.3,
          4,
          4.8,
          3.7,
          4.3,
          2.7,
          4.2,
          4.4,
          4.2,
          3.4,
          4.1,
          4.3,
          4.5,
          4.2,
          4.4,
          4.3,
          4,
          4.1,
          4.8,
          2.2,
          3.8,
          3.1,
          3.1,
          3.8,
          4.3,
          3.6,
          4,
          4.4,
          4.6,
          4.3,
          4.5,
          4.7,
          3.9,
          3.6,
          4.5,
          4.4,
          3.9,
          3.8,
          4.3,
          4.2,
          4.1,
          4.4,
          4.4,
          4.3,
          4.1,
          4.5,
          4.3,
          3.9,
          3.5,
          3.2,
          4.3,
          4.3,
          4.3,
          3.3,
          4.8,
          4.5,
          3.7,
          4.8,
          4.7,
          4.3,
          3.8,
          4.1,
          4.7,
          4.3,
          4.2,
          4.3,
          4.3,
          4.6,
          4.2,
          4.6,
          4.6,
          4.2,
          4.1,
          4.1,
          4.4,
          4.5,
          4.1,
          4.5,
          4.3,
          4.4,
          4.3,
          4.3,
          3.8,
          3.9,
          4.1,
          4.8,
          4.4,
          4.6,
          4.3,
          4,
          4.4,
          3.7,
          3.7,
          3.3,
          4.1,
          3,
          3,
          4.5,
          4.6,
          4.1,
          3.6,
          4.7,
          3.5,
          3.9,
          3.7,
          4.2,
          4.4,
          4.4,
          4.2,
          3.8,
          4.1,
          4.2,
          4.2,
          4.5,
          3.7,
          4.3,
          4.5,
          4.1,
          4.2,
          4.5,
          4,
          4.4,
          4.3,
          4.7,
          3.4,
          4.6,
          4.6,
          4.1,
          3.1,
          3.4,
          4.2,
          4.2,
          3,
          2.4,
          4.1,
          2.9,
          4,
          4,
          3.8,
          2.4,
          4.4,
          3.7,
          4.3,
          4.6,
          4.2,
          3.6,
          3.2,
          3.5,
          2.5,
          3.9,
          4.4,
          4.2,
          4.2,
          4.1,
          4.3,
          4.2,
          4.2,
          3.9,
          3.9,
          4.4,
          3.8,
          4.5,
          4.2,
          3.7,
          4.3,
          4.3,
          4.6,
          3.3,
          4.1,
          3.8,
          3.3,
          4.5,
          4.8,
          4.6,
          4.3,
          4.5,
          4.2,
          3.8,
          4.7,
          4.2,
          4.3,
          4.7,
          4.7,
          3.6,
          4.2,
          4,
          4.3,
          4.7,
          4.2,
          4.6,
          4.8,
          4.3,
          4.5,
          3.2,
          4.3,
          4.3,
          1.9,
          4.4,
          2.5,
          4.2,
          4.3,
          4,
          4.5,
          4.8,
          4.2,
          4.7,
          4.4,
          4.6,
          4.2,
          4.5,
          4,
          4.2,
          4.5,
          4.6,
          4.4,
          4.2,
          4.4,
          3.2,
          4.1,
          4,
          4.6,
          4.6,
          4.7,
          4.6,
          4.2,
          4.3,
          3.3,
          4.5,
          4,
          4.5,
          4.2,
          4.6,
          4.2,
          4.7,
          4.7,
          4.2,
          4.3,
          4.3,
          4.3,
          4.5,
          4.4,
          4.5,
          4.3,
          3.8,
          4.5,
          4.5,
          3.9,
          2.7,
          4.5,
          4,
          4.6,
          4.4,
          4.5,
          4.6,
          4.4,
          4.3,
          4.4,
          4.2,
          4.8,
          4.3,
          4.3,
          4.6,
          4.6,
          4.2,
          4.2,
          4.1,
          4.4,
          4.5,
          4.4,
          4.4,
          4.2,
          4.5,
          4.6,
          4.5,
          4.6,
          4,
          4.5,
          4.2,
          3.9,
          4.7,
          4.4,
          4.5,
          4.3,
          4.4,
          4.2,
          3.9,
          4.1,
          2.2,
          4.2,
          4.2,
          3.9,
          4.3,
          4.8,
          4.3,
          4.1,
          4.2,
          4.4,
          4.1,
          4.6,
          4.3,
          4.3,
          3.8,
          4.8,
          3.8,
          3.9,
          4.3,
          4.3,
          4.3,
          4.3,
          4.1,
          4.2,
          4.6,
          3.8,
          4.5,
          4.7,
          4.5,
          4.6,
          4.3,
          4.4,
          4.5,
          4.4,
          4.2,
          4.3,
          3.8,
          3.9,
          4.3,
          4.2,
          4.5,
          4.3,
          4.2,
          4.2,
          4,
          4.3,
          4.3,
          3.8,
          3.5,
          3.3,
          3.7,
          3.3,
          3.4,
          1.8,
          1.6,
          3.6,
          3.4,
          3.2,
          2.5,
          4.7,
          2.6,
          2.8,
          3.9,
          3.9,
          4,
          3.5,
          3.1,
          3.7,
          3.6,
          4,
          3.7,
          1.7,
          2.4,
          3.3,
          4.1,
          4.1,
          3,
          3,
          2.2,
          3.7,
          3.7,
          4.8,
          3.7,
          3.6,
          3.7,
          4.4,
          3.8,
          3.7,
          4.8,
          4.2,
          4.1,
          4.6,
          4.1,
          4.3,
          3.8,
          4,
          4.6,
          4.1,
          4.4,
          3.9,
          3.9,
          4.5,
          4.4,
          4.3,
          4.5,
          4.7,
          4.7,
          4.1,
          3.3,
          4.2,
          4.1,
          3.4,
          4.3,
          4.9,
          4.1,
          4.3,
          4.4,
          3.4,
          4.1,
          4.1,
          3.5,
          3.8,
          4.6,
          4.6,
          5,
          4.6,
          4.2,
          4,
          3.9,
          3.7,
          4.3,
          1.9,
          4.2,
          4.2,
          4,
          4.4,
          4.2,
          4.5,
          4.3,
          4.4,
          4,
          4.2,
          4.3,
          4,
          4.3,
          3.9,
          4,
          3.7,
          4.1,
          3.9,
          4.2,
          3.9,
          3.9,
          4.2,
          4.5,
          4.1,
          4.4,
          4.7,
          4,
          3.9,
          4.3,
          3.8,
          4.4,
          4.5,
          4.3,
          3.8,
          3.5,
          4.2,
          4.3,
          4,
          3.9,
          3.4,
          4.7,
          2,
          4.4,
          4.3,
          4.7,
          3.3,
          4.3,
          4.2,
          4.4,
          4.3,
          3.7,
          4.3,
          3.9,
          4.1,
          4,
          4.3,
          4.1,
          3.8,
          4.6,
          4.3,
          4.3,
          4.1,
          4.6,
          4.4,
          4.2,
          4.3,
          4.3,
          4,
          4.5,
          3.8,
          4.3,
          4.5,
          4.1,
          4.3,
          3.7,
          4.3,
          4.5,
          4.4,
          3.4,
          4.3,
          4.3,
          4.3,
          2.3,
          4.7,
          3.4,
          4.7,
          4.3,
          4.3,
          4.3,
          4.3,
          4.3,
          4.3,
          4.3,
          4.3,
          3.6,
          5,
          4.3,
          4.3,
          4.3,
          4.3,
          5,
          4.3,
          4.3,
          4.1,
          4.5,
          2.9,
          4.6,
          4.3,
          3.9,
          3.9,
          4.1,
          3,
          4,
          4.3,
          3.8,
          4.3,
          4.3,
          3.5,
          4.3,
          4.3,
          3.4,
          4.5,
          3.8,
          3,
          4.4,
          4,
          3.9,
          4.6,
          3.8,
          3.8,
          4,
          3.6,
          4.4,
          4.6,
          4,
          3.3,
          4.1,
          3.6,
          3.2,
          4.4,
          4,
          4.4,
          4.5,
          4.3,
          4.7,
          4.4,
          4.3,
          4.4,
          4.4,
          3.7,
          3.3,
          4.3,
          3.7,
          3,
          2.6,
          4.3,
          4.3,
          3.5,
          3.9,
          4.6,
          4.6,
          4.4,
          4.5,
          4.5,
          4.7,
          4.4,
          5,
          4.3,
          2.8,
          4.6,
          2.8,
          5,
          2.8,
          3.8,
          4.1,
          4.3,
          4.8,
          5,
          5,
          4.4,
          4.3,
          4.3,
          4.1,
          4.3,
          4.8,
          5,
          4.6,
          5,
          4.3,
          4.3,
          4.5,
          5,
          4.3,
          4.3,
          4.4,
          4,
          4.3,
          3.9,
          4.1,
          4.8,
          4.3,
          3.9,
          4.5,
          4.3,
          3.7,
          4.3,
          4.2,
          3.7,
          4.6,
          4.3,
          4.3,
          4.3,
          3.3,
          3,
          3.9,
          4.2,
          3.9,
          4.3,
          4.1,
          4.3,
          4.6,
          4.3,
          4.3,
          4.3,
          4.3,
          4.4,
          3.8,
          4.4,
          4.3,
          4.9,
          3.6,
          3.6,
          4.1,
          4.5,
          4.7,
          4.5,
          4.3,
          4.6,
          4.7,
          4.8,
          3.6,
          4.7,
          4.6,
          4.5,
          4.7,
          4.7,
          3.9,
          4,
          4,
          4.1,
          3.8,
          3.5,
          4.6,
          4.4,
          4.4,
          4.1,
          3.9,
          3.6,
          4,
          4.3,
          4,
          4.2,
          4.2,
          4.2,
          4.5,
          3.5,
          4.5,
          4,
          4.2,
          4.3,
          4.1,
          4.5,
          4.2,
          4.5,
          4.4,
          3.7,
          4.4,
          4.3,
          4.3,
          4.5,
          4.5,
          3.8,
          4.5,
          4.4,
          3.5,
          4.1,
          4.2,
          4.3,
          4.4,
          4.1,
          4.6,
          4.6,
          4.7,
          4.5,
          4.6,
          4.4,
          4.4,
          4.2,
          4.4,
          4,
          4.2,
          4.2,
          4.2,
          4.8,
          3.7,
          3.4,
          4.3,
          4.3,
          4.6,
          4.2,
          4.6,
          4.1,
          4.4,
          4.6,
          4.3,
          4.4,
          4.7,
          4.2,
          3.8,
          4.3,
          3.7,
          4.3,
          2.9,
          4.3,
          4.3,
          3.3,
          4.1,
          5,
          3.9,
          4.6,
          4,
          4.5,
          4.3,
          2.9,
          4.2,
          4.5,
          4.3,
          4.6,
          4.7,
          4.2,
          4.7,
          4.7,
          3.9,
          4.7,
          3.7,
          4.8,
          4,
          4.6,
          4.4,
          4.7,
          3.6,
          4.4,
          4.6,
          2.9,
          4.3,
          4.5,
          5,
          3.7,
          4.3,
          3.7,
          4.3,
          4.2,
          3,
          5,
          4.4,
          4.7,
          4.3,
          3.9,
          4.3,
          4.4,
          4.3,
          4.3,
          4.3,
          4.3,
          4.3,
          4.6,
          4.5,
          4.7,
          4.3,
          5,
          5,
          4.3,
          5,
          4.3,
          4.3,
          2.7,
          4.6,
          4.4,
          4.1,
          3.8,
          4.4,
          4.6,
          4.1,
          4.5,
          4.2,
          4.7,
          4.3,
          4.3,
          4.2,
          3.8,
          4,
          4.3,
          4.6,
          4.3,
          4.3,
          4.3,
          4.7,
          4.4,
          3.8,
          4.6,
          4.6,
          4.5,
          4.4,
          3.8,
          4.3,
          4.3,
          3.7,
          3.2,
          4,
          3.8,
          4.4,
          3.8,
          3.4,
          2.9,
          4.5,
          3.8,
          4.1,
          3.7,
          3.6,
          4.3,
          3,
          4.1,
          3.8,
          4.2,
          4.4,
          4.5,
          3.6,
          3.6,
          3.7,
          3.9,
          4.1,
          4.4,
          4.1,
          4.3,
          3.7,
          4.3,
          4.1,
          4.2,
          4.3,
          4.2,
          4.6,
          4.1,
          4.4,
          4.4,
          4.2,
          4.3,
          2.4,
          4.5,
          4.3,
          4.5,
          4.5,
          4.3,
          4.4,
          4.3,
          4.4,
          3.4,
          3.9,
          4.3,
          4.4,
          4.5,
          4.4,
          4.2,
          4,
          4.3,
          4.2,
          4,
          4.4,
          4.6,
          4,
          4.4,
          3.5,
          4.6,
          4,
          4,
          4.1,
          4.1,
          3.3,
          3.9,
          4.1,
          4.2,
          4,
          4.5,
          3.8,
          3.5,
          4.3,
          4.6,
          4.7,
          3.8,
          4.7,
          4.8,
          3.2,
          3.9,
          3.6,
          4.1,
          4,
          3.7,
          2.7,
          3.9,
          3.6,
          4.5,
          3.5,
          4,
          4.3,
          3.8,
          3.6,
          4.2,
          4.4,
          4,
          4.3,
          4.1,
          4,
          4.3,
          4.3,
          5,
          4.4,
          4.3,
          4,
          4.3,
          3.8,
          4.1,
          4.5,
          4.4,
          3.4,
          4.1,
          3.8,
          4.3,
          4.4,
          4.4,
          4.8,
          3.3,
          3.3,
          4.4,
          3.7,
          3.4,
          2.3,
          3.3,
          2.7,
          4.3,
          4.6,
          3.5,
          3.4,
          4.3,
          4.7,
          4.4,
          3,
          4.2,
          4.5,
          3.5,
          4.5,
          4.3,
          4.5,
          4,
          4.8,
          4.3,
          4.3,
          4.3,
          4.3,
          4.2,
          4.3,
          4,
          4.2,
          4.1,
          4.6,
          4.1,
          4,
          4.3,
          3.3,
          4.3,
          4.3,
          4,
          4.3,
          4.3,
          4.4,
          4.2,
          3.8,
          3.1,
          4.2,
          4.7,
          4.4,
          4.6,
          2.9,
          2.7,
          4.6,
          4,
          3.8,
          3.9,
          4.7,
          4.2,
          4.2,
          3.7,
          4.1,
          3.8,
          4.6,
          4.3,
          4.4,
          4.2,
          4.4,
          4.3,
          4.3,
          4.6,
          5,
          4.3,
          4.5,
          4.3,
          3.5,
          4.3,
          3.9,
          4.4,
          3,
          4.3,
          3.1,
          4.4,
          4.3,
          4.3,
          4.3,
          3.7,
          4.3,
          3.7,
          3.9,
          4.8,
          4.3,
          4.6,
          4.5,
          4.3,
          5,
          4.3,
          4.3,
          4.7,
          4,
          3.8,
          5,
          4.5,
          4.3,
          4.3,
          4.3,
          4.3,
          4.3,
          3.7,
          4.3,
          4.3,
          4.3,
          4.3,
          3.8,
          4.3,
          4.6,
          4.3,
          5,
          4.3,
          4.3,
          4.3,
          4.3,
          4.3,
          3.6,
          4,
          4,
          4,
          4.3,
          4.2,
          4.3,
          4.2,
          4.5,
          4.3,
          4.6,
          4.4,
          4.2,
          4.2,
          3.4,
          3.2,
          4,
          4.6,
          3.2,
          4,
          4.7,
          4.3,
          3.9,
          4.2,
          4.1,
          3.5,
          4.8,
          3.5,
          4.3,
          4.4,
          4.8,
          4.2,
          4.4,
          4.5,
          4.3,
          2.1,
          4.4,
          4.2,
          2.1,
          2.4,
          4.1,
          3.1,
          5,
          3.5,
          4.3,
          4.7,
          4.3,
          4.8,
          4.3,
          4.5,
          4.6,
          4.6,
          4.9,
          4.8,
          4,
          4.1,
          4.5,
          1.9,
          4.3,
          4.3,
          3.7,
          4.3,
          4.2,
          4.3,
          4.4,
          4.3,
          4.7,
          4.6,
          4.4,
          4.3,
          4.4,
          3.6,
          3.8,
          4.4,
          4.4,
          3,
          4.8,
          4.1,
          3.3,
          4,
          4.3,
          1,
          4.2,
          4.4,
          4.6,
          4.4,
          4.3,
          3.7,
          3.3,
          4.3,
          4.2,
          5,
          3.6,
          3.9,
          4.4,
          4.3,
          4.2,
          4.4,
          4.3,
          4,
          4.3,
          4.3,
          4.7,
          4.2,
          3.4,
          4.3,
          4.8,
          3.3,
          4.2,
          4.2,
          4.6,
          4.1,
          4.6,
          4,
          4.2,
          5,
          4.1,
          4.1,
          3.8,
          4.7,
          3.5,
          4,
          4.2,
          3.3,
          3.7,
          3.4,
          3.7,
          5,
          4.4,
          4.8,
          4.4,
          4,
          4.4,
          4.5,
          4.4,
          4.4,
          5,
          4.6,
          4.3,
          3.8,
          4.3,
          4.3,
          4.1,
          4.2,
          3.8,
          4.3,
          4.4,
          4.2,
          3.8,
          4.2,
          4.2,
          4.3,
          4.3,
          4.4,
          4.7,
          4.1,
          4.5,
          4.2,
          4.3,
          4.4,
          4.5,
          4.3,
          4.3,
          4.2,
          4,
          3.4,
          4.4,
          3.8,
          3,
          4.1,
          4.4,
          4.1,
          4.1,
          4.1,
          4.5,
          4.1,
          3.9,
          4,
          4.3,
          3.9,
          4,
          4.2,
          3.6,
          4.3,
          4.3,
          4.3,
          4.4,
          2.6,
          4.1,
          4.3,
          3.5,
          4.2,
          3.7,
          4.5,
          2.4,
          4.3,
          2.9,
          4.2,
          4.2,
          2.6,
          4.4,
          4.7,
          2.7,
          3.8,
          1.7,
          3.3,
          4.3,
          2.3,
          4.5,
          4.3,
          4.8,
          4.3,
          5,
          4.3,
          4.1,
          4.3,
          4.3,
          4.3,
          4.3,
          4.9,
          4.3,
          4.3,
          4.8,
          3.4,
          4.3,
          4.3,
          4.3,
          4,
          3.7,
          2.2,
          4.3,
          4.3,
          4.3,
          4.3,
          4.3,
          3.8,
          4.5,
          4.5,
          4.3,
          4.5,
          4.4,
          3.9,
          4.3,
          4.3,
          4.3,
          4,
          4.1,
          3.4,
          4.5,
          4.4,
          4.4,
          2.4,
          4.1,
          4.6,
          4.3,
          4.3,
          4.7,
          4.2,
          4.3,
          3.9,
          4.7,
          4.2,
          4.1,
          4.6,
          4.7,
          4.3,
          4.6,
          3,
          4.3,
          3.9,
          4,
          4.3,
          4.3,
          5,
          4.3,
          4.3,
          4,
          4.3,
          4.5,
          4.8,
          4.3,
          3.4,
          4.5,
          4.6,
          4.1,
          3.9,
          4.3,
          4.3,
          4.3,
          4,
          3.4,
          4.5,
          4,
          3.6,
          4.6,
          4.9,
          5,
          4,
          5,
          4,
          4.3,
          4.3,
          4.9,
          4.4,
          3.6,
          4.7,
          4.3,
          3.9,
          4.5,
          4.6,
          4.3,
          4.3,
          4.2,
          4.6,
          4.5,
          4.2,
          4,
          4.2,
          4.7,
          4.4,
          4.3,
          4.6,
          4.2,
          4,
          2.3,
          4.5,
          3.6,
          4.4,
          3.9,
          3.9,
          4.2,
          3.7,
          4,
          1,
          4.3,
          4.4,
          4.7,
          3.6,
          4.3,
          4.1,
          3.3,
          4.3,
          4.3,
          5,
          4.3,
          4.7,
          4.3,
          4.3,
          4.3,
          4.3,
          4,
          4.3,
          4.4,
          4.6,
          5,
          4.3,
          4.3,
          4.3,
          3.8,
          4.1,
          4.6,
          4,
          4.7,
          3.6,
          4.5,
          4,
          4.1,
          4.3,
          4.2,
          5,
          4.3,
          4.3,
          4.3,
          4.3,
          4.3,
          4.5,
          5,
          3.8,
          4.4,
          4.7,
          4.3,
          4.7,
          4.6,
          4.6,
          4.4,
          3.8,
          3.6,
          4.8,
          4.3,
          4.4,
          5,
          4.8,
          4.3,
          4.6,
          4.6,
          5,
          4.3,
          4.3,
          4.5,
          4,
          3.2,
          4.6,
          4.2,
          4.3,
          3.9,
          4.8,
          4.4,
          4.1,
          4.2,
          4.7,
          4,
          4.2,
          5,
          3.5,
          4.3,
          4.5,
          4.3,
          4.3,
          4.3,
          4.3,
          4.4,
          4.3,
          4.3,
          4,
          4.3,
          4,
          4.7,
          4.3,
          4.3,
          4.3,
          4.3,
          4.2,
          4.1,
          4.3,
          3.9,
          4.2,
          4.1,
          4.9,
          4.3,
          3.7,
          3.5,
          4.9,
          4.3,
          3.3,
          3.4,
          4.5,
          5,
          4.3,
          4.3,
          3.7,
          4.3,
          4.8,
          4.3,
          4.3,
          4.3,
          4.3,
          4.3,
          4.3,
          4.3,
          4.3,
          4.3,
          4.4,
          4.5,
          4,
          5,
          4.9,
          4.7,
          3.9,
          4.3,
          3.2,
          3.7,
          3,
          4.3,
          3.1,
          3.2,
          4.3,
          4.3,
          4.3,
          4.6,
          4.3,
          1.9,
          4.5,
          4.6,
          4.3,
          4.3,
          4.3,
          4.3,
          4.4,
          3.5,
          4.3,
          4.5,
          4.5,
          4.4,
          4.2,
          4.3,
          4.3,
          3.6,
          4,
          3.8,
          4.3,
          4.3,
          4.4,
          3.8,
          3.9,
          4.1,
          4.3,
          3.5,
          4.3,
          4.7,
          4.5,
          3.8,
          4.5,
          4.2,
          4.3,
          4.6,
          4.6,
          4.5,
          4.5,
          3.4,
          3.9,
          4.3,
          3.2,
          4.6,
          4.3,
          4.1,
          4.3,
          3.6,
          3.7,
          4.7,
          4.6,
          3.6,
          4.3,
          4.4,
          4.6,
          4.3,
          4.3,
          2.3,
          4.3,
          3.8,
          4.3,
          3,
          4.5,
          4.4,
          4.5,
          4.3,
          3.8,
          4.3,
          4.5,
          4.3,
          4.3,
          4.4,
          3.4,
          4.5,
          4.5,
          4.3,
          4.3,
          4.3,
          4.3,
          4.4,
          4.3,
          4.3,
          4,
          4.8,
          4,
          4.5,
          4.3,
          4.7,
          1.9,
          4.9,
          4.4,
          4.7,
          4.3,
          4.9,
          4.8,
          4.3,
          4.5,
          4.3,
          4.3,
          4.6,
          4.5,
          4.3,
          5,
          4.3,
          3.9,
          4.3,
          4.3,
          4.8,
          4.3,
          4.3,
          4.3,
          4.1,
          4.5,
          4.3,
          3.8,
          2.4,
          4.3,
          2.8,
          4.5,
          4.6,
          4.1,
          4.2,
          4.6,
          4.3,
          4.6,
          5,
          5,
          3.9,
          4.2,
          3.9,
          4.2,
          4.3,
          4.3,
          4.3,
          3.5,
          4.3,
          4,
          4.3,
          3.7,
          3.8,
          4.3,
          4.3,
          4.6,
          4.3,
          4.5,
          4.3,
          4.4,
          4.3,
          4.6,
          4.3,
          3.9,
          4.3,
          3.9,
          3.9,
          4.4,
          4.4,
          4.6,
          3.9,
          4.6,
          2.5,
          4.6,
          2.8,
          4,
          3.4,
          3.8,
          4.5,
          4.8,
          3.3,
          3.9,
          3.5,
          4.5,
          4,
          3.6,
          4.3,
          4.7,
          3.9,
          5,
          4.6,
          3.9,
          3.6,
          3.7,
          3.8,
          3.5,
          4.1,
          4.3,
          4.7,
          4.3,
          4.5,
          4.1,
          4.3,
          4.8,
          4.3,
          4.3,
          3.4,
          5,
          4.3,
          4.3,
          4.3,
          4.4,
          1.8,
          3.3,
          4.3,
          5,
          4.3,
          4.5,
          5,
          4.5,
          4.7,
          4.6,
          4.3,
          4.5,
          4.3,
          4.3,
          3.5,
          4.3,
          4.3,
          3.5,
          2.9,
          4.3,
          4.3,
          4.3,
          4.3,
          4.3,
          4.3,
          4.3,
          5,
          5,
          4.3,
          4.3,
          4.3,
          5,
          4.3,
          4.3,
          4,
          4.3,
          4.3,
          4.1,
          4.3,
          4.3,
          4.3,
          4.3,
          4.2,
          2.2,
          4.3,
          4.7,
          3.8,
          4.3,
          4.1,
          4.3,
          4.2,
          4.8,
          3.7,
          3.1,
          4.6,
          2.9,
          4.2,
          4.7,
          4.5,
          4.4,
          4.4,
          4.1,
          4.6,
          4.1,
          4.2,
          4.3,
          3.9,
          4.3,
          4.3,
          4.3,
          4.3,
          4.5,
          4.5,
          4.5,
          4,
          4.3,
          4.3,
          4.5,
          4.5,
          4.3,
          4.3,
          4.2,
          4.5,
          4.6,
          4.3,
          4.3,
          3.9,
          4.3,
          4.3,
          4.3,
          3.9,
          4.3,
          3.7,
          4.7,
          4.3,
          1.7,
          4.5,
          4.3,
          4.7,
          4.3,
          5,
          4.3,
          4.3,
          4.3,
          4.6,
          2.9,
          4.3,
          4.8,
          3.8,
          4.2,
          4.3,
          4.4,
          4.3,
          4,
          4.1,
          3.4,
          4.3,
          4,
          4.2,
          4.1,
          4.7,
          4.2,
          3.9,
          3.8,
          4.1,
          4.2,
          3.8,
          4.7,
          3.7,
          4.3,
          4,
          4.2,
          4.6,
          4.7,
          4.7,
          4.3,
          4.2,
          3.5,
          4.7,
          4.7,
          4.5,
          4.7,
          4.6,
          4.6,
          4.9,
          4.2,
          4.3,
          4.4,
          4.4,
          4.5,
          4.3,
          4.4,
          4.4,
          3,
          4.8,
          4.7,
          4.6,
          4,
          3.7,
          3.5,
          2.7,
          4.7,
          4.1,
          4.5,
          4.6,
          4.4,
          4.3,
          4.4,
          4.5,
          4.6,
          4.7,
          4.6,
          3.1,
          3.9,
          4.7,
          4.6,
          4.7,
          4.8,
          4.3,
          4.1,
          4.4,
          4.7,
          4,
          4.6,
          4.3,
          4.3,
          4.3,
          4.5,
          4.3,
          4.2,
          4.4,
          4.3,
          4.4,
          4.6,
          4.4,
          4.5,
          4.2,
          4.8,
          4.3,
          4.3,
          3.2,
          4.6,
          4.4,
          4.5,
          4.3,
          3.4,
          4.3,
          4.3,
          3.3,
          4.2,
          4.3,
          2.4,
          3.2,
          3.1,
          3.8,
          4.3,
          3.7,
          4.2,
          3.7,
          3,
          4.3,
          4,
          3.1,
          4.1,
          4.5,
          4,
          3.8,
          3.8,
          4.3,
          3.5,
          4.5,
          3.9,
          4.3,
          4.5,
          4.3,
          4.1,
          4.3,
          3.7,
          4.8,
          1.5,
          5,
          4.6,
          4.3,
          4.3,
          4.7,
          4.3,
          4.7,
          4.3,
          5,
          4.5,
          4.3,
          5,
          4.3,
          4.3,
          5,
          4.2,
          1,
          4.5,
          4.2,
          5,
          4.2,
          4.4,
          3.9,
          4.6,
          3.8,
          4.3,
          4.3,
          4.3,
          4.6,
          5,
          4.3,
          4.3,
          4.3,
          5,
          4.3,
          3,
          3.8,
          4.2,
          4.3,
          3.2,
          4.3,
          4.3,
          4.4,
          3.7,
          5,
          4.5,
          4.5,
          4.1,
          4.3,
          4.1,
          4.3,
          4.3,
          5,
          4.2,
          4.1,
          4.1,
          4.3,
          4.2,
          4.3,
          4.3,
          5,
          4.4,
          4.3,
          4.3,
          4.5,
          4.3,
          4.8,
          4.4,
          4.3,
          4.4,
          4.3,
          4.3,
          4.3,
          4.3,
          4.3,
          4.3,
          4.4,
          4.6,
          5,
          4.4,
          4.4,
          4.3,
          3.4,
          4.4,
          3.4,
          4.3,
          4.3,
          4.3,
          4.3,
          5,
          4.3,
          4.3,
          4.3,
          4.6,
          4.3,
          4.3,
          4.3,
          4.3,
          4.3,
          3.6,
          3.6,
          4.7,
          4.5,
          4,
          5,
          4.2,
          4.3,
          4.3,
          4.2,
          4.3,
          4.5,
          3.6,
          3.8,
          4.2,
          4.1,
          4.3,
          4.3,
          5,
          4.3,
          4.2,
          4.1,
          4.3,
          4.3,
          3.6,
          4.3,
          4.1,
          4.4,
          4.3,
          4,
          5,
          5,
          4.3,
          3.8,
          4.7,
          4.4,
          4.4,
          4.3,
          4.3,
          4.9,
          3.5,
          4.3,
          4.3,
          4.3,
          4.3,
          4.3,
          4.7,
          4.5,
          4.4,
          4.4,
          4.5,
          4.7,
          4.7,
          4.7,
          4.7,
          4.3,
          4.4,
          4.8,
          4.8,
          4,
          3,
          3.9,
          4.3,
          4.3,
          4.6,
          4.3,
          5,
          4.3,
          4.2,
          4.3,
          1,
          4.6,
          4.3,
          4.3,
          4.3,
          4.3,
          4.3,
          4.3,
          4.1,
          4.7,
          4.3,
          4.3,
          4.3,
          4.8,
          4.2,
          4.3,
          4.3,
          5,
          4.6,
          4.5,
          2.9,
          4.4,
          4.3,
          4.5,
          4.3,
          3.9,
          1.9,
          4.4,
          5,
          4.7,
          3.9,
          5,
          4.2,
          4.2,
          2.8,
          4.2,
          1,
          3.9,
          4.1,
          4.1,
          3.2,
          4.3,
          4.3,
          4.3,
          4.1,
          3.8,
          4,
          4.3,
          4.2,
          5,
          4.1,
          5,
          3.7,
          4.3,
          4.3,
          4.1,
          3.9,
          4.2,
          3.8,
          3.7,
          4.7,
          4.7,
          4.3,
          4.1,
          4.7,
          4.2,
          3.2,
          4.6,
          5,
          4.4,
          4.5,
          4,
          4.6,
          4.7,
          4.1,
          4.5,
          4.3,
          5,
          5,
          4.2,
          4,
          4.3,
          5,
          4.1,
          4.3,
          4.4,
          4.3,
          4.3,
          4.1,
          4.3,
          3.6,
          4,
          4.1,
          4.1,
          4,
          4.6,
          4.3,
          4.3,
          4.3,
          4.3,
          5,
          3.6,
          4.1,
          2.7,
          3.8,
          5,
          4.2,
          4.3,
          5,
          2.6,
          4.4,
          4.3,
          4.3,
          4.3,
          2.8,
          4.1,
          4.3,
          4.3,
          4,
          4.3,
          4.7,
          4.6,
          4.7,
          4.6,
          4.6,
          4.6,
          4.6,
          4.6,
          4.4,
          3.8,
          4.1,
          3.4,
          4.5,
          4.5,
          4.5,
          4,
          4.7,
          4.4,
          4.4,
          4.7,
          4.7,
          4.2,
          4.2,
          4,
          3.6,
          4.7,
          4.4,
          4.3,
          4.4,
          4.4,
          4.4,
          4.3,
          3.3,
          3.6,
          4.5,
          4.5,
          4.6,
          4.3,
          3.6,
          4.3,
          4.4,
          4.1,
          4.2,
          4.8,
          4.2,
          4.3,
          4,
          3.7,
          4.5,
          4.1,
          4.6,
          4.5,
          4.7,
          4.3,
          4.3,
          4.6,
          4.1,
          4.2,
          4.3,
          4.2,
          4.3,
          3.6,
          4.2,
          4.2,
          4,
          4.6,
          4.3,
          4.4,
          4.5,
          4.3,
          3.7,
          4.2,
          4.7,
          4.6,
          4.5,
          4.1,
          4.5,
          4.3,
          3.4,
          4.2,
          3.9,
          4.4,
          4.1,
          4.3,
          3.9,
          4,
          4.3,
          5,
          4.2,
          4.3,
          4.5,
          4.5,
          4.3,
          4.5,
          1.9,
          1.6,
          4.2,
          4.4,
          3.6,
          4.3,
          4.7,
          2.9,
          4.3,
          4.4,
          4.3,
          4.6,
          4.6,
          4.2,
          3.5,
          2.9,
          4.4,
          4.7,
          4.5,
          4.4,
          4.4,
          4.4,
          4.4,
          4.3,
          4.5,
          3.5,
          4.2,
          4.4,
          4.3,
          3.6,
          4.6,
          4.3,
          3.8,
          1.4,
          4,
          4.3,
          4.6,
          4.7,
          4.2,
          4.3,
          4.1,
          4.3,
          4.2,
          4.3,
          3.6,
          4.6,
          4.3,
          4.3,
          5,
          5,
          5,
          4.5,
          3.9,
          4.3,
          4.3,
          4.8,
          4.1,
          4,
          4.8,
          4.8,
          4.4,
          4.1,
          4.3,
          4.3,
          4.3,
          4.4,
          4.3,
          4.3,
          4.3,
          4.3,
          2.7,
          4.4,
          4.3,
          4.3,
          4.2,
          4.3,
          5,
          4.2,
          3.9,
          4.3,
          4.5,
          4.3,
          3.5,
          4.2,
          4.4,
          4.7,
          4.6,
          4,
          4.3,
          2.5,
          4.3,
          3.8,
          4.5,
          4.6,
          4.6,
          5,
          3.9,
          5,
          4.3,
          2.3,
          4.3,
          4,
          3.7,
          4.2,
          4.1,
          4.4,
          4.6,
          4.2,
          4.4,
          4.3,
          4,
          4.5,
          3.9,
          3.7,
          4.6,
          4.3,
          3.8,
          4.7,
          4.3,
          3.4,
          4.1,
          4.3,
          4.6,
          4.3,
          4.3,
          4,
          4.3,
          3.5,
          2.3,
          3.9,
          4.1,
          4.5,
          4.6,
          4.4,
          3.1,
          4.3,
          5,
          3.8,
          3.3,
          5,
          1,
          4.5,
          4.6,
          4.3,
          4.4,
          4.1,
          4.5,
          4.2,
          3.7,
          4.1,
          3.9,
          4.5,
          3.6,
          3.2,
          3.5,
          3.7,
          4.6,
          4.8,
          4.1,
          4.4,
          4.3,
          4.3,
          4,
          3.1,
          4.2,
          4.3,
          3.5,
          4.3,
          3.8,
          4.3,
          4.8,
          2.3,
          4.3,
          4.4,
          3.6,
          5,
          4.3,
          4.2,
          4.3,
          4.7,
          3.9,
          4.4,
          4.4,
          4.3,
          2.6,
          4.3,
          4.7,
          4.3,
          5,
          3.7,
          4.1,
          4.3,
          3.8,
          4.6,
          4.7,
          4.3,
          3.5,
          3.3,
          4.3,
          4.8,
          3.9,
          4.5,
          5,
          5,
          4.3,
          4,
          4.5,
          4.6,
          4.7,
          3.8,
          3.4,
          4.7,
          4,
          4.6,
          2,
          4.3,
          2,
          3.6,
          4.7,
          3.5,
          4,
          3.5,
          4.3,
          4.1,
          4.6,
          3.8,
          4.3,
          3.8,
          1,
          3.8,
          3.3,
          4.8,
          3,
          4,
          3.8,
          4.3,
          3.9,
          4.2,
          4.6,
          4,
          4.5,
          4.6,
          4.6,
          4.5,
          3.7,
          4.4,
          4.6,
          4.4,
          4.5,
          4.5,
          4.3,
          3.7,
          3.9,
          3.9,
          4.3,
          4.1,
          4.1,
          4.4,
          4.4,
          4.2,
          4.5,
          4.4,
          4.4,
          4.4,
          3.8,
          2.6,
          4.2,
          4.4,
          4.2,
          4,
          4.2,
          4,
          4.4,
          4.5,
          3.2,
          4.3,
          3.4,
          2.3,
          4.4,
          4.3,
          4.3,
          4.3,
          3.6,
          4.6,
          4.2,
          4,
          4.4,
          4.5,
          3.2,
          2.2,
          4.8,
          4.3,
          4.4,
          4.5,
          4.8,
          4.6,
          3.7,
          4.4,
          3.5,
          3.8,
          3.8,
          4.3,
          4.3,
          4.6,
          4.3,
          4.3,
          3.7,
          4.3,
          4.8,
          4.3,
          5,
          3.9,
          3,
          4.3,
          5,
          4.3,
          4.4,
          4.6,
          3.9,
          4.1,
          3,
          4.2,
          4.2,
          4,
          4,
          3.2,
          4.6,
          3.2,
          4.1,
          3.3,
          4.4,
          4,
          4.2,
          4.1,
          4.3,
          4.7,
          4.4,
          3.1,
          3.1,
          3.3,
          3.9,
          3.4,
          3.9,
          4.4,
          3.9,
          3.7,
          4.5,
          4.7,
          4.3,
          3,
          4.3,
          3.9,
          4.3,
          5,
          3.9,
          4.3,
          4.3,
          4.3,
          4.3,
          4.3,
          3.8,
          4.3,
          3.6,
          3.9,
          3.8,
          4.3,
          4.8,
          4.3,
          4.3,
          4.3,
          4.3,
          4.4,
          4.5,
          4,
          4.7,
          4.8,
          4.7,
          4.7,
          4.3,
          3.2,
          4.3,
          4.7,
          4.5,
          4.3,
          4.5,
          4.2,
          4.3,
          4.3,
          4.2,
          4.7,
          4.3,
          4.5,
          4.3,
          4.5,
          4.5,
          3.8,
          4.5,
          4.3,
          3.9,
          4.2,
          4.5,
          4.1,
          4.4,
          4.1,
          2.2,
          3.9,
          4.5,
          3.3,
          3.1,
          3.2,
          4.3,
          4.3,
          3.8,
          4.3,
          4.3,
          4.3,
          4.9,
          4.3,
          5,
          4.4,
          4.3,
          4.6,
          4.5,
          3.5,
          4.8,
          4.8,
          3.5,
          4.7,
          4.6,
          4.4,
          4.3,
          4.7,
          4.4,
          4,
          3.5,
          4.6,
          3.9,
          3.5,
          4.6,
          4.2,
          4.4,
          4.6,
          4,
          4.2,
          3.8,
          4.1,
          4.3,
          4.4,
          4.5,
          4.1,
          4.2,
          3.6,
          3.3,
          4.7,
          4.6,
          4.3,
          4.3,
          3.9,
          4.3,
          4.3,
          3.1,
          4.4,
          3.7,
          4.6,
          4.6,
          2.7,
          4.3,
          4.6,
          4.2,
          4.3,
          4.2,
          3.9,
          2.4,
          3.9,
          5,
          4,
          3,
          4.1,
          4.8,
          4.5,
          3.5,
          4.3,
          4.3,
          4.5,
          4.5,
          4.3,
          4.4,
          4.4,
          4.3,
          4.2,
          4.5,
          4.3,
          4.3,
          4.2,
          4.9,
          1.4,
          4,
          4.3,
          4.3,
          4.2,
          4.3,
          4.1,
          4.3,
          4.1,
          4.3,
          4.3,
          4.6,
          5,
          4.4,
          4.7,
          4.3,
          5,
          4.3,
          4,
          4,
          3.8,
          4.3,
          4.6,
          4.1,
          4.3,
          4.3,
          4.2,
          4.3,
          4.4,
          4.4,
          3.9,
          4.3,
          4.5,
          4.3,
          3.5,
          4.2,
          4.1,
          4.1,
          4.7,
          4.5,
          3.3,
          4.2,
          4.3,
          4.3,
          4.2,
          4.6,
          4.3,
          4.3,
          4,
          4.7,
          4.3,
          4.3,
          4.3,
          4.3,
          4.3,
          4.3,
          4.3,
          4.9,
          4.3,
          4.3,
          4.3,
          4.3,
          4.3,
          4.3,
          4.3,
          4.3,
          4,
          4.3,
          4.3,
          4.5,
          4.1,
          4.3,
          4.3,
          4.3,
          3.9,
          3.7,
          4.2,
          3.6,
          3.6,
          2.1,
          4.7,
          3.2,
          3,
          4.3,
          3,
          4.3,
          3.9,
          3.3,
          4.3,
          4,
          3.7,
          2.8,
          4.4,
          5,
          4.2,
          4,
          4.3,
          3,
          4.5,
          5,
          5,
          4.1,
          4.3,
          4.5,
          4.4,
          4.4,
          4.3,
          4.2,
          3,
          4.1,
          4.2,
          4.2,
          4,
          4.3,
          4.1,
          3.6,
          4.3,
          5,
          4.2,
          3.9,
          4.3,
          4.1,
          3.8,
          3.7,
          4.3,
          4.2,
          4.3,
          4.3,
          4.4,
          4.3,
          4.2,
          4.6,
          4,
          2.9,
          4.5,
          4.7,
          3.8,
          4.3,
          4.7,
          3.9,
          4.5,
          4.7,
          4.5,
          4.2,
          4.3,
          4.4,
          4.2,
          4.1,
          4.5,
          4.5,
          4.6,
          4.4,
          4.1,
          4.3,
          4.7,
          4.4,
          4.2,
          4.3,
          4.5,
          4.3,
          4.8,
          4.5,
          4.6,
          4.7,
          4.4,
          4.1,
          4.3,
          4.2,
          4.2,
          3.6,
          2.8,
          3.9,
          3.8,
          4.4,
          3.7,
          3.8,
          3.2,
          3.9,
          4.1,
          4.3,
          3.1,
          4.6,
          4.1,
          4.4,
          3.2,
          4.5,
          3.7,
          4.3,
          4.3,
          4.4,
          5,
          4.8,
          4.3,
          4.6,
          4,
          4.1,
          4.3,
          4.3,
          4.8,
          4.3,
          4.3,
          2.8,
          4.7,
          4.5,
          4.2,
          4.3,
          3.8,
          3.8,
          4.2,
          3.8,
          4,
          4,
          4.6,
          4,
          4.3,
          4.3,
          3.9,
          5,
          4,
          4.1,
          3.9,
          4.2,
          4.3,
          4.5,
          4.4,
          4.1,
          4.2,
          4.5,
          4.6,
          4.1,
          3.9,
          4.7,
          3.9,
          4.3,
          2.9,
          3.7,
          4.4,
          4.1,
          4.3,
          2.8,
          3.4,
          2.8,
          2.5,
          4.7,
          4.3,
          3.2,
          3.9,
          3.6,
          3.2,
          3.5,
          3.3,
          4.3,
          4.3,
          4.4,
          2.8,
          5,
          4.3,
          4.4,
          4.3,
          4.3,
          4.3,
          4.3,
          4.3,
          4.3,
          4.3,
          5,
          4.3,
          4.3,
          4.3,
          5,
          4.3,
          5,
          4.3,
          4.3,
          4.3,
          5,
          4.3,
          4.3,
          4.1,
          4.3,
          4.3,
          4.6,
          4.5,
          4.3,
          4.5,
          3.3,
          4.3,
          4.4,
          4.7,
          4.7,
          4,
          4.5,
          4.3,
          4.6,
          4.7,
          4.4,
          4,
          4.2,
          4.3,
          4.1,
          4.5,
          4.3,
          4.3,
          4.7,
          4.1,
          4.3,
          4.4,
          3.1,
          4,
          4.5,
          4.5,
          4.4,
          4.2,
          4.6,
          4.6,
          4,
          4.6,
          4.3,
          4.3,
          3.9,
          4.5,
          4.7,
          4.3,
          4.6,
          4.2,
          4.3,
          4.6,
          4.2,
          4.1,
          4.6,
          4.4,
          3.7,
          3.9,
          4.3,
          4.3,
          4.3,
          4.5,
          4.5,
          4.5,
          4.5,
          4.7,
          4.3,
          4.4,
          4.5,
          4.3,
          4.3,
          4.2,
          4.3,
          4.2,
          4.7,
          4.1,
          4.3,
          4.1,
          3.8,
          4.5,
          4.1,
          4.3,
          4.3,
          4.5,
          4.1,
          4.4,
          4.3,
          4.4,
          4.3,
          4.3,
          4.1,
          4.6,
          4.2,
          4.7,
          4.4,
          4.7,
          4.2,
          4.6,
          4.5,
          4.8,
          3.7,
          4.2,
          2.3,
          4.3,
          4.5,
          4,
          4.2,
          4.6,
          4.2,
          4.5,
          4.4,
          4,
          4.3,
          4.1,
          3.8,
          3.4,
          4.3,
          4.6,
          3.3,
          3.9,
          4.2,
          4.9,
          4.6,
          4.4,
          4,
          4.3,
          4.6,
          4.4,
          4.6,
          4.5,
          3.7,
          4.1,
          4.2,
          4,
          4.5,
          4.6,
          4.5,
          4.4,
          3.3,
          4.2,
          4.2,
          4,
          4,
          3.5,
          4.5,
          3.9,
          3.9,
          4.1,
          4.4,
          4.2,
          4.4,
          4.3,
          4.1,
          4,
          4.3,
          4.4,
          4.5,
          4.6,
          3.7,
          3.8,
          3.4,
          4.3,
          4.7,
          4.4,
          4.4,
          4.1,
          4.4,
          3.9,
          4.3,
          4.2,
          3.3,
          4,
          4.6,
          4.1,
          4.1,
          3.4,
          3.4,
          4.1,
          4,
          3.4,
          3.2,
          3.8,
          3.8,
          3.9,
          3.6,
          3.8,
          3.9,
          3.2,
          1,
          4.6,
          4.3,
          3.6,
          4.9,
          4.3,
          2.6,
          3.5,
          3.2,
          4.3,
          3.3,
          4.3,
          4.3,
          3.8,
          4.6,
          1.8,
          4.3,
          4.3,
          3.9,
          4.3,
          4.8,
          4,
          4.1,
          4.6,
          4,
          4.3,
          4.8,
          4,
          3.5,
          4.3,
          3,
          4.6,
          1.6,
          3.8,
          1.7,
          4.6,
          5,
          4.6,
          4.4,
          4.5,
          3.8,
          4.1,
          5,
          4.3,
          4.3,
          1,
          4.3,
          4.3,
          4.4,
          4.7,
          4.6,
          4.3,
          4.5,
          4.3,
          4.3,
          4.4,
          4.1,
          3.8,
          3.9,
          4.7,
          4.5,
          4.5,
          4.6,
          4.5,
          4.5,
          4.4,
          4.3,
          4.4,
          4.2,
          4.6,
          4.5,
          3.8,
          4.3,
          4.6,
          4.3,
          3.6,
          4.2,
          4.3,
          4.7,
          4.8,
          3.1,
          4.5,
          4.4,
          4.3,
          4.7,
          4.1,
          4.4,
          4.3,
          4.6,
          4.3,
          4.7,
          3.6,
          3.7,
          2,
          4.3,
          2.4,
          4.5,
          2.8,
          4.3,
          4.3,
          3.2,
          3.1,
          2.4,
          2.9,
          4,
          3.7,
          2.3,
          2.9,
          4.3,
          5,
          4.2,
          4.6,
          4.5,
          4.2,
          3.5,
          4.6,
          3.5,
          3.6,
          4.3,
          3,
          4.3,
          4.3,
          2.9,
          3.7,
          4.3,
          4.2,
          3.2,
          2.5,
          4.3,
          2.7,
          4,
          3.4,
          4.3,
          4,
          3.4,
          4.9,
          4.3,
          4.8,
          4.3,
          4,
          4.3,
          3.5,
          4.3,
          5,
          4.3,
          4.2,
          4.2,
          5,
          4.3,
          5,
          2,
          4.3,
          4.3,
          4.3,
          3.9,
          4.3,
          3.1,
          4.5,
          4.7,
          4.3,
          4.4,
          3.8,
          4.2,
          4.5,
          4.3,
          4.6,
          4.2,
          4.5,
          4.2,
          4.2,
          4.1,
          4.3,
          5,
          4.6,
          4.4,
          4.3,
          4.5,
          3.6,
          4.6,
          4.3,
          4,
          4.6,
          4.5,
          4.5,
          4.3,
          4.3,
          4.3,
          5,
          4.4,
          4.3,
          4,
          3.5,
          4,
          4.2,
          3.9,
          3.6,
          3,
          3,
          4,
          3.4,
          4.9,
          4.3,
          4,
          4.4,
          4.1,
          4.4,
          4,
          4.3,
          4.5,
          4.2,
          3.9,
          4.3,
          3.6,
          5,
          4.4,
          3.6,
          4.7,
          4.7,
          4.3,
          4.3,
          4.3,
          4.2,
          4.3,
          4.4,
          4.3,
          4.5,
          4.1,
          4.3,
          4.3,
          4.3,
          4.2,
          4.3,
          4.2,
          4.3,
          4.2,
          5,
          4,
          4,
          4.5,
          4.3,
          4.1,
          4.3,
          4.4,
          4.2,
          4.3,
          4.4,
          4.5,
          4.2,
          4.3,
          4.3,
          4.2,
          4.3,
          4.5,
          4.4,
          4.4,
          4.5,
          4.5,
          3.9,
          4.3,
          4.4,
          4.5,
          4,
          4.5,
          4,
          4.4,
          4.3,
          4.4,
          3.8,
          4.4,
          4.2,
          4.1,
          4.2,
          3.9,
          4.5,
          4.1,
          4.4,
          4.3,
          4.5,
          3.4,
          3.4,
          4.4,
          4.2,
          4.4,
          3.5,
          4.1,
          4.6,
          1.7,
          5,
          4.8,
          4.3,
          4.6,
          3.3,
          4.3,
          4.2,
          4.3,
          3.5,
          3.7,
          5,
          4.3,
          4.3,
          4.6,
          4.1,
          5,
          4.3,
          3.7,
          4,
          4.3,
          4.2,
          4.5,
          3.8,
          2.5,
          4,
          4.1,
          3.4,
          3.6,
          3.4,
          3.9,
          4.6,
          4.3,
          4.7,
          5,
          3.9,
          4.2,
          4.3,
          4.3,
          4.1,
          4.2,
          4.4,
          3.4,
          4.3,
          3.9,
          4.5,
          4.3,
          3,
          4.3,
          4.1,
          4.6,
          4.3,
          3.9,
          4.7,
          4.5,
          5,
          5,
          5,
          4.3,
          4,
          4.3,
          4.9,
          5,
          4.6,
          4.3,
          4.8,
          4.1,
          4.1,
          4.3,
          4.7,
          4.3,
          5,
          4.4,
          3.3,
          4,
          3.5,
          2.8,
          4.3,
          3.6,
          3.2,
          3.6,
          3.7,
          3.3,
          3.1,
          4.1,
          3.1,
          3.5,
          3.6,
          3.1,
          2.9,
          3,
          2.9,
          3.9,
          5,
          4.3,
          3.4,
          5,
          4.3,
          4.3,
          4.2,
          4.3,
          4.3,
          4.3,
          4.3,
          4.3,
          4.6,
          4.7,
          4.3,
          4.4,
          4.3,
          4.3,
          4.3,
          4.6,
          4.3,
          4.6,
          4,
          2.9,
          4.1,
          4.3,
          4.3,
          4.3,
          4.3,
          4.2,
          4.3,
          4.3,
          2.4,
          4.2,
          4.3,
          4.3,
          3.1,
          4.3,
          3,
          3.4,
          4.2,
          4.5,
          4.3,
          4.4,
          4.3,
          4.2,
          4.2,
          4.3,
          4.8,
          4,
          4.2,
          4.1,
          4.6,
          4.6,
          3.8,
          4.5,
          4.4,
          4.1,
          4,
          3.9,
          3.5,
          5,
          4.3,
          4.2,
          4.3,
          4.3,
          3.8,
          4.3,
          3.4,
          3.8,
          4.2,
          4.2,
          3.7,
          4,
          4.4,
          4.5,
          3.7,
          4.2,
          3.9,
          4,
          3.7,
          4.2,
          4,
          3.9,
          4.1,
          4.3,
          4.5,
          4.5,
          3.3,
          4.4,
          4.2,
          4.2,
          4.1,
          4.1,
          4.4,
          4.1,
          3.9,
          3.9,
          4.4,
          3.8,
          3,
          3.4,
          4.3,
          5,
          4.3,
          4.1,
          4.3,
          2.4,
          3.9,
          4.3,
          4.3,
          4.3,
          4,
          4.3,
          3,
          4.3,
          4.4,
          3.4,
          2.9,
          5,
          4.5,
          3.7,
          3,
          4.3,
          4,
          3.2,
          3.6,
          3.2,
          3.7,
          4.7,
          4.4,
          3.9,
          4.4,
          4.3,
          2.6,
          4.1,
          4.1,
          3.3,
          4.2,
          4.3,
          4.3,
          4.4,
          5,
          4.3,
          4.4,
          4.3,
          4.3,
          3.9,
          4.3,
          4,
          3.8,
          4.5,
          4.3,
          3.8,
          4.4,
          4.3,
          4.7,
          3.9,
          4.2,
          3.8,
          4.3,
          3.8,
          4.2,
          4.2,
          3.6,
          4,
          3.5,
          4.4,
          3.5,
          4.1,
          4.8,
          4.3,
          4,
          4.2,
          3.5,
          4.3,
          4.7,
          5,
          4.8,
          4.9,
          4.3,
          4.3,
          5,
          4.3,
          4.9,
          4.5,
          4.3,
          4.5,
          5,
          5,
          3,
          4.3,
          4.3,
          4.9,
          5,
          4.3,
          4.1,
          4.3,
          4.1,
          4.3,
          4.3,
          4.1,
          4.7,
          4.3,
          4.9,
          4,
          5,
          5,
          4.6,
          4.2,
          5,
          4.3,
          4,
          4.3,
          4,
          4.2,
          4.2,
          4,
          3.9,
          4.8,
          4.1,
          4.3,
          4.3,
          4.4,
          4.3,
          4.5,
          4.5,
          4.8,
          4.5,
          4.6,
          4.6,
          4.5,
          4.3,
          4.4,
          4.5,
          4.2,
          4.7,
          4.1,
          4.1,
          4.6,
          4.4,
          4.5,
          3.8,
          3.9,
          3.5,
          3.8,
          4.2,
          4.6,
          3.7,
          4.4,
          3.6,
          3.4,
          4,
          4.3,
          4.3,
          4.5,
          4.4,
          4.5,
          4.1,
          4.4,
          4.3,
          4.5,
          4.5,
          4.2,
          4.5,
          4.3,
          4.1,
          4.6,
          4.3,
          4,
          4.4,
          4.4,
          4.3,
          4.6,
          4.6,
          4.3,
          4.3,
          4.2,
          4.5,
          4,
          4.6,
          3.8,
          4.3,
          4,
          4.5,
          4.1,
          4.5,
          4.2,
          4.4,
          4,
          4.3,
          4.3,
          4.4,
          4.4,
          4,
          4.7,
          4.2,
          4.5,
          4.3,
          3.5,
          4.3,
          2.6,
          4.2,
          4.3,
          4.3,
          4.3,
          4.3,
          4.3,
          4.3,
          4.3,
          4.3,
          4.3,
          4.3,
          4.3,
          4.4,
          4.3,
          4.3,
          4.1,
          4.3,
          4.3,
          4.5,
          4.3,
          4.6,
          4.6,
          4.7,
          4.3,
          4.2,
          4.5,
          4.3,
          4.5,
          3.5,
          4.3,
          4.6,
          4.5,
          4.3,
          4.4,
          4.3,
          4.3,
          4.3,
          3.4,
          3.8,
          4.5,
          4.3,
          4.3,
          4.3,
          5,
          4.3,
          4.2,
          4.3,
          4.4,
          4.3,
          4.4,
          4.3,
          4.4,
          4,
          3.6,
          4.3,
          4.1,
          4.6,
          3.9,
          4.4,
          4.3,
          3.7,
          3.9,
          4.3,
          4.3,
          4.1,
          3.6,
          3.5,
          3.9,
          3.9,
          3.8,
          4,
          4.5,
          3.6,
          3.9,
          4.3,
          4,
          3.7,
          3.9,
          4.2,
          3.5,
          4,
          3.8,
          4.1,
          4.2,
          4.1,
          4.4,
          3.7,
          4.3,
          4.7,
          3.8,
          4,
          4.2,
          3.8,
          3.9,
          4,
          3.1,
          5,
          3.5,
          4.1,
          4.5,
          4.7,
          4.1,
          3.9,
          4,
          3.1,
          4.1,
          4.4,
          3.3,
          4.3,
          4.7,
          4.3,
          4.2,
          4.7,
          4.3,
          4.2,
          4.2,
          4.1,
          4.2,
          4.3,
          4.4,
          4.3,
          3.5,
          4.3,
          1.8,
          4.2,
          4.2,
          4.6,
          4,
          4.3,
          5,
          3.8,
          4.3,
          3,
          5,
          4.7,
          4.6,
          4.4,
          4.7,
          5,
          4.8,
          3,
          4.6,
          4.3,
          4.1,
          4.6,
          4.5,
          4.2,
          3.9,
          3.6,
          4.6,
          3.9,
          4.3,
          4.8,
          3.7,
          4.4,
          4.2,
          4.6,
          4.5,
          4.3,
          4.4,
          4,
          4.7,
          4.3,
          4.5,
          4.2,
          4.8,
          4.5,
          4,
          4.1,
          4.2,
          4.5,
          3.9,
          3.6,
          4.3,
          3.4,
          3.6,
          4.2,
          4.3,
          4.3,
          3.9,
          4.3,
          3.6,
          4.3,
          4.3,
          3.7,
          4.3,
          3.8,
          4.3,
          4.1,
          4.7,
          4.1,
          4.3,
          1.9,
          3.6,
          3.8,
          2.7,
          4.3,
          4.5,
          4.3,
          4,
          4.2,
          4.3,
          4.4,
          4.3,
          4.3,
          3.1,
          4.3,
          5,
          4.3,
          4.3,
          4.3,
          4.3,
          4.3,
          4.3,
          4.7,
          3.7,
          4.3,
          4.3,
          3,
          4.3,
          4.3,
          4.3,
          4.3,
          3,
          4.2,
          4.3,
          4.3,
          3.7,
          4.6,
          4.5,
          2.8,
          4.2,
          4,
          4.3,
          4.2,
          3.7,
          4.3,
          4.3,
          3.3,
          4.4,
          4,
          4.9,
          4,
          4.6,
          3.6,
          3.9,
          4,
          4.4,
          4.3,
          4.3,
          4.3,
          4.3,
          4.3,
          4.3,
          4.3,
          4.3,
          4.3,
          3.4,
          4.3,
          4.2,
          4.2,
          4.3,
          3.9,
          3.8,
          4,
          4.5,
          3.8,
          4.9,
          4.1,
          3,
          4.5,
          3.3,
          4.1,
          3.7,
          3.9,
          3.5,
          4.4,
          4,
          4,
          4.6,
          4.5,
          4.3,
          4.3,
          4.1,
          2.7,
          2.3,
          3.9,
          2.9,
          3.3,
          4.2,
          2.9,
          3.5,
          2.8,
          4.3,
          4.3,
          4.6,
          4.2,
          3.7,
          4.7,
          3.9,
          4.4,
          3.7,
          4.3,
          3.5,
          4.3,
          4.3,
          4.5,
          4.2,
          4.3,
          4.1,
          2.5,
          2.7,
          4.3,
          4.3,
          4.3,
          4.3,
          1.2,
          4.3,
          4.3,
          4.3,
          4.7,
          4.9,
          4.7,
          4.3,
          4.3,
          4.4,
          4.7,
          4,
          4.3,
          4.7,
          4.3,
          4.7,
          4.3,
          4.4,
          4.3,
          4.3,
          4.3,
          4.3,
          4.3,
          4.6,
          4.3,
          4.3,
          4.3,
          4.4,
          4.4,
          4.4,
          4.6,
          3.1,
          4.3,
          3.7,
          4.6,
          4.2,
          4.4,
          4.1,
          3.6,
          4.4,
          3.8,
          4,
          3.2,
          2.8,
          2.9,
          4.1,
          3.3,
          3.5,
          4.2,
          2.8,
          4.4,
          4.4,
          4.2,
          3.3,
          3.5,
          4.7,
          3.1,
          4.3,
          4.1,
          2.5,
          3.9,
          3,
          4.3,
          4.3,
          4.2,
          4.3,
          2.2,
          3.9,
          4.4,
          4.4,
          3.9,
          2.9,
          4.1,
          5,
          4.6,
          4.3,
          4.4,
          4.2,
          4.4,
          3.6,
          3.4,
          4.3,
          4.3,
          4.3,
          4.4,
          4.3,
          4.3,
          4.3,
          4.3,
          4.3,
          4.4,
          4.3,
          4,
          4.5,
          4.6,
          4.3,
          4.1,
          4.4,
          3.5,
          4.1,
          3.8,
          4.2,
          4.3,
          4.5,
          4,
          4,
          4.3,
          4.1,
          3.4,
          4,
          4.3,
          4.7,
          4.5,
          4.3,
          4.1,
          4.1,
          4.4,
          4.6,
          4.3,
          3.8,
          3.9,
          4.2,
          4.2,
          3.7,
          4.3,
          4.2,
          3.6,
          4.3,
          4.3,
          4.3,
          4.5,
          4.3,
          4.7,
          3.8,
          4,
          4.1,
          4.3,
          3.9,
          4.3,
          3.4,
          4.3,
          4.2,
          4.5,
          4.4,
          4.2,
          4.7,
          4.6,
          4.4,
          4.4,
          4.8,
          4.6,
          4.3,
          4.4,
          4.4,
          3.3,
          4.5,
          4.6,
          4.3,
          4.9,
          4.3,
          4.5,
          4.9,
          3.7,
          4.5,
          4.6,
          4.5,
          4.1,
          4.8,
          3.4,
          4.5,
          4.8,
          4.5,
          4.5,
          4.5,
          4.5,
          4.1,
          4.1,
          3.6,
          4.7,
          4.6,
          4.9,
          4.6,
          4.1,
          4.5,
          3.9,
          3.9,
          4.6,
          3.8,
          4.7,
          3.9,
          4,
          4.3,
          4,
          4.4,
          4.1,
          5,
          4.8,
          4.3,
          4.6,
          5,
          4.2,
          4.7,
          4,
          4.4,
          4.9,
          3.5,
          4.1,
          4.2,
          4.4,
          4.3,
          4.5,
          4.5,
          4.6,
          4.3,
          4.4,
          4.6,
          4.3,
          4.8,
          2.8,
          4.1,
          1,
          3,
          4.5,
          4.3,
          4.3,
          4.3,
          4.3,
          4.3,
          4.3,
          5,
          4.3,
          4.3,
          4.4,
          3,
          3.8,
          4.3,
          4.3,
          4.3,
          4.3,
          4.5,
          4.3,
          4.3,
          4.3,
          3.3,
          4.3,
          4.9,
          4.3,
          4.3,
          4.3,
          4.3,
          4.3,
          4.3,
          4.3,
          4.5,
          4.1,
          4.8,
          3.8,
          4.1,
          3.9,
          4.3,
          4.2,
          4.2,
          4.8,
          4.1,
          4.1,
          4,
          3.9,
          4.1,
          4.1,
          4.2,
          3.7,
          3.9,
          3.9,
          3.6,
          3.7,
          3.6,
          4.3,
          3.9,
          4.5,
          2.6,
          4.4,
          4.3,
          4.3,
          4.3,
          4.2,
          4.8,
          5,
          4.3,
          4.4,
          4.3,
          4.9,
          4.3,
          4.3,
          4.3,
          5,
          4.3,
          4.3,
          4.2,
          4.2,
          4.3,
          4.3,
          4,
          2.1,
          4.3,
          4.2,
          4.3,
          2.5,
          4.4,
          4.4,
          4.6,
          4.3,
          4.3,
          4.4,
          4.2,
          4.5,
          3.3,
          3.9,
          4.3,
          4.5,
          4.1,
          4.8,
          4.6,
          4.4,
          3.8,
          3.7,
          4.2,
          3.7,
          4.3,
          4.5,
          3.5,
          4,
          4.5,
          2.9,
          3.9,
          3.6,
          4.6,
          4.7,
          4.5,
          4.1,
          4.5,
          3.7,
          2.9,
          4,
          4.2,
          3.7,
          3.9,
          3.4,
          3.5,
          4.2,
          3.4,
          3.9,
          3.6,
          3.2,
          4.1,
          4.1,
          4.2,
          4.2,
          4.3,
          4.7,
          4.3,
          4.5,
          4.3,
          4.3,
          4.5,
          4.4,
          4.3,
          4.3,
          4.3,
          4.3,
          4.3,
          4.2,
          4.3,
          3.7,
          4.3,
          4.1,
          4.3,
          4,
          3.5,
          4.2,
          4.4,
          4.2,
          4.4,
          4.3,
          3.8,
          3.9,
          4,
          3.8,
          3.6,
          4.2,
          4.3,
          3.8,
          4.3,
          3.7,
          4,
          4.2,
          4.3,
          4.3,
          4.4,
          4.9,
          4.3,
          5,
          4.3,
          4.8,
          4.3,
          4.3,
          4.3,
          4.3,
          4.3,
          4.3,
          4.3,
          4.3,
          4,
          4.3,
          4.3,
          4.3,
          4.3,
          4.3,
          4.3,
          4.3,
          4.3,
          4,
          4.3,
          4.3,
          4.9,
          4.3,
          3.8,
          4.3,
          4.9,
          4.3,
          4.3,
          4.3,
          4.3,
          4.3,
          1.5,
          4.3,
          5,
          4.3,
          4.8,
          4.3,
          3.9,
          4.6,
          4.7,
          4.6,
          4.3,
          4.2,
          4.6,
          4.7,
          2,
          3.2,
          4,
          3.8,
          4.4,
          4.4,
          4.4,
          1,
          4.3,
          4.5,
          4.1,
          4.9,
          4.2,
          4.7,
          4.3,
          3.3,
          4,
          4.3,
          3.7,
          4.3,
          2.9,
          4.7,
          5,
          3.8,
          4.4,
          3.9,
          3.9,
          4.3,
          3.9,
          3.9,
          3.4,
          4.6,
          4.2,
          4.3,
          4.3,
          4.8,
          5,
          4.3,
          4.3,
          5,
          4.3,
          2.9,
          4.6,
          3.8,
          4.3,
          4.1,
          4.3,
          4.5,
          4.2,
          4.3,
          2.5,
          3.5,
          4.6,
          4.6,
          4.3,
          4.2,
          4.2,
          4.1,
          4.2,
          4.3,
          4.5,
          4.4,
          5,
          4.6,
          4.3,
          4.3,
          4.3,
          4.3,
          4.3,
          5,
          4.3,
          4.3,
          4.3,
          4.3,
          4.3,
          3.4,
          4.3,
          4.3,
          4.6,
          4.5,
          4.3,
          4.3,
          3.8,
          4.1,
          4.4,
          4.4,
          4.2,
          4.2,
          3.9,
          4.4,
          5,
          4,
          4.3,
          4.4,
          4.1,
          4.2,
          3.9,
          4.3,
          3.5,
          4.3,
          4.3,
          4.3,
          3.8,
          3.6,
          4.3,
          4.2,
          3.4,
          4.3,
          4.3,
          4.3,
          3.5,
          4.3,
          3.7,
          4.2,
          4.3,
          3.6,
          4.5,
          4.2,
          4.4,
          2.7,
          4.1,
          4.3,
          4.5,
          3.4,
          2.9,
          4,
          3.9,
          4.3,
          4.3,
          5,
          3.9,
          4,
          3.6,
          4.1,
          4.3,
          3.8,
          4.2,
          4.3,
          4.2,
          4.2,
          4.1,
          4.3,
          4,
          4.1,
          4,
          4.2,
          4.4,
          4.3,
          4.2,
          4.7,
          4.3,
          4.7,
          4.1,
          4.9,
          4,
          4.3,
          4.2,
          4.3,
          4.7,
          4.8,
          4.1,
          4.3,
          4,
          4.3,
          4,
          4.3,
          5,
          4.3,
          4.3,
          4.3,
          4.3,
          4,
          4.2,
          4,
          4.3,
          4.5,
          5
         ],
         "xbins": {
          "end": 5,
          "size": 0.1,
          "start": 1
         }
        }
       ],
       "layout": {
        "template": {
         "data": {
          "bar": [
           {
            "error_x": {
             "color": "#2a3f5f"
            },
            "error_y": {
             "color": "#2a3f5f"
            },
            "marker": {
             "line": {
              "color": "#E5ECF6",
              "width": 0.5
             }
            },
            "type": "bar"
           }
          ],
          "barpolar": [
           {
            "marker": {
             "line": {
              "color": "#E5ECF6",
              "width": 0.5
             }
            },
            "type": "barpolar"
           }
          ],
          "carpet": [
           {
            "aaxis": {
             "endlinecolor": "#2a3f5f",
             "gridcolor": "white",
             "linecolor": "white",
             "minorgridcolor": "white",
             "startlinecolor": "#2a3f5f"
            },
            "baxis": {
             "endlinecolor": "#2a3f5f",
             "gridcolor": "white",
             "linecolor": "white",
             "minorgridcolor": "white",
             "startlinecolor": "#2a3f5f"
            },
            "type": "carpet"
           }
          ],
          "choropleth": [
           {
            "colorbar": {
             "outlinewidth": 0,
             "ticks": ""
            },
            "type": "choropleth"
           }
          ],
          "contour": [
           {
            "colorbar": {
             "outlinewidth": 0,
             "ticks": ""
            },
            "colorscale": [
             [
              0,
              "#0d0887"
             ],
             [
              0.1111111111111111,
              "#46039f"
             ],
             [
              0.2222222222222222,
              "#7201a8"
             ],
             [
              0.3333333333333333,
              "#9c179e"
             ],
             [
              0.4444444444444444,
              "#bd3786"
             ],
             [
              0.5555555555555556,
              "#d8576b"
             ],
             [
              0.6666666666666666,
              "#ed7953"
             ],
             [
              0.7777777777777778,
              "#fb9f3a"
             ],
             [
              0.8888888888888888,
              "#fdca26"
             ],
             [
              1,
              "#f0f921"
             ]
            ],
            "type": "contour"
           }
          ],
          "contourcarpet": [
           {
            "colorbar": {
             "outlinewidth": 0,
             "ticks": ""
            },
            "type": "contourcarpet"
           }
          ],
          "heatmap": [
           {
            "colorbar": {
             "outlinewidth": 0,
             "ticks": ""
            },
            "colorscale": [
             [
              0,
              "#0d0887"
             ],
             [
              0.1111111111111111,
              "#46039f"
             ],
             [
              0.2222222222222222,
              "#7201a8"
             ],
             [
              0.3333333333333333,
              "#9c179e"
             ],
             [
              0.4444444444444444,
              "#bd3786"
             ],
             [
              0.5555555555555556,
              "#d8576b"
             ],
             [
              0.6666666666666666,
              "#ed7953"
             ],
             [
              0.7777777777777778,
              "#fb9f3a"
             ],
             [
              0.8888888888888888,
              "#fdca26"
             ],
             [
              1,
              "#f0f921"
             ]
            ],
            "type": "heatmap"
           }
          ],
          "heatmapgl": [
           {
            "colorbar": {
             "outlinewidth": 0,
             "ticks": ""
            },
            "colorscale": [
             [
              0,
              "#0d0887"
             ],
             [
              0.1111111111111111,
              "#46039f"
             ],
             [
              0.2222222222222222,
              "#7201a8"
             ],
             [
              0.3333333333333333,
              "#9c179e"
             ],
             [
              0.4444444444444444,
              "#bd3786"
             ],
             [
              0.5555555555555556,
              "#d8576b"
             ],
             [
              0.6666666666666666,
              "#ed7953"
             ],
             [
              0.7777777777777778,
              "#fb9f3a"
             ],
             [
              0.8888888888888888,
              "#fdca26"
             ],
             [
              1,
              "#f0f921"
             ]
            ],
            "type": "heatmapgl"
           }
          ],
          "histogram": [
           {
            "marker": {
             "colorbar": {
              "outlinewidth": 0,
              "ticks": ""
             }
            },
            "type": "histogram"
           }
          ],
          "histogram2d": [
           {
            "colorbar": {
             "outlinewidth": 0,
             "ticks": ""
            },
            "colorscale": [
             [
              0,
              "#0d0887"
             ],
             [
              0.1111111111111111,
              "#46039f"
             ],
             [
              0.2222222222222222,
              "#7201a8"
             ],
             [
              0.3333333333333333,
              "#9c179e"
             ],
             [
              0.4444444444444444,
              "#bd3786"
             ],
             [
              0.5555555555555556,
              "#d8576b"
             ],
             [
              0.6666666666666666,
              "#ed7953"
             ],
             [
              0.7777777777777778,
              "#fb9f3a"
             ],
             [
              0.8888888888888888,
              "#fdca26"
             ],
             [
              1,
              "#f0f921"
             ]
            ],
            "type": "histogram2d"
           }
          ],
          "histogram2dcontour": [
           {
            "colorbar": {
             "outlinewidth": 0,
             "ticks": ""
            },
            "colorscale": [
             [
              0,
              "#0d0887"
             ],
             [
              0.1111111111111111,
              "#46039f"
             ],
             [
              0.2222222222222222,
              "#7201a8"
             ],
             [
              0.3333333333333333,
              "#9c179e"
             ],
             [
              0.4444444444444444,
              "#bd3786"
             ],
             [
              0.5555555555555556,
              "#d8576b"
             ],
             [
              0.6666666666666666,
              "#ed7953"
             ],
             [
              0.7777777777777778,
              "#fb9f3a"
             ],
             [
              0.8888888888888888,
              "#fdca26"
             ],
             [
              1,
              "#f0f921"
             ]
            ],
            "type": "histogram2dcontour"
           }
          ],
          "mesh3d": [
           {
            "colorbar": {
             "outlinewidth": 0,
             "ticks": ""
            },
            "type": "mesh3d"
           }
          ],
          "parcoords": [
           {
            "line": {
             "colorbar": {
              "outlinewidth": 0,
              "ticks": ""
             }
            },
            "type": "parcoords"
           }
          ],
          "pie": [
           {
            "automargin": true,
            "type": "pie"
           }
          ],
          "scatter": [
           {
            "marker": {
             "colorbar": {
              "outlinewidth": 0,
              "ticks": ""
             }
            },
            "type": "scatter"
           }
          ],
          "scatter3d": [
           {
            "line": {
             "colorbar": {
              "outlinewidth": 0,
              "ticks": ""
             }
            },
            "marker": {
             "colorbar": {
              "outlinewidth": 0,
              "ticks": ""
             }
            },
            "type": "scatter3d"
           }
          ],
          "scattercarpet": [
           {
            "marker": {
             "colorbar": {
              "outlinewidth": 0,
              "ticks": ""
             }
            },
            "type": "scattercarpet"
           }
          ],
          "scattergeo": [
           {
            "marker": {
             "colorbar": {
              "outlinewidth": 0,
              "ticks": ""
             }
            },
            "type": "scattergeo"
           }
          ],
          "scattergl": [
           {
            "marker": {
             "colorbar": {
              "outlinewidth": 0,
              "ticks": ""
             }
            },
            "type": "scattergl"
           }
          ],
          "scattermapbox": [
           {
            "marker": {
             "colorbar": {
              "outlinewidth": 0,
              "ticks": ""
             }
            },
            "type": "scattermapbox"
           }
          ],
          "scatterpolar": [
           {
            "marker": {
             "colorbar": {
              "outlinewidth": 0,
              "ticks": ""
             }
            },
            "type": "scatterpolar"
           }
          ],
          "scatterpolargl": [
           {
            "marker": {
             "colorbar": {
              "outlinewidth": 0,
              "ticks": ""
             }
            },
            "type": "scatterpolargl"
           }
          ],
          "scatterternary": [
           {
            "marker": {
             "colorbar": {
              "outlinewidth": 0,
              "ticks": ""
             }
            },
            "type": "scatterternary"
           }
          ],
          "surface": [
           {
            "colorbar": {
             "outlinewidth": 0,
             "ticks": ""
            },
            "colorscale": [
             [
              0,
              "#0d0887"
             ],
             [
              0.1111111111111111,
              "#46039f"
             ],
             [
              0.2222222222222222,
              "#7201a8"
             ],
             [
              0.3333333333333333,
              "#9c179e"
             ],
             [
              0.4444444444444444,
              "#bd3786"
             ],
             [
              0.5555555555555556,
              "#d8576b"
             ],
             [
              0.6666666666666666,
              "#ed7953"
             ],
             [
              0.7777777777777778,
              "#fb9f3a"
             ],
             [
              0.8888888888888888,
              "#fdca26"
             ],
             [
              1,
              "#f0f921"
             ]
            ],
            "type": "surface"
           }
          ],
          "table": [
           {
            "cells": {
             "fill": {
              "color": "#EBF0F8"
             },
             "line": {
              "color": "white"
             }
            },
            "header": {
             "fill": {
              "color": "#C8D4E3"
             },
             "line": {
              "color": "white"
             }
            },
            "type": "table"
           }
          ]
         },
         "layout": {
          "annotationdefaults": {
           "arrowcolor": "#2a3f5f",
           "arrowhead": 0,
           "arrowwidth": 1
          },
          "coloraxis": {
           "colorbar": {
            "outlinewidth": 0,
            "ticks": ""
           }
          },
          "colorscale": {
           "diverging": [
            [
             0,
             "#8e0152"
            ],
            [
             0.1,
             "#c51b7d"
            ],
            [
             0.2,
             "#de77ae"
            ],
            [
             0.3,
             "#f1b6da"
            ],
            [
             0.4,
             "#fde0ef"
            ],
            [
             0.5,
             "#f7f7f7"
            ],
            [
             0.6,
             "#e6f5d0"
            ],
            [
             0.7,
             "#b8e186"
            ],
            [
             0.8,
             "#7fbc41"
            ],
            [
             0.9,
             "#4d9221"
            ],
            [
             1,
             "#276419"
            ]
           ],
           "sequential": [
            [
             0,
             "#0d0887"
            ],
            [
             0.1111111111111111,
             "#46039f"
            ],
            [
             0.2222222222222222,
             "#7201a8"
            ],
            [
             0.3333333333333333,
             "#9c179e"
            ],
            [
             0.4444444444444444,
             "#bd3786"
            ],
            [
             0.5555555555555556,
             "#d8576b"
            ],
            [
             0.6666666666666666,
             "#ed7953"
            ],
            [
             0.7777777777777778,
             "#fb9f3a"
            ],
            [
             0.8888888888888888,
             "#fdca26"
            ],
            [
             1,
             "#f0f921"
            ]
           ],
           "sequentialminus": [
            [
             0,
             "#0d0887"
            ],
            [
             0.1111111111111111,
             "#46039f"
            ],
            [
             0.2222222222222222,
             "#7201a8"
            ],
            [
             0.3333333333333333,
             "#9c179e"
            ],
            [
             0.4444444444444444,
             "#bd3786"
            ],
            [
             0.5555555555555556,
             "#d8576b"
            ],
            [
             0.6666666666666666,
             "#ed7953"
            ],
            [
             0.7777777777777778,
             "#fb9f3a"
            ],
            [
             0.8888888888888888,
             "#fdca26"
            ],
            [
             1,
             "#f0f921"
            ]
           ]
          },
          "colorway": [
           "#636efa",
           "#EF553B",
           "#00cc96",
           "#ab63fa",
           "#FFA15A",
           "#19d3f3",
           "#FF6692",
           "#B6E880",
           "#FF97FF",
           "#FECB52"
          ],
          "font": {
           "color": "#2a3f5f"
          },
          "geo": {
           "bgcolor": "white",
           "lakecolor": "white",
           "landcolor": "#E5ECF6",
           "showlakes": true,
           "showland": true,
           "subunitcolor": "white"
          },
          "hoverlabel": {
           "align": "left"
          },
          "hovermode": "closest",
          "mapbox": {
           "style": "light"
          },
          "paper_bgcolor": "white",
          "plot_bgcolor": "#E5ECF6",
          "polar": {
           "angularaxis": {
            "gridcolor": "white",
            "linecolor": "white",
            "ticks": ""
           },
           "bgcolor": "#E5ECF6",
           "radialaxis": {
            "gridcolor": "white",
            "linecolor": "white",
            "ticks": ""
           }
          },
          "scene": {
           "xaxis": {
            "backgroundcolor": "#E5ECF6",
            "gridcolor": "white",
            "gridwidth": 2,
            "linecolor": "white",
            "showbackground": true,
            "ticks": "",
            "zerolinecolor": "white"
           },
           "yaxis": {
            "backgroundcolor": "#E5ECF6",
            "gridcolor": "white",
            "gridwidth": 2,
            "linecolor": "white",
            "showbackground": true,
            "ticks": "",
            "zerolinecolor": "white"
           },
           "zaxis": {
            "backgroundcolor": "#E5ECF6",
            "gridcolor": "white",
            "gridwidth": 2,
            "linecolor": "white",
            "showbackground": true,
            "ticks": "",
            "zerolinecolor": "white"
           }
          },
          "shapedefaults": {
           "line": {
            "color": "#2a3f5f"
           }
          },
          "ternary": {
           "aaxis": {
            "gridcolor": "white",
            "linecolor": "white",
            "ticks": ""
           },
           "baxis": {
            "gridcolor": "white",
            "linecolor": "white",
            "ticks": ""
           },
           "bgcolor": "#E5ECF6",
           "caxis": {
            "gridcolor": "white",
            "linecolor": "white",
            "ticks": ""
           }
          },
          "title": {
           "x": 0.05
          },
          "xaxis": {
           "automargin": true,
           "gridcolor": "white",
           "linecolor": "white",
           "ticks": "",
           "title": {
            "standoff": 15
           },
           "zerolinecolor": "white",
           "zerolinewidth": 2
          },
          "yaxis": {
           "automargin": true,
           "gridcolor": "white",
           "linecolor": "white",
           "ticks": "",
           "title": {
            "standoff": 15
           },
           "zerolinecolor": "white",
           "zerolinewidth": 2
          }
         }
        }
       }
      },
      "text/html": [
       "<div>\n",
       "        \n",
       "        \n",
       "            <div id=\"9595600a-8c00-4954-9f2b-a8e110364145\" class=\"plotly-graph-div\" style=\"height:525px; width:100%;\"></div>\n",
       "            <script type=\"text/javascript\">\n",
       "                require([\"plotly\"], function(Plotly) {\n",
       "                    window.PLOTLYENV=window.PLOTLYENV || {};\n",
       "                    \n",
       "                if (document.getElementById(\"9595600a-8c00-4954-9f2b-a8e110364145\")) {\n",
       "                    Plotly.newPlot(\n",
       "                        '9595600a-8c00-4954-9f2b-a8e110364145',\n",
       "                        [{\"type\": \"histogram\", \"x\": [4.1, 4.3, 4.4, 4.3, 4.3, 4.1, 4.4, 4.3, 3.9, 4.8, 4.5, 4.4, 4.0, 4.3, 4.0, 4.2, 4.5, 4.2, 4.2, 4.6, 4.1, 4.6, 3.1, 3.9, 4.3, 4.1, 4.4, 4.1, 4.1, 4.5, 4.4, 4.4, 4.3, 4.4, 4.6, 4.2, 4.4, 4.7, 3.8, 3.9, 4.3, 4.3, 4.2, 4.4, 4.7, 4.5, 4.2, 4.7, 4.8, 4.2, 4.2, 4.3, 4.4, 4.4, 4.1, 3.8, 4.3, 3.8, 3.5, 4.1, 4.6, 4.3, 4.5, 4.1, 4.5, 4.6, 4.0, 4.2, 4.4, 4.4, 4.0, 4.2, 4.2, 4.1, 4.0, 3.8, 3.9, 3.9, 4.2, 4.2, 4.3, 4.4, 4.4, 4.1, 3.8, 4.3, 3.8, 3.5, 4.1, 4.6, 4.3, 4.5, 4.1, 4.5, 4.6, 4.0, 4.2, 4.3, 4.2, 4.4, 4.7, 4.5, 4.2, 4.7, 4.8, 4.1, 4.3, 4.4, 4.5, 4.3, 4.0, 4.4, 4.3, 4.3, 4.4, 4.3, 4.0, 4.3, 4.3, 4.4, 4.3, 4.3, 4.3, 4.3, 4.3, 4.0, 4.5, 4.3, 3.7, 4.5, 3.9, 4.4, 3.6, 4.4, 4.2, 4.4, 4.1, 4.4, 4.3, 4.2, 4.2, 4.4, 4.4, 3.9, 4.2, 4.4, 4.6, 4.3, 4.3, 4.4, 3.7, 4.3, 3.9, 4.5, 3.7, 4.3, 4.4, 4.0, 4.3, 4.0, 4.3, 4.0, 4.1, 4.2, 4.2, 4.2, 4.1, 4.4, 4.3, 4.2, 4.4, 4.2, 4.1, 4.3, 4.3, 4.5, 4.3, 4.2, 4.2, 4.5, 4.3, 4.3, 4.3, 4.4, 4.2, 4.3, 4.3, 4.4, 4.6, 4.3, 4.4, 4.2, 4.5, 4.5, 4.4, 4.5, 4.1, 4.2, 4.1, 4.3, 4.1, 4.2, 4.0, 4.2, 4.2, 4.2, 4.3, 4.3, 4.4, 4.2, 4.4, 4.1, 4.2, 4.8, 4.4, 4.4, 4.4, 4.0, 4.5, 4.4, 4.1, 4.2, 4.5, 4.3, 4.5, 4.0, 4.3, 4.3, 4.2, 4.5, 4.6, 4.1, 4.0, 4.2, 4.6, 4.1, 4.3, 4.2, 4.3, 4.0, 4.3, 4.2, 4.3, 4.1, 4.2, 4.1, 4.6, 4.3, 4.2, 4.2, 4.3, 4.4, 4.0, 4.2, 4.3, 4.5, 3.5, 4.2, 3.1, 4.6, 4.2, 4.3, 4.3, 4.1, 3.8, 3.4, 4.3, 4.4, 4.4, 4.0, 3.7, 3.9, 4.5, 4.4, 4.3, 4.2, 4.2, 4.5, 4.7, 4.5, 4.5, 3.4, 4.2, 4.3, 4.2, 4.6, 4.1, 4.2, 4.2, 4.3, 4.4, 3.9, 4.1, 4.3, 4.5, 4.6, 3.6, 4.3, 4.3, 4.2, 4.4, 4.1, 4.1, 4.2, 3.9, 4.2, 3.7, 4.5, 3.7, 3.8, 4.3, 3.0, 4.1, 4.2, 4.1, 3.9, 4.0, 4.4, 4.2, 4.0, 3.9, 4.0, 4.2, 4.0, 4.3, 3.9, 4.2, 4.4, 4.3, 3.7, 4.3, 3.7, 3.8, 4.2, 4.0, 3.9, 4.4, 4.5, 4.1, 4.1, 3.9, 4.5, 4.0, 4.1, 3.6, 3.8, 4.0, 4.2, 3.7, 3.8, 3.7, 4.1, 3.7, 3.9, 4.4, 4.3, 3.9, 3.7, 3.7, 4.2, 4.3, 4.0, 4.1, 3.9, 4.5, 3.9, 4.1, 4.3, 4.4, 4.1, 4.0, 3.9, 3.9, 4.0, 4.1, 4.2, 3.8, 4.0, 3.9, 4.2, 3.7, 3.9, 4.2, 4.3, 4.3, 4.6, 4.3, 4.6, 4.2, 4.6, 4.5, 4.6, 3.9, 4.2, 4.4, 4.2, 4.3, 4.6, 4.3, 4.5, 4.4, 4.4, 3.6, 3.7, 3.8, 4.2, 4.2, 4.2, 3.3, 3.4, 4.3, 4.2, 4.7, 4.1, 4.7, 4.0, 3.6, 4.0, 3.6, 4.3, 4.2, 4.2, 4.1, 4.0, 4.1, 4.4, 4.7, 4.5, 4.3, 4.6, 4.3, 4.0, 4.5, 4.5, 3.6, 4.2, 4.1, 3.5, 4.4, 4.0, 4.5, 4.2, 4.6, 4.2, 4.8, 4.5, 4.2, 4.3, 4.2, 4.4, 4.4, 4.6, 4.2, 4.6, 4.6, 4.4, 4.3, 4.2, 4.2, 3.8, 4.5, 4.6, 4.6, 4.7, 4.6, 4.6, 4.7, 3.8, 4.3, 4.3, 4.5, 4.6, 4.6, 4.7, 4.5, 4.4, 3.9, 4.5, 4.6, 4.1, 4.5, 4.4, 4.5, 4.6, 4.2, 4.4, 4.1, 3.9, 4.6, 4.5, 3.7, 4.1, 4.4, 4.6, 4.5, 4.3, 4.3, 4.3, 4.4, 4.3, 4.4, 4.3, 4.4, 4.1, 4.4, 4.2, 4.3, 4.4, 4.3, 4.3, 3.9, 4.1, 4.1, 4.2, 4.5, 4.2, 4.7, 4.4, 4.6, 4.6, 4.4, 4.6, 4.3, 4.0, 4.4, 4.6, 4.2, 4.1, 4.5, 4.5, 4.4, 4.7, 4.5, 4.2, 4.4, 4.6, 4.3, 4.3, 4.2, 4.6, 4.4, 4.4, 4.5, 4.4, 4.3, 4.6, 4.3, 4.2, 4.2, 4.5, 4.5, 4.5, 4.7, 4.7, 4.5, 4.4, 4.3, 3.8, 4.6, 4.6, 4.4, 4.3, 4.1, 4.3, 4.4, 4.6, 4.3, 4.4, 4.7, 4.5, 4.4, 4.6, 4.5, 4.4, 4.6, 4.5, 4.5, 4.3, 4.5, 4.6, 4.4, 4.4, 4.5, 4.7, 4.6, 4.5, 4.5, 4.7, 4.5, 4.8, 4.7, 4.4, 4.6, 4.5, 4.6, 4.7, 4.6, 4.5, 4.6, 4.5, 4.6, 4.4, 4.7, 4.3, 4.3, 4.4, 4.3, 4.5, 4.4, 4.5, 4.4, 4.5, 4.6, 4.7, 4.6, 4.4, 4.4, 4.5, 4.6, 4.3, 4.5, 4.5, 4.4, 4.5, 4.2, 4.5, 4.4, 4.7, 4.2, 4.5, 4.5, 4.6, 4.4, 4.5, 4.3, 4.3, 4.5, 4.7, 4.7, 4.1, 4.8, 4.4, 4.2, 4.4, 4.7, 4.3, 4.7, 4.2, 4.3, 4.4, 4.1, 4.1, 4.2, 4.5, 4.7, 4.6, 4.5, 3.1, 4.1, 3.4, 4.4, 4.3, 4.6, 4.4, 4.3, 4.6, 4.2, 4.2, 4.5, 4.4, 4.2, 4.5, 4.8, 4.4, 4.6, 4.5, 4.3, 4.6, 4.4, 4.4, 4.5, 4.6, 4.6, 4.6, 4.1, 4.5, 4.6, 4.4, 4.7, 4.6, 4.3, 4.5, 4.6, 4.2, 4.5, 4.8, 4.1, 4.3, 4.4, 4.0, 4.2, 4.0, 4.2, 4.5, 4.7, 4.2, 4.4, 4.6, 4.9, 4.4, 4.5, 4.6, 4.2, 4.5, 4.6, 4.6, 4.5, 4.4, 4.6, 4.5, 4.6, 4.4, 4.4, 4.3, 4.3, 4.6, 4.3, 4.3, 4.6, 4.5, 4.5, 4.2, 4.7, 4.3, 4.0, 4.4, 4.3, 4.6, 4.7, 4.4, 4.7, 4.4, 4.3, 4.2, 4.4, 4.5, 4.5, 4.5, 4.4, 4.3, 4.5, 4.7, 4.7, 4.6, 4.6, 4.4, 4.4, 4.7, 4.6, 4.5, 4.3, 4.3, 4.3, 4.6, 4.8, 4.5, 4.4, 4.5, 4.5, 4.6, 4.6, 4.6, 4.6, 4.7, 4.5, 4.5, 4.5, 4.6, 4.5, 4.4, 4.4, 4.6, 4.7, 4.5, 4.4, 4.6, 4.7, 4.6, 4.5, 4.4, 4.5, 4.3, 4.5, 4.2, 4.5, 4.3, 4.4, 4.7, 4.6, 4.7, 4.6, 4.4, 4.6, 4.5, 4.3, 4.5, 4.5, 4.6, 4.6, 4.3, 4.6, 4.5, 4.7, 4.5, 4.7, 4.7, 4.6, 4.4, 4.3, 4.5, 4.3, 4.4, 4.2, 4.3, 4.5, 4.4, 4.7, 4.2, 4.1, 4.5, 4.5, 4.5, 4.1, 4.3, 4.5, 4.4, 4.5, 4.6, 4.0, 4.3, 4.5, 4.4, 4.4, 4.6, 4.2, 4.5, 4.6, 4.5, 4.7, 4.5, 4.5, 4.5, 4.4, 4.6, 4.3, 4.4, 4.3, 4.7, 4.7, 4.4, 4.3, 4.4, 4.5, 4.5, 4.4, 4.4, 4.6, 4.6, 4.4, 4.6, 4.2, 4.4, 4.6, 4.6, 4.7, 4.5, 4.2, 4.6, 4.7, 4.6, 4.3, 4.6, 4.4, 4.4, 4.5, 4.2, 4.4, 4.3, 4.7, 4.5, 4.4, 4.5, 4.4, 4.4, 4.5, 4.6, 4.5, 4.3, 4.7, 4.4, 4.5, 4.2, 4.5, 4.5, 4.7, 4.4, 4.3, 4.6, 3.9, 4.2, 4.5, 4.3, 4.5, 4.4, 4.4, 4.8, 4.4, 4.4, 4.3, 4.6, 4.1, 4.5, 4.5, 4.5, 4.0, 4.5, 4.6, 4.5, 4.5, 4.5, 4.4, 4.7, 4.5, 4.5, 4.2, 4.3, 4.5, 4.2, 4.3, 4.4, 4.6, 4.6, 4.5, 4.2, 4.5, 4.6, 4.6, 4.1, 4.5, 4.6, 4.6, 4.5, 4.3, 3.8, 4.5, 4.1, 4.8, 3.9, 4.5, 4.4, 4.3, 4.2, 3.0, 4.5, 4.4, 4.5, 4.7, 4.1, 4.5, 4.5, 4.5, 4.6, 4.3, 4.3, 4.5, 4.2, 4.2, 4.4, 4.5, 4.1, 4.2, 4.1, 4.7, 4.3, 4.4, 4.4, 4.3, 4.3, 4.4, 4.3, 4.3, 4.2, 4.2, 4.3, 4.3, 4.1, 4.2, 4.5, 4.3, 4.3, 4.5, 4.1, 4.5, 4.2, 4.4, 4.0, 4.1, 4.3, 4.3, 4.4, 4.3, 4.1, 4.0, 4.3, 4.6, 4.3, 4.7, 4.3, 4.4, 4.2, 4.7, 3.9, 4.1, 4.1, 4.1, 4.2, 4.7, 4.4, 4.3, 4.5, 4.3, 4.3, 4.1, 4.1, 4.1, 4.6, 4.1, 4.4, 4.4, 4.3, 4.0, 4.8, 3.8, 4.7, 4.5, 4.8, 4.4, 4.8, 4.2, 4.2, 4.0, 4.7, 4.7, 3.9, 4.5, 4.1, 4.4, 3.9, 4.4, 4.4, 3.6, 4.4, 4.1, 3.6, 4.6, 4.3, 4.5, 4.4, 4.1, 4.4, 3.9, 4.4, 4.4, 3.6, 4.4, 4.1, 3.6, 4.6, 4.3, 4.5, 4.4, 4.5, 4.1, 4.5, 4.1, 3.9, 4.2, 4.1, 3.9, 4.1, 4.2, 4.7, 3.8, 4.3, 4.3, 4.3, 3.9, 4.3, 4.0, 4.0, 4.3, 4.2, 4.1, 4.0, 4.4, 4.3, 4.3, 4.4, 4.2, 4.1, 4.3, 4.2, 4.6, 4.1, 4.5, 4.4, 4.5, 4.3, 4.1, 4.5, 4.3, 4.4, 4.4, 4.2, 4.0, 4.3, 4.6, 4.4, 4.2, 4.4, 4.4, 4.3, 4.6, 4.4, 4.5, 4.6, 4.6, 4.6, 4.4, 4.5, 4.5, 4.3, 4.4, 4.6, 4.3, 4.8, 4.2, 4.6, 4.0, 4.6, 4.3, 3.6, 4.0, 4.5, 4.4, 4.5, 4.2, 4.5, 4.3, 4.2, 4.2, 4.4, 4.3, 4.3, 4.1, 4.5, 4.3, 4.2, 4.1, 4.3, 4.2, 4.1, 4.1, 4.4, 3.7, 3.9, 3.7, 4.0, 4.5, 3.6, 4.1, 4.1, 4.0, 4.1, 4.0, 4.5, 4.6, 4.3, 4.3, 4.2, 4.5, 4.2, 4.3, 4.1, 3.8, 4.2, 4.4, 4.3, 4.2, 4.1, 4.0, 4.3, 4.3, 4.2, 4.2, 4.0, 4.4, 4.0, 4.2, 4.2, 4.4, 4.1, 4.1, 4.3, 4.0, 4.2, 4.2, 4.2, 4.1, 4.0, 4.3, 4.3, 4.4, 4.4, 4.2, 4.2, 4.0, 4.2, 4.0, 4.5, 4.6, 4.3, 4.2, 4.3, 4.6, 4.4, 4.4, 4.5, 4.3, 4.2, 4.2, 4.4, 4.6, 4.2, 3.6, 4.5, 4.4, 3.8, 4.7, 3.6, 4.2, 3.6, 4.3, 4.4, 4.5, 4.1, 4.3, 4.3, 4.7, 4.3, 4.2, 4.2, 4.3, 4.2, 4.3, 4.6, 4.4, 4.3, 3.8, 4.6, 4.5, 4.1, 4.4, 4.3, 3.8, 4.0, 3.3, 4.1, 4.1, 4.2, 4.1, 4.4, 4.1, 4.2, 4.5, 4.3, 4.5, 4.1, 4.5, 4.4, 4.6, 4.5, 4.6, 4.7, 4.3, 4.4, 4.4, 4.2, 4.1, 4.1, 4.5, 4.7, 4.1, 4.2, 4.5, 4.4, 4.6, 4.2, 4.6, 4.3, 4.1, 4.1, 4.4, 4.1, 4.6, 4.2, 4.2, 4.1, 4.2, 4.3, 4.2, 4.5, 4.7, 4.5, 4.3, 4.0, 4.4, 4.4, 4.0, 4.5, 4.6, 4.1, 4.5, 3.9, 4.5, 4.2, 4.3, 4.3, 4.4, 4.5, 4.6, 4.4, 4.3, 4.3, 4.1, 4.7, 4.4, 4.2, 4.4, 4.2, 4.2, 4.1, 4.0, 4.1, 4.5, 4.6, 4.3, 4.6, 4.4, 4.0, 4.5, 4.1, 4.4, 4.0, 4.6, 4.5, 4.4, 4.5, 4.1, 4.3, 4.5, 4.2, 3.8, 4.5, 4.7, 4.1, 4.6, 4.8, 4.0, 4.7, 4.7, 4.1, 4.5, 3.6, 4.5, 4.7, 4.7, 4.5, 4.2, 4.5, 4.4, 4.5, 4.5, 4.4, 3.7, 4.3, 4.5, 4.4, 3.3, 4.3, 4.4, 4.5, 4.4, 4.2, 4.5, 4.7, 4.5, 4.6, 4.6, 4.4, 4.3, 4.3, 4.6, 4.4, 4.5, 4.5, 4.2, 4.0, 4.4, 4.7, 4.3, 4.6, 4.4, 4.5, 4.3, 4.3, 4.4, 4.5, 4.4, 4.6, 4.3, 4.6, 4.3, 4.4, 4.2, 4.3, 4.4, 3.9, 4.3, 4.4, 4.2, 4.5, 4.3, 4.3, 4.3, 4.1, 4.4, 4.3, 4.0, 4.0, 4.0, 4.4, 4.3, 4.1, 4.2, 3.9, 4.4, 4.4, 4.5, 4.4, 4.6, 4.3, 4.6, 4.1, 4.0, 4.3, 4.2, 4.0, 4.1, 4.1, 4.0, 4.3, 4.3, 4.2, 4.5, 4.0, 4.4, 4.1, 4.4, 4.3, 4.3, 4.2, 4.3, 4.4, 4.4, 4.3, 4.4, 3.8, 4.4, 4.4, 4.3, 4.6, 4.0, 4.1, 4.2, 4.3, 4.6, 4.6, 4.3, 4.2, 4.1, 4.2, 4.6, 4.6, 4.4, 4.7, 4.4, 4.1, 4.3, 4.4, 4.2, 4.4, 4.5, 4.2, 3.8, 4.3, 4.4, 4.6, 4.4, 4.5, 4.2, 4.5, 4.5, 4.3, 4.4, 4.2, 4.1, 4.3, 4.0, 4.6, 4.3, 4.4, 4.5, 4.2, 4.3, 4.4, 4.2, 4.1, 4.4, 4.7, 4.6, 4.2, 4.3, 4.3, 4.5, 4.6, 4.5, 4.4, 4.7, 4.2, 4.3, 4.2, 3.9, 3.9, 4.2, 4.3, 4.6, 4.3, 4.0, 4.0, 4.0, 4.6, 4.3, 4.2, 4.3, 4.4, 4.0, 4.6, 4.7, 4.3, 4.0, 4.5, 4.7, 4.4, 4.8, 3.3, 4.3, 3.9, 4.4, 3.9, 4.4, 4.3, 4.4, 4.2, 4.2, 4.1, 4.4, 4.0, 4.4, 4.3, 4.1, 4.0, 4.2, 4.2, 4.3, 3.1, 4.1, 2.9, 4.0, 4.5, 4.3, 4.1, 4.3, 4.5, 4.6, 4.4, 4.2, 4.3, 3.4, 4.6, 4.2, 4.4, 4.0, 4.1, 4.0, 4.6, 4.2, 4.5, 4.4, 4.0, 3.5, 4.0, 4.2, 4.0, 4.4, 4.8, 4.1, 4.6, 4.3, 4.4, 4.3, 4.6, 4.5, 4.3, 4.2, 4.4, 4.2, 4.4, 4.3, 4.5, 4.5, 4.1, 4.0, 4.7, 4.6, 4.2, 4.2, 4.1, 4.1, 3.5, 4.5, 3.9, 4.6, 4.0, 4.4, 4.2, 4.2, 4.6, 4.5, 4.4, 4.5, 4.4, 4.3, 4.2, 4.3, 4.5, 4.0, 4.2, 4.1, 3.9, 4.2, 4.0, 3.5, 4.0, 4.0, 4.5, 4.1, 4.4, 4.4, 4.2, 4.2, 4.1, 4.5, 4.6, 4.1, 4.3, 4.2, 4.1, 4.0, 4.6, 3.1, 4.6, 4.5, 3.2, 4.3, 4.3, 4.6, 4.4, 4.6, 4.5, 4.6, 4.3, 4.4, 4.2, 4.4, 3.1, 3.6, 4.1, 4.2, 3.5, 3.9, 3.0, 3.9, 4.5, 3.4, 4.4, 3.4, 4.3, 3.7, 3.5, 3.8, 3.6, 3.1, 3.8, 4.2, 4.0, 4.3, 4.3, 4.5, 4.5, 4.5, 4.4, 4.4, 4.3, 4.2, 4.7, 4.4, 4.3, 4.4, 4.3, 4.5, 4.7, 4.5, 4.6, 4.7, 4.6, 4.8, 3.9, 4.5, 4.6, 4.5, 4.4, 4.5, 4.0, 4.3, 4.0, 4.4, 4.1, 4.3, 4.1, 4.3, 4.2, 4.2, 4.2, 4.2, 4.3, 4.5, 4.4, 4.5, 4.2, 4.1, 4.4, 4.5, 4.3, 4.4, 4.1, 4.4, 4.2, 4.1, 4.6, 4.5, 4.3, 4.1, 4.1, 4.2, 4.1, 4.6, 4.5, 4.0, 3.5, 4.4, 4.4, 4.4, 4.1, 4.2, 4.6, 4.4, 4.6, 4.6, 4.5, 4.7, 4.4, 4.5, 4.6, 4.6, 4.0, 4.6, 4.5, 4.7, 4.7, 4.4, 4.3, 4.7, 4.1, 4.7, 4.4, 4.6, 4.5, 4.4, 4.4, 4.3, 4.3, 4.6, 4.7, 4.3, 4.5, 4.6, 4.4, 4.5, 4.7, 4.3, 3.7, 4.7, 4.5, 4.4, 4.3, 4.8, 4.6, 4.1, 4.7, 4.1, 4.6, 4.2, 4.3, 4.2, 4.0, 4.2, 3.9, 4.3, 4.1, 4.2, 4.4, 4.3, 4.3, 4.4, 4.3, 4.1, 4.2, 4.1, 4.1, 4.2, 4.1, 4.4, 4.1, 4.3, 4.6, 4.1, 4.6, 4.6, 4.2, 4.1, 4.2, 4.5, 4.3, 4.2, 4.0, 4.2, 4.2, 4.6, 4.3, 4.4, 4.4, 4.4, 4.3, 4.3, 4.6, 4.5, 4.1, 4.3, 4.4, 4.2, 4.2, 4.1, 4.5, 4.7, 4.3, 4.4, 4.4, 3.8, 4.4, 4.3, 4.2, 4.5, 3.2, 4.5, 4.2, 4.4, 4.7, 4.4, 4.0, 4.4, 4.0, 4.6, 4.5, 4.2, 4.0, 4.4, 4.5, 3.9, 4.2, 4.3, 4.2, 4.2, 4.4, 4.7, 4.6, 3.1, 4.4, 4.1, 4.5, 4.6, 4.3, 3.9, 4.5, 4.3, 3.7, 4.5, 4.4, 4.0, 4.0, 4.4, 4.7, 4.6, 4.2, 4.5, 4.6, 4.0, 4.5, 4.4, 4.3, 4.4, 4.5, 4.5, 4.6, 4.4, 4.6, 4.3, 4.6, 4.5, 4.3, 4.1, 4.2, 4.2, 4.6, 4.2, 4.5, 4.4, 4.3, 4.2, 4.3, 4.5, 4.3, 4.3, 4.5, 4.5, 4.4, 4.2, 4.2, 4.6, 4.4, 4.3, 4.6, 4.2, 4.2, 4.2, 4.0, 4.3, 4.6, 4.4, 4.6, 4.6, 4.5, 4.5, 4.4, 4.3, 4.0, 4.2, 4.2, 4.5, 4.0, 4.2, 4.4, 4.6, 4.3, 4.6, 4.2, 4.4, 4.6, 4.4, 4.6, 4.4, 4.1, 4.4, 4.4, 4.1, 4.3, 4.1, 4.1, 4.3, 4.3, 4.2, 4.3, 3.6, 3.9, 4.8, 3.9, 3.7, 4.6, 4.4, 4.4, 4.2, 4.1, 3.8, 4.4, 4.5, 4.6, 4.7, 4.3, 4.5, 4.3, 3.7, 3.9, 3.6, 4.5, 4.4, 3.8, 4.6, 4.2, 4.3, 3.8, 4.4, 3.1, 4.6, 4.1, 4.5, 4.0, 4.5, 4.3, 4.3, 3.7, 3.9, 3.5, 3.3, 4.3, 4.5, 4.1, 4.4, 4.4, 4.0, 4.5, 4.2, 3.9, 4.3, 3.7, 4.3, 4.3, 4.6, 4.3, 4.2, 4.6, 3.9, 4.4, 4.6, 4.1, 4.8, 4.3, 4.5, 4.4, 4.4, 3.3, 4.2, 3.8, 4.5, 4.3, 4.5, 3.7, 4.5, 4.1, 4.4, 3.7, 4.1, 4.8, 4.4, 4.3, 4.1, 4.4, 4.1, 4.5, 4.5, 4.5, 4.5, 4.2, 4.4, 4.5, 4.3, 3.8, 4.5, 3.7, 4.5, 4.5, 4.3, 4.6, 4.3, 4.4, 4.3, 4.3, 4.3, 4.3, 4.4, 4.2, 4.9, 4.5, 4.6, 4.6, 4.6, 3.4, 3.8, 4.4, 4.6, 4.1, 3.8, 4.4, 4.4, 3.9, 4.1, 4.5, 3.7, 4.4, 4.5, 4.5, 3.8, 3.1, 4.5, 5.0, 4.4, 4.3, 4.3, 4.1, 4.4, 4.5, 4.3, 4.3, 4.5, 4.5, 4.2, 4.5, 3.9, 4.1, 4.5, 4.1, 4.5, 4.3, 4.6, 4.6, 4.3, 4.1, 4.5, 4.3, 4.4, 4.7, 4.4, 4.4, 4.3, 4.2, 4.6, 4.5, 4.6, 4.8, 4.7, 4.7, 4.0, 3.6, 2.0, 4.1, 4.3, 4.3, 4.5, 4.4, 4.4, 4.6, 3.7, 4.5, 4.8, 4.0, 4.7, 4.8, 4.6, 4.3, 4.2, 4.8, 4.2, 4.6, 4.2, 4.5, 4.6, 4.5, 4.5, 4.3, 4.8, 4.6, 4.5, 4.3, 4.2, 4.4, 4.5, 4.2, 4.6, 4.6, 4.4, 4.5, 4.5, 4.6, 4.5, 4.4, 4.1, 4.4, 4.6, 4.6, 4.5, 4.5, 4.3, 4.3, 3.3, 3.7, 4.5, 4.4, 3.1, 4.4, 4.2, 3.9, 4.4, 4.6, 4.8, 4.4, 3.9, 4.5, 3.6, 4.7, 4.4, 4.4, 4.5, 4.6, 4.3, 4.3, 4.6, 4.4, 4.5, 4.5, 4.0, 4.5, 4.3, 4.0, 4.6, 4.4, 4.5, 4.3, 4.0, 4.3, 4.4, 4.6, 4.4, 4.3, 4.2, 4.3, 4.3, 4.6, 3.6, 4.2, 4.2, 4.4, 4.3, 4.5, 4.2, 4.3, 4.2, 4.2, 1.0, 4.0, 4.3, 4.4, 4.4, 4.3, 3.4, 3.8, 4.3, 4.3, 4.1, 4.6, 4.4, 4.2, 4.2, 4.4, 4.5, 4.2, 4.5, 4.3, 4.4, 4.2, 3.6, 4.0, 4.4, 4.6, 4.5, 4.4, 4.2, 4.3, 4.6, 1.8, 3.8, 4.4, 3.4, 4.6, 4.6, 4.4, 4.3, 4.3, 3.8, 3.6, 4.3, 4.2, 4.2, 3.3, 4.2, 4.3, 4.2, 3.8, 4.5, 4.3, 4.4, 4.4, 4.3, 4.3, 3.9, 4.3, 4.3, 4.6, 3.7, 4.6, 4.4, 4.5, 3.0, 3.1, 4.3, 4.5, 4.5, 4.5, 4.1, 4.2, 4.3, 3.9, 3.9, 3.9, 4.3, 4.2, 4.2, 3.7, 2.8, 4.4, 4.1, 4.4, 2.7, 4.7, 4.2, 4.2, 4.1, 4.5, 4.4, 4.0, 4.2, 4.1, 4.0, 4.7, 4.3, 4.7, 4.4, 4.0, 4.3, 4.2, 4.4, 4.6, 3.3, 4.5, 4.2, 4.1, 4.3, 4.4, 3.2, 3.5, 4.6, 4.3, 4.1, 4.1, 4.1, 4.3, 4.7, 3.5, 3.9, 4.3, 4.3, 4.1, 4.7, 4.3, 4.6, 4.5, 4.7, 4.9, 4.3, 4.3, 4.4, 4.2, 4.1, 4.6, 4.3, 4.4, 4.4, 4.5, 4.6, 4.8, 4.3, 4.8, 4.8, 3.7, 4.1, 3.7, 4.2, 4.5, 4.6, 4.5, 4.7, 4.3, 4.3, 4.9, 4.4, 4.6, 4.3, 4.3, 4.8, 4.3, 4.4, 4.2, 4.6, 4.3, 4.8, 4.0, 4.3, 4.7, 4.5, 4.6, 4.5, 4.3, 4.2, 4.0, 4.5, 4.0, 4.1, 4.6, 3.1, 4.9, 4.5, 4.0, 4.0, 3.6, 4.5, 4.2, 4.3, 3.9, 4.3, 4.3, 4.4, 4.3, 4.4, 4.3, 4.5, 4.4, 3.5, 4.4, 4.4, 4.5, 4.4, 4.4, 4.0, 3.9, 3.9, 4.3, 3.7, 3.3, 3.5, 4.2, 4.5, 3.5, 3.9, 4.2, 4.2, 4.0, 3.2, 4.1, 4.2, 3.7, 4.3, 4.2, 4.1, 3.9, 3.8, 4.4, 4.0, 4.4, 3.3, 4.8, 4.5, 3.4, 4.3, 4.3, 4.1, 4.0, 4.4, 3.8, 4.4, 3.8, 4.2, 3.8, 4.8, 4.7, 4.3, 3.9, 4.2, 4.6, 4.7, 4.5, 3.8, 4.5, 3.7, 3.5, 4.1, 3.9, 4.1, 4.6, 4.4, 4.5, 4.4, 4.6, 4.0, 4.4, 4.4, 4.4, 4.0, 3.8, 3.9, 4.3, 3.7, 4.2, 4.1, 4.3, 4.1, 4.4, 4.3, 3.8, 4.5, 3.8, 3.9, 4.0, 4.3, 4.5, 4.4, 4.6, 4.3, 5.0, 4.4, 4.2, 4.0, 4.3, 4.2, 4.3, 4.6, 4.1, 4.3, 3.9, 4.6, 4.3, 4.4, 3.9, 4.6, 4.5, 3.0, 4.3, 3.6, 4.4, 4.6, 4.3, 4.3, 5.0, 4.5, 4.1, 4.1, 4.5, 4.3, 4.8, 4.5, 4.3, 4.0, 4.8, 3.7, 4.3, 2.7, 4.2, 4.4, 4.2, 3.4, 4.1, 4.3, 4.5, 4.2, 4.4, 4.3, 4.0, 4.1, 4.8, 2.2, 3.8, 3.1, 3.1, 3.8, 4.3, 3.6, 4.0, 4.4, 4.6, 4.3, 4.5, 4.7, 3.9, 3.6, 4.5, 4.4, 3.9, 3.8, 4.3, 4.2, 4.1, 4.4, 4.4, 4.3, 4.1, 4.5, 4.3, 3.9, 3.5, 3.2, 4.3, 4.3, 4.3, 3.3, 4.8, 4.5, 3.7, 4.8, 4.7, 4.3, 3.8, 4.1, 4.7, 4.3, 4.2, 4.3, 4.3, 4.6, 4.2, 4.6, 4.6, 4.2, 4.1, 4.1, 4.4, 4.5, 4.1, 4.5, 4.3, 4.4, 4.3, 4.3, 3.8, 3.9, 4.1, 4.8, 4.4, 4.6, 4.3, 4.0, 4.4, 3.7, 3.7, 3.3, 4.1, 3.0, 3.0, 4.5, 4.6, 4.1, 3.6, 4.7, 3.5, 3.9, 3.7, 4.2, 4.4, 4.4, 4.2, 3.8, 4.1, 4.2, 4.2, 4.5, 3.7, 4.3, 4.5, 4.1, 4.2, 4.5, 4.0, 4.4, 4.3, 4.7, 3.4, 4.6, 4.6, 4.1, 3.1, 3.4, 4.2, 4.2, 3.0, 2.4, 4.1, 2.9, 4.0, 4.0, 3.8, 2.4, 4.4, 3.7, 4.3, 4.6, 4.2, 3.6, 3.2, 3.5, 2.5, 3.9, 4.4, 4.2, 4.2, 4.1, 4.3, 4.2, 4.2, 3.9, 3.9, 4.4, 3.8, 4.5, 4.2, 3.7, 4.3, 4.3, 4.6, 3.3, 4.1, 3.8, 3.3, 4.5, 4.8, 4.6, 4.3, 4.5, 4.2, 3.8, 4.7, 4.2, 4.3, 4.7, 4.7, 3.6, 4.2, 4.0, 4.3, 4.7, 4.2, 4.6, 4.8, 4.3, 4.5, 3.2, 4.3, 4.3, 1.9, 4.4, 2.5, 4.2, 4.3, 4.0, 4.5, 4.8, 4.2, 4.7, 4.4, 4.6, 4.2, 4.5, 4.0, 4.2, 4.5, 4.6, 4.4, 4.2, 4.4, 3.2, 4.1, 4.0, 4.6, 4.6, 4.7, 4.6, 4.2, 4.3, 3.3, 4.5, 4.0, 4.5, 4.2, 4.6, 4.2, 4.7, 4.7, 4.2, 4.3, 4.3, 4.3, 4.5, 4.4, 4.5, 4.3, 3.8, 4.5, 4.5, 3.9, 2.7, 4.5, 4.0, 4.6, 4.4, 4.5, 4.6, 4.4, 4.3, 4.4, 4.2, 4.8, 4.3, 4.3, 4.6, 4.6, 4.2, 4.2, 4.1, 4.4, 4.5, 4.4, 4.4, 4.2, 4.5, 4.6, 4.5, 4.6, 4.0, 4.5, 4.2, 3.9, 4.7, 4.4, 4.5, 4.3, 4.4, 4.2, 3.9, 4.1, 2.2, 4.2, 4.2, 3.9, 4.3, 4.8, 4.3, 4.1, 4.2, 4.4, 4.1, 4.6, 4.3, 4.3, 3.8, 4.8, 3.8, 3.9, 4.3, 4.3, 4.3, 4.3, 4.1, 4.2, 4.6, 3.8, 4.5, 4.7, 4.5, 4.6, 4.3, 4.4, 4.5, 4.4, 4.2, 4.3, 3.8, 3.9, 4.3, 4.2, 4.5, 4.3, 4.2, 4.2, 4.0, 4.3, 4.3, 3.8, 3.5, 3.3, 3.7, 3.3, 3.4, 1.8, 1.6, 3.6, 3.4, 3.2, 2.5, 4.7, 2.6, 2.8, 3.9, 3.9, 4.0, 3.5, 3.1, 3.7, 3.6, 4.0, 3.7, 1.7, 2.4, 3.3, 4.1, 4.1, 3.0, 3.0, 2.2, 3.7, 3.7, 4.8, 3.7, 3.6, 3.7, 4.4, 3.8, 3.7, 4.8, 4.2, 4.1, 4.6, 4.1, 4.3, 3.8, 4.0, 4.6, 4.1, 4.4, 3.9, 3.9, 4.5, 4.4, 4.3, 4.5, 4.7, 4.7, 4.1, 3.3, 4.2, 4.1, 3.4, 4.3, 4.9, 4.1, 4.3, 4.4, 3.4, 4.1, 4.1, 3.5, 3.8, 4.6, 4.6, 5.0, 4.6, 4.2, 4.0, 3.9, 3.7, 4.3, 1.9, 4.2, 4.2, 4.0, 4.4, 4.2, 4.5, 4.3, 4.4, 4.0, 4.2, 4.3, 4.0, 4.3, 3.9, 4.0, 3.7, 4.1, 3.9, 4.2, 3.9, 3.9, 4.2, 4.5, 4.1, 4.4, 4.7, 4.0, 3.9, 4.3, 3.8, 4.4, 4.5, 4.3, 3.8, 3.5, 4.2, 4.3, 4.0, 3.9, 3.4, 4.7, 2.0, 4.4, 4.3, 4.7, 3.3, 4.3, 4.2, 4.4, 4.3, 3.7, 4.3, 3.9, 4.1, 4.0, 4.3, 4.1, 3.8, 4.6, 4.3, 4.3, 4.1, 4.6, 4.4, 4.2, 4.3, 4.3, 4.0, 4.5, 3.8, 4.3, 4.5, 4.1, 4.3, 3.7, 4.3, 4.5, 4.4, 3.4, 4.3, 4.3, 4.3, 2.3, 4.7, 3.4, 4.7, 4.3, 4.3, 4.3, 4.3, 4.3, 4.3, 4.3, 4.3, 3.6, 5.0, 4.3, 4.3, 4.3, 4.3, 5.0, 4.3, 4.3, 4.1, 4.5, 2.9, 4.6, 4.3, 3.9, 3.9, 4.1, 3.0, 4.0, 4.3, 3.8, 4.3, 4.3, 3.5, 4.3, 4.3, 3.4, 4.5, 3.8, 3.0, 4.4, 4.0, 3.9, 4.6, 3.8, 3.8, 4.0, 3.6, 4.4, 4.6, 4.0, 3.3, 4.1, 3.6, 3.2, 4.4, 4.0, 4.4, 4.5, 4.3, 4.7, 4.4, 4.3, 4.4, 4.4, 3.7, 3.3, 4.3, 3.7, 3.0, 2.6, 4.3, 4.3, 3.5, 3.9, 4.6, 4.6, 4.4, 4.5, 4.5, 4.7, 4.4, 5.0, 4.3, 2.8, 4.6, 2.8, 5.0, 2.8, 3.8, 4.1, 4.3, 4.8, 5.0, 5.0, 4.4, 4.3, 4.3, 4.1, 4.3, 4.8, 5.0, 4.6, 5.0, 4.3, 4.3, 4.5, 5.0, 4.3, 4.3, 4.4, 4.0, 4.3, 3.9, 4.1, 4.8, 4.3, 3.9, 4.5, 4.3, 3.7, 4.3, 4.2, 3.7, 4.6, 4.3, 4.3, 4.3, 3.3, 3.0, 3.9, 4.2, 3.9, 4.3, 4.1, 4.3, 4.6, 4.3, 4.3, 4.3, 4.3, 4.4, 3.8, 4.4, 4.3, 4.9, 3.6, 3.6, 4.1, 4.5, 4.7, 4.5, 4.3, 4.6, 4.7, 4.8, 3.6, 4.7, 4.6, 4.5, 4.7, 4.7, 3.9, 4.0, 4.0, 4.1, 3.8, 3.5, 4.6, 4.4, 4.4, 4.1, 3.9, 3.6, 4.0, 4.3, 4.0, 4.2, 4.2, 4.2, 4.5, 3.5, 4.5, 4.0, 4.2, 4.3, 4.1, 4.5, 4.2, 4.5, 4.4, 3.7, 4.4, 4.3, 4.3, 4.5, 4.5, 3.8, 4.5, 4.4, 3.5, 4.1, 4.2, 4.3, 4.4, 4.1, 4.6, 4.6, 4.7, 4.5, 4.6, 4.4, 4.4, 4.2, 4.4, 4.0, 4.2, 4.2, 4.2, 4.8, 3.7, 3.4, 4.3, 4.3, 4.6, 4.2, 4.6, 4.1, 4.4, 4.6, 4.3, 4.4, 4.7, 4.2, 3.8, 4.3, 3.7, 4.3, 2.9, 4.3, 4.3, 3.3, 4.1, 5.0, 3.9, 4.6, 4.0, 4.5, 4.3, 2.9, 4.2, 4.5, 4.3, 4.6, 4.7, 4.2, 4.7, 4.7, 3.9, 4.7, 3.7, 4.8, 4.0, 4.6, 4.4, 4.7, 3.6, 4.4, 4.6, 2.9, 4.3, 4.5, 5.0, 3.7, 4.3, 3.7, 4.3, 4.2, 3.0, 5.0, 4.4, 4.7, 4.3, 3.9, 4.3, 4.4, 4.3, 4.3, 4.3, 4.3, 4.3, 4.6, 4.5, 4.7, 4.3, 5.0, 5.0, 4.3, 5.0, 4.3, 4.3, 2.7, 4.6, 4.4, 4.1, 3.8, 4.4, 4.6, 4.1, 4.5, 4.2, 4.7, 4.3, 4.3, 4.2, 3.8, 4.0, 4.3, 4.6, 4.3, 4.3, 4.3, 4.7, 4.4, 3.8, 4.6, 4.6, 4.5, 4.4, 3.8, 4.3, 4.3, 3.7, 3.2, 4.0, 3.8, 4.4, 3.8, 3.4, 2.9, 4.5, 3.8, 4.1, 3.7, 3.6, 4.3, 3.0, 4.1, 3.8, 4.2, 4.4, 4.5, 3.6, 3.6, 3.7, 3.9, 4.1, 4.4, 4.1, 4.3, 3.7, 4.3, 4.1, 4.2, 4.3, 4.2, 4.6, 4.1, 4.4, 4.4, 4.2, 4.3, 2.4, 4.5, 4.3, 4.5, 4.5, 4.3, 4.4, 4.3, 4.4, 3.4, 3.9, 4.3, 4.4, 4.5, 4.4, 4.2, 4.0, 4.3, 4.2, 4.0, 4.4, 4.6, 4.0, 4.4, 3.5, 4.6, 4.0, 4.0, 4.1, 4.1, 3.3, 3.9, 4.1, 4.2, 4.0, 4.5, 3.8, 3.5, 4.3, 4.6, 4.7, 3.8, 4.7, 4.8, 3.2, 3.9, 3.6, 4.1, 4.0, 3.7, 2.7, 3.9, 3.6, 4.5, 3.5, 4.0, 4.3, 3.8, 3.6, 4.2, 4.4, 4.0, 4.3, 4.1, 4.0, 4.3, 4.3, 5.0, 4.4, 4.3, 4.0, 4.3, 3.8, 4.1, 4.5, 4.4, 3.4, 4.1, 3.8, 4.3, 4.4, 4.4, 4.8, 3.3, 3.3, 4.4, 3.7, 3.4, 2.3, 3.3, 2.7, 4.3, 4.6, 3.5, 3.4, 4.3, 4.7, 4.4, 3.0, 4.2, 4.5, 3.5, 4.5, 4.3, 4.5, 4.0, 4.8, 4.3, 4.3, 4.3, 4.3, 4.2, 4.3, 4.0, 4.2, 4.1, 4.6, 4.1, 4.0, 4.3, 3.3, 4.3, 4.3, 4.0, 4.3, 4.3, 4.4, 4.2, 3.8, 3.1, 4.2, 4.7, 4.4, 4.6, 2.9, 2.7, 4.6, 4.0, 3.8, 3.9, 4.7, 4.2, 4.2, 3.7, 4.1, 3.8, 4.6, 4.3, 4.4, 4.2, 4.4, 4.3, 4.3, 4.6, 5.0, 4.3, 4.5, 4.3, 3.5, 4.3, 3.9, 4.4, 3.0, 4.3, 3.1, 4.4, 4.3, 4.3, 4.3, 3.7, 4.3, 3.7, 3.9, 4.8, 4.3, 4.6, 4.5, 4.3, 5.0, 4.3, 4.3, 4.7, 4.0, 3.8, 5.0, 4.5, 4.3, 4.3, 4.3, 4.3, 4.3, 3.7, 4.3, 4.3, 4.3, 4.3, 3.8, 4.3, 4.6, 4.3, 5.0, 4.3, 4.3, 4.3, 4.3, 4.3, 3.6, 4.0, 4.0, 4.0, 4.3, 4.2, 4.3, 4.2, 4.5, 4.3, 4.6, 4.4, 4.2, 4.2, 3.4, 3.2, 4.0, 4.6, 3.2, 4.0, 4.7, 4.3, 3.9, 4.2, 4.1, 3.5, 4.8, 3.5, 4.3, 4.4, 4.8, 4.2, 4.4, 4.5, 4.3, 2.1, 4.4, 4.2, 2.1, 2.4, 4.1, 3.1, 5.0, 3.5, 4.3, 4.7, 4.3, 4.8, 4.3, 4.5, 4.6, 4.6, 4.9, 4.8, 4.0, 4.1, 4.5, 1.9, 4.3, 4.3, 3.7, 4.3, 4.2, 4.3, 4.4, 4.3, 4.7, 4.6, 4.4, 4.3, 4.4, 3.6, 3.8, 4.4, 4.4, 3.0, 4.8, 4.1, 3.3, 4.0, 4.3, 1.0, 4.2, 4.4, 4.6, 4.4, 4.3, 3.7, 3.3, 4.3, 4.2, 5.0, 3.6, 3.9, 4.4, 4.3, 4.2, 4.4, 4.3, 4.0, 4.3, 4.3, 4.7, 4.2, 3.4, 4.3, 4.8, 3.3, 4.2, 4.2, 4.6, 4.1, 4.6, 4.0, 4.2, 5.0, 4.1, 4.1, 3.8, 4.7, 3.5, 4.0, 4.2, 3.3, 3.7, 3.4, 3.7, 5.0, 4.4, 4.8, 4.4, 4.0, 4.4, 4.5, 4.4, 4.4, 5.0, 4.6, 4.3, 3.8, 4.3, 4.3, 4.1, 4.2, 3.8, 4.3, 4.4, 4.2, 3.8, 4.2, 4.2, 4.3, 4.3, 4.4, 4.7, 4.1, 4.5, 4.2, 4.3, 4.4, 4.5, 4.3, 4.3, 4.2, 4.0, 3.4, 4.4, 3.8, 3.0, 4.1, 4.4, 4.1, 4.1, 4.1, 4.5, 4.1, 3.9, 4.0, 4.3, 3.9, 4.0, 4.2, 3.6, 4.3, 4.3, 4.3, 4.4, 2.6, 4.1, 4.3, 3.5, 4.2, 3.7, 4.5, 2.4, 4.3, 2.9, 4.2, 4.2, 2.6, 4.4, 4.7, 2.7, 3.8, 1.7, 3.3, 4.3, 2.3, 4.5, 4.3, 4.8, 4.3, 5.0, 4.3, 4.1, 4.3, 4.3, 4.3, 4.3, 4.9, 4.3, 4.3, 4.8, 3.4, 4.3, 4.3, 4.3, 4.0, 3.7, 2.2, 4.3, 4.3, 4.3, 4.3, 4.3, 3.8, 4.5, 4.5, 4.3, 4.5, 4.4, 3.9, 4.3, 4.3, 4.3, 4.0, 4.1, 3.4, 4.5, 4.4, 4.4, 2.4, 4.1, 4.6, 4.3, 4.3, 4.7, 4.2, 4.3, 3.9, 4.7, 4.2, 4.1, 4.6, 4.7, 4.3, 4.6, 3.0, 4.3, 3.9, 4.0, 4.3, 4.3, 5.0, 4.3, 4.3, 4.0, 4.3, 4.5, 4.8, 4.3, 3.4, 4.5, 4.6, 4.1, 3.9, 4.3, 4.3, 4.3, 4.0, 3.4, 4.5, 4.0, 3.6, 4.6, 4.9, 5.0, 4.0, 5.0, 4.0, 4.3, 4.3, 4.9, 4.4, 3.6, 4.7, 4.3, 3.9, 4.5, 4.6, 4.3, 4.3, 4.2, 4.6, 4.5, 4.2, 4.0, 4.2, 4.7, 4.4, 4.3, 4.6, 4.2, 4.0, 2.3, 4.5, 3.6, 4.4, 3.9, 3.9, 4.2, 3.7, 4.0, 1.0, 4.3, 4.4, 4.7, 3.6, 4.3, 4.1, 3.3, 4.3, 4.3, 5.0, 4.3, 4.7, 4.3, 4.3, 4.3, 4.3, 4.0, 4.3, 4.4, 4.6, 5.0, 4.3, 4.3, 4.3, 3.8, 4.1, 4.6, 4.0, 4.7, 3.6, 4.5, 4.0, 4.1, 4.3, 4.2, 5.0, 4.3, 4.3, 4.3, 4.3, 4.3, 4.5, 5.0, 3.8, 4.4, 4.7, 4.3, 4.7, 4.6, 4.6, 4.4, 3.8, 3.6, 4.8, 4.3, 4.4, 5.0, 4.8, 4.3, 4.6, 4.6, 5.0, 4.3, 4.3, 4.5, 4.0, 3.2, 4.6, 4.2, 4.3, 3.9, 4.8, 4.4, 4.1, 4.2, 4.7, 4.0, 4.2, 5.0, 3.5, 4.3, 4.5, 4.3, 4.3, 4.3, 4.3, 4.4, 4.3, 4.3, 4.0, 4.3, 4.0, 4.7, 4.3, 4.3, 4.3, 4.3, 4.2, 4.1, 4.3, 3.9, 4.2, 4.1, 4.9, 4.3, 3.7, 3.5, 4.9, 4.3, 3.3, 3.4, 4.5, 5.0, 4.3, 4.3, 3.7, 4.3, 4.8, 4.3, 4.3, 4.3, 4.3, 4.3, 4.3, 4.3, 4.3, 4.3, 4.4, 4.5, 4.0, 5.0, 4.9, 4.7, 3.9, 4.3, 3.2, 3.7, 3.0, 4.3, 3.1, 3.2, 4.3, 4.3, 4.3, 4.6, 4.3, 1.9, 4.5, 4.6, 4.3, 4.3, 4.3, 4.3, 4.4, 3.5, 4.3, 4.5, 4.5, 4.4, 4.2, 4.3, 4.3, 3.6, 4.0, 3.8, 4.3, 4.3, 4.4, 3.8, 3.9, 4.1, 4.3, 3.5, 4.3, 4.7, 4.5, 3.8, 4.5, 4.2, 4.3, 4.6, 4.6, 4.5, 4.5, 3.4, 3.9, 4.3, 3.2, 4.6, 4.3, 4.1, 4.3, 3.6, 3.7, 4.7, 4.6, 3.6, 4.3, 4.4, 4.6, 4.3, 4.3, 2.3, 4.3, 3.8, 4.3, 3.0, 4.5, 4.4, 4.5, 4.3, 3.8, 4.3, 4.5, 4.3, 4.3, 4.4, 3.4, 4.5, 4.5, 4.3, 4.3, 4.3, 4.3, 4.4, 4.3, 4.3, 4.0, 4.8, 4.0, 4.5, 4.3, 4.7, 1.9, 4.9, 4.4, 4.7, 4.3, 4.9, 4.8, 4.3, 4.5, 4.3, 4.3, 4.6, 4.5, 4.3, 5.0, 4.3, 3.9, 4.3, 4.3, 4.8, 4.3, 4.3, 4.3, 4.1, 4.5, 4.3, 3.8, 2.4, 4.3, 2.8, 4.5, 4.6, 4.1, 4.2, 4.6, 4.3, 4.6, 5.0, 5.0, 3.9, 4.2, 3.9, 4.2, 4.3, 4.3, 4.3, 3.5, 4.3, 4.0, 4.3, 3.7, 3.8, 4.3, 4.3, 4.6, 4.3, 4.5, 4.3, 4.4, 4.3, 4.6, 4.3, 3.9, 4.3, 3.9, 3.9, 4.4, 4.4, 4.6, 3.9, 4.6, 2.5, 4.6, 2.8, 4.0, 3.4, 3.8, 4.5, 4.8, 3.3, 3.9, 3.5, 4.5, 4.0, 3.6, 4.3, 4.7, 3.9, 5.0, 4.6, 3.9, 3.6, 3.7, 3.8, 3.5, 4.1, 4.3, 4.7, 4.3, 4.5, 4.1, 4.3, 4.8, 4.3, 4.3, 3.4, 5.0, 4.3, 4.3, 4.3, 4.4, 1.8, 3.3, 4.3, 5.0, 4.3, 4.5, 5.0, 4.5, 4.7, 4.6, 4.3, 4.5, 4.3, 4.3, 3.5, 4.3, 4.3, 3.5, 2.9, 4.3, 4.3, 4.3, 4.3, 4.3, 4.3, 4.3, 5.0, 5.0, 4.3, 4.3, 4.3, 5.0, 4.3, 4.3, 4.0, 4.3, 4.3, 4.1, 4.3, 4.3, 4.3, 4.3, 4.2, 2.2, 4.3, 4.7, 3.8, 4.3, 4.1, 4.3, 4.2, 4.8, 3.7, 3.1, 4.6, 2.9, 4.2, 4.7, 4.5, 4.4, 4.4, 4.1, 4.6, 4.1, 4.2, 4.3, 3.9, 4.3, 4.3, 4.3, 4.3, 4.5, 4.5, 4.5, 4.0, 4.3, 4.3, 4.5, 4.5, 4.3, 4.3, 4.2, 4.5, 4.6, 4.3, 4.3, 3.9, 4.3, 4.3, 4.3, 3.9, 4.3, 3.7, 4.7, 4.3, 1.7, 4.5, 4.3, 4.7, 4.3, 5.0, 4.3, 4.3, 4.3, 4.6, 2.9, 4.3, 4.8, 3.8, 4.2, 4.3, 4.4, 4.3, 4.0, 4.1, 3.4, 4.3, 4.0, 4.2, 4.1, 4.7, 4.2, 3.9, 3.8, 4.1, 4.2, 3.8, 4.7, 3.7, 4.3, 4.0, 4.2, 4.6, 4.7, 4.7, 4.3, 4.2, 3.5, 4.7, 4.7, 4.5, 4.7, 4.6, 4.6, 4.9, 4.2, 4.3, 4.4, 4.4, 4.5, 4.3, 4.4, 4.4, 3.0, 4.8, 4.7, 4.6, 4.0, 3.7, 3.5, 2.7, 4.7, 4.1, 4.5, 4.6, 4.4, 4.3, 4.4, 4.5, 4.6, 4.7, 4.6, 3.1, 3.9, 4.7, 4.6, 4.7, 4.8, 4.3, 4.1, 4.4, 4.7, 4.0, 4.6, 4.3, 4.3, 4.3, 4.5, 4.3, 4.2, 4.4, 4.3, 4.4, 4.6, 4.4, 4.5, 4.2, 4.8, 4.3, 4.3, 3.2, 4.6, 4.4, 4.5, 4.3, 3.4, 4.3, 4.3, 3.3, 4.2, 4.3, 2.4, 3.2, 3.1, 3.8, 4.3, 3.7, 4.2, 3.7, 3.0, 4.3, 4.0, 3.1, 4.1, 4.5, 4.0, 3.8, 3.8, 4.3, 3.5, 4.5, 3.9, 4.3, 4.5, 4.3, 4.1, 4.3, 3.7, 4.8, 1.5, 5.0, 4.6, 4.3, 4.3, 4.7, 4.3, 4.7, 4.3, 5.0, 4.5, 4.3, 5.0, 4.3, 4.3, 5.0, 4.2, 1.0, 4.5, 4.2, 5.0, 4.2, 4.4, 3.9, 4.6, 3.8, 4.3, 4.3, 4.3, 4.6, 5.0, 4.3, 4.3, 4.3, 5.0, 4.3, 3.0, 3.8, 4.2, 4.3, 3.2, 4.3, 4.3, 4.4, 3.7, 5.0, 4.5, 4.5, 4.1, 4.3, 4.1, 4.3, 4.3, 5.0, 4.2, 4.1, 4.1, 4.3, 4.2, 4.3, 4.3, 5.0, 4.4, 4.3, 4.3, 4.5, 4.3, 4.8, 4.4, 4.3, 4.4, 4.3, 4.3, 4.3, 4.3, 4.3, 4.3, 4.4, 4.6, 5.0, 4.4, 4.4, 4.3, 3.4, 4.4, 3.4, 4.3, 4.3, 4.3, 4.3, 5.0, 4.3, 4.3, 4.3, 4.6, 4.3, 4.3, 4.3, 4.3, 4.3, 3.6, 3.6, 4.7, 4.5, 4.0, 5.0, 4.2, 4.3, 4.3, 4.2, 4.3, 4.5, 3.6, 3.8, 4.2, 4.1, 4.3, 4.3, 5.0, 4.3, 4.2, 4.1, 4.3, 4.3, 3.6, 4.3, 4.1, 4.4, 4.3, 4.0, 5.0, 5.0, 4.3, 3.8, 4.7, 4.4, 4.4, 4.3, 4.3, 4.9, 3.5, 4.3, 4.3, 4.3, 4.3, 4.3, 4.7, 4.5, 4.4, 4.4, 4.5, 4.7, 4.7, 4.7, 4.7, 4.3, 4.4, 4.8, 4.8, 4.0, 3.0, 3.9, 4.3, 4.3, 4.6, 4.3, 5.0, 4.3, 4.2, 4.3, 1.0, 4.6, 4.3, 4.3, 4.3, 4.3, 4.3, 4.3, 4.1, 4.7, 4.3, 4.3, 4.3, 4.8, 4.2, 4.3, 4.3, 5.0, 4.6, 4.5, 2.9, 4.4, 4.3, 4.5, 4.3, 3.9, 1.9, 4.4, 5.0, 4.7, 3.9, 5.0, 4.2, 4.2, 2.8, 4.2, 1.0, 3.9, 4.1, 4.1, 3.2, 4.3, 4.3, 4.3, 4.1, 3.8, 4.0, 4.3, 4.2, 5.0, 4.1, 5.0, 3.7, 4.3, 4.3, 4.1, 3.9, 4.2, 3.8, 3.7, 4.7, 4.7, 4.3, 4.1, 4.7, 4.2, 3.2, 4.6, 5.0, 4.4, 4.5, 4.0, 4.6, 4.7, 4.1, 4.5, 4.3, 5.0, 5.0, 4.2, 4.0, 4.3, 5.0, 4.1, 4.3, 4.4, 4.3, 4.3, 4.1, 4.3, 3.6, 4.0, 4.1, 4.1, 4.0, 4.6, 4.3, 4.3, 4.3, 4.3, 5.0, 3.6, 4.1, 2.7, 3.8, 5.0, 4.2, 4.3, 5.0, 2.6, 4.4, 4.3, 4.3, 4.3, 2.8, 4.1, 4.3, 4.3, 4.0, 4.3, 4.7, 4.6, 4.7, 4.6, 4.6, 4.6, 4.6, 4.6, 4.4, 3.8, 4.1, 3.4, 4.5, 4.5, 4.5, 4.0, 4.7, 4.4, 4.4, 4.7, 4.7, 4.2, 4.2, 4.0, 3.6, 4.7, 4.4, 4.3, 4.4, 4.4, 4.4, 4.3, 3.3, 3.6, 4.5, 4.5, 4.6, 4.3, 3.6, 4.3, 4.4, 4.1, 4.2, 4.8, 4.2, 4.3, 4.0, 3.7, 4.5, 4.1, 4.6, 4.5, 4.7, 4.3, 4.3, 4.6, 4.1, 4.2, 4.3, 4.2, 4.3, 3.6, 4.2, 4.2, 4.0, 4.6, 4.3, 4.4, 4.5, 4.3, 3.7, 4.2, 4.7, 4.6, 4.5, 4.1, 4.5, 4.3, 3.4, 4.2, 3.9, 4.4, 4.1, 4.3, 3.9, 4.0, 4.3, 5.0, 4.2, 4.3, 4.5, 4.5, 4.3, 4.5, 1.9, 1.6, 4.2, 4.4, 3.6, 4.3, 4.7, 2.9, 4.3, 4.4, 4.3, 4.6, 4.6, 4.2, 3.5, 2.9, 4.4, 4.7, 4.5, 4.4, 4.4, 4.4, 4.4, 4.3, 4.5, 3.5, 4.2, 4.4, 4.3, 3.6, 4.6, 4.3, 3.8, 1.4, 4.0, 4.3, 4.6, 4.7, 4.2, 4.3, 4.1, 4.3, 4.2, 4.3, 3.6, 4.6, 4.3, 4.3, 5.0, 5.0, 5.0, 4.5, 3.9, 4.3, 4.3, 4.8, 4.1, 4.0, 4.8, 4.8, 4.4, 4.1, 4.3, 4.3, 4.3, 4.4, 4.3, 4.3, 4.3, 4.3, 2.7, 4.4, 4.3, 4.3, 4.2, 4.3, 5.0, 4.2, 3.9, 4.3, 4.5, 4.3, 3.5, 4.2, 4.4, 4.7, 4.6, 4.0, 4.3, 2.5, 4.3, 3.8, 4.5, 4.6, 4.6, 5.0, 3.9, 5.0, 4.3, 2.3, 4.3, 4.0, 3.7, 4.2, 4.1, 4.4, 4.6, 4.2, 4.4, 4.3, 4.0, 4.5, 3.9, 3.7, 4.6, 4.3, 3.8, 4.7, 4.3, 3.4, 4.1, 4.3, 4.6, 4.3, 4.3, 4.0, 4.3, 3.5, 2.3, 3.9, 4.1, 4.5, 4.6, 4.4, 3.1, 4.3, 5.0, 3.8, 3.3, 5.0, 1.0, 4.5, 4.6, 4.3, 4.4, 4.1, 4.5, 4.2, 3.7, 4.1, 3.9, 4.5, 3.6, 3.2, 3.5, 3.7, 4.6, 4.8, 4.1, 4.4, 4.3, 4.3, 4.0, 3.1, 4.2, 4.3, 3.5, 4.3, 3.8, 4.3, 4.8, 2.3, 4.3, 4.4, 3.6, 5.0, 4.3, 4.2, 4.3, 4.7, 3.9, 4.4, 4.4, 4.3, 2.6, 4.3, 4.7, 4.3, 5.0, 3.7, 4.1, 4.3, 3.8, 4.6, 4.7, 4.3, 3.5, 3.3, 4.3, 4.8, 3.9, 4.5, 5.0, 5.0, 4.3, 4.0, 4.5, 4.6, 4.7, 3.8, 3.4, 4.7, 4.0, 4.6, 2.0, 4.3, 2.0, 3.6, 4.7, 3.5, 4.0, 3.5, 4.3, 4.1, 4.6, 3.8, 4.3, 3.8, 1.0, 3.8, 3.3, 4.8, 3.0, 4.0, 3.8, 4.3, 3.9, 4.2, 4.6, 4.0, 4.5, 4.6, 4.6, 4.5, 3.7, 4.4, 4.6, 4.4, 4.5, 4.5, 4.3, 3.7, 3.9, 3.9, 4.3, 4.1, 4.1, 4.4, 4.4, 4.2, 4.5, 4.4, 4.4, 4.4, 3.8, 2.6, 4.2, 4.4, 4.2, 4.0, 4.2, 4.0, 4.4, 4.5, 3.2, 4.3, 3.4, 2.3, 4.4, 4.3, 4.3, 4.3, 3.6, 4.6, 4.2, 4.0, 4.4, 4.5, 3.2, 2.2, 4.8, 4.3, 4.4, 4.5, 4.8, 4.6, 3.7, 4.4, 3.5, 3.8, 3.8, 4.3, 4.3, 4.6, 4.3, 4.3, 3.7, 4.3, 4.8, 4.3, 5.0, 3.9, 3.0, 4.3, 5.0, 4.3, 4.4, 4.6, 3.9, 4.1, 3.0, 4.2, 4.2, 4.0, 4.0, 3.2, 4.6, 3.2, 4.1, 3.3, 4.4, 4.0, 4.2, 4.1, 4.3, 4.7, 4.4, 3.1, 3.1, 3.3, 3.9, 3.4, 3.9, 4.4, 3.9, 3.7, 4.5, 4.7, 4.3, 3.0, 4.3, 3.9, 4.3, 5.0, 3.9, 4.3, 4.3, 4.3, 4.3, 4.3, 3.8, 4.3, 3.6, 3.9, 3.8, 4.3, 4.8, 4.3, 4.3, 4.3, 4.3, 4.4, 4.5, 4.0, 4.7, 4.8, 4.7, 4.7, 4.3, 3.2, 4.3, 4.7, 4.5, 4.3, 4.5, 4.2, 4.3, 4.3, 4.2, 4.7, 4.3, 4.5, 4.3, 4.5, 4.5, 3.8, 4.5, 4.3, 3.9, 4.2, 4.5, 4.1, 4.4, 4.1, 2.2, 3.9, 4.5, 3.3, 3.1, 3.2, 4.3, 4.3, 3.8, 4.3, 4.3, 4.3, 4.9, 4.3, 5.0, 4.4, 4.3, 4.6, 4.5, 3.5, 4.8, 4.8, 3.5, 4.7, 4.6, 4.4, 4.3, 4.7, 4.4, 4.0, 3.5, 4.6, 3.9, 3.5, 4.6, 4.2, 4.4, 4.6, 4.0, 4.2, 3.8, 4.1, 4.3, 4.4, 4.5, 4.1, 4.2, 3.6, 3.3, 4.7, 4.6, 4.3, 4.3, 3.9, 4.3, 4.3, 3.1, 4.4, 3.7, 4.6, 4.6, 2.7, 4.3, 4.6, 4.2, 4.3, 4.2, 3.9, 2.4, 3.9, 5.0, 4.0, 3.0, 4.1, 4.8, 4.5, 3.5, 4.3, 4.3, 4.5, 4.5, 4.3, 4.4, 4.4, 4.3, 4.2, 4.5, 4.3, 4.3, 4.2, 4.9, 1.4, 4.0, 4.3, 4.3, 4.2, 4.3, 4.1, 4.3, 4.1, 4.3, 4.3, 4.6, 5.0, 4.4, 4.7, 4.3, 5.0, 4.3, 4.0, 4.0, 3.8, 4.3, 4.6, 4.1, 4.3, 4.3, 4.2, 4.3, 4.4, 4.4, 3.9, 4.3, 4.5, 4.3, 3.5, 4.2, 4.1, 4.1, 4.7, 4.5, 3.3, 4.2, 4.3, 4.3, 4.2, 4.6, 4.3, 4.3, 4.0, 4.7, 4.3, 4.3, 4.3, 4.3, 4.3, 4.3, 4.3, 4.9, 4.3, 4.3, 4.3, 4.3, 4.3, 4.3, 4.3, 4.3, 4.0, 4.3, 4.3, 4.5, 4.1, 4.3, 4.3, 4.3, 3.9, 3.7, 4.2, 3.6, 3.6, 2.1, 4.7, 3.2, 3.0, 4.3, 3.0, 4.3, 3.9, 3.3, 4.3, 4.0, 3.7, 2.8, 4.4, 5.0, 4.2, 4.0, 4.3, 3.0, 4.5, 5.0, 5.0, 4.1, 4.3, 4.5, 4.4, 4.4, 4.3, 4.2, 3.0, 4.1, 4.2, 4.2, 4.0, 4.3, 4.1, 3.6, 4.3, 5.0, 4.2, 3.9, 4.3, 4.1, 3.8, 3.7, 4.3, 4.2, 4.3, 4.3, 4.4, 4.3, 4.2, 4.6, 4.0, 2.9, 4.5, 4.7, 3.8, 4.3, 4.7, 3.9, 4.5, 4.7, 4.5, 4.2, 4.3, 4.4, 4.2, 4.1, 4.5, 4.5, 4.6, 4.4, 4.1, 4.3, 4.7, 4.4, 4.2, 4.3, 4.5, 4.3, 4.8, 4.5, 4.6, 4.7, 4.4, 4.1, 4.3, 4.2, 4.2, 3.6, 2.8, 3.9, 3.8, 4.4, 3.7, 3.8, 3.2, 3.9, 4.1, 4.3, 3.1, 4.6, 4.1, 4.4, 3.2, 4.5, 3.7, 4.3, 4.3, 4.4, 5.0, 4.8, 4.3, 4.6, 4.0, 4.1, 4.3, 4.3, 4.8, 4.3, 4.3, 2.8, 4.7, 4.5, 4.2, 4.3, 3.8, 3.8, 4.2, 3.8, 4.0, 4.0, 4.6, 4.0, 4.3, 4.3, 3.9, 5.0, 4.0, 4.1, 3.9, 4.2, 4.3, 4.5, 4.4, 4.1, 4.2, 4.5, 4.6, 4.1, 3.9, 4.7, 3.9, 4.3, 2.9, 3.7, 4.4, 4.1, 4.3, 2.8, 3.4, 2.8, 2.5, 4.7, 4.3, 3.2, 3.9, 3.6, 3.2, 3.5, 3.3, 4.3, 4.3, 4.4, 2.8, 5.0, 4.3, 4.4, 4.3, 4.3, 4.3, 4.3, 4.3, 4.3, 4.3, 5.0, 4.3, 4.3, 4.3, 5.0, 4.3, 5.0, 4.3, 4.3, 4.3, 5.0, 4.3, 4.3, 4.1, 4.3, 4.3, 4.6, 4.5, 4.3, 4.5, 3.3, 4.3, 4.4, 4.7, 4.7, 4.0, 4.5, 4.3, 4.6, 4.7, 4.4, 4.0, 4.2, 4.3, 4.1, 4.5, 4.3, 4.3, 4.7, 4.1, 4.3, 4.4, 3.1, 4.0, 4.5, 4.5, 4.4, 4.2, 4.6, 4.6, 4.0, 4.6, 4.3, 4.3, 3.9, 4.5, 4.7, 4.3, 4.6, 4.2, 4.3, 4.6, 4.2, 4.1, 4.6, 4.4, 3.7, 3.9, 4.3, 4.3, 4.3, 4.5, 4.5, 4.5, 4.5, 4.7, 4.3, 4.4, 4.5, 4.3, 4.3, 4.2, 4.3, 4.2, 4.7, 4.1, 4.3, 4.1, 3.8, 4.5, 4.1, 4.3, 4.3, 4.5, 4.1, 4.4, 4.3, 4.4, 4.3, 4.3, 4.1, 4.6, 4.2, 4.7, 4.4, 4.7, 4.2, 4.6, 4.5, 4.8, 3.7, 4.2, 2.3, 4.3, 4.5, 4.0, 4.2, 4.6, 4.2, 4.5, 4.4, 4.0, 4.3, 4.1, 3.8, 3.4, 4.3, 4.6, 3.3, 3.9, 4.2, 4.9, 4.6, 4.4, 4.0, 4.3, 4.6, 4.4, 4.6, 4.5, 3.7, 4.1, 4.2, 4.0, 4.5, 4.6, 4.5, 4.4, 3.3, 4.2, 4.2, 4.0, 4.0, 3.5, 4.5, 3.9, 3.9, 4.1, 4.4, 4.2, 4.4, 4.3, 4.1, 4.0, 4.3, 4.4, 4.5, 4.6, 3.7, 3.8, 3.4, 4.3, 4.7, 4.4, 4.4, 4.1, 4.4, 3.9, 4.3, 4.2, 3.3, 4.0, 4.6, 4.1, 4.1, 3.4, 3.4, 4.1, 4.0, 3.4, 3.2, 3.8, 3.8, 3.9, 3.6, 3.8, 3.9, 3.2, 1.0, 4.6, 4.3, 3.6, 4.9, 4.3, 2.6, 3.5, 3.2, 4.3, 3.3, 4.3, 4.3, 3.8, 4.6, 1.8, 4.3, 4.3, 3.9, 4.3, 4.8, 4.0, 4.1, 4.6, 4.0, 4.3, 4.8, 4.0, 3.5, 4.3, 3.0, 4.6, 1.6, 3.8, 1.7, 4.6, 5.0, 4.6, 4.4, 4.5, 3.8, 4.1, 5.0, 4.3, 4.3, 1.0, 4.3, 4.3, 4.4, 4.7, 4.6, 4.3, 4.5, 4.3, 4.3, 4.4, 4.1, 3.8, 3.9, 4.7, 4.5, 4.5, 4.6, 4.5, 4.5, 4.4, 4.3, 4.4, 4.2, 4.6, 4.5, 3.8, 4.3, 4.6, 4.3, 3.6, 4.2, 4.3, 4.7, 4.8, 3.1, 4.5, 4.4, 4.3, 4.7, 4.1, 4.4, 4.3, 4.6, 4.3, 4.7, 3.6, 3.7, 2.0, 4.3, 2.4, 4.5, 2.8, 4.3, 4.3, 3.2, 3.1, 2.4, 2.9, 4.0, 3.7, 2.3, 2.9, 4.3, 5.0, 4.2, 4.6, 4.5, 4.2, 3.5, 4.6, 3.5, 3.6, 4.3, 3.0, 4.3, 4.3, 2.9, 3.7, 4.3, 4.2, 3.2, 2.5, 4.3, 2.7, 4.0, 3.4, 4.3, 4.0, 3.4, 4.9, 4.3, 4.8, 4.3, 4.0, 4.3, 3.5, 4.3, 5.0, 4.3, 4.2, 4.2, 5.0, 4.3, 5.0, 2.0, 4.3, 4.3, 4.3, 3.9, 4.3, 3.1, 4.5, 4.7, 4.3, 4.4, 3.8, 4.2, 4.5, 4.3, 4.6, 4.2, 4.5, 4.2, 4.2, 4.1, 4.3, 5.0, 4.6, 4.4, 4.3, 4.5, 3.6, 4.6, 4.3, 4.0, 4.6, 4.5, 4.5, 4.3, 4.3, 4.3, 5.0, 4.4, 4.3, 4.0, 3.5, 4.0, 4.2, 3.9, 3.6, 3.0, 3.0, 4.0, 3.4, 4.9, 4.3, 4.0, 4.4, 4.1, 4.4, 4.0, 4.3, 4.5, 4.2, 3.9, 4.3, 3.6, 5.0, 4.4, 3.6, 4.7, 4.7, 4.3, 4.3, 4.3, 4.2, 4.3, 4.4, 4.3, 4.5, 4.1, 4.3, 4.3, 4.3, 4.2, 4.3, 4.2, 4.3, 4.2, 5.0, 4.0, 4.0, 4.5, 4.3, 4.1, 4.3, 4.4, 4.2, 4.3, 4.4, 4.5, 4.2, 4.3, 4.3, 4.2, 4.3, 4.5, 4.4, 4.4, 4.5, 4.5, 3.9, 4.3, 4.4, 4.5, 4.0, 4.5, 4.0, 4.4, 4.3, 4.4, 3.8, 4.4, 4.2, 4.1, 4.2, 3.9, 4.5, 4.1, 4.4, 4.3, 4.5, 3.4, 3.4, 4.4, 4.2, 4.4, 3.5, 4.1, 4.6, 1.7, 5.0, 4.8, 4.3, 4.6, 3.3, 4.3, 4.2, 4.3, 3.5, 3.7, 5.0, 4.3, 4.3, 4.6, 4.1, 5.0, 4.3, 3.7, 4.0, 4.3, 4.2, 4.5, 3.8, 2.5, 4.0, 4.1, 3.4, 3.6, 3.4, 3.9, 4.6, 4.3, 4.7, 5.0, 3.9, 4.2, 4.3, 4.3, 4.1, 4.2, 4.4, 3.4, 4.3, 3.9, 4.5, 4.3, 3.0, 4.3, 4.1, 4.6, 4.3, 3.9, 4.7, 4.5, 5.0, 5.0, 5.0, 4.3, 4.0, 4.3, 4.9, 5.0, 4.6, 4.3, 4.8, 4.1, 4.1, 4.3, 4.7, 4.3, 5.0, 4.4, 3.3, 4.0, 3.5, 2.8, 4.3, 3.6, 3.2, 3.6, 3.7, 3.3, 3.1, 4.1, 3.1, 3.5, 3.6, 3.1, 2.9, 3.0, 2.9, 3.9, 5.0, 4.3, 3.4, 5.0, 4.3, 4.3, 4.2, 4.3, 4.3, 4.3, 4.3, 4.3, 4.6, 4.7, 4.3, 4.4, 4.3, 4.3, 4.3, 4.6, 4.3, 4.6, 4.0, 2.9, 4.1, 4.3, 4.3, 4.3, 4.3, 4.2, 4.3, 4.3, 2.4, 4.2, 4.3, 4.3, 3.1, 4.3, 3.0, 3.4, 4.2, 4.5, 4.3, 4.4, 4.3, 4.2, 4.2, 4.3, 4.8, 4.0, 4.2, 4.1, 4.6, 4.6, 3.8, 4.5, 4.4, 4.1, 4.0, 3.9, 3.5, 5.0, 4.3, 4.2, 4.3, 4.3, 3.8, 4.3, 3.4, 3.8, 4.2, 4.2, 3.7, 4.0, 4.4, 4.5, 3.7, 4.2, 3.9, 4.0, 3.7, 4.2, 4.0, 3.9, 4.1, 4.3, 4.5, 4.5, 3.3, 4.4, 4.2, 4.2, 4.1, 4.1, 4.4, 4.1, 3.9, 3.9, 4.4, 3.8, 3.0, 3.4, 4.3, 5.0, 4.3, 4.1, 4.3, 2.4, 3.9, 4.3, 4.3, 4.3, 4.0, 4.3, 3.0, 4.3, 4.4, 3.4, 2.9, 5.0, 4.5, 3.7, 3.0, 4.3, 4.0, 3.2, 3.6, 3.2, 3.7, 4.7, 4.4, 3.9, 4.4, 4.3, 2.6, 4.1, 4.1, 3.3, 4.2, 4.3, 4.3, 4.4, 5.0, 4.3, 4.4, 4.3, 4.3, 3.9, 4.3, 4.0, 3.8, 4.5, 4.3, 3.8, 4.4, 4.3, 4.7, 3.9, 4.2, 3.8, 4.3, 3.8, 4.2, 4.2, 3.6, 4.0, 3.5, 4.4, 3.5, 4.1, 4.8, 4.3, 4.0, 4.2, 3.5, 4.3, 4.7, 5.0, 4.8, 4.9, 4.3, 4.3, 5.0, 4.3, 4.9, 4.5, 4.3, 4.5, 5.0, 5.0, 3.0, 4.3, 4.3, 4.9, 5.0, 4.3, 4.1, 4.3, 4.1, 4.3, 4.3, 4.1, 4.7, 4.3, 4.9, 4.0, 5.0, 5.0, 4.6, 4.2, 5.0, 4.3, 4.0, 4.3, 4.0, 4.2, 4.2, 4.0, 3.9, 4.8, 4.1, 4.3, 4.3, 4.4, 4.3, 4.5, 4.5, 4.8, 4.5, 4.6, 4.6, 4.5, 4.3, 4.4, 4.5, 4.2, 4.7, 4.1, 4.1, 4.6, 4.4, 4.5, 3.8, 3.9, 3.5, 3.8, 4.2, 4.6, 3.7, 4.4, 3.6, 3.4, 4.0, 4.3, 4.3, 4.5, 4.4, 4.5, 4.1, 4.4, 4.3, 4.5, 4.5, 4.2, 4.5, 4.3, 4.1, 4.6, 4.3, 4.0, 4.4, 4.4, 4.3, 4.6, 4.6, 4.3, 4.3, 4.2, 4.5, 4.0, 4.6, 3.8, 4.3, 4.0, 4.5, 4.1, 4.5, 4.2, 4.4, 4.0, 4.3, 4.3, 4.4, 4.4, 4.0, 4.7, 4.2, 4.5, 4.3, 3.5, 4.3, 2.6, 4.2, 4.3, 4.3, 4.3, 4.3, 4.3, 4.3, 4.3, 4.3, 4.3, 4.3, 4.3, 4.4, 4.3, 4.3, 4.1, 4.3, 4.3, 4.5, 4.3, 4.6, 4.6, 4.7, 4.3, 4.2, 4.5, 4.3, 4.5, 3.5, 4.3, 4.6, 4.5, 4.3, 4.4, 4.3, 4.3, 4.3, 3.4, 3.8, 4.5, 4.3, 4.3, 4.3, 5.0, 4.3, 4.2, 4.3, 4.4, 4.3, 4.4, 4.3, 4.4, 4.0, 3.6, 4.3, 4.1, 4.6, 3.9, 4.4, 4.3, 3.7, 3.9, 4.3, 4.3, 4.1, 3.6, 3.5, 3.9, 3.9, 3.8, 4.0, 4.5, 3.6, 3.9, 4.3, 4.0, 3.7, 3.9, 4.2, 3.5, 4.0, 3.8, 4.1, 4.2, 4.1, 4.4, 3.7, 4.3, 4.7, 3.8, 4.0, 4.2, 3.8, 3.9, 4.0, 3.1, 5.0, 3.5, 4.1, 4.5, 4.7, 4.1, 3.9, 4.0, 3.1, 4.1, 4.4, 3.3, 4.3, 4.7, 4.3, 4.2, 4.7, 4.3, 4.2, 4.2, 4.1, 4.2, 4.3, 4.4, 4.3, 3.5, 4.3, 1.8, 4.2, 4.2, 4.6, 4.0, 4.3, 5.0, 3.8, 4.3, 3.0, 5.0, 4.7, 4.6, 4.4, 4.7, 5.0, 4.8, 3.0, 4.6, 4.3, 4.1, 4.6, 4.5, 4.2, 3.9, 3.6, 4.6, 3.9, 4.3, 4.8, 3.7, 4.4, 4.2, 4.6, 4.5, 4.3, 4.4, 4.0, 4.7, 4.3, 4.5, 4.2, 4.8, 4.5, 4.0, 4.1, 4.2, 4.5, 3.9, 3.6, 4.3, 3.4, 3.6, 4.2, 4.3, 4.3, 3.9, 4.3, 3.6, 4.3, 4.3, 3.7, 4.3, 3.8, 4.3, 4.1, 4.7, 4.1, 4.3, 1.9, 3.6, 3.8, 2.7, 4.3, 4.5, 4.3, 4.0, 4.2, 4.3, 4.4, 4.3, 4.3, 3.1, 4.3, 5.0, 4.3, 4.3, 4.3, 4.3, 4.3, 4.3, 4.7, 3.7, 4.3, 4.3, 3.0, 4.3, 4.3, 4.3, 4.3, 3.0, 4.2, 4.3, 4.3, 3.7, 4.6, 4.5, 2.8, 4.2, 4.0, 4.3, 4.2, 3.7, 4.3, 4.3, 3.3, 4.4, 4.0, 4.9, 4.0, 4.6, 3.6, 3.9, 4.0, 4.4, 4.3, 4.3, 4.3, 4.3, 4.3, 4.3, 4.3, 4.3, 4.3, 3.4, 4.3, 4.2, 4.2, 4.3, 3.9, 3.8, 4.0, 4.5, 3.8, 4.9, 4.1, 3.0, 4.5, 3.3, 4.1, 3.7, 3.9, 3.5, 4.4, 4.0, 4.0, 4.6, 4.5, 4.3, 4.3, 4.1, 2.7, 2.3, 3.9, 2.9, 3.3, 4.2, 2.9, 3.5, 2.8, 4.3, 4.3, 4.6, 4.2, 3.7, 4.7, 3.9, 4.4, 3.7, 4.3, 3.5, 4.3, 4.3, 4.5, 4.2, 4.3, 4.1, 2.5, 2.7, 4.3, 4.3, 4.3, 4.3, 1.2, 4.3, 4.3, 4.3, 4.7, 4.9, 4.7, 4.3, 4.3, 4.4, 4.7, 4.0, 4.3, 4.7, 4.3, 4.7, 4.3, 4.4, 4.3, 4.3, 4.3, 4.3, 4.3, 4.6, 4.3, 4.3, 4.3, 4.4, 4.4, 4.4, 4.6, 3.1, 4.3, 3.7, 4.6, 4.2, 4.4, 4.1, 3.6, 4.4, 3.8, 4.0, 3.2, 2.8, 2.9, 4.1, 3.3, 3.5, 4.2, 2.8, 4.4, 4.4, 4.2, 3.3, 3.5, 4.7, 3.1, 4.3, 4.1, 2.5, 3.9, 3.0, 4.3, 4.3, 4.2, 4.3, 2.2, 3.9, 4.4, 4.4, 3.9, 2.9, 4.1, 5.0, 4.6, 4.3, 4.4, 4.2, 4.4, 3.6, 3.4, 4.3, 4.3, 4.3, 4.4, 4.3, 4.3, 4.3, 4.3, 4.3, 4.4, 4.3, 4.0, 4.5, 4.6, 4.3, 4.1, 4.4, 3.5, 4.1, 3.8, 4.2, 4.3, 4.5, 4.0, 4.0, 4.3, 4.1, 3.4, 4.0, 4.3, 4.7, 4.5, 4.3, 4.1, 4.1, 4.4, 4.6, 4.3, 3.8, 3.9, 4.2, 4.2, 3.7, 4.3, 4.2, 3.6, 4.3, 4.3, 4.3, 4.5, 4.3, 4.7, 3.8, 4.0, 4.1, 4.3, 3.9, 4.3, 3.4, 4.3, 4.2, 4.5, 4.4, 4.2, 4.7, 4.6, 4.4, 4.4, 4.8, 4.6, 4.3, 4.4, 4.4, 3.3, 4.5, 4.6, 4.3, 4.9, 4.3, 4.5, 4.9, 3.7, 4.5, 4.6, 4.5, 4.1, 4.8, 3.4, 4.5, 4.8, 4.5, 4.5, 4.5, 4.5, 4.1, 4.1, 3.6, 4.7, 4.6, 4.9, 4.6, 4.1, 4.5, 3.9, 3.9, 4.6, 3.8, 4.7, 3.9, 4.0, 4.3, 4.0, 4.4, 4.1, 5.0, 4.8, 4.3, 4.6, 5.0, 4.2, 4.7, 4.0, 4.4, 4.9, 3.5, 4.1, 4.2, 4.4, 4.3, 4.5, 4.5, 4.6, 4.3, 4.4, 4.6, 4.3, 4.8, 2.8, 4.1, 1.0, 3.0, 4.5, 4.3, 4.3, 4.3, 4.3, 4.3, 4.3, 5.0, 4.3, 4.3, 4.4, 3.0, 3.8, 4.3, 4.3, 4.3, 4.3, 4.5, 4.3, 4.3, 4.3, 3.3, 4.3, 4.9, 4.3, 4.3, 4.3, 4.3, 4.3, 4.3, 4.3, 4.5, 4.1, 4.8, 3.8, 4.1, 3.9, 4.3, 4.2, 4.2, 4.8, 4.1, 4.1, 4.0, 3.9, 4.1, 4.1, 4.2, 3.7, 3.9, 3.9, 3.6, 3.7, 3.6, 4.3, 3.9, 4.5, 2.6, 4.4, 4.3, 4.3, 4.3, 4.2, 4.8, 5.0, 4.3, 4.4, 4.3, 4.9, 4.3, 4.3, 4.3, 5.0, 4.3, 4.3, 4.2, 4.2, 4.3, 4.3, 4.0, 2.1, 4.3, 4.2, 4.3, 2.5, 4.4, 4.4, 4.6, 4.3, 4.3, 4.4, 4.2, 4.5, 3.3, 3.9, 4.3, 4.5, 4.1, 4.8, 4.6, 4.4, 3.8, 3.7, 4.2, 3.7, 4.3, 4.5, 3.5, 4.0, 4.5, 2.9, 3.9, 3.6, 4.6, 4.7, 4.5, 4.1, 4.5, 3.7, 2.9, 4.0, 4.2, 3.7, 3.9, 3.4, 3.5, 4.2, 3.4, 3.9, 3.6, 3.2, 4.1, 4.1, 4.2, 4.2, 4.3, 4.7, 4.3, 4.5, 4.3, 4.3, 4.5, 4.4, 4.3, 4.3, 4.3, 4.3, 4.3, 4.2, 4.3, 3.7, 4.3, 4.1, 4.3, 4.0, 3.5, 4.2, 4.4, 4.2, 4.4, 4.3, 3.8, 3.9, 4.0, 3.8, 3.6, 4.2, 4.3, 3.8, 4.3, 3.7, 4.0, 4.2, 4.3, 4.3, 4.4, 4.9, 4.3, 5.0, 4.3, 4.8, 4.3, 4.3, 4.3, 4.3, 4.3, 4.3, 4.3, 4.3, 4.0, 4.3, 4.3, 4.3, 4.3, 4.3, 4.3, 4.3, 4.3, 4.0, 4.3, 4.3, 4.9, 4.3, 3.8, 4.3, 4.9, 4.3, 4.3, 4.3, 4.3, 4.3, 1.5, 4.3, 5.0, 4.3, 4.8, 4.3, 3.9, 4.6, 4.7, 4.6, 4.3, 4.2, 4.6, 4.7, 2.0, 3.2, 4.0, 3.8, 4.4, 4.4, 4.4, 1.0, 4.3, 4.5, 4.1, 4.9, 4.2, 4.7, 4.3, 3.3, 4.0, 4.3, 3.7, 4.3, 2.9, 4.7, 5.0, 3.8, 4.4, 3.9, 3.9, 4.3, 3.9, 3.9, 3.4, 4.6, 4.2, 4.3, 4.3, 4.8, 5.0, 4.3, 4.3, 5.0, 4.3, 2.9, 4.6, 3.8, 4.3, 4.1, 4.3, 4.5, 4.2, 4.3, 2.5, 3.5, 4.6, 4.6, 4.3, 4.2, 4.2, 4.1, 4.2, 4.3, 4.5, 4.4, 5.0, 4.6, 4.3, 4.3, 4.3, 4.3, 4.3, 5.0, 4.3, 4.3, 4.3, 4.3, 4.3, 3.4, 4.3, 4.3, 4.6, 4.5, 4.3, 4.3, 3.8, 4.1, 4.4, 4.4, 4.2, 4.2, 3.9, 4.4, 5.0, 4.0, 4.3, 4.4, 4.1, 4.2, 3.9, 4.3, 3.5, 4.3, 4.3, 4.3, 3.8, 3.6, 4.3, 4.2, 3.4, 4.3, 4.3, 4.3, 3.5, 4.3, 3.7, 4.2, 4.3, 3.6, 4.5, 4.2, 4.4, 2.7, 4.1, 4.3, 4.5, 3.4, 2.9, 4.0, 3.9, 4.3, 4.3, 5.0, 3.9, 4.0, 3.6, 4.1, 4.3, 3.8, 4.2, 4.3, 4.2, 4.2, 4.1, 4.3, 4.0, 4.1, 4.0, 4.2, 4.4, 4.3, 4.2, 4.7, 4.3, 4.7, 4.1, 4.9, 4.0, 4.3, 4.2, 4.3, 4.7, 4.8, 4.1, 4.3, 4.0, 4.3, 4.0, 4.3, 5.0, 4.3, 4.3, 4.3, 4.3, 4.0, 4.2, 4.0, 4.3, 4.5, 5.0], \"xbins\": {\"end\": 5, \"size\": 0.1, \"start\": 1}}],\n",
       "                        {\"template\": {\"data\": {\"bar\": [{\"error_x\": {\"color\": \"#2a3f5f\"}, \"error_y\": {\"color\": \"#2a3f5f\"}, \"marker\": {\"line\": {\"color\": \"#E5ECF6\", \"width\": 0.5}}, \"type\": \"bar\"}], \"barpolar\": [{\"marker\": {\"line\": {\"color\": \"#E5ECF6\", \"width\": 0.5}}, \"type\": \"barpolar\"}], \"carpet\": [{\"aaxis\": {\"endlinecolor\": \"#2a3f5f\", \"gridcolor\": \"white\", \"linecolor\": \"white\", \"minorgridcolor\": \"white\", \"startlinecolor\": \"#2a3f5f\"}, \"baxis\": {\"endlinecolor\": \"#2a3f5f\", \"gridcolor\": \"white\", \"linecolor\": \"white\", \"minorgridcolor\": \"white\", \"startlinecolor\": \"#2a3f5f\"}, \"type\": \"carpet\"}], \"choropleth\": [{\"colorbar\": {\"outlinewidth\": 0, \"ticks\": \"\"}, \"type\": \"choropleth\"}], \"contour\": [{\"colorbar\": {\"outlinewidth\": 0, \"ticks\": \"\"}, \"colorscale\": [[0.0, \"#0d0887\"], [0.1111111111111111, \"#46039f\"], [0.2222222222222222, \"#7201a8\"], [0.3333333333333333, \"#9c179e\"], [0.4444444444444444, \"#bd3786\"], [0.5555555555555556, \"#d8576b\"], [0.6666666666666666, \"#ed7953\"], [0.7777777777777778, \"#fb9f3a\"], [0.8888888888888888, \"#fdca26\"], [1.0, \"#f0f921\"]], \"type\": \"contour\"}], \"contourcarpet\": [{\"colorbar\": {\"outlinewidth\": 0, \"ticks\": \"\"}, \"type\": \"contourcarpet\"}], \"heatmap\": [{\"colorbar\": {\"outlinewidth\": 0, \"ticks\": \"\"}, \"colorscale\": [[0.0, \"#0d0887\"], [0.1111111111111111, \"#46039f\"], [0.2222222222222222, \"#7201a8\"], [0.3333333333333333, \"#9c179e\"], [0.4444444444444444, \"#bd3786\"], [0.5555555555555556, \"#d8576b\"], [0.6666666666666666, \"#ed7953\"], [0.7777777777777778, \"#fb9f3a\"], [0.8888888888888888, \"#fdca26\"], [1.0, \"#f0f921\"]], \"type\": \"heatmap\"}], \"heatmapgl\": [{\"colorbar\": {\"outlinewidth\": 0, \"ticks\": \"\"}, \"colorscale\": [[0.0, \"#0d0887\"], [0.1111111111111111, \"#46039f\"], [0.2222222222222222, \"#7201a8\"], [0.3333333333333333, \"#9c179e\"], [0.4444444444444444, \"#bd3786\"], [0.5555555555555556, \"#d8576b\"], [0.6666666666666666, \"#ed7953\"], [0.7777777777777778, \"#fb9f3a\"], [0.8888888888888888, \"#fdca26\"], [1.0, \"#f0f921\"]], \"type\": \"heatmapgl\"}], \"histogram\": [{\"marker\": {\"colorbar\": {\"outlinewidth\": 0, \"ticks\": \"\"}}, \"type\": \"histogram\"}], \"histogram2d\": [{\"colorbar\": {\"outlinewidth\": 0, \"ticks\": \"\"}, \"colorscale\": [[0.0, \"#0d0887\"], [0.1111111111111111, \"#46039f\"], [0.2222222222222222, \"#7201a8\"], [0.3333333333333333, \"#9c179e\"], [0.4444444444444444, \"#bd3786\"], [0.5555555555555556, \"#d8576b\"], [0.6666666666666666, \"#ed7953\"], [0.7777777777777778, \"#fb9f3a\"], [0.8888888888888888, \"#fdca26\"], [1.0, \"#f0f921\"]], \"type\": \"histogram2d\"}], \"histogram2dcontour\": [{\"colorbar\": {\"outlinewidth\": 0, \"ticks\": \"\"}, \"colorscale\": [[0.0, \"#0d0887\"], [0.1111111111111111, \"#46039f\"], [0.2222222222222222, \"#7201a8\"], [0.3333333333333333, \"#9c179e\"], [0.4444444444444444, \"#bd3786\"], [0.5555555555555556, \"#d8576b\"], [0.6666666666666666, \"#ed7953\"], [0.7777777777777778, \"#fb9f3a\"], [0.8888888888888888, \"#fdca26\"], [1.0, \"#f0f921\"]], \"type\": \"histogram2dcontour\"}], \"mesh3d\": [{\"colorbar\": {\"outlinewidth\": 0, \"ticks\": \"\"}, \"type\": \"mesh3d\"}], \"parcoords\": [{\"line\": {\"colorbar\": {\"outlinewidth\": 0, \"ticks\": \"\"}}, \"type\": \"parcoords\"}], \"pie\": [{\"automargin\": true, \"type\": \"pie\"}], \"scatter\": [{\"marker\": {\"colorbar\": {\"outlinewidth\": 0, \"ticks\": \"\"}}, \"type\": \"scatter\"}], \"scatter3d\": [{\"line\": {\"colorbar\": {\"outlinewidth\": 0, \"ticks\": \"\"}}, \"marker\": {\"colorbar\": {\"outlinewidth\": 0, \"ticks\": \"\"}}, \"type\": \"scatter3d\"}], \"scattercarpet\": [{\"marker\": {\"colorbar\": {\"outlinewidth\": 0, \"ticks\": \"\"}}, \"type\": \"scattercarpet\"}], \"scattergeo\": [{\"marker\": {\"colorbar\": {\"outlinewidth\": 0, \"ticks\": \"\"}}, \"type\": \"scattergeo\"}], \"scattergl\": [{\"marker\": {\"colorbar\": {\"outlinewidth\": 0, \"ticks\": \"\"}}, \"type\": \"scattergl\"}], \"scattermapbox\": [{\"marker\": {\"colorbar\": {\"outlinewidth\": 0, \"ticks\": \"\"}}, \"type\": \"scattermapbox\"}], \"scatterpolar\": [{\"marker\": {\"colorbar\": {\"outlinewidth\": 0, \"ticks\": \"\"}}, \"type\": \"scatterpolar\"}], \"scatterpolargl\": [{\"marker\": {\"colorbar\": {\"outlinewidth\": 0, \"ticks\": \"\"}}, \"type\": \"scatterpolargl\"}], \"scatterternary\": [{\"marker\": {\"colorbar\": {\"outlinewidth\": 0, \"ticks\": \"\"}}, \"type\": \"scatterternary\"}], \"surface\": [{\"colorbar\": {\"outlinewidth\": 0, \"ticks\": \"\"}, \"colorscale\": [[0.0, \"#0d0887\"], [0.1111111111111111, \"#46039f\"], [0.2222222222222222, \"#7201a8\"], [0.3333333333333333, \"#9c179e\"], [0.4444444444444444, \"#bd3786\"], [0.5555555555555556, \"#d8576b\"], [0.6666666666666666, \"#ed7953\"], [0.7777777777777778, \"#fb9f3a\"], [0.8888888888888888, \"#fdca26\"], [1.0, \"#f0f921\"]], \"type\": \"surface\"}], \"table\": [{\"cells\": {\"fill\": {\"color\": \"#EBF0F8\"}, \"line\": {\"color\": \"white\"}}, \"header\": {\"fill\": {\"color\": \"#C8D4E3\"}, \"line\": {\"color\": \"white\"}}, \"type\": \"table\"}]}, \"layout\": {\"annotationdefaults\": {\"arrowcolor\": \"#2a3f5f\", \"arrowhead\": 0, \"arrowwidth\": 1}, \"coloraxis\": {\"colorbar\": {\"outlinewidth\": 0, \"ticks\": \"\"}}, \"colorscale\": {\"diverging\": [[0, \"#8e0152\"], [0.1, \"#c51b7d\"], [0.2, \"#de77ae\"], [0.3, \"#f1b6da\"], [0.4, \"#fde0ef\"], [0.5, \"#f7f7f7\"], [0.6, \"#e6f5d0\"], [0.7, \"#b8e186\"], [0.8, \"#7fbc41\"], [0.9, \"#4d9221\"], [1, \"#276419\"]], \"sequential\": [[0.0, \"#0d0887\"], [0.1111111111111111, \"#46039f\"], [0.2222222222222222, \"#7201a8\"], [0.3333333333333333, \"#9c179e\"], [0.4444444444444444, \"#bd3786\"], [0.5555555555555556, \"#d8576b\"], [0.6666666666666666, \"#ed7953\"], [0.7777777777777778, \"#fb9f3a\"], [0.8888888888888888, \"#fdca26\"], [1.0, \"#f0f921\"]], \"sequentialminus\": [[0.0, \"#0d0887\"], [0.1111111111111111, \"#46039f\"], [0.2222222222222222, \"#7201a8\"], [0.3333333333333333, \"#9c179e\"], [0.4444444444444444, \"#bd3786\"], [0.5555555555555556, \"#d8576b\"], [0.6666666666666666, \"#ed7953\"], [0.7777777777777778, \"#fb9f3a\"], [0.8888888888888888, \"#fdca26\"], [1.0, \"#f0f921\"]]}, \"colorway\": [\"#636efa\", \"#EF553B\", \"#00cc96\", \"#ab63fa\", \"#FFA15A\", \"#19d3f3\", \"#FF6692\", \"#B6E880\", \"#FF97FF\", \"#FECB52\"], \"font\": {\"color\": \"#2a3f5f\"}, \"geo\": {\"bgcolor\": \"white\", \"lakecolor\": \"white\", \"landcolor\": \"#E5ECF6\", \"showlakes\": true, \"showland\": true, \"subunitcolor\": \"white\"}, \"hoverlabel\": {\"align\": \"left\"}, \"hovermode\": \"closest\", \"mapbox\": {\"style\": \"light\"}, \"paper_bgcolor\": \"white\", \"plot_bgcolor\": \"#E5ECF6\", \"polar\": {\"angularaxis\": {\"gridcolor\": \"white\", \"linecolor\": \"white\", \"ticks\": \"\"}, \"bgcolor\": \"#E5ECF6\", \"radialaxis\": {\"gridcolor\": \"white\", \"linecolor\": \"white\", \"ticks\": \"\"}}, \"scene\": {\"xaxis\": {\"backgroundcolor\": \"#E5ECF6\", \"gridcolor\": \"white\", \"gridwidth\": 2, \"linecolor\": \"white\", \"showbackground\": true, \"ticks\": \"\", \"zerolinecolor\": \"white\"}, \"yaxis\": {\"backgroundcolor\": \"#E5ECF6\", \"gridcolor\": \"white\", \"gridwidth\": 2, \"linecolor\": \"white\", \"showbackground\": true, \"ticks\": \"\", \"zerolinecolor\": \"white\"}, \"zaxis\": {\"backgroundcolor\": \"#E5ECF6\", \"gridcolor\": \"white\", \"gridwidth\": 2, \"linecolor\": \"white\", \"showbackground\": true, \"ticks\": \"\", \"zerolinecolor\": \"white\"}}, \"shapedefaults\": {\"line\": {\"color\": \"#2a3f5f\"}}, \"ternary\": {\"aaxis\": {\"gridcolor\": \"white\", \"linecolor\": \"white\", \"ticks\": \"\"}, \"baxis\": {\"gridcolor\": \"white\", \"linecolor\": \"white\", \"ticks\": \"\"}, \"bgcolor\": \"#E5ECF6\", \"caxis\": {\"gridcolor\": \"white\", \"linecolor\": \"white\", \"ticks\": \"\"}}, \"title\": {\"x\": 0.05}, \"xaxis\": {\"automargin\": true, \"gridcolor\": \"white\", \"linecolor\": \"white\", \"ticks\": \"\", \"title\": {\"standoff\": 15}, \"zerolinecolor\": \"white\", \"zerolinewidth\": 2}, \"yaxis\": {\"automargin\": true, \"gridcolor\": \"white\", \"linecolor\": \"white\", \"ticks\": \"\", \"title\": {\"standoff\": 15}, \"zerolinecolor\": \"white\", \"zerolinewidth\": 2}}}},\n",
       "                        {\"responsive\": true}\n",
       "                    ).then(function(){\n",
       "                            \n",
       "var gd = document.getElementById('9595600a-8c00-4954-9f2b-a8e110364145');\n",
       "var x = new MutationObserver(function (mutations, observer) {{\n",
       "        var display = window.getComputedStyle(gd).display;\n",
       "        if (!display || display === 'none') {{\n",
       "            console.log([gd, 'removed!']);\n",
       "            Plotly.purge(gd);\n",
       "            observer.disconnect();\n",
       "        }}\n",
       "}});\n",
       "\n",
       "// Listen for the removal of the full notebook cells\n",
       "var notebookContainer = gd.closest('#notebook-container');\n",
       "if (notebookContainer) {{\n",
       "    x.observe(notebookContainer, {childList: true});\n",
       "}}\n",
       "\n",
       "// Listen for the clearing of the current output cell\n",
       "var outputEl = gd.closest('.output');\n",
       "if (outputEl) {{\n",
       "    x.observe(outputEl, {childList: true});\n",
       "}}\n",
       "\n",
       "                        })\n",
       "                };\n",
       "                });\n",
       "            </script>\n",
       "        </div>"
      ]
     },
     "metadata": {},
     "output_type": "display_data"
    }
   ],
   "source": [
    "avg_rate_data = [go.Histogram(\n",
    "        x = data.Rating,\n",
    "        xbins = {'start': 1, 'size': 0.1, 'end' :5}\n",
    ")]\n",
    "\n",
    "print('Average app rating:', np.mean(data['Rating']))\n",
    "py.offline.iplot(avg_rate_data, filename='rating_dist')"
   ]
  },
  {
   "cell_type": "code",
   "execution_count": 27,
   "metadata": {},
   "outputs": [],
   "source": [
    "def box_plot(datas):\n",
    "    traces = []\n",
    "    a = avg_rate['Category'].tolist()\n",
    "    for i in range(33):\n",
    "        y = np.array(datas[datas['Category'] == a[i]].Rating)\n",
    "        trace = go.Box(\n",
    "                    y=y,\n",
    "                    name = a[i]\n",
    "                )\n",
    "        traces.append(trace)\n",
    "    layout = go.Layout(\n",
    "    title='',\n",
    "    xaxis=dict(\n",
    "        title='',\n",
    "        titlefont=dict(\n",
    "            family='Courier New, monospace',\n",
    "            size=18,\n",
    "            color='#7f7f7f'\n",
    "        \n",
    "        )\n",
    "    )\n",
    ")    \n",
    "    data_avg_rating = traces\n",
    "    fig = go.Figure(data=data_avg_rating, layout=layout)\n",
    "    plot_url = py.iplot(fig, filename='avg_rating-plot')\n"
   ]
  },
  {
   "cell_type": "code",
   "execution_count": 28,
   "metadata": {},
   "outputs": [
    {
     "data": {
      "application/vnd.plotly.v1+json": {
       "config": {
        "linkText": "Export to plot.ly",
        "plotlyServerURL": "https://plot.ly",
        "showLink": false
       },
       "data": [
        {
         "hoverinfo": "label+value",
         "labels": [
          "BUSINESS",
          "COMMUNICATION",
          "ENTERTAINMENT",
          "FAMILY",
          "FINANCE",
          "GAME",
          "PERSONALIZATION",
          "PHOTOGRAPHY",
          "PRODUCTIVITY",
          "SHOPPING",
          "SOCIAL",
          "SPORTS",
          "TOOLS",
          "VIDEO_PLAYERS"
         ],
         "name": "Reviews by Category",
         "type": "pie",
         "values": [
          13954552,
          815462260,
          59178154,
          410226107,
          17550728,
          1585422349,
          89345721,
          213516650,
          114116975,
          115041222,
          621241422,
          70830169,
          273181033,
          110380188
         ]
        }
       ],
       "layout": {
        "template": {
         "data": {
          "bar": [
           {
            "error_x": {
             "color": "#2a3f5f"
            },
            "error_y": {
             "color": "#2a3f5f"
            },
            "marker": {
             "line": {
              "color": "#E5ECF6",
              "width": 0.5
             }
            },
            "type": "bar"
           }
          ],
          "barpolar": [
           {
            "marker": {
             "line": {
              "color": "#E5ECF6",
              "width": 0.5
             }
            },
            "type": "barpolar"
           }
          ],
          "carpet": [
           {
            "aaxis": {
             "endlinecolor": "#2a3f5f",
             "gridcolor": "white",
             "linecolor": "white",
             "minorgridcolor": "white",
             "startlinecolor": "#2a3f5f"
            },
            "baxis": {
             "endlinecolor": "#2a3f5f",
             "gridcolor": "white",
             "linecolor": "white",
             "minorgridcolor": "white",
             "startlinecolor": "#2a3f5f"
            },
            "type": "carpet"
           }
          ],
          "choropleth": [
           {
            "colorbar": {
             "outlinewidth": 0,
             "ticks": ""
            },
            "type": "choropleth"
           }
          ],
          "contour": [
           {
            "colorbar": {
             "outlinewidth": 0,
             "ticks": ""
            },
            "colorscale": [
             [
              0,
              "#0d0887"
             ],
             [
              0.1111111111111111,
              "#46039f"
             ],
             [
              0.2222222222222222,
              "#7201a8"
             ],
             [
              0.3333333333333333,
              "#9c179e"
             ],
             [
              0.4444444444444444,
              "#bd3786"
             ],
             [
              0.5555555555555556,
              "#d8576b"
             ],
             [
              0.6666666666666666,
              "#ed7953"
             ],
             [
              0.7777777777777778,
              "#fb9f3a"
             ],
             [
              0.8888888888888888,
              "#fdca26"
             ],
             [
              1,
              "#f0f921"
             ]
            ],
            "type": "contour"
           }
          ],
          "contourcarpet": [
           {
            "colorbar": {
             "outlinewidth": 0,
             "ticks": ""
            },
            "type": "contourcarpet"
           }
          ],
          "heatmap": [
           {
            "colorbar": {
             "outlinewidth": 0,
             "ticks": ""
            },
            "colorscale": [
             [
              0,
              "#0d0887"
             ],
             [
              0.1111111111111111,
              "#46039f"
             ],
             [
              0.2222222222222222,
              "#7201a8"
             ],
             [
              0.3333333333333333,
              "#9c179e"
             ],
             [
              0.4444444444444444,
              "#bd3786"
             ],
             [
              0.5555555555555556,
              "#d8576b"
             ],
             [
              0.6666666666666666,
              "#ed7953"
             ],
             [
              0.7777777777777778,
              "#fb9f3a"
             ],
             [
              0.8888888888888888,
              "#fdca26"
             ],
             [
              1,
              "#f0f921"
             ]
            ],
            "type": "heatmap"
           }
          ],
          "heatmapgl": [
           {
            "colorbar": {
             "outlinewidth": 0,
             "ticks": ""
            },
            "colorscale": [
             [
              0,
              "#0d0887"
             ],
             [
              0.1111111111111111,
              "#46039f"
             ],
             [
              0.2222222222222222,
              "#7201a8"
             ],
             [
              0.3333333333333333,
              "#9c179e"
             ],
             [
              0.4444444444444444,
              "#bd3786"
             ],
             [
              0.5555555555555556,
              "#d8576b"
             ],
             [
              0.6666666666666666,
              "#ed7953"
             ],
             [
              0.7777777777777778,
              "#fb9f3a"
             ],
             [
              0.8888888888888888,
              "#fdca26"
             ],
             [
              1,
              "#f0f921"
             ]
            ],
            "type": "heatmapgl"
           }
          ],
          "histogram": [
           {
            "marker": {
             "colorbar": {
              "outlinewidth": 0,
              "ticks": ""
             }
            },
            "type": "histogram"
           }
          ],
          "histogram2d": [
           {
            "colorbar": {
             "outlinewidth": 0,
             "ticks": ""
            },
            "colorscale": [
             [
              0,
              "#0d0887"
             ],
             [
              0.1111111111111111,
              "#46039f"
             ],
             [
              0.2222222222222222,
              "#7201a8"
             ],
             [
              0.3333333333333333,
              "#9c179e"
             ],
             [
              0.4444444444444444,
              "#bd3786"
             ],
             [
              0.5555555555555556,
              "#d8576b"
             ],
             [
              0.6666666666666666,
              "#ed7953"
             ],
             [
              0.7777777777777778,
              "#fb9f3a"
             ],
             [
              0.8888888888888888,
              "#fdca26"
             ],
             [
              1,
              "#f0f921"
             ]
            ],
            "type": "histogram2d"
           }
          ],
          "histogram2dcontour": [
           {
            "colorbar": {
             "outlinewidth": 0,
             "ticks": ""
            },
            "colorscale": [
             [
              0,
              "#0d0887"
             ],
             [
              0.1111111111111111,
              "#46039f"
             ],
             [
              0.2222222222222222,
              "#7201a8"
             ],
             [
              0.3333333333333333,
              "#9c179e"
             ],
             [
              0.4444444444444444,
              "#bd3786"
             ],
             [
              0.5555555555555556,
              "#d8576b"
             ],
             [
              0.6666666666666666,
              "#ed7953"
             ],
             [
              0.7777777777777778,
              "#fb9f3a"
             ],
             [
              0.8888888888888888,
              "#fdca26"
             ],
             [
              1,
              "#f0f921"
             ]
            ],
            "type": "histogram2dcontour"
           }
          ],
          "mesh3d": [
           {
            "colorbar": {
             "outlinewidth": 0,
             "ticks": ""
            },
            "type": "mesh3d"
           }
          ],
          "parcoords": [
           {
            "line": {
             "colorbar": {
              "outlinewidth": 0,
              "ticks": ""
             }
            },
            "type": "parcoords"
           }
          ],
          "pie": [
           {
            "automargin": true,
            "type": "pie"
           }
          ],
          "scatter": [
           {
            "marker": {
             "colorbar": {
              "outlinewidth": 0,
              "ticks": ""
             }
            },
            "type": "scatter"
           }
          ],
          "scatter3d": [
           {
            "line": {
             "colorbar": {
              "outlinewidth": 0,
              "ticks": ""
             }
            },
            "marker": {
             "colorbar": {
              "outlinewidth": 0,
              "ticks": ""
             }
            },
            "type": "scatter3d"
           }
          ],
          "scattercarpet": [
           {
            "marker": {
             "colorbar": {
              "outlinewidth": 0,
              "ticks": ""
             }
            },
            "type": "scattercarpet"
           }
          ],
          "scattergeo": [
           {
            "marker": {
             "colorbar": {
              "outlinewidth": 0,
              "ticks": ""
             }
            },
            "type": "scattergeo"
           }
          ],
          "scattergl": [
           {
            "marker": {
             "colorbar": {
              "outlinewidth": 0,
              "ticks": ""
             }
            },
            "type": "scattergl"
           }
          ],
          "scattermapbox": [
           {
            "marker": {
             "colorbar": {
              "outlinewidth": 0,
              "ticks": ""
             }
            },
            "type": "scattermapbox"
           }
          ],
          "scatterpolar": [
           {
            "marker": {
             "colorbar": {
              "outlinewidth": 0,
              "ticks": ""
             }
            },
            "type": "scatterpolar"
           }
          ],
          "scatterpolargl": [
           {
            "marker": {
             "colorbar": {
              "outlinewidth": 0,
              "ticks": ""
             }
            },
            "type": "scatterpolargl"
           }
          ],
          "scatterternary": [
           {
            "marker": {
             "colorbar": {
              "outlinewidth": 0,
              "ticks": ""
             }
            },
            "type": "scatterternary"
           }
          ],
          "surface": [
           {
            "colorbar": {
             "outlinewidth": 0,
             "ticks": ""
            },
            "colorscale": [
             [
              0,
              "#0d0887"
             ],
             [
              0.1111111111111111,
              "#46039f"
             ],
             [
              0.2222222222222222,
              "#7201a8"
             ],
             [
              0.3333333333333333,
              "#9c179e"
             ],
             [
              0.4444444444444444,
              "#bd3786"
             ],
             [
              0.5555555555555556,
              "#d8576b"
             ],
             [
              0.6666666666666666,
              "#ed7953"
             ],
             [
              0.7777777777777778,
              "#fb9f3a"
             ],
             [
              0.8888888888888888,
              "#fdca26"
             ],
             [
              1,
              "#f0f921"
             ]
            ],
            "type": "surface"
           }
          ],
          "table": [
           {
            "cells": {
             "fill": {
              "color": "#EBF0F8"
             },
             "line": {
              "color": "white"
             }
            },
            "header": {
             "fill": {
              "color": "#C8D4E3"
             },
             "line": {
              "color": "white"
             }
            },
            "type": "table"
           }
          ]
         },
         "layout": {
          "annotationdefaults": {
           "arrowcolor": "#2a3f5f",
           "arrowhead": 0,
           "arrowwidth": 1
          },
          "coloraxis": {
           "colorbar": {
            "outlinewidth": 0,
            "ticks": ""
           }
          },
          "colorscale": {
           "diverging": [
            [
             0,
             "#8e0152"
            ],
            [
             0.1,
             "#c51b7d"
            ],
            [
             0.2,
             "#de77ae"
            ],
            [
             0.3,
             "#f1b6da"
            ],
            [
             0.4,
             "#fde0ef"
            ],
            [
             0.5,
             "#f7f7f7"
            ],
            [
             0.6,
             "#e6f5d0"
            ],
            [
             0.7,
             "#b8e186"
            ],
            [
             0.8,
             "#7fbc41"
            ],
            [
             0.9,
             "#4d9221"
            ],
            [
             1,
             "#276419"
            ]
           ],
           "sequential": [
            [
             0,
             "#0d0887"
            ],
            [
             0.1111111111111111,
             "#46039f"
            ],
            [
             0.2222222222222222,
             "#7201a8"
            ],
            [
             0.3333333333333333,
             "#9c179e"
            ],
            [
             0.4444444444444444,
             "#bd3786"
            ],
            [
             0.5555555555555556,
             "#d8576b"
            ],
            [
             0.6666666666666666,
             "#ed7953"
            ],
            [
             0.7777777777777778,
             "#fb9f3a"
            ],
            [
             0.8888888888888888,
             "#fdca26"
            ],
            [
             1,
             "#f0f921"
            ]
           ],
           "sequentialminus": [
            [
             0,
             "#0d0887"
            ],
            [
             0.1111111111111111,
             "#46039f"
            ],
            [
             0.2222222222222222,
             "#7201a8"
            ],
            [
             0.3333333333333333,
             "#9c179e"
            ],
            [
             0.4444444444444444,
             "#bd3786"
            ],
            [
             0.5555555555555556,
             "#d8576b"
            ],
            [
             0.6666666666666666,
             "#ed7953"
            ],
            [
             0.7777777777777778,
             "#fb9f3a"
            ],
            [
             0.8888888888888888,
             "#fdca26"
            ],
            [
             1,
             "#f0f921"
            ]
           ]
          },
          "colorway": [
           "#636efa",
           "#EF553B",
           "#00cc96",
           "#ab63fa",
           "#FFA15A",
           "#19d3f3",
           "#FF6692",
           "#B6E880",
           "#FF97FF",
           "#FECB52"
          ],
          "font": {
           "color": "#2a3f5f"
          },
          "geo": {
           "bgcolor": "white",
           "lakecolor": "white",
           "landcolor": "#E5ECF6",
           "showlakes": true,
           "showland": true,
           "subunitcolor": "white"
          },
          "hoverlabel": {
           "align": "left"
          },
          "hovermode": "closest",
          "mapbox": {
           "style": "light"
          },
          "paper_bgcolor": "white",
          "plot_bgcolor": "#E5ECF6",
          "polar": {
           "angularaxis": {
            "gridcolor": "white",
            "linecolor": "white",
            "ticks": ""
           },
           "bgcolor": "#E5ECF6",
           "radialaxis": {
            "gridcolor": "white",
            "linecolor": "white",
            "ticks": ""
           }
          },
          "scene": {
           "xaxis": {
            "backgroundcolor": "#E5ECF6",
            "gridcolor": "white",
            "gridwidth": 2,
            "linecolor": "white",
            "showbackground": true,
            "ticks": "",
            "zerolinecolor": "white"
           },
           "yaxis": {
            "backgroundcolor": "#E5ECF6",
            "gridcolor": "white",
            "gridwidth": 2,
            "linecolor": "white",
            "showbackground": true,
            "ticks": "",
            "zerolinecolor": "white"
           },
           "zaxis": {
            "backgroundcolor": "#E5ECF6",
            "gridcolor": "white",
            "gridwidth": 2,
            "linecolor": "white",
            "showbackground": true,
            "ticks": "",
            "zerolinecolor": "white"
           }
          },
          "shapedefaults": {
           "line": {
            "color": "#2a3f5f"
           }
          },
          "ternary": {
           "aaxis": {
            "gridcolor": "white",
            "linecolor": "white",
            "ticks": ""
           },
           "baxis": {
            "gridcolor": "white",
            "linecolor": "white",
            "ticks": ""
           },
           "bgcolor": "#E5ECF6",
           "caxis": {
            "gridcolor": "white",
            "linecolor": "white",
            "ticks": ""
           }
          },
          "title": {
           "x": 0.05
          },
          "xaxis": {
           "automargin": true,
           "gridcolor": "white",
           "linecolor": "white",
           "ticks": "",
           "title": {
            "standoff": 15
           },
           "zerolinecolor": "white",
           "zerolinewidth": 2
          },
          "yaxis": {
           "automargin": true,
           "gridcolor": "white",
           "linecolor": "white",
           "ticks": "",
           "title": {
            "standoff": 15
           },
           "zerolinecolor": "white",
           "zerolinewidth": 2
          }
         }
        }
       }
      },
      "text/html": [
       "<div>\n",
       "        \n",
       "        \n",
       "            <div id=\"01592477-8668-42b7-8009-febd77e6b25d\" class=\"plotly-graph-div\" style=\"height:525px; width:100%;\"></div>\n",
       "            <script type=\"text/javascript\">\n",
       "                require([\"plotly\"], function(Plotly) {\n",
       "                    window.PLOTLYENV=window.PLOTLYENV || {};\n",
       "                    \n",
       "                if (document.getElementById(\"01592477-8668-42b7-8009-febd77e6b25d\")) {\n",
       "                    Plotly.newPlot(\n",
       "                        '01592477-8668-42b7-8009-febd77e6b25d',\n",
       "                        [{\"hoverinfo\": \"label+value\", \"labels\": [\"BUSINESS\", \"COMMUNICATION\", \"ENTERTAINMENT\", \"FAMILY\", \"FINANCE\", \"GAME\", \"PERSONALIZATION\", \"PHOTOGRAPHY\", \"PRODUCTIVITY\", \"SHOPPING\", \"SOCIAL\", \"SPORTS\", \"TOOLS\", \"VIDEO_PLAYERS\"], \"name\": \"Reviews by Category\", \"type\": \"pie\", \"values\": [13954552, 815462260, 59178154, 410226107, 17550728, 1585422349, 89345721, 213516650, 114116975, 115041222, 621241422, 70830169, 273181033, 110380188]}],\n",
       "                        {\"template\": {\"data\": {\"bar\": [{\"error_x\": {\"color\": \"#2a3f5f\"}, \"error_y\": {\"color\": \"#2a3f5f\"}, \"marker\": {\"line\": {\"color\": \"#E5ECF6\", \"width\": 0.5}}, \"type\": \"bar\"}], \"barpolar\": [{\"marker\": {\"line\": {\"color\": \"#E5ECF6\", \"width\": 0.5}}, \"type\": \"barpolar\"}], \"carpet\": [{\"aaxis\": {\"endlinecolor\": \"#2a3f5f\", \"gridcolor\": \"white\", \"linecolor\": \"white\", \"minorgridcolor\": \"white\", \"startlinecolor\": \"#2a3f5f\"}, \"baxis\": {\"endlinecolor\": \"#2a3f5f\", \"gridcolor\": \"white\", \"linecolor\": \"white\", \"minorgridcolor\": \"white\", \"startlinecolor\": \"#2a3f5f\"}, \"type\": \"carpet\"}], \"choropleth\": [{\"colorbar\": {\"outlinewidth\": 0, \"ticks\": \"\"}, \"type\": \"choropleth\"}], \"contour\": [{\"colorbar\": {\"outlinewidth\": 0, \"ticks\": \"\"}, \"colorscale\": [[0.0, \"#0d0887\"], [0.1111111111111111, \"#46039f\"], [0.2222222222222222, \"#7201a8\"], [0.3333333333333333, \"#9c179e\"], [0.4444444444444444, \"#bd3786\"], [0.5555555555555556, \"#d8576b\"], [0.6666666666666666, \"#ed7953\"], [0.7777777777777778, \"#fb9f3a\"], [0.8888888888888888, \"#fdca26\"], [1.0, \"#f0f921\"]], \"type\": \"contour\"}], \"contourcarpet\": [{\"colorbar\": {\"outlinewidth\": 0, \"ticks\": \"\"}, \"type\": \"contourcarpet\"}], \"heatmap\": [{\"colorbar\": {\"outlinewidth\": 0, \"ticks\": \"\"}, \"colorscale\": [[0.0, \"#0d0887\"], [0.1111111111111111, \"#46039f\"], [0.2222222222222222, \"#7201a8\"], [0.3333333333333333, \"#9c179e\"], [0.4444444444444444, \"#bd3786\"], [0.5555555555555556, \"#d8576b\"], [0.6666666666666666, \"#ed7953\"], [0.7777777777777778, \"#fb9f3a\"], [0.8888888888888888, \"#fdca26\"], [1.0, \"#f0f921\"]], \"type\": \"heatmap\"}], \"heatmapgl\": [{\"colorbar\": {\"outlinewidth\": 0, \"ticks\": \"\"}, \"colorscale\": [[0.0, \"#0d0887\"], [0.1111111111111111, \"#46039f\"], [0.2222222222222222, \"#7201a8\"], [0.3333333333333333, \"#9c179e\"], [0.4444444444444444, \"#bd3786\"], [0.5555555555555556, \"#d8576b\"], [0.6666666666666666, \"#ed7953\"], [0.7777777777777778, \"#fb9f3a\"], [0.8888888888888888, \"#fdca26\"], [1.0, \"#f0f921\"]], \"type\": \"heatmapgl\"}], \"histogram\": [{\"marker\": {\"colorbar\": {\"outlinewidth\": 0, \"ticks\": \"\"}}, \"type\": \"histogram\"}], \"histogram2d\": [{\"colorbar\": {\"outlinewidth\": 0, \"ticks\": \"\"}, \"colorscale\": [[0.0, \"#0d0887\"], [0.1111111111111111, \"#46039f\"], [0.2222222222222222, \"#7201a8\"], [0.3333333333333333, \"#9c179e\"], [0.4444444444444444, \"#bd3786\"], [0.5555555555555556, \"#d8576b\"], [0.6666666666666666, \"#ed7953\"], [0.7777777777777778, \"#fb9f3a\"], [0.8888888888888888, \"#fdca26\"], [1.0, \"#f0f921\"]], \"type\": \"histogram2d\"}], \"histogram2dcontour\": [{\"colorbar\": {\"outlinewidth\": 0, \"ticks\": \"\"}, \"colorscale\": [[0.0, \"#0d0887\"], [0.1111111111111111, \"#46039f\"], [0.2222222222222222, \"#7201a8\"], [0.3333333333333333, \"#9c179e\"], [0.4444444444444444, \"#bd3786\"], [0.5555555555555556, \"#d8576b\"], [0.6666666666666666, \"#ed7953\"], [0.7777777777777778, \"#fb9f3a\"], [0.8888888888888888, \"#fdca26\"], [1.0, \"#f0f921\"]], \"type\": \"histogram2dcontour\"}], \"mesh3d\": [{\"colorbar\": {\"outlinewidth\": 0, \"ticks\": \"\"}, \"type\": \"mesh3d\"}], \"parcoords\": [{\"line\": {\"colorbar\": {\"outlinewidth\": 0, \"ticks\": \"\"}}, \"type\": \"parcoords\"}], \"pie\": [{\"automargin\": true, \"type\": \"pie\"}], \"scatter\": [{\"marker\": {\"colorbar\": {\"outlinewidth\": 0, \"ticks\": \"\"}}, \"type\": \"scatter\"}], \"scatter3d\": [{\"line\": {\"colorbar\": {\"outlinewidth\": 0, \"ticks\": \"\"}}, \"marker\": {\"colorbar\": {\"outlinewidth\": 0, \"ticks\": \"\"}}, \"type\": \"scatter3d\"}], \"scattercarpet\": [{\"marker\": {\"colorbar\": {\"outlinewidth\": 0, \"ticks\": \"\"}}, \"type\": \"scattercarpet\"}], \"scattergeo\": [{\"marker\": {\"colorbar\": {\"outlinewidth\": 0, \"ticks\": \"\"}}, \"type\": \"scattergeo\"}], \"scattergl\": [{\"marker\": {\"colorbar\": {\"outlinewidth\": 0, \"ticks\": \"\"}}, \"type\": \"scattergl\"}], \"scattermapbox\": [{\"marker\": {\"colorbar\": {\"outlinewidth\": 0, \"ticks\": \"\"}}, \"type\": \"scattermapbox\"}], \"scatterpolar\": [{\"marker\": {\"colorbar\": {\"outlinewidth\": 0, \"ticks\": \"\"}}, \"type\": \"scatterpolar\"}], \"scatterpolargl\": [{\"marker\": {\"colorbar\": {\"outlinewidth\": 0, \"ticks\": \"\"}}, \"type\": \"scatterpolargl\"}], \"scatterternary\": [{\"marker\": {\"colorbar\": {\"outlinewidth\": 0, \"ticks\": \"\"}}, \"type\": \"scatterternary\"}], \"surface\": [{\"colorbar\": {\"outlinewidth\": 0, \"ticks\": \"\"}, \"colorscale\": [[0.0, \"#0d0887\"], [0.1111111111111111, \"#46039f\"], [0.2222222222222222, \"#7201a8\"], [0.3333333333333333, \"#9c179e\"], [0.4444444444444444, \"#bd3786\"], [0.5555555555555556, \"#d8576b\"], [0.6666666666666666, \"#ed7953\"], [0.7777777777777778, \"#fb9f3a\"], [0.8888888888888888, \"#fdca26\"], [1.0, \"#f0f921\"]], \"type\": \"surface\"}], \"table\": [{\"cells\": {\"fill\": {\"color\": \"#EBF0F8\"}, \"line\": {\"color\": \"white\"}}, \"header\": {\"fill\": {\"color\": \"#C8D4E3\"}, \"line\": {\"color\": \"white\"}}, \"type\": \"table\"}]}, \"layout\": {\"annotationdefaults\": {\"arrowcolor\": \"#2a3f5f\", \"arrowhead\": 0, \"arrowwidth\": 1}, \"coloraxis\": {\"colorbar\": {\"outlinewidth\": 0, \"ticks\": \"\"}}, \"colorscale\": {\"diverging\": [[0, \"#8e0152\"], [0.1, \"#c51b7d\"], [0.2, \"#de77ae\"], [0.3, \"#f1b6da\"], [0.4, \"#fde0ef\"], [0.5, \"#f7f7f7\"], [0.6, \"#e6f5d0\"], [0.7, \"#b8e186\"], [0.8, \"#7fbc41\"], [0.9, \"#4d9221\"], [1, \"#276419\"]], \"sequential\": [[0.0, \"#0d0887\"], [0.1111111111111111, \"#46039f\"], [0.2222222222222222, \"#7201a8\"], [0.3333333333333333, \"#9c179e\"], [0.4444444444444444, \"#bd3786\"], [0.5555555555555556, \"#d8576b\"], [0.6666666666666666, \"#ed7953\"], [0.7777777777777778, \"#fb9f3a\"], [0.8888888888888888, \"#fdca26\"], [1.0, \"#f0f921\"]], \"sequentialminus\": [[0.0, \"#0d0887\"], [0.1111111111111111, \"#46039f\"], [0.2222222222222222, \"#7201a8\"], [0.3333333333333333, \"#9c179e\"], [0.4444444444444444, \"#bd3786\"], [0.5555555555555556, \"#d8576b\"], [0.6666666666666666, \"#ed7953\"], [0.7777777777777778, \"#fb9f3a\"], [0.8888888888888888, \"#fdca26\"], [1.0, \"#f0f921\"]]}, \"colorway\": [\"#636efa\", \"#EF553B\", \"#00cc96\", \"#ab63fa\", \"#FFA15A\", \"#19d3f3\", \"#FF6692\", \"#B6E880\", \"#FF97FF\", \"#FECB52\"], \"font\": {\"color\": \"#2a3f5f\"}, \"geo\": {\"bgcolor\": \"white\", \"lakecolor\": \"white\", \"landcolor\": \"#E5ECF6\", \"showlakes\": true, \"showland\": true, \"subunitcolor\": \"white\"}, \"hoverlabel\": {\"align\": \"left\"}, \"hovermode\": \"closest\", \"mapbox\": {\"style\": \"light\"}, \"paper_bgcolor\": \"white\", \"plot_bgcolor\": \"#E5ECF6\", \"polar\": {\"angularaxis\": {\"gridcolor\": \"white\", \"linecolor\": \"white\", \"ticks\": \"\"}, \"bgcolor\": \"#E5ECF6\", \"radialaxis\": {\"gridcolor\": \"white\", \"linecolor\": \"white\", \"ticks\": \"\"}}, \"scene\": {\"xaxis\": {\"backgroundcolor\": \"#E5ECF6\", \"gridcolor\": \"white\", \"gridwidth\": 2, \"linecolor\": \"white\", \"showbackground\": true, \"ticks\": \"\", \"zerolinecolor\": \"white\"}, \"yaxis\": {\"backgroundcolor\": \"#E5ECF6\", \"gridcolor\": \"white\", \"gridwidth\": 2, \"linecolor\": \"white\", \"showbackground\": true, \"ticks\": \"\", \"zerolinecolor\": \"white\"}, \"zaxis\": {\"backgroundcolor\": \"#E5ECF6\", \"gridcolor\": \"white\", \"gridwidth\": 2, \"linecolor\": \"white\", \"showbackground\": true, \"ticks\": \"\", \"zerolinecolor\": \"white\"}}, \"shapedefaults\": {\"line\": {\"color\": \"#2a3f5f\"}}, \"ternary\": {\"aaxis\": {\"gridcolor\": \"white\", \"linecolor\": \"white\", \"ticks\": \"\"}, \"baxis\": {\"gridcolor\": \"white\", \"linecolor\": \"white\", \"ticks\": \"\"}, \"bgcolor\": \"#E5ECF6\", \"caxis\": {\"gridcolor\": \"white\", \"linecolor\": \"white\", \"ticks\": \"\"}}, \"title\": {\"x\": 0.05}, \"xaxis\": {\"automargin\": true, \"gridcolor\": \"white\", \"linecolor\": \"white\", \"ticks\": \"\", \"title\": {\"standoff\": 15}, \"zerolinecolor\": \"white\", \"zerolinewidth\": 2}, \"yaxis\": {\"automargin\": true, \"gridcolor\": \"white\", \"linecolor\": \"white\", \"ticks\": \"\", \"title\": {\"standoff\": 15}, \"zerolinecolor\": \"white\", \"zerolinewidth\": 2}}}},\n",
       "                        {\"responsive\": true}\n",
       "                    ).then(function(){\n",
       "                            \n",
       "var gd = document.getElementById('01592477-8668-42b7-8009-febd77e6b25d');\n",
       "var x = new MutationObserver(function (mutations, observer) {{\n",
       "        var display = window.getComputedStyle(gd).display;\n",
       "        if (!display || display === 'none') {{\n",
       "            console.log([gd, 'removed!']);\n",
       "            Plotly.purge(gd);\n",
       "            observer.disconnect();\n",
       "        }}\n",
       "}});\n",
       "\n",
       "// Listen for the removal of the full notebook cells\n",
       "var notebookContainer = gd.closest('#notebook-container');\n",
       "if (notebookContainer) {{\n",
       "    x.observe(notebookContainer, {childList: true});\n",
       "}}\n",
       "\n",
       "// Listen for the clearing of the current output cell\n",
       "var outputEl = gd.closest('.output');\n",
       "if (outputEl) {{\n",
       "    x.observe(outputEl, {childList: true});\n",
       "}}\n",
       "\n",
       "                        })\n",
       "                };\n",
       "                });\n",
       "            </script>\n",
       "        </div>"
      ]
     },
     "metadata": {},
     "output_type": "display_data"
    },
    {
     "data": {
      "application/vnd.plotly.v1+json": {
       "config": {
        "linkText": "Export to plot.ly",
        "plotlyServerURL": "https://plot.ly",
        "showLink": false
       },
       "data": [
        {
         "hoverinfo": "label+value",
         "labels": [
          "FAMILY",
          "GAME",
          "SPORTS",
          "TOOLS",
          "BUSINESS",
          "FINANCE",
          "PHOTOGRAPHY",
          "PERSONALIZATION",
          "PRODUCTIVITY",
          "SOCIAL",
          "SHOPPING",
          "COMMUNICATION",
          "VIDEO_PLAYERS",
          "ENTERTAINMENT"
         ],
         "name": "x",
         "type": "pie",
         "values": [
          51859.445,
          45035.64999999999,
          7569.433000000003,
          6473.017000000003,
          5788.865,
          5504.069999999997,
          4411.387,
          3997.7430000000036,
          3933.369,
          3713.1930000000007,
          3251.2610000000004,
          3118.176999999999,
          2107.0799999999995,
          1966.8
         ]
        }
       ],
       "layout": {
        "template": {
         "data": {
          "bar": [
           {
            "error_x": {
             "color": "#2a3f5f"
            },
            "error_y": {
             "color": "#2a3f5f"
            },
            "marker": {
             "line": {
              "color": "#E5ECF6",
              "width": 0.5
             }
            },
            "type": "bar"
           }
          ],
          "barpolar": [
           {
            "marker": {
             "line": {
              "color": "#E5ECF6",
              "width": 0.5
             }
            },
            "type": "barpolar"
           }
          ],
          "carpet": [
           {
            "aaxis": {
             "endlinecolor": "#2a3f5f",
             "gridcolor": "white",
             "linecolor": "white",
             "minorgridcolor": "white",
             "startlinecolor": "#2a3f5f"
            },
            "baxis": {
             "endlinecolor": "#2a3f5f",
             "gridcolor": "white",
             "linecolor": "white",
             "minorgridcolor": "white",
             "startlinecolor": "#2a3f5f"
            },
            "type": "carpet"
           }
          ],
          "choropleth": [
           {
            "colorbar": {
             "outlinewidth": 0,
             "ticks": ""
            },
            "type": "choropleth"
           }
          ],
          "contour": [
           {
            "colorbar": {
             "outlinewidth": 0,
             "ticks": ""
            },
            "colorscale": [
             [
              0,
              "#0d0887"
             ],
             [
              0.1111111111111111,
              "#46039f"
             ],
             [
              0.2222222222222222,
              "#7201a8"
             ],
             [
              0.3333333333333333,
              "#9c179e"
             ],
             [
              0.4444444444444444,
              "#bd3786"
             ],
             [
              0.5555555555555556,
              "#d8576b"
             ],
             [
              0.6666666666666666,
              "#ed7953"
             ],
             [
              0.7777777777777778,
              "#fb9f3a"
             ],
             [
              0.8888888888888888,
              "#fdca26"
             ],
             [
              1,
              "#f0f921"
             ]
            ],
            "type": "contour"
           }
          ],
          "contourcarpet": [
           {
            "colorbar": {
             "outlinewidth": 0,
             "ticks": ""
            },
            "type": "contourcarpet"
           }
          ],
          "heatmap": [
           {
            "colorbar": {
             "outlinewidth": 0,
             "ticks": ""
            },
            "colorscale": [
             [
              0,
              "#0d0887"
             ],
             [
              0.1111111111111111,
              "#46039f"
             ],
             [
              0.2222222222222222,
              "#7201a8"
             ],
             [
              0.3333333333333333,
              "#9c179e"
             ],
             [
              0.4444444444444444,
              "#bd3786"
             ],
             [
              0.5555555555555556,
              "#d8576b"
             ],
             [
              0.6666666666666666,
              "#ed7953"
             ],
             [
              0.7777777777777778,
              "#fb9f3a"
             ],
             [
              0.8888888888888888,
              "#fdca26"
             ],
             [
              1,
              "#f0f921"
             ]
            ],
            "type": "heatmap"
           }
          ],
          "heatmapgl": [
           {
            "colorbar": {
             "outlinewidth": 0,
             "ticks": ""
            },
            "colorscale": [
             [
              0,
              "#0d0887"
             ],
             [
              0.1111111111111111,
              "#46039f"
             ],
             [
              0.2222222222222222,
              "#7201a8"
             ],
             [
              0.3333333333333333,
              "#9c179e"
             ],
             [
              0.4444444444444444,
              "#bd3786"
             ],
             [
              0.5555555555555556,
              "#d8576b"
             ],
             [
              0.6666666666666666,
              "#ed7953"
             ],
             [
              0.7777777777777778,
              "#fb9f3a"
             ],
             [
              0.8888888888888888,
              "#fdca26"
             ],
             [
              1,
              "#f0f921"
             ]
            ],
            "type": "heatmapgl"
           }
          ],
          "histogram": [
           {
            "marker": {
             "colorbar": {
              "outlinewidth": 0,
              "ticks": ""
             }
            },
            "type": "histogram"
           }
          ],
          "histogram2d": [
           {
            "colorbar": {
             "outlinewidth": 0,
             "ticks": ""
            },
            "colorscale": [
             [
              0,
              "#0d0887"
             ],
             [
              0.1111111111111111,
              "#46039f"
             ],
             [
              0.2222222222222222,
              "#7201a8"
             ],
             [
              0.3333333333333333,
              "#9c179e"
             ],
             [
              0.4444444444444444,
              "#bd3786"
             ],
             [
              0.5555555555555556,
              "#d8576b"
             ],
             [
              0.6666666666666666,
              "#ed7953"
             ],
             [
              0.7777777777777778,
              "#fb9f3a"
             ],
             [
              0.8888888888888888,
              "#fdca26"
             ],
             [
              1,
              "#f0f921"
             ]
            ],
            "type": "histogram2d"
           }
          ],
          "histogram2dcontour": [
           {
            "colorbar": {
             "outlinewidth": 0,
             "ticks": ""
            },
            "colorscale": [
             [
              0,
              "#0d0887"
             ],
             [
              0.1111111111111111,
              "#46039f"
             ],
             [
              0.2222222222222222,
              "#7201a8"
             ],
             [
              0.3333333333333333,
              "#9c179e"
             ],
             [
              0.4444444444444444,
              "#bd3786"
             ],
             [
              0.5555555555555556,
              "#d8576b"
             ],
             [
              0.6666666666666666,
              "#ed7953"
             ],
             [
              0.7777777777777778,
              "#fb9f3a"
             ],
             [
              0.8888888888888888,
              "#fdca26"
             ],
             [
              1,
              "#f0f921"
             ]
            ],
            "type": "histogram2dcontour"
           }
          ],
          "mesh3d": [
           {
            "colorbar": {
             "outlinewidth": 0,
             "ticks": ""
            },
            "type": "mesh3d"
           }
          ],
          "parcoords": [
           {
            "line": {
             "colorbar": {
              "outlinewidth": 0,
              "ticks": ""
             }
            },
            "type": "parcoords"
           }
          ],
          "pie": [
           {
            "automargin": true,
            "type": "pie"
           }
          ],
          "scatter": [
           {
            "marker": {
             "colorbar": {
              "outlinewidth": 0,
              "ticks": ""
             }
            },
            "type": "scatter"
           }
          ],
          "scatter3d": [
           {
            "line": {
             "colorbar": {
              "outlinewidth": 0,
              "ticks": ""
             }
            },
            "marker": {
             "colorbar": {
              "outlinewidth": 0,
              "ticks": ""
             }
            },
            "type": "scatter3d"
           }
          ],
          "scattercarpet": [
           {
            "marker": {
             "colorbar": {
              "outlinewidth": 0,
              "ticks": ""
             }
            },
            "type": "scattercarpet"
           }
          ],
          "scattergeo": [
           {
            "marker": {
             "colorbar": {
              "outlinewidth": 0,
              "ticks": ""
             }
            },
            "type": "scattergeo"
           }
          ],
          "scattergl": [
           {
            "marker": {
             "colorbar": {
              "outlinewidth": 0,
              "ticks": ""
             }
            },
            "type": "scattergl"
           }
          ],
          "scattermapbox": [
           {
            "marker": {
             "colorbar": {
              "outlinewidth": 0,
              "ticks": ""
             }
            },
            "type": "scattermapbox"
           }
          ],
          "scatterpolar": [
           {
            "marker": {
             "colorbar": {
              "outlinewidth": 0,
              "ticks": ""
             }
            },
            "type": "scatterpolar"
           }
          ],
          "scatterpolargl": [
           {
            "marker": {
             "colorbar": {
              "outlinewidth": 0,
              "ticks": ""
             }
            },
            "type": "scatterpolargl"
           }
          ],
          "scatterternary": [
           {
            "marker": {
             "colorbar": {
              "outlinewidth": 0,
              "ticks": ""
             }
            },
            "type": "scatterternary"
           }
          ],
          "surface": [
           {
            "colorbar": {
             "outlinewidth": 0,
             "ticks": ""
            },
            "colorscale": [
             [
              0,
              "#0d0887"
             ],
             [
              0.1111111111111111,
              "#46039f"
             ],
             [
              0.2222222222222222,
              "#7201a8"
             ],
             [
              0.3333333333333333,
              "#9c179e"
             ],
             [
              0.4444444444444444,
              "#bd3786"
             ],
             [
              0.5555555555555556,
              "#d8576b"
             ],
             [
              0.6666666666666666,
              "#ed7953"
             ],
             [
              0.7777777777777778,
              "#fb9f3a"
             ],
             [
              0.8888888888888888,
              "#fdca26"
             ],
             [
              1,
              "#f0f921"
             ]
            ],
            "type": "surface"
           }
          ],
          "table": [
           {
            "cells": {
             "fill": {
              "color": "#EBF0F8"
             },
             "line": {
              "color": "white"
             }
            },
            "header": {
             "fill": {
              "color": "#C8D4E3"
             },
             "line": {
              "color": "white"
             }
            },
            "type": "table"
           }
          ]
         },
         "layout": {
          "annotationdefaults": {
           "arrowcolor": "#2a3f5f",
           "arrowhead": 0,
           "arrowwidth": 1
          },
          "coloraxis": {
           "colorbar": {
            "outlinewidth": 0,
            "ticks": ""
           }
          },
          "colorscale": {
           "diverging": [
            [
             0,
             "#8e0152"
            ],
            [
             0.1,
             "#c51b7d"
            ],
            [
             0.2,
             "#de77ae"
            ],
            [
             0.3,
             "#f1b6da"
            ],
            [
             0.4,
             "#fde0ef"
            ],
            [
             0.5,
             "#f7f7f7"
            ],
            [
             0.6,
             "#e6f5d0"
            ],
            [
             0.7,
             "#b8e186"
            ],
            [
             0.8,
             "#7fbc41"
            ],
            [
             0.9,
             "#4d9221"
            ],
            [
             1,
             "#276419"
            ]
           ],
           "sequential": [
            [
             0,
             "#0d0887"
            ],
            [
             0.1111111111111111,
             "#46039f"
            ],
            [
             0.2222222222222222,
             "#7201a8"
            ],
            [
             0.3333333333333333,
             "#9c179e"
            ],
            [
             0.4444444444444444,
             "#bd3786"
            ],
            [
             0.5555555555555556,
             "#d8576b"
            ],
            [
             0.6666666666666666,
             "#ed7953"
            ],
            [
             0.7777777777777778,
             "#fb9f3a"
            ],
            [
             0.8888888888888888,
             "#fdca26"
            ],
            [
             1,
             "#f0f921"
            ]
           ],
           "sequentialminus": [
            [
             0,
             "#0d0887"
            ],
            [
             0.1111111111111111,
             "#46039f"
            ],
            [
             0.2222222222222222,
             "#7201a8"
            ],
            [
             0.3333333333333333,
             "#9c179e"
            ],
            [
             0.4444444444444444,
             "#bd3786"
            ],
            [
             0.5555555555555556,
             "#d8576b"
            ],
            [
             0.6666666666666666,
             "#ed7953"
            ],
            [
             0.7777777777777778,
             "#fb9f3a"
            ],
            [
             0.8888888888888888,
             "#fdca26"
            ],
            [
             1,
             "#f0f921"
            ]
           ]
          },
          "colorway": [
           "#636efa",
           "#EF553B",
           "#00cc96",
           "#ab63fa",
           "#FFA15A",
           "#19d3f3",
           "#FF6692",
           "#B6E880",
           "#FF97FF",
           "#FECB52"
          ],
          "font": {
           "color": "#2a3f5f"
          },
          "geo": {
           "bgcolor": "white",
           "lakecolor": "white",
           "landcolor": "#E5ECF6",
           "showlakes": true,
           "showland": true,
           "subunitcolor": "white"
          },
          "hoverlabel": {
           "align": "left"
          },
          "hovermode": "closest",
          "mapbox": {
           "style": "light"
          },
          "paper_bgcolor": "white",
          "plot_bgcolor": "#E5ECF6",
          "polar": {
           "angularaxis": {
            "gridcolor": "white",
            "linecolor": "white",
            "ticks": ""
           },
           "bgcolor": "#E5ECF6",
           "radialaxis": {
            "gridcolor": "white",
            "linecolor": "white",
            "ticks": ""
           }
          },
          "scene": {
           "xaxis": {
            "backgroundcolor": "#E5ECF6",
            "gridcolor": "white",
            "gridwidth": 2,
            "linecolor": "white",
            "showbackground": true,
            "ticks": "",
            "zerolinecolor": "white"
           },
           "yaxis": {
            "backgroundcolor": "#E5ECF6",
            "gridcolor": "white",
            "gridwidth": 2,
            "linecolor": "white",
            "showbackground": true,
            "ticks": "",
            "zerolinecolor": "white"
           },
           "zaxis": {
            "backgroundcolor": "#E5ECF6",
            "gridcolor": "white",
            "gridwidth": 2,
            "linecolor": "white",
            "showbackground": true,
            "ticks": "",
            "zerolinecolor": "white"
           }
          },
          "shapedefaults": {
           "line": {
            "color": "#2a3f5f"
           }
          },
          "ternary": {
           "aaxis": {
            "gridcolor": "white",
            "linecolor": "white",
            "ticks": ""
           },
           "baxis": {
            "gridcolor": "white",
            "linecolor": "white",
            "ticks": ""
           },
           "bgcolor": "#E5ECF6",
           "caxis": {
            "gridcolor": "white",
            "linecolor": "white",
            "ticks": ""
           }
          },
          "title": {
           "x": 0.05
          },
          "xaxis": {
           "automargin": true,
           "gridcolor": "white",
           "linecolor": "white",
           "ticks": "",
           "title": {
            "standoff": 15
           },
           "zerolinecolor": "white",
           "zerolinewidth": 2
          },
          "yaxis": {
           "automargin": true,
           "gridcolor": "white",
           "linecolor": "white",
           "ticks": "",
           "title": {
            "standoff": 15
           },
           "zerolinecolor": "white",
           "zerolinewidth": 2
          }
         }
        }
       }
      },
      "text/html": [
       "<div>\n",
       "        \n",
       "        \n",
       "            <div id=\"01618aed-0091-401d-91be-77265290a408\" class=\"plotly-graph-div\" style=\"height:525px; width:100%;\"></div>\n",
       "            <script type=\"text/javascript\">\n",
       "                require([\"plotly\"], function(Plotly) {\n",
       "                    window.PLOTLYENV=window.PLOTLYENV || {};\n",
       "                    \n",
       "                if (document.getElementById(\"01618aed-0091-401d-91be-77265290a408\")) {\n",
       "                    Plotly.newPlot(\n",
       "                        '01618aed-0091-401d-91be-77265290a408',\n",
       "                        [{\"hoverinfo\": \"label+value\", \"labels\": [\"FAMILY\", \"GAME\", \"SPORTS\", \"TOOLS\", \"BUSINESS\", \"FINANCE\", \"PHOTOGRAPHY\", \"PERSONALIZATION\", \"PRODUCTIVITY\", \"SOCIAL\", \"SHOPPING\", \"COMMUNICATION\", \"VIDEO_PLAYERS\", \"ENTERTAINMENT\"], \"name\": \"x\", \"type\": \"pie\", \"values\": [51859.445, 45035.64999999999, 7569.433000000003, 6473.017000000003, 5788.865, 5504.069999999997, 4411.387, 3997.7430000000036, 3933.369, 3713.1930000000007, 3251.2610000000004, 3118.176999999999, 2107.0799999999995, 1966.8]}],\n",
       "                        {\"template\": {\"data\": {\"bar\": [{\"error_x\": {\"color\": \"#2a3f5f\"}, \"error_y\": {\"color\": \"#2a3f5f\"}, \"marker\": {\"line\": {\"color\": \"#E5ECF6\", \"width\": 0.5}}, \"type\": \"bar\"}], \"barpolar\": [{\"marker\": {\"line\": {\"color\": \"#E5ECF6\", \"width\": 0.5}}, \"type\": \"barpolar\"}], \"carpet\": [{\"aaxis\": {\"endlinecolor\": \"#2a3f5f\", \"gridcolor\": \"white\", \"linecolor\": \"white\", \"minorgridcolor\": \"white\", \"startlinecolor\": \"#2a3f5f\"}, \"baxis\": {\"endlinecolor\": \"#2a3f5f\", \"gridcolor\": \"white\", \"linecolor\": \"white\", \"minorgridcolor\": \"white\", \"startlinecolor\": \"#2a3f5f\"}, \"type\": \"carpet\"}], \"choropleth\": [{\"colorbar\": {\"outlinewidth\": 0, \"ticks\": \"\"}, \"type\": \"choropleth\"}], \"contour\": [{\"colorbar\": {\"outlinewidth\": 0, \"ticks\": \"\"}, \"colorscale\": [[0.0, \"#0d0887\"], [0.1111111111111111, \"#46039f\"], [0.2222222222222222, \"#7201a8\"], [0.3333333333333333, \"#9c179e\"], [0.4444444444444444, \"#bd3786\"], [0.5555555555555556, \"#d8576b\"], [0.6666666666666666, \"#ed7953\"], [0.7777777777777778, \"#fb9f3a\"], [0.8888888888888888, \"#fdca26\"], [1.0, \"#f0f921\"]], \"type\": \"contour\"}], \"contourcarpet\": [{\"colorbar\": {\"outlinewidth\": 0, \"ticks\": \"\"}, \"type\": \"contourcarpet\"}], \"heatmap\": [{\"colorbar\": {\"outlinewidth\": 0, \"ticks\": \"\"}, \"colorscale\": [[0.0, \"#0d0887\"], [0.1111111111111111, \"#46039f\"], [0.2222222222222222, \"#7201a8\"], [0.3333333333333333, \"#9c179e\"], [0.4444444444444444, \"#bd3786\"], [0.5555555555555556, \"#d8576b\"], [0.6666666666666666, \"#ed7953\"], [0.7777777777777778, \"#fb9f3a\"], [0.8888888888888888, \"#fdca26\"], [1.0, \"#f0f921\"]], \"type\": \"heatmap\"}], \"heatmapgl\": [{\"colorbar\": {\"outlinewidth\": 0, \"ticks\": \"\"}, \"colorscale\": [[0.0, \"#0d0887\"], [0.1111111111111111, \"#46039f\"], [0.2222222222222222, \"#7201a8\"], [0.3333333333333333, \"#9c179e\"], [0.4444444444444444, \"#bd3786\"], [0.5555555555555556, \"#d8576b\"], [0.6666666666666666, \"#ed7953\"], [0.7777777777777778, \"#fb9f3a\"], [0.8888888888888888, \"#fdca26\"], [1.0, \"#f0f921\"]], \"type\": \"heatmapgl\"}], \"histogram\": [{\"marker\": {\"colorbar\": {\"outlinewidth\": 0, \"ticks\": \"\"}}, \"type\": \"histogram\"}], \"histogram2d\": [{\"colorbar\": {\"outlinewidth\": 0, \"ticks\": \"\"}, \"colorscale\": [[0.0, \"#0d0887\"], [0.1111111111111111, \"#46039f\"], [0.2222222222222222, \"#7201a8\"], [0.3333333333333333, \"#9c179e\"], [0.4444444444444444, \"#bd3786\"], [0.5555555555555556, \"#d8576b\"], [0.6666666666666666, \"#ed7953\"], [0.7777777777777778, \"#fb9f3a\"], [0.8888888888888888, \"#fdca26\"], [1.0, \"#f0f921\"]], \"type\": \"histogram2d\"}], \"histogram2dcontour\": [{\"colorbar\": {\"outlinewidth\": 0, \"ticks\": \"\"}, \"colorscale\": [[0.0, \"#0d0887\"], [0.1111111111111111, \"#46039f\"], [0.2222222222222222, \"#7201a8\"], [0.3333333333333333, \"#9c179e\"], [0.4444444444444444, \"#bd3786\"], [0.5555555555555556, \"#d8576b\"], [0.6666666666666666, \"#ed7953\"], [0.7777777777777778, \"#fb9f3a\"], [0.8888888888888888, \"#fdca26\"], [1.0, \"#f0f921\"]], \"type\": \"histogram2dcontour\"}], \"mesh3d\": [{\"colorbar\": {\"outlinewidth\": 0, \"ticks\": \"\"}, \"type\": \"mesh3d\"}], \"parcoords\": [{\"line\": {\"colorbar\": {\"outlinewidth\": 0, \"ticks\": \"\"}}, \"type\": \"parcoords\"}], \"pie\": [{\"automargin\": true, \"type\": \"pie\"}], \"scatter\": [{\"marker\": {\"colorbar\": {\"outlinewidth\": 0, \"ticks\": \"\"}}, \"type\": \"scatter\"}], \"scatter3d\": [{\"line\": {\"colorbar\": {\"outlinewidth\": 0, \"ticks\": \"\"}}, \"marker\": {\"colorbar\": {\"outlinewidth\": 0, \"ticks\": \"\"}}, \"type\": \"scatter3d\"}], \"scattercarpet\": [{\"marker\": {\"colorbar\": {\"outlinewidth\": 0, \"ticks\": \"\"}}, \"type\": \"scattercarpet\"}], \"scattergeo\": [{\"marker\": {\"colorbar\": {\"outlinewidth\": 0, \"ticks\": \"\"}}, \"type\": \"scattergeo\"}], \"scattergl\": [{\"marker\": {\"colorbar\": {\"outlinewidth\": 0, \"ticks\": \"\"}}, \"type\": \"scattergl\"}], \"scattermapbox\": [{\"marker\": {\"colorbar\": {\"outlinewidth\": 0, \"ticks\": \"\"}}, \"type\": \"scattermapbox\"}], \"scatterpolar\": [{\"marker\": {\"colorbar\": {\"outlinewidth\": 0, \"ticks\": \"\"}}, \"type\": \"scatterpolar\"}], \"scatterpolargl\": [{\"marker\": {\"colorbar\": {\"outlinewidth\": 0, \"ticks\": \"\"}}, \"type\": \"scatterpolargl\"}], \"scatterternary\": [{\"marker\": {\"colorbar\": {\"outlinewidth\": 0, \"ticks\": \"\"}}, \"type\": \"scatterternary\"}], \"surface\": [{\"colorbar\": {\"outlinewidth\": 0, \"ticks\": \"\"}, \"colorscale\": [[0.0, \"#0d0887\"], [0.1111111111111111, \"#46039f\"], [0.2222222222222222, \"#7201a8\"], [0.3333333333333333, \"#9c179e\"], [0.4444444444444444, \"#bd3786\"], [0.5555555555555556, \"#d8576b\"], [0.6666666666666666, \"#ed7953\"], [0.7777777777777778, \"#fb9f3a\"], [0.8888888888888888, \"#fdca26\"], [1.0, \"#f0f921\"]], \"type\": \"surface\"}], \"table\": [{\"cells\": {\"fill\": {\"color\": \"#EBF0F8\"}, \"line\": {\"color\": \"white\"}}, \"header\": {\"fill\": {\"color\": \"#C8D4E3\"}, \"line\": {\"color\": \"white\"}}, \"type\": \"table\"}]}, \"layout\": {\"annotationdefaults\": {\"arrowcolor\": \"#2a3f5f\", \"arrowhead\": 0, \"arrowwidth\": 1}, \"coloraxis\": {\"colorbar\": {\"outlinewidth\": 0, \"ticks\": \"\"}}, \"colorscale\": {\"diverging\": [[0, \"#8e0152\"], [0.1, \"#c51b7d\"], [0.2, \"#de77ae\"], [0.3, \"#f1b6da\"], [0.4, \"#fde0ef\"], [0.5, \"#f7f7f7\"], [0.6, \"#e6f5d0\"], [0.7, \"#b8e186\"], [0.8, \"#7fbc41\"], [0.9, \"#4d9221\"], [1, \"#276419\"]], \"sequential\": [[0.0, \"#0d0887\"], [0.1111111111111111, \"#46039f\"], [0.2222222222222222, \"#7201a8\"], [0.3333333333333333, \"#9c179e\"], [0.4444444444444444, \"#bd3786\"], [0.5555555555555556, \"#d8576b\"], [0.6666666666666666, \"#ed7953\"], [0.7777777777777778, \"#fb9f3a\"], [0.8888888888888888, \"#fdca26\"], [1.0, \"#f0f921\"]], \"sequentialminus\": [[0.0, \"#0d0887\"], [0.1111111111111111, \"#46039f\"], [0.2222222222222222, \"#7201a8\"], [0.3333333333333333, \"#9c179e\"], [0.4444444444444444, \"#bd3786\"], [0.5555555555555556, \"#d8576b\"], [0.6666666666666666, \"#ed7953\"], [0.7777777777777778, \"#fb9f3a\"], [0.8888888888888888, \"#fdca26\"], [1.0, \"#f0f921\"]]}, \"colorway\": [\"#636efa\", \"#EF553B\", \"#00cc96\", \"#ab63fa\", \"#FFA15A\", \"#19d3f3\", \"#FF6692\", \"#B6E880\", \"#FF97FF\", \"#FECB52\"], \"font\": {\"color\": \"#2a3f5f\"}, \"geo\": {\"bgcolor\": \"white\", \"lakecolor\": \"white\", \"landcolor\": \"#E5ECF6\", \"showlakes\": true, \"showland\": true, \"subunitcolor\": \"white\"}, \"hoverlabel\": {\"align\": \"left\"}, \"hovermode\": \"closest\", \"mapbox\": {\"style\": \"light\"}, \"paper_bgcolor\": \"white\", \"plot_bgcolor\": \"#E5ECF6\", \"polar\": {\"angularaxis\": {\"gridcolor\": \"white\", \"linecolor\": \"white\", \"ticks\": \"\"}, \"bgcolor\": \"#E5ECF6\", \"radialaxis\": {\"gridcolor\": \"white\", \"linecolor\": \"white\", \"ticks\": \"\"}}, \"scene\": {\"xaxis\": {\"backgroundcolor\": \"#E5ECF6\", \"gridcolor\": \"white\", \"gridwidth\": 2, \"linecolor\": \"white\", \"showbackground\": true, \"ticks\": \"\", \"zerolinecolor\": \"white\"}, \"yaxis\": {\"backgroundcolor\": \"#E5ECF6\", \"gridcolor\": \"white\", \"gridwidth\": 2, \"linecolor\": \"white\", \"showbackground\": true, \"ticks\": \"\", \"zerolinecolor\": \"white\"}, \"zaxis\": {\"backgroundcolor\": \"#E5ECF6\", \"gridcolor\": \"white\", \"gridwidth\": 2, \"linecolor\": \"white\", \"showbackground\": true, \"ticks\": \"\", \"zerolinecolor\": \"white\"}}, \"shapedefaults\": {\"line\": {\"color\": \"#2a3f5f\"}}, \"ternary\": {\"aaxis\": {\"gridcolor\": \"white\", \"linecolor\": \"white\", \"ticks\": \"\"}, \"baxis\": {\"gridcolor\": \"white\", \"linecolor\": \"white\", \"ticks\": \"\"}, \"bgcolor\": \"#E5ECF6\", \"caxis\": {\"gridcolor\": \"white\", \"linecolor\": \"white\", \"ticks\": \"\"}}, \"title\": {\"x\": 0.05}, \"xaxis\": {\"automargin\": true, \"gridcolor\": \"white\", \"linecolor\": \"white\", \"ticks\": \"\", \"title\": {\"standoff\": 15}, \"zerolinecolor\": \"white\", \"zerolinewidth\": 2}, \"yaxis\": {\"automargin\": true, \"gridcolor\": \"white\", \"linecolor\": \"white\", \"ticks\": \"\", \"title\": {\"standoff\": 15}, \"zerolinecolor\": \"white\", \"zerolinewidth\": 2}}}},\n",
       "                        {\"responsive\": true}\n",
       "                    ).then(function(){\n",
       "                            \n",
       "var gd = document.getElementById('01618aed-0091-401d-91be-77265290a408');\n",
       "var x = new MutationObserver(function (mutations, observer) {{\n",
       "        var display = window.getComputedStyle(gd).display;\n",
       "        if (!display || display === 'none') {{\n",
       "            console.log([gd, 'removed!']);\n",
       "            Plotly.purge(gd);\n",
       "            observer.disconnect();\n",
       "        }}\n",
       "}});\n",
       "\n",
       "// Listen for the removal of the full notebook cells\n",
       "var notebookContainer = gd.closest('#notebook-container');\n",
       "if (notebookContainer) {{\n",
       "    x.observe(notebookContainer, {childList: true});\n",
       "}}\n",
       "\n",
       "// Listen for the clearing of the current output cell\n",
       "var outputEl = gd.closest('.output');\n",
       "if (outputEl) {{\n",
       "    x.observe(outputEl, {childList: true});\n",
       "}}\n",
       "\n",
       "                        })\n",
       "                };\n",
       "                });\n",
       "            </script>\n",
       "        </div>"
      ]
     },
     "metadata": {},
     "output_type": "display_data"
    },
    {
     "data": {
      "application/vnd.plotly.v1+json": {
       "config": {
        "linkText": "Export to plot.ly",
        "plotlyServerURL": "https://plot.ly",
        "showLink": false
       },
       "data": [
        {
         "hoverinfo": "label+value",
         "labels": [
          "BUSINESS",
          "COMMUNICATION",
          "ENTERTAINMENT",
          "FAMILY",
          "FINANCE",
          "GAME",
          "PERSONALIZATION",
          "PHOTOGRAPHY",
          "PRODUCTIVITY",
          "SHOPPING",
          "SOCIAL",
          "SPORTS",
          "TOOLS",
          "VIDEO_PLAYERS"
         ],
         "name": "y",
         "type": "pie",
         "values": [
          1001914865,
          32647276251,
          2869160000,
          10258203405,
          876648734,
          35086024415,
          2325483782,
          10088247655,
          14176091369,
          3247848785,
          14069867902,
          1751174498,
          11452271905,
          6222002720
         ]
        }
       ],
       "layout": {
        "template": {
         "data": {
          "bar": [
           {
            "error_x": {
             "color": "#2a3f5f"
            },
            "error_y": {
             "color": "#2a3f5f"
            },
            "marker": {
             "line": {
              "color": "#E5ECF6",
              "width": 0.5
             }
            },
            "type": "bar"
           }
          ],
          "barpolar": [
           {
            "marker": {
             "line": {
              "color": "#E5ECF6",
              "width": 0.5
             }
            },
            "type": "barpolar"
           }
          ],
          "carpet": [
           {
            "aaxis": {
             "endlinecolor": "#2a3f5f",
             "gridcolor": "white",
             "linecolor": "white",
             "minorgridcolor": "white",
             "startlinecolor": "#2a3f5f"
            },
            "baxis": {
             "endlinecolor": "#2a3f5f",
             "gridcolor": "white",
             "linecolor": "white",
             "minorgridcolor": "white",
             "startlinecolor": "#2a3f5f"
            },
            "type": "carpet"
           }
          ],
          "choropleth": [
           {
            "colorbar": {
             "outlinewidth": 0,
             "ticks": ""
            },
            "type": "choropleth"
           }
          ],
          "contour": [
           {
            "colorbar": {
             "outlinewidth": 0,
             "ticks": ""
            },
            "colorscale": [
             [
              0,
              "#0d0887"
             ],
             [
              0.1111111111111111,
              "#46039f"
             ],
             [
              0.2222222222222222,
              "#7201a8"
             ],
             [
              0.3333333333333333,
              "#9c179e"
             ],
             [
              0.4444444444444444,
              "#bd3786"
             ],
             [
              0.5555555555555556,
              "#d8576b"
             ],
             [
              0.6666666666666666,
              "#ed7953"
             ],
             [
              0.7777777777777778,
              "#fb9f3a"
             ],
             [
              0.8888888888888888,
              "#fdca26"
             ],
             [
              1,
              "#f0f921"
             ]
            ],
            "type": "contour"
           }
          ],
          "contourcarpet": [
           {
            "colorbar": {
             "outlinewidth": 0,
             "ticks": ""
            },
            "type": "contourcarpet"
           }
          ],
          "heatmap": [
           {
            "colorbar": {
             "outlinewidth": 0,
             "ticks": ""
            },
            "colorscale": [
             [
              0,
              "#0d0887"
             ],
             [
              0.1111111111111111,
              "#46039f"
             ],
             [
              0.2222222222222222,
              "#7201a8"
             ],
             [
              0.3333333333333333,
              "#9c179e"
             ],
             [
              0.4444444444444444,
              "#bd3786"
             ],
             [
              0.5555555555555556,
              "#d8576b"
             ],
             [
              0.6666666666666666,
              "#ed7953"
             ],
             [
              0.7777777777777778,
              "#fb9f3a"
             ],
             [
              0.8888888888888888,
              "#fdca26"
             ],
             [
              1,
              "#f0f921"
             ]
            ],
            "type": "heatmap"
           }
          ],
          "heatmapgl": [
           {
            "colorbar": {
             "outlinewidth": 0,
             "ticks": ""
            },
            "colorscale": [
             [
              0,
              "#0d0887"
             ],
             [
              0.1111111111111111,
              "#46039f"
             ],
             [
              0.2222222222222222,
              "#7201a8"
             ],
             [
              0.3333333333333333,
              "#9c179e"
             ],
             [
              0.4444444444444444,
              "#bd3786"
             ],
             [
              0.5555555555555556,
              "#d8576b"
             ],
             [
              0.6666666666666666,
              "#ed7953"
             ],
             [
              0.7777777777777778,
              "#fb9f3a"
             ],
             [
              0.8888888888888888,
              "#fdca26"
             ],
             [
              1,
              "#f0f921"
             ]
            ],
            "type": "heatmapgl"
           }
          ],
          "histogram": [
           {
            "marker": {
             "colorbar": {
              "outlinewidth": 0,
              "ticks": ""
             }
            },
            "type": "histogram"
           }
          ],
          "histogram2d": [
           {
            "colorbar": {
             "outlinewidth": 0,
             "ticks": ""
            },
            "colorscale": [
             [
              0,
              "#0d0887"
             ],
             [
              0.1111111111111111,
              "#46039f"
             ],
             [
              0.2222222222222222,
              "#7201a8"
             ],
             [
              0.3333333333333333,
              "#9c179e"
             ],
             [
              0.4444444444444444,
              "#bd3786"
             ],
             [
              0.5555555555555556,
              "#d8576b"
             ],
             [
              0.6666666666666666,
              "#ed7953"
             ],
             [
              0.7777777777777778,
              "#fb9f3a"
             ],
             [
              0.8888888888888888,
              "#fdca26"
             ],
             [
              1,
              "#f0f921"
             ]
            ],
            "type": "histogram2d"
           }
          ],
          "histogram2dcontour": [
           {
            "colorbar": {
             "outlinewidth": 0,
             "ticks": ""
            },
            "colorscale": [
             [
              0,
              "#0d0887"
             ],
             [
              0.1111111111111111,
              "#46039f"
             ],
             [
              0.2222222222222222,
              "#7201a8"
             ],
             [
              0.3333333333333333,
              "#9c179e"
             ],
             [
              0.4444444444444444,
              "#bd3786"
             ],
             [
              0.5555555555555556,
              "#d8576b"
             ],
             [
              0.6666666666666666,
              "#ed7953"
             ],
             [
              0.7777777777777778,
              "#fb9f3a"
             ],
             [
              0.8888888888888888,
              "#fdca26"
             ],
             [
              1,
              "#f0f921"
             ]
            ],
            "type": "histogram2dcontour"
           }
          ],
          "mesh3d": [
           {
            "colorbar": {
             "outlinewidth": 0,
             "ticks": ""
            },
            "type": "mesh3d"
           }
          ],
          "parcoords": [
           {
            "line": {
             "colorbar": {
              "outlinewidth": 0,
              "ticks": ""
             }
            },
            "type": "parcoords"
           }
          ],
          "pie": [
           {
            "automargin": true,
            "type": "pie"
           }
          ],
          "scatter": [
           {
            "marker": {
             "colorbar": {
              "outlinewidth": 0,
              "ticks": ""
             }
            },
            "type": "scatter"
           }
          ],
          "scatter3d": [
           {
            "line": {
             "colorbar": {
              "outlinewidth": 0,
              "ticks": ""
             }
            },
            "marker": {
             "colorbar": {
              "outlinewidth": 0,
              "ticks": ""
             }
            },
            "type": "scatter3d"
           }
          ],
          "scattercarpet": [
           {
            "marker": {
             "colorbar": {
              "outlinewidth": 0,
              "ticks": ""
             }
            },
            "type": "scattercarpet"
           }
          ],
          "scattergeo": [
           {
            "marker": {
             "colorbar": {
              "outlinewidth": 0,
              "ticks": ""
             }
            },
            "type": "scattergeo"
           }
          ],
          "scattergl": [
           {
            "marker": {
             "colorbar": {
              "outlinewidth": 0,
              "ticks": ""
             }
            },
            "type": "scattergl"
           }
          ],
          "scattermapbox": [
           {
            "marker": {
             "colorbar": {
              "outlinewidth": 0,
              "ticks": ""
             }
            },
            "type": "scattermapbox"
           }
          ],
          "scatterpolar": [
           {
            "marker": {
             "colorbar": {
              "outlinewidth": 0,
              "ticks": ""
             }
            },
            "type": "scatterpolar"
           }
          ],
          "scatterpolargl": [
           {
            "marker": {
             "colorbar": {
              "outlinewidth": 0,
              "ticks": ""
             }
            },
            "type": "scatterpolargl"
           }
          ],
          "scatterternary": [
           {
            "marker": {
             "colorbar": {
              "outlinewidth": 0,
              "ticks": ""
             }
            },
            "type": "scatterternary"
           }
          ],
          "surface": [
           {
            "colorbar": {
             "outlinewidth": 0,
             "ticks": ""
            },
            "colorscale": [
             [
              0,
              "#0d0887"
             ],
             [
              0.1111111111111111,
              "#46039f"
             ],
             [
              0.2222222222222222,
              "#7201a8"
             ],
             [
              0.3333333333333333,
              "#9c179e"
             ],
             [
              0.4444444444444444,
              "#bd3786"
             ],
             [
              0.5555555555555556,
              "#d8576b"
             ],
             [
              0.6666666666666666,
              "#ed7953"
             ],
             [
              0.7777777777777778,
              "#fb9f3a"
             ],
             [
              0.8888888888888888,
              "#fdca26"
             ],
             [
              1,
              "#f0f921"
             ]
            ],
            "type": "surface"
           }
          ],
          "table": [
           {
            "cells": {
             "fill": {
              "color": "#EBF0F8"
             },
             "line": {
              "color": "white"
             }
            },
            "header": {
             "fill": {
              "color": "#C8D4E3"
             },
             "line": {
              "color": "white"
             }
            },
            "type": "table"
           }
          ]
         },
         "layout": {
          "annotationdefaults": {
           "arrowcolor": "#2a3f5f",
           "arrowhead": 0,
           "arrowwidth": 1
          },
          "coloraxis": {
           "colorbar": {
            "outlinewidth": 0,
            "ticks": ""
           }
          },
          "colorscale": {
           "diverging": [
            [
             0,
             "#8e0152"
            ],
            [
             0.1,
             "#c51b7d"
            ],
            [
             0.2,
             "#de77ae"
            ],
            [
             0.3,
             "#f1b6da"
            ],
            [
             0.4,
             "#fde0ef"
            ],
            [
             0.5,
             "#f7f7f7"
            ],
            [
             0.6,
             "#e6f5d0"
            ],
            [
             0.7,
             "#b8e186"
            ],
            [
             0.8,
             "#7fbc41"
            ],
            [
             0.9,
             "#4d9221"
            ],
            [
             1,
             "#276419"
            ]
           ],
           "sequential": [
            [
             0,
             "#0d0887"
            ],
            [
             0.1111111111111111,
             "#46039f"
            ],
            [
             0.2222222222222222,
             "#7201a8"
            ],
            [
             0.3333333333333333,
             "#9c179e"
            ],
            [
             0.4444444444444444,
             "#bd3786"
            ],
            [
             0.5555555555555556,
             "#d8576b"
            ],
            [
             0.6666666666666666,
             "#ed7953"
            ],
            [
             0.7777777777777778,
             "#fb9f3a"
            ],
            [
             0.8888888888888888,
             "#fdca26"
            ],
            [
             1,
             "#f0f921"
            ]
           ],
           "sequentialminus": [
            [
             0,
             "#0d0887"
            ],
            [
             0.1111111111111111,
             "#46039f"
            ],
            [
             0.2222222222222222,
             "#7201a8"
            ],
            [
             0.3333333333333333,
             "#9c179e"
            ],
            [
             0.4444444444444444,
             "#bd3786"
            ],
            [
             0.5555555555555556,
             "#d8576b"
            ],
            [
             0.6666666666666666,
             "#ed7953"
            ],
            [
             0.7777777777777778,
             "#fb9f3a"
            ],
            [
             0.8888888888888888,
             "#fdca26"
            ],
            [
             1,
             "#f0f921"
            ]
           ]
          },
          "colorway": [
           "#636efa",
           "#EF553B",
           "#00cc96",
           "#ab63fa",
           "#FFA15A",
           "#19d3f3",
           "#FF6692",
           "#B6E880",
           "#FF97FF",
           "#FECB52"
          ],
          "font": {
           "color": "#2a3f5f"
          },
          "geo": {
           "bgcolor": "white",
           "lakecolor": "white",
           "landcolor": "#E5ECF6",
           "showlakes": true,
           "showland": true,
           "subunitcolor": "white"
          },
          "hoverlabel": {
           "align": "left"
          },
          "hovermode": "closest",
          "mapbox": {
           "style": "light"
          },
          "paper_bgcolor": "white",
          "plot_bgcolor": "#E5ECF6",
          "polar": {
           "angularaxis": {
            "gridcolor": "white",
            "linecolor": "white",
            "ticks": ""
           },
           "bgcolor": "#E5ECF6",
           "radialaxis": {
            "gridcolor": "white",
            "linecolor": "white",
            "ticks": ""
           }
          },
          "scene": {
           "xaxis": {
            "backgroundcolor": "#E5ECF6",
            "gridcolor": "white",
            "gridwidth": 2,
            "linecolor": "white",
            "showbackground": true,
            "ticks": "",
            "zerolinecolor": "white"
           },
           "yaxis": {
            "backgroundcolor": "#E5ECF6",
            "gridcolor": "white",
            "gridwidth": 2,
            "linecolor": "white",
            "showbackground": true,
            "ticks": "",
            "zerolinecolor": "white"
           },
           "zaxis": {
            "backgroundcolor": "#E5ECF6",
            "gridcolor": "white",
            "gridwidth": 2,
            "linecolor": "white",
            "showbackground": true,
            "ticks": "",
            "zerolinecolor": "white"
           }
          },
          "shapedefaults": {
           "line": {
            "color": "#2a3f5f"
           }
          },
          "ternary": {
           "aaxis": {
            "gridcolor": "white",
            "linecolor": "white",
            "ticks": ""
           },
           "baxis": {
            "gridcolor": "white",
            "linecolor": "white",
            "ticks": ""
           },
           "bgcolor": "#E5ECF6",
           "caxis": {
            "gridcolor": "white",
            "linecolor": "white",
            "ticks": ""
           }
          },
          "title": {
           "x": 0.05
          },
          "xaxis": {
           "automargin": true,
           "gridcolor": "white",
           "linecolor": "white",
           "ticks": "",
           "title": {
            "standoff": 15
           },
           "zerolinecolor": "white",
           "zerolinewidth": 2
          },
          "yaxis": {
           "automargin": true,
           "gridcolor": "white",
           "linecolor": "white",
           "ticks": "",
           "title": {
            "standoff": 15
           },
           "zerolinecolor": "white",
           "zerolinewidth": 2
          }
         }
        }
       }
      },
      "text/html": [
       "<div>\n",
       "        \n",
       "        \n",
       "            <div id=\"61a67e6d-e2cf-4156-8495-a4054e36ba77\" class=\"plotly-graph-div\" style=\"height:525px; width:100%;\"></div>\n",
       "            <script type=\"text/javascript\">\n",
       "                require([\"plotly\"], function(Plotly) {\n",
       "                    window.PLOTLYENV=window.PLOTLYENV || {};\n",
       "                    \n",
       "                if (document.getElementById(\"61a67e6d-e2cf-4156-8495-a4054e36ba77\")) {\n",
       "                    Plotly.newPlot(\n",
       "                        '61a67e6d-e2cf-4156-8495-a4054e36ba77',\n",
       "                        [{\"hoverinfo\": \"label+value\", \"labels\": [\"BUSINESS\", \"COMMUNICATION\", \"ENTERTAINMENT\", \"FAMILY\", \"FINANCE\", \"GAME\", \"PERSONALIZATION\", \"PHOTOGRAPHY\", \"PRODUCTIVITY\", \"SHOPPING\", \"SOCIAL\", \"SPORTS\", \"TOOLS\", \"VIDEO_PLAYERS\"], \"name\": \"y\", \"type\": \"pie\", \"values\": [1001914865, 32647276251, 2869160000, 10258203405, 876648734, 35086024415, 2325483782, 10088247655, 14176091369, 3247848785, 14069867902, 1751174498, 11452271905, 6222002720]}],\n",
       "                        {\"template\": {\"data\": {\"bar\": [{\"error_x\": {\"color\": \"#2a3f5f\"}, \"error_y\": {\"color\": \"#2a3f5f\"}, \"marker\": {\"line\": {\"color\": \"#E5ECF6\", \"width\": 0.5}}, \"type\": \"bar\"}], \"barpolar\": [{\"marker\": {\"line\": {\"color\": \"#E5ECF6\", \"width\": 0.5}}, \"type\": \"barpolar\"}], \"carpet\": [{\"aaxis\": {\"endlinecolor\": \"#2a3f5f\", \"gridcolor\": \"white\", \"linecolor\": \"white\", \"minorgridcolor\": \"white\", \"startlinecolor\": \"#2a3f5f\"}, \"baxis\": {\"endlinecolor\": \"#2a3f5f\", \"gridcolor\": \"white\", \"linecolor\": \"white\", \"minorgridcolor\": \"white\", \"startlinecolor\": \"#2a3f5f\"}, \"type\": \"carpet\"}], \"choropleth\": [{\"colorbar\": {\"outlinewidth\": 0, \"ticks\": \"\"}, \"type\": \"choropleth\"}], \"contour\": [{\"colorbar\": {\"outlinewidth\": 0, \"ticks\": \"\"}, \"colorscale\": [[0.0, \"#0d0887\"], [0.1111111111111111, \"#46039f\"], [0.2222222222222222, \"#7201a8\"], [0.3333333333333333, \"#9c179e\"], [0.4444444444444444, \"#bd3786\"], [0.5555555555555556, \"#d8576b\"], [0.6666666666666666, \"#ed7953\"], [0.7777777777777778, \"#fb9f3a\"], [0.8888888888888888, \"#fdca26\"], [1.0, \"#f0f921\"]], \"type\": \"contour\"}], \"contourcarpet\": [{\"colorbar\": {\"outlinewidth\": 0, \"ticks\": \"\"}, \"type\": \"contourcarpet\"}], \"heatmap\": [{\"colorbar\": {\"outlinewidth\": 0, \"ticks\": \"\"}, \"colorscale\": [[0.0, \"#0d0887\"], [0.1111111111111111, \"#46039f\"], [0.2222222222222222, \"#7201a8\"], [0.3333333333333333, \"#9c179e\"], [0.4444444444444444, \"#bd3786\"], [0.5555555555555556, \"#d8576b\"], [0.6666666666666666, \"#ed7953\"], [0.7777777777777778, \"#fb9f3a\"], [0.8888888888888888, \"#fdca26\"], [1.0, \"#f0f921\"]], \"type\": \"heatmap\"}], \"heatmapgl\": [{\"colorbar\": {\"outlinewidth\": 0, \"ticks\": \"\"}, \"colorscale\": [[0.0, \"#0d0887\"], [0.1111111111111111, \"#46039f\"], [0.2222222222222222, \"#7201a8\"], [0.3333333333333333, \"#9c179e\"], [0.4444444444444444, \"#bd3786\"], [0.5555555555555556, \"#d8576b\"], [0.6666666666666666, \"#ed7953\"], [0.7777777777777778, \"#fb9f3a\"], [0.8888888888888888, \"#fdca26\"], [1.0, \"#f0f921\"]], \"type\": \"heatmapgl\"}], \"histogram\": [{\"marker\": {\"colorbar\": {\"outlinewidth\": 0, \"ticks\": \"\"}}, \"type\": \"histogram\"}], \"histogram2d\": [{\"colorbar\": {\"outlinewidth\": 0, \"ticks\": \"\"}, \"colorscale\": [[0.0, \"#0d0887\"], [0.1111111111111111, \"#46039f\"], [0.2222222222222222, \"#7201a8\"], [0.3333333333333333, \"#9c179e\"], [0.4444444444444444, \"#bd3786\"], [0.5555555555555556, \"#d8576b\"], [0.6666666666666666, \"#ed7953\"], [0.7777777777777778, \"#fb9f3a\"], [0.8888888888888888, \"#fdca26\"], [1.0, \"#f0f921\"]], \"type\": \"histogram2d\"}], \"histogram2dcontour\": [{\"colorbar\": {\"outlinewidth\": 0, \"ticks\": \"\"}, \"colorscale\": [[0.0, \"#0d0887\"], [0.1111111111111111, \"#46039f\"], [0.2222222222222222, \"#7201a8\"], [0.3333333333333333, \"#9c179e\"], [0.4444444444444444, \"#bd3786\"], [0.5555555555555556, \"#d8576b\"], [0.6666666666666666, \"#ed7953\"], [0.7777777777777778, \"#fb9f3a\"], [0.8888888888888888, \"#fdca26\"], [1.0, \"#f0f921\"]], \"type\": \"histogram2dcontour\"}], \"mesh3d\": [{\"colorbar\": {\"outlinewidth\": 0, \"ticks\": \"\"}, \"type\": \"mesh3d\"}], \"parcoords\": [{\"line\": {\"colorbar\": {\"outlinewidth\": 0, \"ticks\": \"\"}}, \"type\": \"parcoords\"}], \"pie\": [{\"automargin\": true, \"type\": \"pie\"}], \"scatter\": [{\"marker\": {\"colorbar\": {\"outlinewidth\": 0, \"ticks\": \"\"}}, \"type\": \"scatter\"}], \"scatter3d\": [{\"line\": {\"colorbar\": {\"outlinewidth\": 0, \"ticks\": \"\"}}, \"marker\": {\"colorbar\": {\"outlinewidth\": 0, \"ticks\": \"\"}}, \"type\": \"scatter3d\"}], \"scattercarpet\": [{\"marker\": {\"colorbar\": {\"outlinewidth\": 0, \"ticks\": \"\"}}, \"type\": \"scattercarpet\"}], \"scattergeo\": [{\"marker\": {\"colorbar\": {\"outlinewidth\": 0, \"ticks\": \"\"}}, \"type\": \"scattergeo\"}], \"scattergl\": [{\"marker\": {\"colorbar\": {\"outlinewidth\": 0, \"ticks\": \"\"}}, \"type\": \"scattergl\"}], \"scattermapbox\": [{\"marker\": {\"colorbar\": {\"outlinewidth\": 0, \"ticks\": \"\"}}, \"type\": \"scattermapbox\"}], \"scatterpolar\": [{\"marker\": {\"colorbar\": {\"outlinewidth\": 0, \"ticks\": \"\"}}, \"type\": \"scatterpolar\"}], \"scatterpolargl\": [{\"marker\": {\"colorbar\": {\"outlinewidth\": 0, \"ticks\": \"\"}}, \"type\": \"scatterpolargl\"}], \"scatterternary\": [{\"marker\": {\"colorbar\": {\"outlinewidth\": 0, \"ticks\": \"\"}}, \"type\": \"scatterternary\"}], \"surface\": [{\"colorbar\": {\"outlinewidth\": 0, \"ticks\": \"\"}, \"colorscale\": [[0.0, \"#0d0887\"], [0.1111111111111111, \"#46039f\"], [0.2222222222222222, \"#7201a8\"], [0.3333333333333333, \"#9c179e\"], [0.4444444444444444, \"#bd3786\"], [0.5555555555555556, \"#d8576b\"], [0.6666666666666666, \"#ed7953\"], [0.7777777777777778, \"#fb9f3a\"], [0.8888888888888888, \"#fdca26\"], [1.0, \"#f0f921\"]], \"type\": \"surface\"}], \"table\": [{\"cells\": {\"fill\": {\"color\": \"#EBF0F8\"}, \"line\": {\"color\": \"white\"}}, \"header\": {\"fill\": {\"color\": \"#C8D4E3\"}, \"line\": {\"color\": \"white\"}}, \"type\": \"table\"}]}, \"layout\": {\"annotationdefaults\": {\"arrowcolor\": \"#2a3f5f\", \"arrowhead\": 0, \"arrowwidth\": 1}, \"coloraxis\": {\"colorbar\": {\"outlinewidth\": 0, \"ticks\": \"\"}}, \"colorscale\": {\"diverging\": [[0, \"#8e0152\"], [0.1, \"#c51b7d\"], [0.2, \"#de77ae\"], [0.3, \"#f1b6da\"], [0.4, \"#fde0ef\"], [0.5, \"#f7f7f7\"], [0.6, \"#e6f5d0\"], [0.7, \"#b8e186\"], [0.8, \"#7fbc41\"], [0.9, \"#4d9221\"], [1, \"#276419\"]], \"sequential\": [[0.0, \"#0d0887\"], [0.1111111111111111, \"#46039f\"], [0.2222222222222222, \"#7201a8\"], [0.3333333333333333, \"#9c179e\"], [0.4444444444444444, \"#bd3786\"], [0.5555555555555556, \"#d8576b\"], [0.6666666666666666, \"#ed7953\"], [0.7777777777777778, \"#fb9f3a\"], [0.8888888888888888, \"#fdca26\"], [1.0, \"#f0f921\"]], \"sequentialminus\": [[0.0, \"#0d0887\"], [0.1111111111111111, \"#46039f\"], [0.2222222222222222, \"#7201a8\"], [0.3333333333333333, \"#9c179e\"], [0.4444444444444444, \"#bd3786\"], [0.5555555555555556, \"#d8576b\"], [0.6666666666666666, \"#ed7953\"], [0.7777777777777778, \"#fb9f3a\"], [0.8888888888888888, \"#fdca26\"], [1.0, \"#f0f921\"]]}, \"colorway\": [\"#636efa\", \"#EF553B\", \"#00cc96\", \"#ab63fa\", \"#FFA15A\", \"#19d3f3\", \"#FF6692\", \"#B6E880\", \"#FF97FF\", \"#FECB52\"], \"font\": {\"color\": \"#2a3f5f\"}, \"geo\": {\"bgcolor\": \"white\", \"lakecolor\": \"white\", \"landcolor\": \"#E5ECF6\", \"showlakes\": true, \"showland\": true, \"subunitcolor\": \"white\"}, \"hoverlabel\": {\"align\": \"left\"}, \"hovermode\": \"closest\", \"mapbox\": {\"style\": \"light\"}, \"paper_bgcolor\": \"white\", \"plot_bgcolor\": \"#E5ECF6\", \"polar\": {\"angularaxis\": {\"gridcolor\": \"white\", \"linecolor\": \"white\", \"ticks\": \"\"}, \"bgcolor\": \"#E5ECF6\", \"radialaxis\": {\"gridcolor\": \"white\", \"linecolor\": \"white\", \"ticks\": \"\"}}, \"scene\": {\"xaxis\": {\"backgroundcolor\": \"#E5ECF6\", \"gridcolor\": \"white\", \"gridwidth\": 2, \"linecolor\": \"white\", \"showbackground\": true, \"ticks\": \"\", \"zerolinecolor\": \"white\"}, \"yaxis\": {\"backgroundcolor\": \"#E5ECF6\", \"gridcolor\": \"white\", \"gridwidth\": 2, \"linecolor\": \"white\", \"showbackground\": true, \"ticks\": \"\", \"zerolinecolor\": \"white\"}, \"zaxis\": {\"backgroundcolor\": \"#E5ECF6\", \"gridcolor\": \"white\", \"gridwidth\": 2, \"linecolor\": \"white\", \"showbackground\": true, \"ticks\": \"\", \"zerolinecolor\": \"white\"}}, \"shapedefaults\": {\"line\": {\"color\": \"#2a3f5f\"}}, \"ternary\": {\"aaxis\": {\"gridcolor\": \"white\", \"linecolor\": \"white\", \"ticks\": \"\"}, \"baxis\": {\"gridcolor\": \"white\", \"linecolor\": \"white\", \"ticks\": \"\"}, \"bgcolor\": \"#E5ECF6\", \"caxis\": {\"gridcolor\": \"white\", \"linecolor\": \"white\", \"ticks\": \"\"}}, \"title\": {\"x\": 0.05}, \"xaxis\": {\"automargin\": true, \"gridcolor\": \"white\", \"linecolor\": \"white\", \"ticks\": \"\", \"title\": {\"standoff\": 15}, \"zerolinecolor\": \"white\", \"zerolinewidth\": 2}, \"yaxis\": {\"automargin\": true, \"gridcolor\": \"white\", \"linecolor\": \"white\", \"ticks\": \"\", \"title\": {\"standoff\": 15}, \"zerolinecolor\": \"white\", \"zerolinewidth\": 2}}}},\n",
       "                        {\"responsive\": true}\n",
       "                    ).then(function(){\n",
       "                            \n",
       "var gd = document.getElementById('61a67e6d-e2cf-4156-8495-a4054e36ba77');\n",
       "var x = new MutationObserver(function (mutations, observer) {{\n",
       "        var display = window.getComputedStyle(gd).display;\n",
       "        if (!display || display === 'none') {{\n",
       "            console.log([gd, 'removed!']);\n",
       "            Plotly.purge(gd);\n",
       "            observer.disconnect();\n",
       "        }}\n",
       "}});\n",
       "\n",
       "// Listen for the removal of the full notebook cells\n",
       "var notebookContainer = gd.closest('#notebook-container');\n",
       "if (notebookContainer) {{\n",
       "    x.observe(notebookContainer, {childList: true});\n",
       "}}\n",
       "\n",
       "// Listen for the clearing of the current output cell\n",
       "var outputEl = gd.closest('.output');\n",
       "if (outputEl) {{\n",
       "    x.observe(outputEl, {childList: true});\n",
       "}}\n",
       "\n",
       "                        })\n",
       "                };\n",
       "                });\n",
       "            </script>\n",
       "        </div>"
      ]
     },
     "metadata": {},
     "output_type": "display_data"
    }
   ],
   "source": [
    "#Category with the Most Reviews, Most Space Consumption and Most Installations\n",
    "from plotly import tools\n",
    "import plotly.offline as py\n",
    "import plotly.graph_objs as go\n",
    "\n",
    "data_pie = [go.Pie(\n",
    "        labels = no_reviews['Category'].tolist(),\n",
    "        values = no_reviews['Reviews'].tolist(),\n",
    "        hoverinfo = 'label+value',\n",
    "        name= 'Reviews by Category'\n",
    "    \n",
    ")]\n",
    "\n",
    "py.offline.iplot(data_pie, filename='active_category')\n",
    "\n",
    "data_size_pie = [go.Pie(\n",
    "        labels = most_space['Category'].tolist(),\n",
    "        values = most_space['Size'].tolist(),\n",
    "        hoverinfo = 'label+value',\n",
    "        name = 'x'\n",
    "    \n",
    ")]\n",
    "\n",
    "py.offline.iplot(data_size_pie, filename='active_category')\n",
    "\n",
    "data_cat_pie = [go.Pie(\n",
    "        labels = best_cat['Category'].tolist(),\n",
    "        values = best_cat['Installs'].tolist(),\n",
    "        hoverinfo = 'label+value',\n",
    "        name='y'\n",
    "    \n",
    ")]\n",
    "\n",
    "py.offline.iplot(data_cat_pie, filename='active_category')"
   ]
  },
  {
   "cell_type": "code",
   "execution_count": 29,
   "metadata": {},
   "outputs": [],
   "source": [
    "d1=data[data['Type']=='Free']\n",
    "d2=data[data['Type']=='Paid']"
   ]
  },
  {
   "cell_type": "code",
   "execution_count": 30,
   "metadata": {},
   "outputs": [
    {
     "name": "stdout",
     "output_type": "stream",
     "text": [
      "Requirement already up-to-date: plotly in c:\\users\\ybyad\\appdata\\local\\continuum\\anaconda3\\lib\\site-packages (4.5.2)\n",
      "Requirement already satisfied, skipping upgrade: six in c:\\users\\ybyad\\appdata\\local\\continuum\\anaconda3\\lib\\site-packages (from plotly) (1.12.0)\n",
      "Requirement already satisfied, skipping upgrade: retrying>=1.3.3 in c:\\users\\ybyad\\appdata\\local\\continuum\\anaconda3\\lib\\site-packages (from plotly) (1.3.3)\n",
      "Note: you may need to restart the kernel to use updated packages.\n"
     ]
    }
   ],
   "source": [
    "pip install plotly --upgrade"
   ]
  },
  {
   "cell_type": "code",
   "execution_count": 31,
   "metadata": {},
   "outputs": [],
   "source": [
    "#conda install -c plotly chart-studio"
   ]
  },
  {
   "cell_type": "code",
   "execution_count": 32,
   "metadata": {},
   "outputs": [
    {
     "data": {
      "text/html": [
       "        <script type=\"text/javascript\">\n",
       "        window.PlotlyConfig = {MathJaxConfig: 'local'};\n",
       "        if (window.MathJax) {MathJax.Hub.Config({SVG: {font: \"STIX-Web\"}});}\n",
       "        if (typeof require !== 'undefined') {\n",
       "        require.undef(\"plotly\");\n",
       "        requirejs.config({\n",
       "            paths: {\n",
       "                'plotly': ['https://cdn.plot.ly/plotly-latest.min']\n",
       "            }\n",
       "        });\n",
       "        require(['plotly'], function(Plotly) {\n",
       "            window._Plotly = Plotly;\n",
       "        });\n",
       "        }\n",
       "        </script>\n",
       "        "
      ]
     },
     "metadata": {},
     "output_type": "display_data"
    }
   ],
   "source": [
    "import matplotlib.pyplot as plt\n",
    "import seaborn as sns\n",
    "color = sns.color_palette()\n",
    "\n",
    "%matplotlib inline\n",
    "\n",
    "from plotly import tools\n",
    "import plotly.offline as py\n",
    "py.init_notebook_mode(connected=True)\n",
    "import plotly.graph_objs as go"
   ]
  },
  {
   "cell_type": "code",
   "execution_count": 33,
   "metadata": {},
   "outputs": [
    {
     "data": {
      "application/vnd.plotly.v1+json": {
       "config": {
        "linkText": "Export to plot.ly",
        "plotlyServerURL": "https://plot.ly",
        "showLink": false
       },
       "data": [
        {
         "marker": {
          "color": "#a678de"
         },
         "name": "Free",
         "type": "scatter",
         "x": [
          2010,
          2011,
          2012,
          2013,
          2014,
          2015,
          2016,
          2017,
          2018
         ],
         "y": [
          1,
          9,
          16,
          66,
          113,
          301,
          547,
          1212,
          4738
         ]
        },
        {
         "marker": {
          "color": "#6ad49b"
         },
         "name": "Paid",
         "type": "scatter",
         "x": [
          2011,
          2012,
          2013,
          2014,
          2015,
          2016,
          2017,
          2018
         ],
         "y": [
          3,
          4,
          21,
          43,
          58,
          71,
          133,
          242
         ]
        }
       ],
       "layout": {
        "template": {
         "data": {
          "bar": [
           {
            "error_x": {
             "color": "#2a3f5f"
            },
            "error_y": {
             "color": "#2a3f5f"
            },
            "marker": {
             "line": {
              "color": "#E5ECF6",
              "width": 0.5
             }
            },
            "type": "bar"
           }
          ],
          "barpolar": [
           {
            "marker": {
             "line": {
              "color": "#E5ECF6",
              "width": 0.5
             }
            },
            "type": "barpolar"
           }
          ],
          "carpet": [
           {
            "aaxis": {
             "endlinecolor": "#2a3f5f",
             "gridcolor": "white",
             "linecolor": "white",
             "minorgridcolor": "white",
             "startlinecolor": "#2a3f5f"
            },
            "baxis": {
             "endlinecolor": "#2a3f5f",
             "gridcolor": "white",
             "linecolor": "white",
             "minorgridcolor": "white",
             "startlinecolor": "#2a3f5f"
            },
            "type": "carpet"
           }
          ],
          "choropleth": [
           {
            "colorbar": {
             "outlinewidth": 0,
             "ticks": ""
            },
            "type": "choropleth"
           }
          ],
          "contour": [
           {
            "colorbar": {
             "outlinewidth": 0,
             "ticks": ""
            },
            "colorscale": [
             [
              0,
              "#0d0887"
             ],
             [
              0.1111111111111111,
              "#46039f"
             ],
             [
              0.2222222222222222,
              "#7201a8"
             ],
             [
              0.3333333333333333,
              "#9c179e"
             ],
             [
              0.4444444444444444,
              "#bd3786"
             ],
             [
              0.5555555555555556,
              "#d8576b"
             ],
             [
              0.6666666666666666,
              "#ed7953"
             ],
             [
              0.7777777777777778,
              "#fb9f3a"
             ],
             [
              0.8888888888888888,
              "#fdca26"
             ],
             [
              1,
              "#f0f921"
             ]
            ],
            "type": "contour"
           }
          ],
          "contourcarpet": [
           {
            "colorbar": {
             "outlinewidth": 0,
             "ticks": ""
            },
            "type": "contourcarpet"
           }
          ],
          "heatmap": [
           {
            "colorbar": {
             "outlinewidth": 0,
             "ticks": ""
            },
            "colorscale": [
             [
              0,
              "#0d0887"
             ],
             [
              0.1111111111111111,
              "#46039f"
             ],
             [
              0.2222222222222222,
              "#7201a8"
             ],
             [
              0.3333333333333333,
              "#9c179e"
             ],
             [
              0.4444444444444444,
              "#bd3786"
             ],
             [
              0.5555555555555556,
              "#d8576b"
             ],
             [
              0.6666666666666666,
              "#ed7953"
             ],
             [
              0.7777777777777778,
              "#fb9f3a"
             ],
             [
              0.8888888888888888,
              "#fdca26"
             ],
             [
              1,
              "#f0f921"
             ]
            ],
            "type": "heatmap"
           }
          ],
          "heatmapgl": [
           {
            "colorbar": {
             "outlinewidth": 0,
             "ticks": ""
            },
            "colorscale": [
             [
              0,
              "#0d0887"
             ],
             [
              0.1111111111111111,
              "#46039f"
             ],
             [
              0.2222222222222222,
              "#7201a8"
             ],
             [
              0.3333333333333333,
              "#9c179e"
             ],
             [
              0.4444444444444444,
              "#bd3786"
             ],
             [
              0.5555555555555556,
              "#d8576b"
             ],
             [
              0.6666666666666666,
              "#ed7953"
             ],
             [
              0.7777777777777778,
              "#fb9f3a"
             ],
             [
              0.8888888888888888,
              "#fdca26"
             ],
             [
              1,
              "#f0f921"
             ]
            ],
            "type": "heatmapgl"
           }
          ],
          "histogram": [
           {
            "marker": {
             "colorbar": {
              "outlinewidth": 0,
              "ticks": ""
             }
            },
            "type": "histogram"
           }
          ],
          "histogram2d": [
           {
            "colorbar": {
             "outlinewidth": 0,
             "ticks": ""
            },
            "colorscale": [
             [
              0,
              "#0d0887"
             ],
             [
              0.1111111111111111,
              "#46039f"
             ],
             [
              0.2222222222222222,
              "#7201a8"
             ],
             [
              0.3333333333333333,
              "#9c179e"
             ],
             [
              0.4444444444444444,
              "#bd3786"
             ],
             [
              0.5555555555555556,
              "#d8576b"
             ],
             [
              0.6666666666666666,
              "#ed7953"
             ],
             [
              0.7777777777777778,
              "#fb9f3a"
             ],
             [
              0.8888888888888888,
              "#fdca26"
             ],
             [
              1,
              "#f0f921"
             ]
            ],
            "type": "histogram2d"
           }
          ],
          "histogram2dcontour": [
           {
            "colorbar": {
             "outlinewidth": 0,
             "ticks": ""
            },
            "colorscale": [
             [
              0,
              "#0d0887"
             ],
             [
              0.1111111111111111,
              "#46039f"
             ],
             [
              0.2222222222222222,
              "#7201a8"
             ],
             [
              0.3333333333333333,
              "#9c179e"
             ],
             [
              0.4444444444444444,
              "#bd3786"
             ],
             [
              0.5555555555555556,
              "#d8576b"
             ],
             [
              0.6666666666666666,
              "#ed7953"
             ],
             [
              0.7777777777777778,
              "#fb9f3a"
             ],
             [
              0.8888888888888888,
              "#fdca26"
             ],
             [
              1,
              "#f0f921"
             ]
            ],
            "type": "histogram2dcontour"
           }
          ],
          "mesh3d": [
           {
            "colorbar": {
             "outlinewidth": 0,
             "ticks": ""
            },
            "type": "mesh3d"
           }
          ],
          "parcoords": [
           {
            "line": {
             "colorbar": {
              "outlinewidth": 0,
              "ticks": ""
             }
            },
            "type": "parcoords"
           }
          ],
          "pie": [
           {
            "automargin": true,
            "type": "pie"
           }
          ],
          "scatter": [
           {
            "marker": {
             "colorbar": {
              "outlinewidth": 0,
              "ticks": ""
             }
            },
            "type": "scatter"
           }
          ],
          "scatter3d": [
           {
            "line": {
             "colorbar": {
              "outlinewidth": 0,
              "ticks": ""
             }
            },
            "marker": {
             "colorbar": {
              "outlinewidth": 0,
              "ticks": ""
             }
            },
            "type": "scatter3d"
           }
          ],
          "scattercarpet": [
           {
            "marker": {
             "colorbar": {
              "outlinewidth": 0,
              "ticks": ""
             }
            },
            "type": "scattercarpet"
           }
          ],
          "scattergeo": [
           {
            "marker": {
             "colorbar": {
              "outlinewidth": 0,
              "ticks": ""
             }
            },
            "type": "scattergeo"
           }
          ],
          "scattergl": [
           {
            "marker": {
             "colorbar": {
              "outlinewidth": 0,
              "ticks": ""
             }
            },
            "type": "scattergl"
           }
          ],
          "scattermapbox": [
           {
            "marker": {
             "colorbar": {
              "outlinewidth": 0,
              "ticks": ""
             }
            },
            "type": "scattermapbox"
           }
          ],
          "scatterpolar": [
           {
            "marker": {
             "colorbar": {
              "outlinewidth": 0,
              "ticks": ""
             }
            },
            "type": "scatterpolar"
           }
          ],
          "scatterpolargl": [
           {
            "marker": {
             "colorbar": {
              "outlinewidth": 0,
              "ticks": ""
             }
            },
            "type": "scatterpolargl"
           }
          ],
          "scatterternary": [
           {
            "marker": {
             "colorbar": {
              "outlinewidth": 0,
              "ticks": ""
             }
            },
            "type": "scatterternary"
           }
          ],
          "surface": [
           {
            "colorbar": {
             "outlinewidth": 0,
             "ticks": ""
            },
            "colorscale": [
             [
              0,
              "#0d0887"
             ],
             [
              0.1111111111111111,
              "#46039f"
             ],
             [
              0.2222222222222222,
              "#7201a8"
             ],
             [
              0.3333333333333333,
              "#9c179e"
             ],
             [
              0.4444444444444444,
              "#bd3786"
             ],
             [
              0.5555555555555556,
              "#d8576b"
             ],
             [
              0.6666666666666666,
              "#ed7953"
             ],
             [
              0.7777777777777778,
              "#fb9f3a"
             ],
             [
              0.8888888888888888,
              "#fdca26"
             ],
             [
              1,
              "#f0f921"
             ]
            ],
            "type": "surface"
           }
          ],
          "table": [
           {
            "cells": {
             "fill": {
              "color": "#EBF0F8"
             },
             "line": {
              "color": "white"
             }
            },
            "header": {
             "fill": {
              "color": "#C8D4E3"
             },
             "line": {
              "color": "white"
             }
            },
            "type": "table"
           }
          ]
         },
         "layout": {
          "annotationdefaults": {
           "arrowcolor": "#2a3f5f",
           "arrowhead": 0,
           "arrowwidth": 1
          },
          "coloraxis": {
           "colorbar": {
            "outlinewidth": 0,
            "ticks": ""
           }
          },
          "colorscale": {
           "diverging": [
            [
             0,
             "#8e0152"
            ],
            [
             0.1,
             "#c51b7d"
            ],
            [
             0.2,
             "#de77ae"
            ],
            [
             0.3,
             "#f1b6da"
            ],
            [
             0.4,
             "#fde0ef"
            ],
            [
             0.5,
             "#f7f7f7"
            ],
            [
             0.6,
             "#e6f5d0"
            ],
            [
             0.7,
             "#b8e186"
            ],
            [
             0.8,
             "#7fbc41"
            ],
            [
             0.9,
             "#4d9221"
            ],
            [
             1,
             "#276419"
            ]
           ],
           "sequential": [
            [
             0,
             "#0d0887"
            ],
            [
             0.1111111111111111,
             "#46039f"
            ],
            [
             0.2222222222222222,
             "#7201a8"
            ],
            [
             0.3333333333333333,
             "#9c179e"
            ],
            [
             0.4444444444444444,
             "#bd3786"
            ],
            [
             0.5555555555555556,
             "#d8576b"
            ],
            [
             0.6666666666666666,
             "#ed7953"
            ],
            [
             0.7777777777777778,
             "#fb9f3a"
            ],
            [
             0.8888888888888888,
             "#fdca26"
            ],
            [
             1,
             "#f0f921"
            ]
           ],
           "sequentialminus": [
            [
             0,
             "#0d0887"
            ],
            [
             0.1111111111111111,
             "#46039f"
            ],
            [
             0.2222222222222222,
             "#7201a8"
            ],
            [
             0.3333333333333333,
             "#9c179e"
            ],
            [
             0.4444444444444444,
             "#bd3786"
            ],
            [
             0.5555555555555556,
             "#d8576b"
            ],
            [
             0.6666666666666666,
             "#ed7953"
            ],
            [
             0.7777777777777778,
             "#fb9f3a"
            ],
            [
             0.8888888888888888,
             "#fdca26"
            ],
            [
             1,
             "#f0f921"
            ]
           ]
          },
          "colorway": [
           "#636efa",
           "#EF553B",
           "#00cc96",
           "#ab63fa",
           "#FFA15A",
           "#19d3f3",
           "#FF6692",
           "#B6E880",
           "#FF97FF",
           "#FECB52"
          ],
          "font": {
           "color": "#2a3f5f"
          },
          "geo": {
           "bgcolor": "white",
           "lakecolor": "white",
           "landcolor": "#E5ECF6",
           "showlakes": true,
           "showland": true,
           "subunitcolor": "white"
          },
          "hoverlabel": {
           "align": "left"
          },
          "hovermode": "closest",
          "mapbox": {
           "style": "light"
          },
          "paper_bgcolor": "white",
          "plot_bgcolor": "#E5ECF6",
          "polar": {
           "angularaxis": {
            "gridcolor": "white",
            "linecolor": "white",
            "ticks": ""
           },
           "bgcolor": "#E5ECF6",
           "radialaxis": {
            "gridcolor": "white",
            "linecolor": "white",
            "ticks": ""
           }
          },
          "scene": {
           "xaxis": {
            "backgroundcolor": "#E5ECF6",
            "gridcolor": "white",
            "gridwidth": 2,
            "linecolor": "white",
            "showbackground": true,
            "ticks": "",
            "zerolinecolor": "white"
           },
           "yaxis": {
            "backgroundcolor": "#E5ECF6",
            "gridcolor": "white",
            "gridwidth": 2,
            "linecolor": "white",
            "showbackground": true,
            "ticks": "",
            "zerolinecolor": "white"
           },
           "zaxis": {
            "backgroundcolor": "#E5ECF6",
            "gridcolor": "white",
            "gridwidth": 2,
            "linecolor": "white",
            "showbackground": true,
            "ticks": "",
            "zerolinecolor": "white"
           }
          },
          "shapedefaults": {
           "line": {
            "color": "#2a3f5f"
           }
          },
          "ternary": {
           "aaxis": {
            "gridcolor": "white",
            "linecolor": "white",
            "ticks": ""
           },
           "baxis": {
            "gridcolor": "white",
            "linecolor": "white",
            "ticks": ""
           },
           "bgcolor": "#E5ECF6",
           "caxis": {
            "gridcolor": "white",
            "linecolor": "white",
            "ticks": ""
           }
          },
          "title": {
           "x": 0.05
          },
          "xaxis": {
           "automargin": true,
           "gridcolor": "white",
           "linecolor": "white",
           "ticks": "",
           "title": {
            "standoff": 15
           },
           "zerolinecolor": "white",
           "zerolinewidth": 2
          },
          "yaxis": {
           "automargin": true,
           "gridcolor": "white",
           "linecolor": "white",
           "ticks": "",
           "title": {
            "standoff": 15
           },
           "zerolinecolor": "white",
           "zerolinewidth": 2
          }
         }
        },
        "title": {
         "text": "app udated or added over the years"
        },
        "xaxis": {
         "title": {
          "text": "years"
         }
        }
       }
      },
      "text/html": [
       "<div>\n",
       "        \n",
       "        \n",
       "            <div id=\"b40d2429-f193-43d0-a6b1-8f4c890278e8\" class=\"plotly-graph-div\" style=\"height:525px; width:100%;\"></div>\n",
       "            <script type=\"text/javascript\">\n",
       "                require([\"plotly\"], function(Plotly) {\n",
       "                    window.PLOTLYENV=window.PLOTLYENV || {};\n",
       "                    \n",
       "                if (document.getElementById(\"b40d2429-f193-43d0-a6b1-8f4c890278e8\")) {\n",
       "                    Plotly.newPlot(\n",
       "                        'b40d2429-f193-43d0-a6b1-8f4c890278e8',\n",
       "                        [{\"marker\": {\"color\": \"#a678de\"}, \"name\": \"Free\", \"type\": \"scatter\", \"x\": [2010, 2011, 2012, 2013, 2014, 2015, 2016, 2017, 2018], \"y\": [1, 9, 16, 66, 113, 301, 547, 1212, 4738]}, {\"marker\": {\"color\": \"#6ad49b\"}, \"name\": \"Paid\", \"type\": \"scatter\", \"x\": [2011, 2012, 2013, 2014, 2015, 2016, 2017, 2018], \"y\": [3, 4, 21, 43, 58, 71, 133, 242]}],\n",
       "                        {\"template\": {\"data\": {\"bar\": [{\"error_x\": {\"color\": \"#2a3f5f\"}, \"error_y\": {\"color\": \"#2a3f5f\"}, \"marker\": {\"line\": {\"color\": \"#E5ECF6\", \"width\": 0.5}}, \"type\": \"bar\"}], \"barpolar\": [{\"marker\": {\"line\": {\"color\": \"#E5ECF6\", \"width\": 0.5}}, \"type\": \"barpolar\"}], \"carpet\": [{\"aaxis\": {\"endlinecolor\": \"#2a3f5f\", \"gridcolor\": \"white\", \"linecolor\": \"white\", \"minorgridcolor\": \"white\", \"startlinecolor\": \"#2a3f5f\"}, \"baxis\": {\"endlinecolor\": \"#2a3f5f\", \"gridcolor\": \"white\", \"linecolor\": \"white\", \"minorgridcolor\": \"white\", \"startlinecolor\": \"#2a3f5f\"}, \"type\": \"carpet\"}], \"choropleth\": [{\"colorbar\": {\"outlinewidth\": 0, \"ticks\": \"\"}, \"type\": \"choropleth\"}], \"contour\": [{\"colorbar\": {\"outlinewidth\": 0, \"ticks\": \"\"}, \"colorscale\": [[0.0, \"#0d0887\"], [0.1111111111111111, \"#46039f\"], [0.2222222222222222, \"#7201a8\"], [0.3333333333333333, \"#9c179e\"], [0.4444444444444444, \"#bd3786\"], [0.5555555555555556, \"#d8576b\"], [0.6666666666666666, \"#ed7953\"], [0.7777777777777778, \"#fb9f3a\"], [0.8888888888888888, \"#fdca26\"], [1.0, \"#f0f921\"]], \"type\": \"contour\"}], \"contourcarpet\": [{\"colorbar\": {\"outlinewidth\": 0, \"ticks\": \"\"}, \"type\": \"contourcarpet\"}], \"heatmap\": [{\"colorbar\": {\"outlinewidth\": 0, \"ticks\": \"\"}, \"colorscale\": [[0.0, \"#0d0887\"], [0.1111111111111111, \"#46039f\"], [0.2222222222222222, \"#7201a8\"], [0.3333333333333333, \"#9c179e\"], [0.4444444444444444, \"#bd3786\"], [0.5555555555555556, \"#d8576b\"], [0.6666666666666666, \"#ed7953\"], [0.7777777777777778, \"#fb9f3a\"], [0.8888888888888888, \"#fdca26\"], [1.0, \"#f0f921\"]], \"type\": \"heatmap\"}], \"heatmapgl\": [{\"colorbar\": {\"outlinewidth\": 0, \"ticks\": \"\"}, \"colorscale\": [[0.0, \"#0d0887\"], [0.1111111111111111, \"#46039f\"], [0.2222222222222222, \"#7201a8\"], [0.3333333333333333, \"#9c179e\"], [0.4444444444444444, \"#bd3786\"], [0.5555555555555556, \"#d8576b\"], [0.6666666666666666, \"#ed7953\"], [0.7777777777777778, \"#fb9f3a\"], [0.8888888888888888, \"#fdca26\"], [1.0, \"#f0f921\"]], \"type\": \"heatmapgl\"}], \"histogram\": [{\"marker\": {\"colorbar\": {\"outlinewidth\": 0, \"ticks\": \"\"}}, \"type\": \"histogram\"}], \"histogram2d\": [{\"colorbar\": {\"outlinewidth\": 0, \"ticks\": \"\"}, \"colorscale\": [[0.0, \"#0d0887\"], [0.1111111111111111, \"#46039f\"], [0.2222222222222222, \"#7201a8\"], [0.3333333333333333, \"#9c179e\"], [0.4444444444444444, \"#bd3786\"], [0.5555555555555556, \"#d8576b\"], [0.6666666666666666, \"#ed7953\"], [0.7777777777777778, \"#fb9f3a\"], [0.8888888888888888, \"#fdca26\"], [1.0, \"#f0f921\"]], \"type\": \"histogram2d\"}], \"histogram2dcontour\": [{\"colorbar\": {\"outlinewidth\": 0, \"ticks\": \"\"}, \"colorscale\": [[0.0, \"#0d0887\"], [0.1111111111111111, \"#46039f\"], [0.2222222222222222, \"#7201a8\"], [0.3333333333333333, \"#9c179e\"], [0.4444444444444444, \"#bd3786\"], [0.5555555555555556, \"#d8576b\"], [0.6666666666666666, \"#ed7953\"], [0.7777777777777778, \"#fb9f3a\"], [0.8888888888888888, \"#fdca26\"], [1.0, \"#f0f921\"]], \"type\": \"histogram2dcontour\"}], \"mesh3d\": [{\"colorbar\": {\"outlinewidth\": 0, \"ticks\": \"\"}, \"type\": \"mesh3d\"}], \"parcoords\": [{\"line\": {\"colorbar\": {\"outlinewidth\": 0, \"ticks\": \"\"}}, \"type\": \"parcoords\"}], \"pie\": [{\"automargin\": true, \"type\": \"pie\"}], \"scatter\": [{\"marker\": {\"colorbar\": {\"outlinewidth\": 0, \"ticks\": \"\"}}, \"type\": \"scatter\"}], \"scatter3d\": [{\"line\": {\"colorbar\": {\"outlinewidth\": 0, \"ticks\": \"\"}}, \"marker\": {\"colorbar\": {\"outlinewidth\": 0, \"ticks\": \"\"}}, \"type\": \"scatter3d\"}], \"scattercarpet\": [{\"marker\": {\"colorbar\": {\"outlinewidth\": 0, \"ticks\": \"\"}}, \"type\": \"scattercarpet\"}], \"scattergeo\": [{\"marker\": {\"colorbar\": {\"outlinewidth\": 0, \"ticks\": \"\"}}, \"type\": \"scattergeo\"}], \"scattergl\": [{\"marker\": {\"colorbar\": {\"outlinewidth\": 0, \"ticks\": \"\"}}, \"type\": \"scattergl\"}], \"scattermapbox\": [{\"marker\": {\"colorbar\": {\"outlinewidth\": 0, \"ticks\": \"\"}}, \"type\": \"scattermapbox\"}], \"scatterpolar\": [{\"marker\": {\"colorbar\": {\"outlinewidth\": 0, \"ticks\": \"\"}}, \"type\": \"scatterpolar\"}], \"scatterpolargl\": [{\"marker\": {\"colorbar\": {\"outlinewidth\": 0, \"ticks\": \"\"}}, \"type\": \"scatterpolargl\"}], \"scatterternary\": [{\"marker\": {\"colorbar\": {\"outlinewidth\": 0, \"ticks\": \"\"}}, \"type\": \"scatterternary\"}], \"surface\": [{\"colorbar\": {\"outlinewidth\": 0, \"ticks\": \"\"}, \"colorscale\": [[0.0, \"#0d0887\"], [0.1111111111111111, \"#46039f\"], [0.2222222222222222, \"#7201a8\"], [0.3333333333333333, \"#9c179e\"], [0.4444444444444444, \"#bd3786\"], [0.5555555555555556, \"#d8576b\"], [0.6666666666666666, \"#ed7953\"], [0.7777777777777778, \"#fb9f3a\"], [0.8888888888888888, \"#fdca26\"], [1.0, \"#f0f921\"]], \"type\": \"surface\"}], \"table\": [{\"cells\": {\"fill\": {\"color\": \"#EBF0F8\"}, \"line\": {\"color\": \"white\"}}, \"header\": {\"fill\": {\"color\": \"#C8D4E3\"}, \"line\": {\"color\": \"white\"}}, \"type\": \"table\"}]}, \"layout\": {\"annotationdefaults\": {\"arrowcolor\": \"#2a3f5f\", \"arrowhead\": 0, \"arrowwidth\": 1}, \"coloraxis\": {\"colorbar\": {\"outlinewidth\": 0, \"ticks\": \"\"}}, \"colorscale\": {\"diverging\": [[0, \"#8e0152\"], [0.1, \"#c51b7d\"], [0.2, \"#de77ae\"], [0.3, \"#f1b6da\"], [0.4, \"#fde0ef\"], [0.5, \"#f7f7f7\"], [0.6, \"#e6f5d0\"], [0.7, \"#b8e186\"], [0.8, \"#7fbc41\"], [0.9, \"#4d9221\"], [1, \"#276419\"]], \"sequential\": [[0.0, \"#0d0887\"], [0.1111111111111111, \"#46039f\"], [0.2222222222222222, \"#7201a8\"], [0.3333333333333333, \"#9c179e\"], [0.4444444444444444, \"#bd3786\"], [0.5555555555555556, \"#d8576b\"], [0.6666666666666666, \"#ed7953\"], [0.7777777777777778, \"#fb9f3a\"], [0.8888888888888888, \"#fdca26\"], [1.0, \"#f0f921\"]], \"sequentialminus\": [[0.0, \"#0d0887\"], [0.1111111111111111, \"#46039f\"], [0.2222222222222222, \"#7201a8\"], [0.3333333333333333, \"#9c179e\"], [0.4444444444444444, \"#bd3786\"], [0.5555555555555556, \"#d8576b\"], [0.6666666666666666, \"#ed7953\"], [0.7777777777777778, \"#fb9f3a\"], [0.8888888888888888, \"#fdca26\"], [1.0, \"#f0f921\"]]}, \"colorway\": [\"#636efa\", \"#EF553B\", \"#00cc96\", \"#ab63fa\", \"#FFA15A\", \"#19d3f3\", \"#FF6692\", \"#B6E880\", \"#FF97FF\", \"#FECB52\"], \"font\": {\"color\": \"#2a3f5f\"}, \"geo\": {\"bgcolor\": \"white\", \"lakecolor\": \"white\", \"landcolor\": \"#E5ECF6\", \"showlakes\": true, \"showland\": true, \"subunitcolor\": \"white\"}, \"hoverlabel\": {\"align\": \"left\"}, \"hovermode\": \"closest\", \"mapbox\": {\"style\": \"light\"}, \"paper_bgcolor\": \"white\", \"plot_bgcolor\": \"#E5ECF6\", \"polar\": {\"angularaxis\": {\"gridcolor\": \"white\", \"linecolor\": \"white\", \"ticks\": \"\"}, \"bgcolor\": \"#E5ECF6\", \"radialaxis\": {\"gridcolor\": \"white\", \"linecolor\": \"white\", \"ticks\": \"\"}}, \"scene\": {\"xaxis\": {\"backgroundcolor\": \"#E5ECF6\", \"gridcolor\": \"white\", \"gridwidth\": 2, \"linecolor\": \"white\", \"showbackground\": true, \"ticks\": \"\", \"zerolinecolor\": \"white\"}, \"yaxis\": {\"backgroundcolor\": \"#E5ECF6\", \"gridcolor\": \"white\", \"gridwidth\": 2, \"linecolor\": \"white\", \"showbackground\": true, \"ticks\": \"\", \"zerolinecolor\": \"white\"}, \"zaxis\": {\"backgroundcolor\": \"#E5ECF6\", \"gridcolor\": \"white\", \"gridwidth\": 2, \"linecolor\": \"white\", \"showbackground\": true, \"ticks\": \"\", \"zerolinecolor\": \"white\"}}, \"shapedefaults\": {\"line\": {\"color\": \"#2a3f5f\"}}, \"ternary\": {\"aaxis\": {\"gridcolor\": \"white\", \"linecolor\": \"white\", \"ticks\": \"\"}, \"baxis\": {\"gridcolor\": \"white\", \"linecolor\": \"white\", \"ticks\": \"\"}, \"bgcolor\": \"#E5ECF6\", \"caxis\": {\"gridcolor\": \"white\", \"linecolor\": \"white\", \"ticks\": \"\"}}, \"title\": {\"x\": 0.05}, \"xaxis\": {\"automargin\": true, \"gridcolor\": \"white\", \"linecolor\": \"white\", \"ticks\": \"\", \"title\": {\"standoff\": 15}, \"zerolinecolor\": \"white\", \"zerolinewidth\": 2}, \"yaxis\": {\"automargin\": true, \"gridcolor\": \"white\", \"linecolor\": \"white\", \"ticks\": \"\", \"title\": {\"standoff\": 15}, \"zerolinecolor\": \"white\", \"zerolinewidth\": 2}}}, \"title\": {\"text\": \"app udated or added over the years\"}, \"xaxis\": {\"title\": {\"text\": \"years\"}}},\n",
       "                        {\"responsive\": true}\n",
       "                    ).then(function(){\n",
       "                            \n",
       "var gd = document.getElementById('b40d2429-f193-43d0-a6b1-8f4c890278e8');\n",
       "var x = new MutationObserver(function (mutations, observer) {{\n",
       "        var display = window.getComputedStyle(gd).display;\n",
       "        if (!display || display === 'none') {{\n",
       "            console.log([gd, 'removed!']);\n",
       "            Plotly.purge(gd);\n",
       "            observer.disconnect();\n",
       "        }}\n",
       "}});\n",
       "\n",
       "// Listen for the removal of the full notebook cells\n",
       "var notebookContainer = gd.closest('#notebook-container');\n",
       "if (notebookContainer) {{\n",
       "    x.observe(notebookContainer, {childList: true});\n",
       "}}\n",
       "\n",
       "// Listen for the clearing of the current output cell\n",
       "var outputEl = gd.closest('.output');\n",
       "if (outputEl) {{\n",
       "    x.observe(outputEl, {childList: true});\n",
       "}}\n",
       "\n",
       "                        })\n",
       "                };\n",
       "                });\n",
       "            </script>\n",
       "        </div>"
      ]
     },
     "metadata": {},
     "output_type": "display_data"
    }
   ],
   "source": [
    "col='year_added'\n",
    "v1=d1[col].value_counts().reset_index()\n",
    "v1=v1.rename(columns={col:'count','index':col})\n",
    "v1['percent']=v1['count'].apply(lambda x : 100*x/sum(v1['count']))\n",
    "v1=v1.sort_values(col)\n",
    "v2=d2[col].value_counts().reset_index()\n",
    "v2=v2.rename(columns={col:'count','index':col})\n",
    "v2['percent']=v2['count'].apply(lambda x : 100*x/sum(v2['count']))\n",
    "v2=v2.sort_values(col)\n",
    "trace1 = go.Scatter(x=v1[col], y=v1[\"count\"], name=\"Free\", marker=dict(color=\"#a678de\"))\n",
    "trace2 = go.Scatter(x=v2[col], y=v2[\"count\"], name=\"Paid\", marker=dict(color=\"#6ad49b\"))\n",
    "y = [trace1, trace2]\n",
    "layout={'title':\"app udated or added over the years\",'xaxis':{'title':\"years\"}}\n",
    "fig = go.Figure(data=y, layout=layout)\n",
    "py.offline.iplot(fig)"
   ]
  },
  {
   "cell_type": "code",
   "execution_count": 34,
   "metadata": {},
   "outputs": [
    {
     "data": {
      "application/vnd.plotly.v1+json": {
       "config": {
        "linkText": "Export to plot.ly",
        "plotlyServerURL": "https://plot.ly",
        "showLink": false
       },
       "data": [
        {
         "name": "Free",
         "type": "bar",
         "x": [
          1,
          2,
          3,
          4,
          5,
          6,
          7,
          8,
          9,
          10,
          11,
          12
         ],
         "y": [
          320,
          354,
          421,
          401,
          649,
          828,
          1965,
          1043,
          222,
          269,
          262,
          269
         ]
        }
       ],
       "layout": {
        "template": {
         "data": {
          "bar": [
           {
            "error_x": {
             "color": "#2a3f5f"
            },
            "error_y": {
             "color": "#2a3f5f"
            },
            "marker": {
             "line": {
              "color": "#E5ECF6",
              "width": 0.5
             }
            },
            "type": "bar"
           }
          ],
          "barpolar": [
           {
            "marker": {
             "line": {
              "color": "#E5ECF6",
              "width": 0.5
             }
            },
            "type": "barpolar"
           }
          ],
          "carpet": [
           {
            "aaxis": {
             "endlinecolor": "#2a3f5f",
             "gridcolor": "white",
             "linecolor": "white",
             "minorgridcolor": "white",
             "startlinecolor": "#2a3f5f"
            },
            "baxis": {
             "endlinecolor": "#2a3f5f",
             "gridcolor": "white",
             "linecolor": "white",
             "minorgridcolor": "white",
             "startlinecolor": "#2a3f5f"
            },
            "type": "carpet"
           }
          ],
          "choropleth": [
           {
            "colorbar": {
             "outlinewidth": 0,
             "ticks": ""
            },
            "type": "choropleth"
           }
          ],
          "contour": [
           {
            "colorbar": {
             "outlinewidth": 0,
             "ticks": ""
            },
            "colorscale": [
             [
              0,
              "#0d0887"
             ],
             [
              0.1111111111111111,
              "#46039f"
             ],
             [
              0.2222222222222222,
              "#7201a8"
             ],
             [
              0.3333333333333333,
              "#9c179e"
             ],
             [
              0.4444444444444444,
              "#bd3786"
             ],
             [
              0.5555555555555556,
              "#d8576b"
             ],
             [
              0.6666666666666666,
              "#ed7953"
             ],
             [
              0.7777777777777778,
              "#fb9f3a"
             ],
             [
              0.8888888888888888,
              "#fdca26"
             ],
             [
              1,
              "#f0f921"
             ]
            ],
            "type": "contour"
           }
          ],
          "contourcarpet": [
           {
            "colorbar": {
             "outlinewidth": 0,
             "ticks": ""
            },
            "type": "contourcarpet"
           }
          ],
          "heatmap": [
           {
            "colorbar": {
             "outlinewidth": 0,
             "ticks": ""
            },
            "colorscale": [
             [
              0,
              "#0d0887"
             ],
             [
              0.1111111111111111,
              "#46039f"
             ],
             [
              0.2222222222222222,
              "#7201a8"
             ],
             [
              0.3333333333333333,
              "#9c179e"
             ],
             [
              0.4444444444444444,
              "#bd3786"
             ],
             [
              0.5555555555555556,
              "#d8576b"
             ],
             [
              0.6666666666666666,
              "#ed7953"
             ],
             [
              0.7777777777777778,
              "#fb9f3a"
             ],
             [
              0.8888888888888888,
              "#fdca26"
             ],
             [
              1,
              "#f0f921"
             ]
            ],
            "type": "heatmap"
           }
          ],
          "heatmapgl": [
           {
            "colorbar": {
             "outlinewidth": 0,
             "ticks": ""
            },
            "colorscale": [
             [
              0,
              "#0d0887"
             ],
             [
              0.1111111111111111,
              "#46039f"
             ],
             [
              0.2222222222222222,
              "#7201a8"
             ],
             [
              0.3333333333333333,
              "#9c179e"
             ],
             [
              0.4444444444444444,
              "#bd3786"
             ],
             [
              0.5555555555555556,
              "#d8576b"
             ],
             [
              0.6666666666666666,
              "#ed7953"
             ],
             [
              0.7777777777777778,
              "#fb9f3a"
             ],
             [
              0.8888888888888888,
              "#fdca26"
             ],
             [
              1,
              "#f0f921"
             ]
            ],
            "type": "heatmapgl"
           }
          ],
          "histogram": [
           {
            "marker": {
             "colorbar": {
              "outlinewidth": 0,
              "ticks": ""
             }
            },
            "type": "histogram"
           }
          ],
          "histogram2d": [
           {
            "colorbar": {
             "outlinewidth": 0,
             "ticks": ""
            },
            "colorscale": [
             [
              0,
              "#0d0887"
             ],
             [
              0.1111111111111111,
              "#46039f"
             ],
             [
              0.2222222222222222,
              "#7201a8"
             ],
             [
              0.3333333333333333,
              "#9c179e"
             ],
             [
              0.4444444444444444,
              "#bd3786"
             ],
             [
              0.5555555555555556,
              "#d8576b"
             ],
             [
              0.6666666666666666,
              "#ed7953"
             ],
             [
              0.7777777777777778,
              "#fb9f3a"
             ],
             [
              0.8888888888888888,
              "#fdca26"
             ],
             [
              1,
              "#f0f921"
             ]
            ],
            "type": "histogram2d"
           }
          ],
          "histogram2dcontour": [
           {
            "colorbar": {
             "outlinewidth": 0,
             "ticks": ""
            },
            "colorscale": [
             [
              0,
              "#0d0887"
             ],
             [
              0.1111111111111111,
              "#46039f"
             ],
             [
              0.2222222222222222,
              "#7201a8"
             ],
             [
              0.3333333333333333,
              "#9c179e"
             ],
             [
              0.4444444444444444,
              "#bd3786"
             ],
             [
              0.5555555555555556,
              "#d8576b"
             ],
             [
              0.6666666666666666,
              "#ed7953"
             ],
             [
              0.7777777777777778,
              "#fb9f3a"
             ],
             [
              0.8888888888888888,
              "#fdca26"
             ],
             [
              1,
              "#f0f921"
             ]
            ],
            "type": "histogram2dcontour"
           }
          ],
          "mesh3d": [
           {
            "colorbar": {
             "outlinewidth": 0,
             "ticks": ""
            },
            "type": "mesh3d"
           }
          ],
          "parcoords": [
           {
            "line": {
             "colorbar": {
              "outlinewidth": 0,
              "ticks": ""
             }
            },
            "type": "parcoords"
           }
          ],
          "pie": [
           {
            "automargin": true,
            "type": "pie"
           }
          ],
          "scatter": [
           {
            "marker": {
             "colorbar": {
              "outlinewidth": 0,
              "ticks": ""
             }
            },
            "type": "scatter"
           }
          ],
          "scatter3d": [
           {
            "line": {
             "colorbar": {
              "outlinewidth": 0,
              "ticks": ""
             }
            },
            "marker": {
             "colorbar": {
              "outlinewidth": 0,
              "ticks": ""
             }
            },
            "type": "scatter3d"
           }
          ],
          "scattercarpet": [
           {
            "marker": {
             "colorbar": {
              "outlinewidth": 0,
              "ticks": ""
             }
            },
            "type": "scattercarpet"
           }
          ],
          "scattergeo": [
           {
            "marker": {
             "colorbar": {
              "outlinewidth": 0,
              "ticks": ""
             }
            },
            "type": "scattergeo"
           }
          ],
          "scattergl": [
           {
            "marker": {
             "colorbar": {
              "outlinewidth": 0,
              "ticks": ""
             }
            },
            "type": "scattergl"
           }
          ],
          "scattermapbox": [
           {
            "marker": {
             "colorbar": {
              "outlinewidth": 0,
              "ticks": ""
             }
            },
            "type": "scattermapbox"
           }
          ],
          "scatterpolar": [
           {
            "marker": {
             "colorbar": {
              "outlinewidth": 0,
              "ticks": ""
             }
            },
            "type": "scatterpolar"
           }
          ],
          "scatterpolargl": [
           {
            "marker": {
             "colorbar": {
              "outlinewidth": 0,
              "ticks": ""
             }
            },
            "type": "scatterpolargl"
           }
          ],
          "scatterternary": [
           {
            "marker": {
             "colorbar": {
              "outlinewidth": 0,
              "ticks": ""
             }
            },
            "type": "scatterternary"
           }
          ],
          "surface": [
           {
            "colorbar": {
             "outlinewidth": 0,
             "ticks": ""
            },
            "colorscale": [
             [
              0,
              "#0d0887"
             ],
             [
              0.1111111111111111,
              "#46039f"
             ],
             [
              0.2222222222222222,
              "#7201a8"
             ],
             [
              0.3333333333333333,
              "#9c179e"
             ],
             [
              0.4444444444444444,
              "#bd3786"
             ],
             [
              0.5555555555555556,
              "#d8576b"
             ],
             [
              0.6666666666666666,
              "#ed7953"
             ],
             [
              0.7777777777777778,
              "#fb9f3a"
             ],
             [
              0.8888888888888888,
              "#fdca26"
             ],
             [
              1,
              "#f0f921"
             ]
            ],
            "type": "surface"
           }
          ],
          "table": [
           {
            "cells": {
             "fill": {
              "color": "#EBF0F8"
             },
             "line": {
              "color": "white"
             }
            },
            "header": {
             "fill": {
              "color": "#C8D4E3"
             },
             "line": {
              "color": "white"
             }
            },
            "type": "table"
           }
          ]
         },
         "layout": {
          "annotationdefaults": {
           "arrowcolor": "#2a3f5f",
           "arrowhead": 0,
           "arrowwidth": 1
          },
          "coloraxis": {
           "colorbar": {
            "outlinewidth": 0,
            "ticks": ""
           }
          },
          "colorscale": {
           "diverging": [
            [
             0,
             "#8e0152"
            ],
            [
             0.1,
             "#c51b7d"
            ],
            [
             0.2,
             "#de77ae"
            ],
            [
             0.3,
             "#f1b6da"
            ],
            [
             0.4,
             "#fde0ef"
            ],
            [
             0.5,
             "#f7f7f7"
            ],
            [
             0.6,
             "#e6f5d0"
            ],
            [
             0.7,
             "#b8e186"
            ],
            [
             0.8,
             "#7fbc41"
            ],
            [
             0.9,
             "#4d9221"
            ],
            [
             1,
             "#276419"
            ]
           ],
           "sequential": [
            [
             0,
             "#0d0887"
            ],
            [
             0.1111111111111111,
             "#46039f"
            ],
            [
             0.2222222222222222,
             "#7201a8"
            ],
            [
             0.3333333333333333,
             "#9c179e"
            ],
            [
             0.4444444444444444,
             "#bd3786"
            ],
            [
             0.5555555555555556,
             "#d8576b"
            ],
            [
             0.6666666666666666,
             "#ed7953"
            ],
            [
             0.7777777777777778,
             "#fb9f3a"
            ],
            [
             0.8888888888888888,
             "#fdca26"
            ],
            [
             1,
             "#f0f921"
            ]
           ],
           "sequentialminus": [
            [
             0,
             "#0d0887"
            ],
            [
             0.1111111111111111,
             "#46039f"
            ],
            [
             0.2222222222222222,
             "#7201a8"
            ],
            [
             0.3333333333333333,
             "#9c179e"
            ],
            [
             0.4444444444444444,
             "#bd3786"
            ],
            [
             0.5555555555555556,
             "#d8576b"
            ],
            [
             0.6666666666666666,
             "#ed7953"
            ],
            [
             0.7777777777777778,
             "#fb9f3a"
            ],
            [
             0.8888888888888888,
             "#fdca26"
            ],
            [
             1,
             "#f0f921"
            ]
           ]
          },
          "colorway": [
           "#636efa",
           "#EF553B",
           "#00cc96",
           "#ab63fa",
           "#FFA15A",
           "#19d3f3",
           "#FF6692",
           "#B6E880",
           "#FF97FF",
           "#FECB52"
          ],
          "font": {
           "color": "#2a3f5f"
          },
          "geo": {
           "bgcolor": "white",
           "lakecolor": "white",
           "landcolor": "#E5ECF6",
           "showlakes": true,
           "showland": true,
           "subunitcolor": "white"
          },
          "hoverlabel": {
           "align": "left"
          },
          "hovermode": "closest",
          "mapbox": {
           "style": "light"
          },
          "paper_bgcolor": "white",
          "plot_bgcolor": "#E5ECF6",
          "polar": {
           "angularaxis": {
            "gridcolor": "white",
            "linecolor": "white",
            "ticks": ""
           },
           "bgcolor": "#E5ECF6",
           "radialaxis": {
            "gridcolor": "white",
            "linecolor": "white",
            "ticks": ""
           }
          },
          "scene": {
           "xaxis": {
            "backgroundcolor": "#E5ECF6",
            "gridcolor": "white",
            "gridwidth": 2,
            "linecolor": "white",
            "showbackground": true,
            "ticks": "",
            "zerolinecolor": "white"
           },
           "yaxis": {
            "backgroundcolor": "#E5ECF6",
            "gridcolor": "white",
            "gridwidth": 2,
            "linecolor": "white",
            "showbackground": true,
            "ticks": "",
            "zerolinecolor": "white"
           },
           "zaxis": {
            "backgroundcolor": "#E5ECF6",
            "gridcolor": "white",
            "gridwidth": 2,
            "linecolor": "white",
            "showbackground": true,
            "ticks": "",
            "zerolinecolor": "white"
           }
          },
          "shapedefaults": {
           "line": {
            "color": "#2a3f5f"
           }
          },
          "ternary": {
           "aaxis": {
            "gridcolor": "white",
            "linecolor": "white",
            "ticks": ""
           },
           "baxis": {
            "gridcolor": "white",
            "linecolor": "white",
            "ticks": ""
           },
           "bgcolor": "#E5ECF6",
           "caxis": {
            "gridcolor": "white",
            "linecolor": "white",
            "ticks": ""
           }
          },
          "title": {
           "x": 0.05
          },
          "xaxis": {
           "automargin": true,
           "gridcolor": "white",
           "linecolor": "white",
           "ticks": "",
           "title": {
            "standoff": 15
           },
           "zerolinecolor": "white",
           "zerolinewidth": 2
          },
          "yaxis": {
           "automargin": true,
           "gridcolor": "white",
           "linecolor": "white",
           "ticks": "",
           "title": {
            "standoff": 15
           },
           "zerolinecolor": "white",
           "zerolinewidth": 2
          }
         }
        },
        "title": {
         "text": "Free App added over the month"
        },
        "xaxis": {
         "title": {
          "text": "months"
         }
        }
       }
      },
      "text/html": [
       "<div>\n",
       "        \n",
       "        \n",
       "            <div id=\"e8a11c6f-e572-4d4b-b771-3f13e3a8353c\" class=\"plotly-graph-div\" style=\"height:525px; width:100%;\"></div>\n",
       "            <script type=\"text/javascript\">\n",
       "                require([\"plotly\"], function(Plotly) {\n",
       "                    window.PLOTLYENV=window.PLOTLYENV || {};\n",
       "                    \n",
       "                if (document.getElementById(\"e8a11c6f-e572-4d4b-b771-3f13e3a8353c\")) {\n",
       "                    Plotly.newPlot(\n",
       "                        'e8a11c6f-e572-4d4b-b771-3f13e3a8353c',\n",
       "                        [{\"name\": \"Free\", \"type\": \"bar\", \"x\": [1, 2, 3, 4, 5, 6, 7, 8, 9, 10, 11, 12], \"y\": [320, 354, 421, 401, 649, 828, 1965, 1043, 222, 269, 262, 269]}],\n",
       "                        {\"template\": {\"data\": {\"bar\": [{\"error_x\": {\"color\": \"#2a3f5f\"}, \"error_y\": {\"color\": \"#2a3f5f\"}, \"marker\": {\"line\": {\"color\": \"#E5ECF6\", \"width\": 0.5}}, \"type\": \"bar\"}], \"barpolar\": [{\"marker\": {\"line\": {\"color\": \"#E5ECF6\", \"width\": 0.5}}, \"type\": \"barpolar\"}], \"carpet\": [{\"aaxis\": {\"endlinecolor\": \"#2a3f5f\", \"gridcolor\": \"white\", \"linecolor\": \"white\", \"minorgridcolor\": \"white\", \"startlinecolor\": \"#2a3f5f\"}, \"baxis\": {\"endlinecolor\": \"#2a3f5f\", \"gridcolor\": \"white\", \"linecolor\": \"white\", \"minorgridcolor\": \"white\", \"startlinecolor\": \"#2a3f5f\"}, \"type\": \"carpet\"}], \"choropleth\": [{\"colorbar\": {\"outlinewidth\": 0, \"ticks\": \"\"}, \"type\": \"choropleth\"}], \"contour\": [{\"colorbar\": {\"outlinewidth\": 0, \"ticks\": \"\"}, \"colorscale\": [[0.0, \"#0d0887\"], [0.1111111111111111, \"#46039f\"], [0.2222222222222222, \"#7201a8\"], [0.3333333333333333, \"#9c179e\"], [0.4444444444444444, \"#bd3786\"], [0.5555555555555556, \"#d8576b\"], [0.6666666666666666, \"#ed7953\"], [0.7777777777777778, \"#fb9f3a\"], [0.8888888888888888, \"#fdca26\"], [1.0, \"#f0f921\"]], \"type\": \"contour\"}], \"contourcarpet\": [{\"colorbar\": {\"outlinewidth\": 0, \"ticks\": \"\"}, \"type\": \"contourcarpet\"}], \"heatmap\": [{\"colorbar\": {\"outlinewidth\": 0, \"ticks\": \"\"}, \"colorscale\": [[0.0, \"#0d0887\"], [0.1111111111111111, \"#46039f\"], [0.2222222222222222, \"#7201a8\"], [0.3333333333333333, \"#9c179e\"], [0.4444444444444444, \"#bd3786\"], [0.5555555555555556, \"#d8576b\"], [0.6666666666666666, \"#ed7953\"], [0.7777777777777778, \"#fb9f3a\"], [0.8888888888888888, \"#fdca26\"], [1.0, \"#f0f921\"]], \"type\": \"heatmap\"}], \"heatmapgl\": [{\"colorbar\": {\"outlinewidth\": 0, \"ticks\": \"\"}, \"colorscale\": [[0.0, \"#0d0887\"], [0.1111111111111111, \"#46039f\"], [0.2222222222222222, \"#7201a8\"], [0.3333333333333333, \"#9c179e\"], [0.4444444444444444, \"#bd3786\"], [0.5555555555555556, \"#d8576b\"], [0.6666666666666666, \"#ed7953\"], [0.7777777777777778, \"#fb9f3a\"], [0.8888888888888888, \"#fdca26\"], [1.0, \"#f0f921\"]], \"type\": \"heatmapgl\"}], \"histogram\": [{\"marker\": {\"colorbar\": {\"outlinewidth\": 0, \"ticks\": \"\"}}, \"type\": \"histogram\"}], \"histogram2d\": [{\"colorbar\": {\"outlinewidth\": 0, \"ticks\": \"\"}, \"colorscale\": [[0.0, \"#0d0887\"], [0.1111111111111111, \"#46039f\"], [0.2222222222222222, \"#7201a8\"], [0.3333333333333333, \"#9c179e\"], [0.4444444444444444, \"#bd3786\"], [0.5555555555555556, \"#d8576b\"], [0.6666666666666666, \"#ed7953\"], [0.7777777777777778, \"#fb9f3a\"], [0.8888888888888888, \"#fdca26\"], [1.0, \"#f0f921\"]], \"type\": \"histogram2d\"}], \"histogram2dcontour\": [{\"colorbar\": {\"outlinewidth\": 0, \"ticks\": \"\"}, \"colorscale\": [[0.0, \"#0d0887\"], [0.1111111111111111, \"#46039f\"], [0.2222222222222222, \"#7201a8\"], [0.3333333333333333, \"#9c179e\"], [0.4444444444444444, \"#bd3786\"], [0.5555555555555556, \"#d8576b\"], [0.6666666666666666, \"#ed7953\"], [0.7777777777777778, \"#fb9f3a\"], [0.8888888888888888, \"#fdca26\"], [1.0, \"#f0f921\"]], \"type\": \"histogram2dcontour\"}], \"mesh3d\": [{\"colorbar\": {\"outlinewidth\": 0, \"ticks\": \"\"}, \"type\": \"mesh3d\"}], \"parcoords\": [{\"line\": {\"colorbar\": {\"outlinewidth\": 0, \"ticks\": \"\"}}, \"type\": \"parcoords\"}], \"pie\": [{\"automargin\": true, \"type\": \"pie\"}], \"scatter\": [{\"marker\": {\"colorbar\": {\"outlinewidth\": 0, \"ticks\": \"\"}}, \"type\": \"scatter\"}], \"scatter3d\": [{\"line\": {\"colorbar\": {\"outlinewidth\": 0, \"ticks\": \"\"}}, \"marker\": {\"colorbar\": {\"outlinewidth\": 0, \"ticks\": \"\"}}, \"type\": \"scatter3d\"}], \"scattercarpet\": [{\"marker\": {\"colorbar\": {\"outlinewidth\": 0, \"ticks\": \"\"}}, \"type\": \"scattercarpet\"}], \"scattergeo\": [{\"marker\": {\"colorbar\": {\"outlinewidth\": 0, \"ticks\": \"\"}}, \"type\": \"scattergeo\"}], \"scattergl\": [{\"marker\": {\"colorbar\": {\"outlinewidth\": 0, \"ticks\": \"\"}}, \"type\": \"scattergl\"}], \"scattermapbox\": [{\"marker\": {\"colorbar\": {\"outlinewidth\": 0, \"ticks\": \"\"}}, \"type\": \"scattermapbox\"}], \"scatterpolar\": [{\"marker\": {\"colorbar\": {\"outlinewidth\": 0, \"ticks\": \"\"}}, \"type\": \"scatterpolar\"}], \"scatterpolargl\": [{\"marker\": {\"colorbar\": {\"outlinewidth\": 0, \"ticks\": \"\"}}, \"type\": \"scatterpolargl\"}], \"scatterternary\": [{\"marker\": {\"colorbar\": {\"outlinewidth\": 0, \"ticks\": \"\"}}, \"type\": \"scatterternary\"}], \"surface\": [{\"colorbar\": {\"outlinewidth\": 0, \"ticks\": \"\"}, \"colorscale\": [[0.0, \"#0d0887\"], [0.1111111111111111, \"#46039f\"], [0.2222222222222222, \"#7201a8\"], [0.3333333333333333, \"#9c179e\"], [0.4444444444444444, \"#bd3786\"], [0.5555555555555556, \"#d8576b\"], [0.6666666666666666, \"#ed7953\"], [0.7777777777777778, \"#fb9f3a\"], [0.8888888888888888, \"#fdca26\"], [1.0, \"#f0f921\"]], \"type\": \"surface\"}], \"table\": [{\"cells\": {\"fill\": {\"color\": \"#EBF0F8\"}, \"line\": {\"color\": \"white\"}}, \"header\": {\"fill\": {\"color\": \"#C8D4E3\"}, \"line\": {\"color\": \"white\"}}, \"type\": \"table\"}]}, \"layout\": {\"annotationdefaults\": {\"arrowcolor\": \"#2a3f5f\", \"arrowhead\": 0, \"arrowwidth\": 1}, \"coloraxis\": {\"colorbar\": {\"outlinewidth\": 0, \"ticks\": \"\"}}, \"colorscale\": {\"diverging\": [[0, \"#8e0152\"], [0.1, \"#c51b7d\"], [0.2, \"#de77ae\"], [0.3, \"#f1b6da\"], [0.4, \"#fde0ef\"], [0.5, \"#f7f7f7\"], [0.6, \"#e6f5d0\"], [0.7, \"#b8e186\"], [0.8, \"#7fbc41\"], [0.9, \"#4d9221\"], [1, \"#276419\"]], \"sequential\": [[0.0, \"#0d0887\"], [0.1111111111111111, \"#46039f\"], [0.2222222222222222, \"#7201a8\"], [0.3333333333333333, \"#9c179e\"], [0.4444444444444444, \"#bd3786\"], [0.5555555555555556, \"#d8576b\"], [0.6666666666666666, \"#ed7953\"], [0.7777777777777778, \"#fb9f3a\"], [0.8888888888888888, \"#fdca26\"], [1.0, \"#f0f921\"]], \"sequentialminus\": [[0.0, \"#0d0887\"], [0.1111111111111111, \"#46039f\"], [0.2222222222222222, \"#7201a8\"], [0.3333333333333333, \"#9c179e\"], [0.4444444444444444, \"#bd3786\"], [0.5555555555555556, \"#d8576b\"], [0.6666666666666666, \"#ed7953\"], [0.7777777777777778, \"#fb9f3a\"], [0.8888888888888888, \"#fdca26\"], [1.0, \"#f0f921\"]]}, \"colorway\": [\"#636efa\", \"#EF553B\", \"#00cc96\", \"#ab63fa\", \"#FFA15A\", \"#19d3f3\", \"#FF6692\", \"#B6E880\", \"#FF97FF\", \"#FECB52\"], \"font\": {\"color\": \"#2a3f5f\"}, \"geo\": {\"bgcolor\": \"white\", \"lakecolor\": \"white\", \"landcolor\": \"#E5ECF6\", \"showlakes\": true, \"showland\": true, \"subunitcolor\": \"white\"}, \"hoverlabel\": {\"align\": \"left\"}, \"hovermode\": \"closest\", \"mapbox\": {\"style\": \"light\"}, \"paper_bgcolor\": \"white\", \"plot_bgcolor\": \"#E5ECF6\", \"polar\": {\"angularaxis\": {\"gridcolor\": \"white\", \"linecolor\": \"white\", \"ticks\": \"\"}, \"bgcolor\": \"#E5ECF6\", \"radialaxis\": {\"gridcolor\": \"white\", \"linecolor\": \"white\", \"ticks\": \"\"}}, \"scene\": {\"xaxis\": {\"backgroundcolor\": \"#E5ECF6\", \"gridcolor\": \"white\", \"gridwidth\": 2, \"linecolor\": \"white\", \"showbackground\": true, \"ticks\": \"\", \"zerolinecolor\": \"white\"}, \"yaxis\": {\"backgroundcolor\": \"#E5ECF6\", \"gridcolor\": \"white\", \"gridwidth\": 2, \"linecolor\": \"white\", \"showbackground\": true, \"ticks\": \"\", \"zerolinecolor\": \"white\"}, \"zaxis\": {\"backgroundcolor\": \"#E5ECF6\", \"gridcolor\": \"white\", \"gridwidth\": 2, \"linecolor\": \"white\", \"showbackground\": true, \"ticks\": \"\", \"zerolinecolor\": \"white\"}}, \"shapedefaults\": {\"line\": {\"color\": \"#2a3f5f\"}}, \"ternary\": {\"aaxis\": {\"gridcolor\": \"white\", \"linecolor\": \"white\", \"ticks\": \"\"}, \"baxis\": {\"gridcolor\": \"white\", \"linecolor\": \"white\", \"ticks\": \"\"}, \"bgcolor\": \"#E5ECF6\", \"caxis\": {\"gridcolor\": \"white\", \"linecolor\": \"white\", \"ticks\": \"\"}}, \"title\": {\"x\": 0.05}, \"xaxis\": {\"automargin\": true, \"gridcolor\": \"white\", \"linecolor\": \"white\", \"ticks\": \"\", \"title\": {\"standoff\": 15}, \"zerolinecolor\": \"white\", \"zerolinewidth\": 2}, \"yaxis\": {\"automargin\": true, \"gridcolor\": \"white\", \"linecolor\": \"white\", \"ticks\": \"\", \"title\": {\"standoff\": 15}, \"zerolinecolor\": \"white\", \"zerolinewidth\": 2}}}, \"title\": {\"text\": \"Free App added over the month\"}, \"xaxis\": {\"title\": {\"text\": \"months\"}}},\n",
       "                        {\"responsive\": true}\n",
       "                    ).then(function(){\n",
       "                            \n",
       "var gd = document.getElementById('e8a11c6f-e572-4d4b-b771-3f13e3a8353c');\n",
       "var x = new MutationObserver(function (mutations, observer) {{\n",
       "        var display = window.getComputedStyle(gd).display;\n",
       "        if (!display || display === 'none') {{\n",
       "            console.log([gd, 'removed!']);\n",
       "            Plotly.purge(gd);\n",
       "            observer.disconnect();\n",
       "        }}\n",
       "}});\n",
       "\n",
       "// Listen for the removal of the full notebook cells\n",
       "var notebookContainer = gd.closest('#notebook-container');\n",
       "if (notebookContainer) {{\n",
       "    x.observe(notebookContainer, {childList: true});\n",
       "}}\n",
       "\n",
       "// Listen for the clearing of the current output cell\n",
       "var outputEl = gd.closest('.output');\n",
       "if (outputEl) {{\n",
       "    x.observe(outputEl, {childList: true});\n",
       "}}\n",
       "\n",
       "                        })\n",
       "                };\n",
       "                });\n",
       "            </script>\n",
       "        </div>"
      ]
     },
     "metadata": {},
     "output_type": "display_data"
    }
   ],
   "source": [
    "col='month_added'\n",
    "v1=d1[col].value_counts().reset_index()\n",
    "v1=v1.rename(columns={col:'count','index':col})\n",
    "v1['percent']=v1['count'].apply(lambda x : 100*x/sum(v1['count']))\n",
    "v1=v1.sort_values(col)\n",
    "trace1 = go.Bar(x=v1[col], y=v1[\"count\"], name=\"Free\", marker=dict())\n",
    "layout={'title':\"Free App added over the month\",'xaxis':{'title':\"months\"}}\n",
    "fig = go.Figure(data=[trace1], layout=layout)\n",
    "py.offline.iplot(fig)"
   ]
  },
  {
   "cell_type": "code",
   "execution_count": 35,
   "metadata": {},
   "outputs": [
    {
     "data": {
      "application/vnd.plotly.v1+json": {
       "config": {
        "linkText": "Export to plot.ly",
        "plotlyServerURL": "https://plot.ly",
        "showLink": false
       },
       "data": [
        {
         "name": "aid",
         "type": "bar",
         "x": [
          1,
          2,
          3,
          4,
          5,
          6,
          7,
          8,
          9,
          10,
          11,
          12
         ],
         "y": [
          32,
          42,
          61,
          45,
          57,
          65,
          100,
          51,
          19,
          24,
          29,
          50
         ]
        }
       ],
       "layout": {
        "template": {
         "data": {
          "bar": [
           {
            "error_x": {
             "color": "#2a3f5f"
            },
            "error_y": {
             "color": "#2a3f5f"
            },
            "marker": {
             "line": {
              "color": "#E5ECF6",
              "width": 0.5
             }
            },
            "type": "bar"
           }
          ],
          "barpolar": [
           {
            "marker": {
             "line": {
              "color": "#E5ECF6",
              "width": 0.5
             }
            },
            "type": "barpolar"
           }
          ],
          "carpet": [
           {
            "aaxis": {
             "endlinecolor": "#2a3f5f",
             "gridcolor": "white",
             "linecolor": "white",
             "minorgridcolor": "white",
             "startlinecolor": "#2a3f5f"
            },
            "baxis": {
             "endlinecolor": "#2a3f5f",
             "gridcolor": "white",
             "linecolor": "white",
             "minorgridcolor": "white",
             "startlinecolor": "#2a3f5f"
            },
            "type": "carpet"
           }
          ],
          "choropleth": [
           {
            "colorbar": {
             "outlinewidth": 0,
             "ticks": ""
            },
            "type": "choropleth"
           }
          ],
          "contour": [
           {
            "colorbar": {
             "outlinewidth": 0,
             "ticks": ""
            },
            "colorscale": [
             [
              0,
              "#0d0887"
             ],
             [
              0.1111111111111111,
              "#46039f"
             ],
             [
              0.2222222222222222,
              "#7201a8"
             ],
             [
              0.3333333333333333,
              "#9c179e"
             ],
             [
              0.4444444444444444,
              "#bd3786"
             ],
             [
              0.5555555555555556,
              "#d8576b"
             ],
             [
              0.6666666666666666,
              "#ed7953"
             ],
             [
              0.7777777777777778,
              "#fb9f3a"
             ],
             [
              0.8888888888888888,
              "#fdca26"
             ],
             [
              1,
              "#f0f921"
             ]
            ],
            "type": "contour"
           }
          ],
          "contourcarpet": [
           {
            "colorbar": {
             "outlinewidth": 0,
             "ticks": ""
            },
            "type": "contourcarpet"
           }
          ],
          "heatmap": [
           {
            "colorbar": {
             "outlinewidth": 0,
             "ticks": ""
            },
            "colorscale": [
             [
              0,
              "#0d0887"
             ],
             [
              0.1111111111111111,
              "#46039f"
             ],
             [
              0.2222222222222222,
              "#7201a8"
             ],
             [
              0.3333333333333333,
              "#9c179e"
             ],
             [
              0.4444444444444444,
              "#bd3786"
             ],
             [
              0.5555555555555556,
              "#d8576b"
             ],
             [
              0.6666666666666666,
              "#ed7953"
             ],
             [
              0.7777777777777778,
              "#fb9f3a"
             ],
             [
              0.8888888888888888,
              "#fdca26"
             ],
             [
              1,
              "#f0f921"
             ]
            ],
            "type": "heatmap"
           }
          ],
          "heatmapgl": [
           {
            "colorbar": {
             "outlinewidth": 0,
             "ticks": ""
            },
            "colorscale": [
             [
              0,
              "#0d0887"
             ],
             [
              0.1111111111111111,
              "#46039f"
             ],
             [
              0.2222222222222222,
              "#7201a8"
             ],
             [
              0.3333333333333333,
              "#9c179e"
             ],
             [
              0.4444444444444444,
              "#bd3786"
             ],
             [
              0.5555555555555556,
              "#d8576b"
             ],
             [
              0.6666666666666666,
              "#ed7953"
             ],
             [
              0.7777777777777778,
              "#fb9f3a"
             ],
             [
              0.8888888888888888,
              "#fdca26"
             ],
             [
              1,
              "#f0f921"
             ]
            ],
            "type": "heatmapgl"
           }
          ],
          "histogram": [
           {
            "marker": {
             "colorbar": {
              "outlinewidth": 0,
              "ticks": ""
             }
            },
            "type": "histogram"
           }
          ],
          "histogram2d": [
           {
            "colorbar": {
             "outlinewidth": 0,
             "ticks": ""
            },
            "colorscale": [
             [
              0,
              "#0d0887"
             ],
             [
              0.1111111111111111,
              "#46039f"
             ],
             [
              0.2222222222222222,
              "#7201a8"
             ],
             [
              0.3333333333333333,
              "#9c179e"
             ],
             [
              0.4444444444444444,
              "#bd3786"
             ],
             [
              0.5555555555555556,
              "#d8576b"
             ],
             [
              0.6666666666666666,
              "#ed7953"
             ],
             [
              0.7777777777777778,
              "#fb9f3a"
             ],
             [
              0.8888888888888888,
              "#fdca26"
             ],
             [
              1,
              "#f0f921"
             ]
            ],
            "type": "histogram2d"
           }
          ],
          "histogram2dcontour": [
           {
            "colorbar": {
             "outlinewidth": 0,
             "ticks": ""
            },
            "colorscale": [
             [
              0,
              "#0d0887"
             ],
             [
              0.1111111111111111,
              "#46039f"
             ],
             [
              0.2222222222222222,
              "#7201a8"
             ],
             [
              0.3333333333333333,
              "#9c179e"
             ],
             [
              0.4444444444444444,
              "#bd3786"
             ],
             [
              0.5555555555555556,
              "#d8576b"
             ],
             [
              0.6666666666666666,
              "#ed7953"
             ],
             [
              0.7777777777777778,
              "#fb9f3a"
             ],
             [
              0.8888888888888888,
              "#fdca26"
             ],
             [
              1,
              "#f0f921"
             ]
            ],
            "type": "histogram2dcontour"
           }
          ],
          "mesh3d": [
           {
            "colorbar": {
             "outlinewidth": 0,
             "ticks": ""
            },
            "type": "mesh3d"
           }
          ],
          "parcoords": [
           {
            "line": {
             "colorbar": {
              "outlinewidth": 0,
              "ticks": ""
             }
            },
            "type": "parcoords"
           }
          ],
          "pie": [
           {
            "automargin": true,
            "type": "pie"
           }
          ],
          "scatter": [
           {
            "marker": {
             "colorbar": {
              "outlinewidth": 0,
              "ticks": ""
             }
            },
            "type": "scatter"
           }
          ],
          "scatter3d": [
           {
            "line": {
             "colorbar": {
              "outlinewidth": 0,
              "ticks": ""
             }
            },
            "marker": {
             "colorbar": {
              "outlinewidth": 0,
              "ticks": ""
             }
            },
            "type": "scatter3d"
           }
          ],
          "scattercarpet": [
           {
            "marker": {
             "colorbar": {
              "outlinewidth": 0,
              "ticks": ""
             }
            },
            "type": "scattercarpet"
           }
          ],
          "scattergeo": [
           {
            "marker": {
             "colorbar": {
              "outlinewidth": 0,
              "ticks": ""
             }
            },
            "type": "scattergeo"
           }
          ],
          "scattergl": [
           {
            "marker": {
             "colorbar": {
              "outlinewidth": 0,
              "ticks": ""
             }
            },
            "type": "scattergl"
           }
          ],
          "scattermapbox": [
           {
            "marker": {
             "colorbar": {
              "outlinewidth": 0,
              "ticks": ""
             }
            },
            "type": "scattermapbox"
           }
          ],
          "scatterpolar": [
           {
            "marker": {
             "colorbar": {
              "outlinewidth": 0,
              "ticks": ""
             }
            },
            "type": "scatterpolar"
           }
          ],
          "scatterpolargl": [
           {
            "marker": {
             "colorbar": {
              "outlinewidth": 0,
              "ticks": ""
             }
            },
            "type": "scatterpolargl"
           }
          ],
          "scatterternary": [
           {
            "marker": {
             "colorbar": {
              "outlinewidth": 0,
              "ticks": ""
             }
            },
            "type": "scatterternary"
           }
          ],
          "surface": [
           {
            "colorbar": {
             "outlinewidth": 0,
             "ticks": ""
            },
            "colorscale": [
             [
              0,
              "#0d0887"
             ],
             [
              0.1111111111111111,
              "#46039f"
             ],
             [
              0.2222222222222222,
              "#7201a8"
             ],
             [
              0.3333333333333333,
              "#9c179e"
             ],
             [
              0.4444444444444444,
              "#bd3786"
             ],
             [
              0.5555555555555556,
              "#d8576b"
             ],
             [
              0.6666666666666666,
              "#ed7953"
             ],
             [
              0.7777777777777778,
              "#fb9f3a"
             ],
             [
              0.8888888888888888,
              "#fdca26"
             ],
             [
              1,
              "#f0f921"
             ]
            ],
            "type": "surface"
           }
          ],
          "table": [
           {
            "cells": {
             "fill": {
              "color": "#EBF0F8"
             },
             "line": {
              "color": "white"
             }
            },
            "header": {
             "fill": {
              "color": "#C8D4E3"
             },
             "line": {
              "color": "white"
             }
            },
            "type": "table"
           }
          ]
         },
         "layout": {
          "annotationdefaults": {
           "arrowcolor": "#2a3f5f",
           "arrowhead": 0,
           "arrowwidth": 1
          },
          "coloraxis": {
           "colorbar": {
            "outlinewidth": 0,
            "ticks": ""
           }
          },
          "colorscale": {
           "diverging": [
            [
             0,
             "#8e0152"
            ],
            [
             0.1,
             "#c51b7d"
            ],
            [
             0.2,
             "#de77ae"
            ],
            [
             0.3,
             "#f1b6da"
            ],
            [
             0.4,
             "#fde0ef"
            ],
            [
             0.5,
             "#f7f7f7"
            ],
            [
             0.6,
             "#e6f5d0"
            ],
            [
             0.7,
             "#b8e186"
            ],
            [
             0.8,
             "#7fbc41"
            ],
            [
             0.9,
             "#4d9221"
            ],
            [
             1,
             "#276419"
            ]
           ],
           "sequential": [
            [
             0,
             "#0d0887"
            ],
            [
             0.1111111111111111,
             "#46039f"
            ],
            [
             0.2222222222222222,
             "#7201a8"
            ],
            [
             0.3333333333333333,
             "#9c179e"
            ],
            [
             0.4444444444444444,
             "#bd3786"
            ],
            [
             0.5555555555555556,
             "#d8576b"
            ],
            [
             0.6666666666666666,
             "#ed7953"
            ],
            [
             0.7777777777777778,
             "#fb9f3a"
            ],
            [
             0.8888888888888888,
             "#fdca26"
            ],
            [
             1,
             "#f0f921"
            ]
           ],
           "sequentialminus": [
            [
             0,
             "#0d0887"
            ],
            [
             0.1111111111111111,
             "#46039f"
            ],
            [
             0.2222222222222222,
             "#7201a8"
            ],
            [
             0.3333333333333333,
             "#9c179e"
            ],
            [
             0.4444444444444444,
             "#bd3786"
            ],
            [
             0.5555555555555556,
             "#d8576b"
            ],
            [
             0.6666666666666666,
             "#ed7953"
            ],
            [
             0.7777777777777778,
             "#fb9f3a"
            ],
            [
             0.8888888888888888,
             "#fdca26"
            ],
            [
             1,
             "#f0f921"
            ]
           ]
          },
          "colorway": [
           "#636efa",
           "#EF553B",
           "#00cc96",
           "#ab63fa",
           "#FFA15A",
           "#19d3f3",
           "#FF6692",
           "#B6E880",
           "#FF97FF",
           "#FECB52"
          ],
          "font": {
           "color": "#2a3f5f"
          },
          "geo": {
           "bgcolor": "white",
           "lakecolor": "white",
           "landcolor": "#E5ECF6",
           "showlakes": true,
           "showland": true,
           "subunitcolor": "white"
          },
          "hoverlabel": {
           "align": "left"
          },
          "hovermode": "closest",
          "mapbox": {
           "style": "light"
          },
          "paper_bgcolor": "white",
          "plot_bgcolor": "#E5ECF6",
          "polar": {
           "angularaxis": {
            "gridcolor": "white",
            "linecolor": "white",
            "ticks": ""
           },
           "bgcolor": "#E5ECF6",
           "radialaxis": {
            "gridcolor": "white",
            "linecolor": "white",
            "ticks": ""
           }
          },
          "scene": {
           "xaxis": {
            "backgroundcolor": "#E5ECF6",
            "gridcolor": "white",
            "gridwidth": 2,
            "linecolor": "white",
            "showbackground": true,
            "ticks": "",
            "zerolinecolor": "white"
           },
           "yaxis": {
            "backgroundcolor": "#E5ECF6",
            "gridcolor": "white",
            "gridwidth": 2,
            "linecolor": "white",
            "showbackground": true,
            "ticks": "",
            "zerolinecolor": "white"
           },
           "zaxis": {
            "backgroundcolor": "#E5ECF6",
            "gridcolor": "white",
            "gridwidth": 2,
            "linecolor": "white",
            "showbackground": true,
            "ticks": "",
            "zerolinecolor": "white"
           }
          },
          "shapedefaults": {
           "line": {
            "color": "#2a3f5f"
           }
          },
          "ternary": {
           "aaxis": {
            "gridcolor": "white",
            "linecolor": "white",
            "ticks": ""
           },
           "baxis": {
            "gridcolor": "white",
            "linecolor": "white",
            "ticks": ""
           },
           "bgcolor": "#E5ECF6",
           "caxis": {
            "gridcolor": "white",
            "linecolor": "white",
            "ticks": ""
           }
          },
          "title": {
           "x": 0.05
          },
          "xaxis": {
           "automargin": true,
           "gridcolor": "white",
           "linecolor": "white",
           "ticks": "",
           "title": {
            "standoff": 15
           },
           "zerolinecolor": "white",
           "zerolinewidth": 2
          },
          "yaxis": {
           "automargin": true,
           "gridcolor": "white",
           "linecolor": "white",
           "ticks": "",
           "title": {
            "standoff": 15
           },
           "zerolinecolor": "white",
           "zerolinewidth": 2
          }
         }
        },
        "title": {
         "text": "Paid App added over the month"
        },
        "xaxis": {
         "title": {
          "text": "months"
         }
        }
       }
      },
      "text/html": [
       "<div>\n",
       "        \n",
       "        \n",
       "            <div id=\"f26cafc8-c9a2-4bd2-92ec-4b6a05480619\" class=\"plotly-graph-div\" style=\"height:525px; width:100%;\"></div>\n",
       "            <script type=\"text/javascript\">\n",
       "                require([\"plotly\"], function(Plotly) {\n",
       "                    window.PLOTLYENV=window.PLOTLYENV || {};\n",
       "                    \n",
       "                if (document.getElementById(\"f26cafc8-c9a2-4bd2-92ec-4b6a05480619\")) {\n",
       "                    Plotly.newPlot(\n",
       "                        'f26cafc8-c9a2-4bd2-92ec-4b6a05480619',\n",
       "                        [{\"name\": \"aid\", \"type\": \"bar\", \"x\": [1, 2, 3, 4, 5, 6, 7, 8, 9, 10, 11, 12], \"y\": [32, 42, 61, 45, 57, 65, 100, 51, 19, 24, 29, 50]}],\n",
       "                        {\"template\": {\"data\": {\"bar\": [{\"error_x\": {\"color\": \"#2a3f5f\"}, \"error_y\": {\"color\": \"#2a3f5f\"}, \"marker\": {\"line\": {\"color\": \"#E5ECF6\", \"width\": 0.5}}, \"type\": \"bar\"}], \"barpolar\": [{\"marker\": {\"line\": {\"color\": \"#E5ECF6\", \"width\": 0.5}}, \"type\": \"barpolar\"}], \"carpet\": [{\"aaxis\": {\"endlinecolor\": \"#2a3f5f\", \"gridcolor\": \"white\", \"linecolor\": \"white\", \"minorgridcolor\": \"white\", \"startlinecolor\": \"#2a3f5f\"}, \"baxis\": {\"endlinecolor\": \"#2a3f5f\", \"gridcolor\": \"white\", \"linecolor\": \"white\", \"minorgridcolor\": \"white\", \"startlinecolor\": \"#2a3f5f\"}, \"type\": \"carpet\"}], \"choropleth\": [{\"colorbar\": {\"outlinewidth\": 0, \"ticks\": \"\"}, \"type\": \"choropleth\"}], \"contour\": [{\"colorbar\": {\"outlinewidth\": 0, \"ticks\": \"\"}, \"colorscale\": [[0.0, \"#0d0887\"], [0.1111111111111111, \"#46039f\"], [0.2222222222222222, \"#7201a8\"], [0.3333333333333333, \"#9c179e\"], [0.4444444444444444, \"#bd3786\"], [0.5555555555555556, \"#d8576b\"], [0.6666666666666666, \"#ed7953\"], [0.7777777777777778, \"#fb9f3a\"], [0.8888888888888888, \"#fdca26\"], [1.0, \"#f0f921\"]], \"type\": \"contour\"}], \"contourcarpet\": [{\"colorbar\": {\"outlinewidth\": 0, \"ticks\": \"\"}, \"type\": \"contourcarpet\"}], \"heatmap\": [{\"colorbar\": {\"outlinewidth\": 0, \"ticks\": \"\"}, \"colorscale\": [[0.0, \"#0d0887\"], [0.1111111111111111, \"#46039f\"], [0.2222222222222222, \"#7201a8\"], [0.3333333333333333, \"#9c179e\"], [0.4444444444444444, \"#bd3786\"], [0.5555555555555556, \"#d8576b\"], [0.6666666666666666, \"#ed7953\"], [0.7777777777777778, \"#fb9f3a\"], [0.8888888888888888, \"#fdca26\"], [1.0, \"#f0f921\"]], \"type\": \"heatmap\"}], \"heatmapgl\": [{\"colorbar\": {\"outlinewidth\": 0, \"ticks\": \"\"}, \"colorscale\": [[0.0, \"#0d0887\"], [0.1111111111111111, \"#46039f\"], [0.2222222222222222, \"#7201a8\"], [0.3333333333333333, \"#9c179e\"], [0.4444444444444444, \"#bd3786\"], [0.5555555555555556, \"#d8576b\"], [0.6666666666666666, \"#ed7953\"], [0.7777777777777778, \"#fb9f3a\"], [0.8888888888888888, \"#fdca26\"], [1.0, \"#f0f921\"]], \"type\": \"heatmapgl\"}], \"histogram\": [{\"marker\": {\"colorbar\": {\"outlinewidth\": 0, \"ticks\": \"\"}}, \"type\": \"histogram\"}], \"histogram2d\": [{\"colorbar\": {\"outlinewidth\": 0, \"ticks\": \"\"}, \"colorscale\": [[0.0, \"#0d0887\"], [0.1111111111111111, \"#46039f\"], [0.2222222222222222, \"#7201a8\"], [0.3333333333333333, \"#9c179e\"], [0.4444444444444444, \"#bd3786\"], [0.5555555555555556, \"#d8576b\"], [0.6666666666666666, \"#ed7953\"], [0.7777777777777778, \"#fb9f3a\"], [0.8888888888888888, \"#fdca26\"], [1.0, \"#f0f921\"]], \"type\": \"histogram2d\"}], \"histogram2dcontour\": [{\"colorbar\": {\"outlinewidth\": 0, \"ticks\": \"\"}, \"colorscale\": [[0.0, \"#0d0887\"], [0.1111111111111111, \"#46039f\"], [0.2222222222222222, \"#7201a8\"], [0.3333333333333333, \"#9c179e\"], [0.4444444444444444, \"#bd3786\"], [0.5555555555555556, \"#d8576b\"], [0.6666666666666666, \"#ed7953\"], [0.7777777777777778, \"#fb9f3a\"], [0.8888888888888888, \"#fdca26\"], [1.0, \"#f0f921\"]], \"type\": \"histogram2dcontour\"}], \"mesh3d\": [{\"colorbar\": {\"outlinewidth\": 0, \"ticks\": \"\"}, \"type\": \"mesh3d\"}], \"parcoords\": [{\"line\": {\"colorbar\": {\"outlinewidth\": 0, \"ticks\": \"\"}}, \"type\": \"parcoords\"}], \"pie\": [{\"automargin\": true, \"type\": \"pie\"}], \"scatter\": [{\"marker\": {\"colorbar\": {\"outlinewidth\": 0, \"ticks\": \"\"}}, \"type\": \"scatter\"}], \"scatter3d\": [{\"line\": {\"colorbar\": {\"outlinewidth\": 0, \"ticks\": \"\"}}, \"marker\": {\"colorbar\": {\"outlinewidth\": 0, \"ticks\": \"\"}}, \"type\": \"scatter3d\"}], \"scattercarpet\": [{\"marker\": {\"colorbar\": {\"outlinewidth\": 0, \"ticks\": \"\"}}, \"type\": \"scattercarpet\"}], \"scattergeo\": [{\"marker\": {\"colorbar\": {\"outlinewidth\": 0, \"ticks\": \"\"}}, \"type\": \"scattergeo\"}], \"scattergl\": [{\"marker\": {\"colorbar\": {\"outlinewidth\": 0, \"ticks\": \"\"}}, \"type\": \"scattergl\"}], \"scattermapbox\": [{\"marker\": {\"colorbar\": {\"outlinewidth\": 0, \"ticks\": \"\"}}, \"type\": \"scattermapbox\"}], \"scatterpolar\": [{\"marker\": {\"colorbar\": {\"outlinewidth\": 0, \"ticks\": \"\"}}, \"type\": \"scatterpolar\"}], \"scatterpolargl\": [{\"marker\": {\"colorbar\": {\"outlinewidth\": 0, \"ticks\": \"\"}}, \"type\": \"scatterpolargl\"}], \"scatterternary\": [{\"marker\": {\"colorbar\": {\"outlinewidth\": 0, \"ticks\": \"\"}}, \"type\": \"scatterternary\"}], \"surface\": [{\"colorbar\": {\"outlinewidth\": 0, \"ticks\": \"\"}, \"colorscale\": [[0.0, \"#0d0887\"], [0.1111111111111111, \"#46039f\"], [0.2222222222222222, \"#7201a8\"], [0.3333333333333333, \"#9c179e\"], [0.4444444444444444, \"#bd3786\"], [0.5555555555555556, \"#d8576b\"], [0.6666666666666666, \"#ed7953\"], [0.7777777777777778, \"#fb9f3a\"], [0.8888888888888888, \"#fdca26\"], [1.0, \"#f0f921\"]], \"type\": \"surface\"}], \"table\": [{\"cells\": {\"fill\": {\"color\": \"#EBF0F8\"}, \"line\": {\"color\": \"white\"}}, \"header\": {\"fill\": {\"color\": \"#C8D4E3\"}, \"line\": {\"color\": \"white\"}}, \"type\": \"table\"}]}, \"layout\": {\"annotationdefaults\": {\"arrowcolor\": \"#2a3f5f\", \"arrowhead\": 0, \"arrowwidth\": 1}, \"coloraxis\": {\"colorbar\": {\"outlinewidth\": 0, \"ticks\": \"\"}}, \"colorscale\": {\"diverging\": [[0, \"#8e0152\"], [0.1, \"#c51b7d\"], [0.2, \"#de77ae\"], [0.3, \"#f1b6da\"], [0.4, \"#fde0ef\"], [0.5, \"#f7f7f7\"], [0.6, \"#e6f5d0\"], [0.7, \"#b8e186\"], [0.8, \"#7fbc41\"], [0.9, \"#4d9221\"], [1, \"#276419\"]], \"sequential\": [[0.0, \"#0d0887\"], [0.1111111111111111, \"#46039f\"], [0.2222222222222222, \"#7201a8\"], [0.3333333333333333, \"#9c179e\"], [0.4444444444444444, \"#bd3786\"], [0.5555555555555556, \"#d8576b\"], [0.6666666666666666, \"#ed7953\"], [0.7777777777777778, \"#fb9f3a\"], [0.8888888888888888, \"#fdca26\"], [1.0, \"#f0f921\"]], \"sequentialminus\": [[0.0, \"#0d0887\"], [0.1111111111111111, \"#46039f\"], [0.2222222222222222, \"#7201a8\"], [0.3333333333333333, \"#9c179e\"], [0.4444444444444444, \"#bd3786\"], [0.5555555555555556, \"#d8576b\"], [0.6666666666666666, \"#ed7953\"], [0.7777777777777778, \"#fb9f3a\"], [0.8888888888888888, \"#fdca26\"], [1.0, \"#f0f921\"]]}, \"colorway\": [\"#636efa\", \"#EF553B\", \"#00cc96\", \"#ab63fa\", \"#FFA15A\", \"#19d3f3\", \"#FF6692\", \"#B6E880\", \"#FF97FF\", \"#FECB52\"], \"font\": {\"color\": \"#2a3f5f\"}, \"geo\": {\"bgcolor\": \"white\", \"lakecolor\": \"white\", \"landcolor\": \"#E5ECF6\", \"showlakes\": true, \"showland\": true, \"subunitcolor\": \"white\"}, \"hoverlabel\": {\"align\": \"left\"}, \"hovermode\": \"closest\", \"mapbox\": {\"style\": \"light\"}, \"paper_bgcolor\": \"white\", \"plot_bgcolor\": \"#E5ECF6\", \"polar\": {\"angularaxis\": {\"gridcolor\": \"white\", \"linecolor\": \"white\", \"ticks\": \"\"}, \"bgcolor\": \"#E5ECF6\", \"radialaxis\": {\"gridcolor\": \"white\", \"linecolor\": \"white\", \"ticks\": \"\"}}, \"scene\": {\"xaxis\": {\"backgroundcolor\": \"#E5ECF6\", \"gridcolor\": \"white\", \"gridwidth\": 2, \"linecolor\": \"white\", \"showbackground\": true, \"ticks\": \"\", \"zerolinecolor\": \"white\"}, \"yaxis\": {\"backgroundcolor\": \"#E5ECF6\", \"gridcolor\": \"white\", \"gridwidth\": 2, \"linecolor\": \"white\", \"showbackground\": true, \"ticks\": \"\", \"zerolinecolor\": \"white\"}, \"zaxis\": {\"backgroundcolor\": \"#E5ECF6\", \"gridcolor\": \"white\", \"gridwidth\": 2, \"linecolor\": \"white\", \"showbackground\": true, \"ticks\": \"\", \"zerolinecolor\": \"white\"}}, \"shapedefaults\": {\"line\": {\"color\": \"#2a3f5f\"}}, \"ternary\": {\"aaxis\": {\"gridcolor\": \"white\", \"linecolor\": \"white\", \"ticks\": \"\"}, \"baxis\": {\"gridcolor\": \"white\", \"linecolor\": \"white\", \"ticks\": \"\"}, \"bgcolor\": \"#E5ECF6\", \"caxis\": {\"gridcolor\": \"white\", \"linecolor\": \"white\", \"ticks\": \"\"}}, \"title\": {\"x\": 0.05}, \"xaxis\": {\"automargin\": true, \"gridcolor\": \"white\", \"linecolor\": \"white\", \"ticks\": \"\", \"title\": {\"standoff\": 15}, \"zerolinecolor\": \"white\", \"zerolinewidth\": 2}, \"yaxis\": {\"automargin\": true, \"gridcolor\": \"white\", \"linecolor\": \"white\", \"ticks\": \"\", \"title\": {\"standoff\": 15}, \"zerolinecolor\": \"white\", \"zerolinewidth\": 2}}}, \"title\": {\"text\": \"Paid App added over the month\"}, \"xaxis\": {\"title\": {\"text\": \"months\"}}},\n",
       "                        {\"responsive\": true}\n",
       "                    ).then(function(){\n",
       "                            \n",
       "var gd = document.getElementById('f26cafc8-c9a2-4bd2-92ec-4b6a05480619');\n",
       "var x = new MutationObserver(function (mutations, observer) {{\n",
       "        var display = window.getComputedStyle(gd).display;\n",
       "        if (!display || display === 'none') {{\n",
       "            console.log([gd, 'removed!']);\n",
       "            Plotly.purge(gd);\n",
       "            observer.disconnect();\n",
       "        }}\n",
       "}});\n",
       "\n",
       "// Listen for the removal of the full notebook cells\n",
       "var notebookContainer = gd.closest('#notebook-container');\n",
       "if (notebookContainer) {{\n",
       "    x.observe(notebookContainer, {childList: true});\n",
       "}}\n",
       "\n",
       "// Listen for the clearing of the current output cell\n",
       "var outputEl = gd.closest('.output');\n",
       "if (outputEl) {{\n",
       "    x.observe(outputEl, {childList: true});\n",
       "}}\n",
       "\n",
       "                        })\n",
       "                };\n",
       "                });\n",
       "            </script>\n",
       "        </div>"
      ]
     },
     "metadata": {},
     "output_type": "display_data"
    }
   ],
   "source": [
    "col='month_added'\n",
    "v2=d2[col].value_counts().reset_index()\n",
    "v2=v2.rename(columns={col:'count','index':col})\n",
    "v2['percent']=v2['count'].apply(lambda x : 100*x/sum(v2['count']))\n",
    "v2=v2.sort_values(col)\n",
    "trace1 = go.Bar(x=v2[col], y=v2[\"count\"], name=\"aid\", marker=dict())\n",
    "layout={'title':\"Paid App added over the month\",'xaxis':{'title':\"months\"}}\n",
    "fig = go.Figure(data=[trace1], layout=layout)\n",
    "py.offline.iplot(fig)"
   ]
  },
  {
   "cell_type": "code",
   "execution_count": 36,
   "metadata": {},
   "outputs": [
    {
     "data": {
      "application/vnd.plotly.v1+json": {
       "config": {
        "linkText": "Export to plot.ly",
        "plotlyServerURL": "https://plot.ly",
        "showLink": false
       },
       "data": [
        {
         "marker": {
          "color": "#a678de"
         },
         "name": "Free",
         "type": "scatter",
         "x": [
          "Adults only 18+",
          "Everyone",
          "Everyone 10+",
          "Mature 17+",
          "Teen",
          "Unrated"
         ],
         "y": [
          "1",
          "5514",
          "269",
          "229",
          "988",
          "2"
         ]
        },
        {
         "marker": {
          "color": "#6ad49b"
         },
         "name": "Paid",
         "type": "scatter",
         "x": [
          "Everyone",
          "Everyone 10+",
          "Mature 17+",
          "Teen"
         ],
         "y": [
          487,
          30,
          12,
          46
         ]
        }
       ],
       "layout": {
        "template": {
         "data": {
          "bar": [
           {
            "error_x": {
             "color": "#2a3f5f"
            },
            "error_y": {
             "color": "#2a3f5f"
            },
            "marker": {
             "line": {
              "color": "#E5ECF6",
              "width": 0.5
             }
            },
            "type": "bar"
           }
          ],
          "barpolar": [
           {
            "marker": {
             "line": {
              "color": "#E5ECF6",
              "width": 0.5
             }
            },
            "type": "barpolar"
           }
          ],
          "carpet": [
           {
            "aaxis": {
             "endlinecolor": "#2a3f5f",
             "gridcolor": "white",
             "linecolor": "white",
             "minorgridcolor": "white",
             "startlinecolor": "#2a3f5f"
            },
            "baxis": {
             "endlinecolor": "#2a3f5f",
             "gridcolor": "white",
             "linecolor": "white",
             "minorgridcolor": "white",
             "startlinecolor": "#2a3f5f"
            },
            "type": "carpet"
           }
          ],
          "choropleth": [
           {
            "colorbar": {
             "outlinewidth": 0,
             "ticks": ""
            },
            "type": "choropleth"
           }
          ],
          "contour": [
           {
            "colorbar": {
             "outlinewidth": 0,
             "ticks": ""
            },
            "colorscale": [
             [
              0,
              "#0d0887"
             ],
             [
              0.1111111111111111,
              "#46039f"
             ],
             [
              0.2222222222222222,
              "#7201a8"
             ],
             [
              0.3333333333333333,
              "#9c179e"
             ],
             [
              0.4444444444444444,
              "#bd3786"
             ],
             [
              0.5555555555555556,
              "#d8576b"
             ],
             [
              0.6666666666666666,
              "#ed7953"
             ],
             [
              0.7777777777777778,
              "#fb9f3a"
             ],
             [
              0.8888888888888888,
              "#fdca26"
             ],
             [
              1,
              "#f0f921"
             ]
            ],
            "type": "contour"
           }
          ],
          "contourcarpet": [
           {
            "colorbar": {
             "outlinewidth": 0,
             "ticks": ""
            },
            "type": "contourcarpet"
           }
          ],
          "heatmap": [
           {
            "colorbar": {
             "outlinewidth": 0,
             "ticks": ""
            },
            "colorscale": [
             [
              0,
              "#0d0887"
             ],
             [
              0.1111111111111111,
              "#46039f"
             ],
             [
              0.2222222222222222,
              "#7201a8"
             ],
             [
              0.3333333333333333,
              "#9c179e"
             ],
             [
              0.4444444444444444,
              "#bd3786"
             ],
             [
              0.5555555555555556,
              "#d8576b"
             ],
             [
              0.6666666666666666,
              "#ed7953"
             ],
             [
              0.7777777777777778,
              "#fb9f3a"
             ],
             [
              0.8888888888888888,
              "#fdca26"
             ],
             [
              1,
              "#f0f921"
             ]
            ],
            "type": "heatmap"
           }
          ],
          "heatmapgl": [
           {
            "colorbar": {
             "outlinewidth": 0,
             "ticks": ""
            },
            "colorscale": [
             [
              0,
              "#0d0887"
             ],
             [
              0.1111111111111111,
              "#46039f"
             ],
             [
              0.2222222222222222,
              "#7201a8"
             ],
             [
              0.3333333333333333,
              "#9c179e"
             ],
             [
              0.4444444444444444,
              "#bd3786"
             ],
             [
              0.5555555555555556,
              "#d8576b"
             ],
             [
              0.6666666666666666,
              "#ed7953"
             ],
             [
              0.7777777777777778,
              "#fb9f3a"
             ],
             [
              0.8888888888888888,
              "#fdca26"
             ],
             [
              1,
              "#f0f921"
             ]
            ],
            "type": "heatmapgl"
           }
          ],
          "histogram": [
           {
            "marker": {
             "colorbar": {
              "outlinewidth": 0,
              "ticks": ""
             }
            },
            "type": "histogram"
           }
          ],
          "histogram2d": [
           {
            "colorbar": {
             "outlinewidth": 0,
             "ticks": ""
            },
            "colorscale": [
             [
              0,
              "#0d0887"
             ],
             [
              0.1111111111111111,
              "#46039f"
             ],
             [
              0.2222222222222222,
              "#7201a8"
             ],
             [
              0.3333333333333333,
              "#9c179e"
             ],
             [
              0.4444444444444444,
              "#bd3786"
             ],
             [
              0.5555555555555556,
              "#d8576b"
             ],
             [
              0.6666666666666666,
              "#ed7953"
             ],
             [
              0.7777777777777778,
              "#fb9f3a"
             ],
             [
              0.8888888888888888,
              "#fdca26"
             ],
             [
              1,
              "#f0f921"
             ]
            ],
            "type": "histogram2d"
           }
          ],
          "histogram2dcontour": [
           {
            "colorbar": {
             "outlinewidth": 0,
             "ticks": ""
            },
            "colorscale": [
             [
              0,
              "#0d0887"
             ],
             [
              0.1111111111111111,
              "#46039f"
             ],
             [
              0.2222222222222222,
              "#7201a8"
             ],
             [
              0.3333333333333333,
              "#9c179e"
             ],
             [
              0.4444444444444444,
              "#bd3786"
             ],
             [
              0.5555555555555556,
              "#d8576b"
             ],
             [
              0.6666666666666666,
              "#ed7953"
             ],
             [
              0.7777777777777778,
              "#fb9f3a"
             ],
             [
              0.8888888888888888,
              "#fdca26"
             ],
             [
              1,
              "#f0f921"
             ]
            ],
            "type": "histogram2dcontour"
           }
          ],
          "mesh3d": [
           {
            "colorbar": {
             "outlinewidth": 0,
             "ticks": ""
            },
            "type": "mesh3d"
           }
          ],
          "parcoords": [
           {
            "line": {
             "colorbar": {
              "outlinewidth": 0,
              "ticks": ""
             }
            },
            "type": "parcoords"
           }
          ],
          "pie": [
           {
            "automargin": true,
            "type": "pie"
           }
          ],
          "scatter": [
           {
            "marker": {
             "colorbar": {
              "outlinewidth": 0,
              "ticks": ""
             }
            },
            "type": "scatter"
           }
          ],
          "scatter3d": [
           {
            "line": {
             "colorbar": {
              "outlinewidth": 0,
              "ticks": ""
             }
            },
            "marker": {
             "colorbar": {
              "outlinewidth": 0,
              "ticks": ""
             }
            },
            "type": "scatter3d"
           }
          ],
          "scattercarpet": [
           {
            "marker": {
             "colorbar": {
              "outlinewidth": 0,
              "ticks": ""
             }
            },
            "type": "scattercarpet"
           }
          ],
          "scattergeo": [
           {
            "marker": {
             "colorbar": {
              "outlinewidth": 0,
              "ticks": ""
             }
            },
            "type": "scattergeo"
           }
          ],
          "scattergl": [
           {
            "marker": {
             "colorbar": {
              "outlinewidth": 0,
              "ticks": ""
             }
            },
            "type": "scattergl"
           }
          ],
          "scattermapbox": [
           {
            "marker": {
             "colorbar": {
              "outlinewidth": 0,
              "ticks": ""
             }
            },
            "type": "scattermapbox"
           }
          ],
          "scatterpolar": [
           {
            "marker": {
             "colorbar": {
              "outlinewidth": 0,
              "ticks": ""
             }
            },
            "type": "scatterpolar"
           }
          ],
          "scatterpolargl": [
           {
            "marker": {
             "colorbar": {
              "outlinewidth": 0,
              "ticks": ""
             }
            },
            "type": "scatterpolargl"
           }
          ],
          "scatterternary": [
           {
            "marker": {
             "colorbar": {
              "outlinewidth": 0,
              "ticks": ""
             }
            },
            "type": "scatterternary"
           }
          ],
          "surface": [
           {
            "colorbar": {
             "outlinewidth": 0,
             "ticks": ""
            },
            "colorscale": [
             [
              0,
              "#0d0887"
             ],
             [
              0.1111111111111111,
              "#46039f"
             ],
             [
              0.2222222222222222,
              "#7201a8"
             ],
             [
              0.3333333333333333,
              "#9c179e"
             ],
             [
              0.4444444444444444,
              "#bd3786"
             ],
             [
              0.5555555555555556,
              "#d8576b"
             ],
             [
              0.6666666666666666,
              "#ed7953"
             ],
             [
              0.7777777777777778,
              "#fb9f3a"
             ],
             [
              0.8888888888888888,
              "#fdca26"
             ],
             [
              1,
              "#f0f921"
             ]
            ],
            "type": "surface"
           }
          ],
          "table": [
           {
            "cells": {
             "fill": {
              "color": "#EBF0F8"
             },
             "line": {
              "color": "white"
             }
            },
            "header": {
             "fill": {
              "color": "#C8D4E3"
             },
             "line": {
              "color": "white"
             }
            },
            "type": "table"
           }
          ]
         },
         "layout": {
          "annotationdefaults": {
           "arrowcolor": "#2a3f5f",
           "arrowhead": 0,
           "arrowwidth": 1
          },
          "coloraxis": {
           "colorbar": {
            "outlinewidth": 0,
            "ticks": ""
           }
          },
          "colorscale": {
           "diverging": [
            [
             0,
             "#8e0152"
            ],
            [
             0.1,
             "#c51b7d"
            ],
            [
             0.2,
             "#de77ae"
            ],
            [
             0.3,
             "#f1b6da"
            ],
            [
             0.4,
             "#fde0ef"
            ],
            [
             0.5,
             "#f7f7f7"
            ],
            [
             0.6,
             "#e6f5d0"
            ],
            [
             0.7,
             "#b8e186"
            ],
            [
             0.8,
             "#7fbc41"
            ],
            [
             0.9,
             "#4d9221"
            ],
            [
             1,
             "#276419"
            ]
           ],
           "sequential": [
            [
             0,
             "#0d0887"
            ],
            [
             0.1111111111111111,
             "#46039f"
            ],
            [
             0.2222222222222222,
             "#7201a8"
            ],
            [
             0.3333333333333333,
             "#9c179e"
            ],
            [
             0.4444444444444444,
             "#bd3786"
            ],
            [
             0.5555555555555556,
             "#d8576b"
            ],
            [
             0.6666666666666666,
             "#ed7953"
            ],
            [
             0.7777777777777778,
             "#fb9f3a"
            ],
            [
             0.8888888888888888,
             "#fdca26"
            ],
            [
             1,
             "#f0f921"
            ]
           ],
           "sequentialminus": [
            [
             0,
             "#0d0887"
            ],
            [
             0.1111111111111111,
             "#46039f"
            ],
            [
             0.2222222222222222,
             "#7201a8"
            ],
            [
             0.3333333333333333,
             "#9c179e"
            ],
            [
             0.4444444444444444,
             "#bd3786"
            ],
            [
             0.5555555555555556,
             "#d8576b"
            ],
            [
             0.6666666666666666,
             "#ed7953"
            ],
            [
             0.7777777777777778,
             "#fb9f3a"
            ],
            [
             0.8888888888888888,
             "#fdca26"
            ],
            [
             1,
             "#f0f921"
            ]
           ]
          },
          "colorway": [
           "#636efa",
           "#EF553B",
           "#00cc96",
           "#ab63fa",
           "#FFA15A",
           "#19d3f3",
           "#FF6692",
           "#B6E880",
           "#FF97FF",
           "#FECB52"
          ],
          "font": {
           "color": "#2a3f5f"
          },
          "geo": {
           "bgcolor": "white",
           "lakecolor": "white",
           "landcolor": "#E5ECF6",
           "showlakes": true,
           "showland": true,
           "subunitcolor": "white"
          },
          "hoverlabel": {
           "align": "left"
          },
          "hovermode": "closest",
          "mapbox": {
           "style": "light"
          },
          "paper_bgcolor": "white",
          "plot_bgcolor": "#E5ECF6",
          "polar": {
           "angularaxis": {
            "gridcolor": "white",
            "linecolor": "white",
            "ticks": ""
           },
           "bgcolor": "#E5ECF6",
           "radialaxis": {
            "gridcolor": "white",
            "linecolor": "white",
            "ticks": ""
           }
          },
          "scene": {
           "xaxis": {
            "backgroundcolor": "#E5ECF6",
            "gridcolor": "white",
            "gridwidth": 2,
            "linecolor": "white",
            "showbackground": true,
            "ticks": "",
            "zerolinecolor": "white"
           },
           "yaxis": {
            "backgroundcolor": "#E5ECF6",
            "gridcolor": "white",
            "gridwidth": 2,
            "linecolor": "white",
            "showbackground": true,
            "ticks": "",
            "zerolinecolor": "white"
           },
           "zaxis": {
            "backgroundcolor": "#E5ECF6",
            "gridcolor": "white",
            "gridwidth": 2,
            "linecolor": "white",
            "showbackground": true,
            "ticks": "",
            "zerolinecolor": "white"
           }
          },
          "shapedefaults": {
           "line": {
            "color": "#2a3f5f"
           }
          },
          "ternary": {
           "aaxis": {
            "gridcolor": "white",
            "linecolor": "white",
            "ticks": ""
           },
           "baxis": {
            "gridcolor": "white",
            "linecolor": "white",
            "ticks": ""
           },
           "bgcolor": "#E5ECF6",
           "caxis": {
            "gridcolor": "white",
            "linecolor": "white",
            "ticks": ""
           }
          },
          "title": {
           "x": 0.05
          },
          "xaxis": {
           "automargin": true,
           "gridcolor": "white",
           "linecolor": "white",
           "ticks": "",
           "title": {
            "standoff": 15
           },
           "zerolinecolor": "white",
           "zerolinewidth": 2
          },
          "yaxis": {
           "automargin": true,
           "gridcolor": "white",
           "linecolor": "white",
           "ticks": "",
           "title": {
            "standoff": 15
           },
           "zerolinecolor": "white",
           "zerolinewidth": 2
          }
         }
        },
        "title": {
         "text": "Ratings of the free vs paid app"
        },
        "xaxis": {
         "title": {
          "text": "Ratings"
         }
        }
       }
      },
      "text/html": [
       "<div>\n",
       "        \n",
       "        \n",
       "            <div id=\"7c9361ad-7c56-4146-a083-58b9e5f59bb3\" class=\"plotly-graph-div\" style=\"height:525px; width:100%;\"></div>\n",
       "            <script type=\"text/javascript\">\n",
       "                require([\"plotly\"], function(Plotly) {\n",
       "                    window.PLOTLYENV=window.PLOTLYENV || {};\n",
       "                    \n",
       "                if (document.getElementById(\"7c9361ad-7c56-4146-a083-58b9e5f59bb3\")) {\n",
       "                    Plotly.newPlot(\n",
       "                        '7c9361ad-7c56-4146-a083-58b9e5f59bb3',\n",
       "                        [{\"marker\": {\"color\": \"#a678de\"}, \"name\": \"Free\", \"type\": \"scatter\", \"x\": [\"Adults only 18+\", \"Everyone\", \"Everyone 10+\", \"Mature 17+\", \"Teen\", \"Unrated\"], \"y\": [\"1\", \"5514\", \"269\", \"229\", \"988\", \"2\"]}, {\"marker\": {\"color\": \"#6ad49b\"}, \"name\": \"Paid\", \"type\": \"scatter\", \"x\": [\"Everyone\", \"Everyone 10+\", \"Mature 17+\", \"Teen\"], \"y\": [487, 30, 12, 46]}],\n",
       "                        {\"template\": {\"data\": {\"bar\": [{\"error_x\": {\"color\": \"#2a3f5f\"}, \"error_y\": {\"color\": \"#2a3f5f\"}, \"marker\": {\"line\": {\"color\": \"#E5ECF6\", \"width\": 0.5}}, \"type\": \"bar\"}], \"barpolar\": [{\"marker\": {\"line\": {\"color\": \"#E5ECF6\", \"width\": 0.5}}, \"type\": \"barpolar\"}], \"carpet\": [{\"aaxis\": {\"endlinecolor\": \"#2a3f5f\", \"gridcolor\": \"white\", \"linecolor\": \"white\", \"minorgridcolor\": \"white\", \"startlinecolor\": \"#2a3f5f\"}, \"baxis\": {\"endlinecolor\": \"#2a3f5f\", \"gridcolor\": \"white\", \"linecolor\": \"white\", \"minorgridcolor\": \"white\", \"startlinecolor\": \"#2a3f5f\"}, \"type\": \"carpet\"}], \"choropleth\": [{\"colorbar\": {\"outlinewidth\": 0, \"ticks\": \"\"}, \"type\": \"choropleth\"}], \"contour\": [{\"colorbar\": {\"outlinewidth\": 0, \"ticks\": \"\"}, \"colorscale\": [[0.0, \"#0d0887\"], [0.1111111111111111, \"#46039f\"], [0.2222222222222222, \"#7201a8\"], [0.3333333333333333, \"#9c179e\"], [0.4444444444444444, \"#bd3786\"], [0.5555555555555556, \"#d8576b\"], [0.6666666666666666, \"#ed7953\"], [0.7777777777777778, \"#fb9f3a\"], [0.8888888888888888, \"#fdca26\"], [1.0, \"#f0f921\"]], \"type\": \"contour\"}], \"contourcarpet\": [{\"colorbar\": {\"outlinewidth\": 0, \"ticks\": \"\"}, \"type\": \"contourcarpet\"}], \"heatmap\": [{\"colorbar\": {\"outlinewidth\": 0, \"ticks\": \"\"}, \"colorscale\": [[0.0, \"#0d0887\"], [0.1111111111111111, \"#46039f\"], [0.2222222222222222, \"#7201a8\"], [0.3333333333333333, \"#9c179e\"], [0.4444444444444444, \"#bd3786\"], [0.5555555555555556, \"#d8576b\"], [0.6666666666666666, \"#ed7953\"], [0.7777777777777778, \"#fb9f3a\"], [0.8888888888888888, \"#fdca26\"], [1.0, \"#f0f921\"]], \"type\": \"heatmap\"}], \"heatmapgl\": [{\"colorbar\": {\"outlinewidth\": 0, \"ticks\": \"\"}, \"colorscale\": [[0.0, \"#0d0887\"], [0.1111111111111111, \"#46039f\"], [0.2222222222222222, \"#7201a8\"], [0.3333333333333333, \"#9c179e\"], [0.4444444444444444, \"#bd3786\"], [0.5555555555555556, \"#d8576b\"], [0.6666666666666666, \"#ed7953\"], [0.7777777777777778, \"#fb9f3a\"], [0.8888888888888888, \"#fdca26\"], [1.0, \"#f0f921\"]], \"type\": \"heatmapgl\"}], \"histogram\": [{\"marker\": {\"colorbar\": {\"outlinewidth\": 0, \"ticks\": \"\"}}, \"type\": \"histogram\"}], \"histogram2d\": [{\"colorbar\": {\"outlinewidth\": 0, \"ticks\": \"\"}, \"colorscale\": [[0.0, \"#0d0887\"], [0.1111111111111111, \"#46039f\"], [0.2222222222222222, \"#7201a8\"], [0.3333333333333333, \"#9c179e\"], [0.4444444444444444, \"#bd3786\"], [0.5555555555555556, \"#d8576b\"], [0.6666666666666666, \"#ed7953\"], [0.7777777777777778, \"#fb9f3a\"], [0.8888888888888888, \"#fdca26\"], [1.0, \"#f0f921\"]], \"type\": \"histogram2d\"}], \"histogram2dcontour\": [{\"colorbar\": {\"outlinewidth\": 0, \"ticks\": \"\"}, \"colorscale\": [[0.0, \"#0d0887\"], [0.1111111111111111, \"#46039f\"], [0.2222222222222222, \"#7201a8\"], [0.3333333333333333, \"#9c179e\"], [0.4444444444444444, \"#bd3786\"], [0.5555555555555556, \"#d8576b\"], [0.6666666666666666, \"#ed7953\"], [0.7777777777777778, \"#fb9f3a\"], [0.8888888888888888, \"#fdca26\"], [1.0, \"#f0f921\"]], \"type\": \"histogram2dcontour\"}], \"mesh3d\": [{\"colorbar\": {\"outlinewidth\": 0, \"ticks\": \"\"}, \"type\": \"mesh3d\"}], \"parcoords\": [{\"line\": {\"colorbar\": {\"outlinewidth\": 0, \"ticks\": \"\"}}, \"type\": \"parcoords\"}], \"pie\": [{\"automargin\": true, \"type\": \"pie\"}], \"scatter\": [{\"marker\": {\"colorbar\": {\"outlinewidth\": 0, \"ticks\": \"\"}}, \"type\": \"scatter\"}], \"scatter3d\": [{\"line\": {\"colorbar\": {\"outlinewidth\": 0, \"ticks\": \"\"}}, \"marker\": {\"colorbar\": {\"outlinewidth\": 0, \"ticks\": \"\"}}, \"type\": \"scatter3d\"}], \"scattercarpet\": [{\"marker\": {\"colorbar\": {\"outlinewidth\": 0, \"ticks\": \"\"}}, \"type\": \"scattercarpet\"}], \"scattergeo\": [{\"marker\": {\"colorbar\": {\"outlinewidth\": 0, \"ticks\": \"\"}}, \"type\": \"scattergeo\"}], \"scattergl\": [{\"marker\": {\"colorbar\": {\"outlinewidth\": 0, \"ticks\": \"\"}}, \"type\": \"scattergl\"}], \"scattermapbox\": [{\"marker\": {\"colorbar\": {\"outlinewidth\": 0, \"ticks\": \"\"}}, \"type\": \"scattermapbox\"}], \"scatterpolar\": [{\"marker\": {\"colorbar\": {\"outlinewidth\": 0, \"ticks\": \"\"}}, \"type\": \"scatterpolar\"}], \"scatterpolargl\": [{\"marker\": {\"colorbar\": {\"outlinewidth\": 0, \"ticks\": \"\"}}, \"type\": \"scatterpolargl\"}], \"scatterternary\": [{\"marker\": {\"colorbar\": {\"outlinewidth\": 0, \"ticks\": \"\"}}, \"type\": \"scatterternary\"}], \"surface\": [{\"colorbar\": {\"outlinewidth\": 0, \"ticks\": \"\"}, \"colorscale\": [[0.0, \"#0d0887\"], [0.1111111111111111, \"#46039f\"], [0.2222222222222222, \"#7201a8\"], [0.3333333333333333, \"#9c179e\"], [0.4444444444444444, \"#bd3786\"], [0.5555555555555556, \"#d8576b\"], [0.6666666666666666, \"#ed7953\"], [0.7777777777777778, \"#fb9f3a\"], [0.8888888888888888, \"#fdca26\"], [1.0, \"#f0f921\"]], \"type\": \"surface\"}], \"table\": [{\"cells\": {\"fill\": {\"color\": \"#EBF0F8\"}, \"line\": {\"color\": \"white\"}}, \"header\": {\"fill\": {\"color\": \"#C8D4E3\"}, \"line\": {\"color\": \"white\"}}, \"type\": \"table\"}]}, \"layout\": {\"annotationdefaults\": {\"arrowcolor\": \"#2a3f5f\", \"arrowhead\": 0, \"arrowwidth\": 1}, \"coloraxis\": {\"colorbar\": {\"outlinewidth\": 0, \"ticks\": \"\"}}, \"colorscale\": {\"diverging\": [[0, \"#8e0152\"], [0.1, \"#c51b7d\"], [0.2, \"#de77ae\"], [0.3, \"#f1b6da\"], [0.4, \"#fde0ef\"], [0.5, \"#f7f7f7\"], [0.6, \"#e6f5d0\"], [0.7, \"#b8e186\"], [0.8, \"#7fbc41\"], [0.9, \"#4d9221\"], [1, \"#276419\"]], \"sequential\": [[0.0, \"#0d0887\"], [0.1111111111111111, \"#46039f\"], [0.2222222222222222, \"#7201a8\"], [0.3333333333333333, \"#9c179e\"], [0.4444444444444444, \"#bd3786\"], [0.5555555555555556, \"#d8576b\"], [0.6666666666666666, \"#ed7953\"], [0.7777777777777778, \"#fb9f3a\"], [0.8888888888888888, \"#fdca26\"], [1.0, \"#f0f921\"]], \"sequentialminus\": [[0.0, \"#0d0887\"], [0.1111111111111111, \"#46039f\"], [0.2222222222222222, \"#7201a8\"], [0.3333333333333333, \"#9c179e\"], [0.4444444444444444, \"#bd3786\"], [0.5555555555555556, \"#d8576b\"], [0.6666666666666666, \"#ed7953\"], [0.7777777777777778, \"#fb9f3a\"], [0.8888888888888888, \"#fdca26\"], [1.0, \"#f0f921\"]]}, \"colorway\": [\"#636efa\", \"#EF553B\", \"#00cc96\", \"#ab63fa\", \"#FFA15A\", \"#19d3f3\", \"#FF6692\", \"#B6E880\", \"#FF97FF\", \"#FECB52\"], \"font\": {\"color\": \"#2a3f5f\"}, \"geo\": {\"bgcolor\": \"white\", \"lakecolor\": \"white\", \"landcolor\": \"#E5ECF6\", \"showlakes\": true, \"showland\": true, \"subunitcolor\": \"white\"}, \"hoverlabel\": {\"align\": \"left\"}, \"hovermode\": \"closest\", \"mapbox\": {\"style\": \"light\"}, \"paper_bgcolor\": \"white\", \"plot_bgcolor\": \"#E5ECF6\", \"polar\": {\"angularaxis\": {\"gridcolor\": \"white\", \"linecolor\": \"white\", \"ticks\": \"\"}, \"bgcolor\": \"#E5ECF6\", \"radialaxis\": {\"gridcolor\": \"white\", \"linecolor\": \"white\", \"ticks\": \"\"}}, \"scene\": {\"xaxis\": {\"backgroundcolor\": \"#E5ECF6\", \"gridcolor\": \"white\", \"gridwidth\": 2, \"linecolor\": \"white\", \"showbackground\": true, \"ticks\": \"\", \"zerolinecolor\": \"white\"}, \"yaxis\": {\"backgroundcolor\": \"#E5ECF6\", \"gridcolor\": \"white\", \"gridwidth\": 2, \"linecolor\": \"white\", \"showbackground\": true, \"ticks\": \"\", \"zerolinecolor\": \"white\"}, \"zaxis\": {\"backgroundcolor\": \"#E5ECF6\", \"gridcolor\": \"white\", \"gridwidth\": 2, \"linecolor\": \"white\", \"showbackground\": true, \"ticks\": \"\", \"zerolinecolor\": \"white\"}}, \"shapedefaults\": {\"line\": {\"color\": \"#2a3f5f\"}}, \"ternary\": {\"aaxis\": {\"gridcolor\": \"white\", \"linecolor\": \"white\", \"ticks\": \"\"}, \"baxis\": {\"gridcolor\": \"white\", \"linecolor\": \"white\", \"ticks\": \"\"}, \"bgcolor\": \"#E5ECF6\", \"caxis\": {\"gridcolor\": \"white\", \"linecolor\": \"white\", \"ticks\": \"\"}}, \"title\": {\"x\": 0.05}, \"xaxis\": {\"automargin\": true, \"gridcolor\": \"white\", \"linecolor\": \"white\", \"ticks\": \"\", \"title\": {\"standoff\": 15}, \"zerolinecolor\": \"white\", \"zerolinewidth\": 2}, \"yaxis\": {\"automargin\": true, \"gridcolor\": \"white\", \"linecolor\": \"white\", \"ticks\": \"\", \"title\": {\"standoff\": 15}, \"zerolinecolor\": \"white\", \"zerolinewidth\": 2}}}, \"title\": {\"text\": \"Ratings of the free vs paid app\"}, \"xaxis\": {\"title\": {\"text\": \"Ratings\"}}},\n",
       "                        {\"responsive\": true}\n",
       "                    ).then(function(){\n",
       "                            \n",
       "var gd = document.getElementById('7c9361ad-7c56-4146-a083-58b9e5f59bb3');\n",
       "var x = new MutationObserver(function (mutations, observer) {{\n",
       "        var display = window.getComputedStyle(gd).display;\n",
       "        if (!display || display === 'none') {{\n",
       "            console.log([gd, 'removed!']);\n",
       "            Plotly.purge(gd);\n",
       "            observer.disconnect();\n",
       "        }}\n",
       "}});\n",
       "\n",
       "// Listen for the removal of the full notebook cells\n",
       "var notebookContainer = gd.closest('#notebook-container');\n",
       "if (notebookContainer) {{\n",
       "    x.observe(notebookContainer, {childList: true});\n",
       "}}\n",
       "\n",
       "// Listen for the clearing of the current output cell\n",
       "var outputEl = gd.closest('.output');\n",
       "if (outputEl) {{\n",
       "    x.observe(outputEl, {childList: true});\n",
       "}}\n",
       "\n",
       "                        })\n",
       "                };\n",
       "                });\n",
       "            </script>\n",
       "        </div>"
      ]
     },
     "metadata": {},
     "output_type": "display_data"
    }
   ],
   "source": [
    "col='Content Rating'\n",
    "v1=d1[col].value_counts().reset_index()\n",
    "v1=v1.rename(columns={col:'count','index':col})\n",
    "v1['percent']=v1['count'].apply(lambda x : 100*x/sum(v1['count']))\n",
    "v1=v1.astype(str).sort_values(col)\n",
    "v2=d2[col].value_counts().reset_index()\n",
    "v2=v2.rename(columns={col:'count','index':col})\n",
    "v2['percent']=v2['count'].apply(lambda x : 100*x/sum(v2['count']))\n",
    "v2=v2.sort_values(col)\n",
    "trace1 = go.Scatter(x=v1[col], y=v1[\"count\"], name=\"Free\", marker=dict(color=\"#a678de\"))\n",
    "trace2 = go.Scatter(x=v2[col], y=v2[\"count\"], name=\"Paid\", marker=dict(color=\"#6ad49b\"))\n",
    "y = [trace1, trace2]\n",
    "layout={'title':\"Ratings of the free vs paid app\",'xaxis':{'title':\"Ratings\"}}\n",
    "fig = go.Figure(data=y, layout=layout)\n",
    "py.offline.iplot(fig)"
   ]
  },
  {
   "cell_type": "code",
   "execution_count": 37,
   "metadata": {},
   "outputs": [
    {
     "data": {
      "application/vnd.plotly.v1+json": {
       "config": {
        "linkText": "Export to plot.ly",
        "plotlyServerURL": "https://plot.ly",
        "showLink": false
       },
       "data": [
        {
         "name": "Free",
         "type": "bar",
         "x": [
          "Adults only 18+",
          "Everyone",
          "Everyone 10+",
          "Mature 17+",
          "Teen",
          "Unrated"
         ],
         "y": [
          1,
          5514,
          269,
          229,
          988,
          2
         ]
        }
       ],
       "layout": {
        "template": {
         "data": {
          "bar": [
           {
            "error_x": {
             "color": "#2a3f5f"
            },
            "error_y": {
             "color": "#2a3f5f"
            },
            "marker": {
             "line": {
              "color": "#E5ECF6",
              "width": 0.5
             }
            },
            "type": "bar"
           }
          ],
          "barpolar": [
           {
            "marker": {
             "line": {
              "color": "#E5ECF6",
              "width": 0.5
             }
            },
            "type": "barpolar"
           }
          ],
          "carpet": [
           {
            "aaxis": {
             "endlinecolor": "#2a3f5f",
             "gridcolor": "white",
             "linecolor": "white",
             "minorgridcolor": "white",
             "startlinecolor": "#2a3f5f"
            },
            "baxis": {
             "endlinecolor": "#2a3f5f",
             "gridcolor": "white",
             "linecolor": "white",
             "minorgridcolor": "white",
             "startlinecolor": "#2a3f5f"
            },
            "type": "carpet"
           }
          ],
          "choropleth": [
           {
            "colorbar": {
             "outlinewidth": 0,
             "ticks": ""
            },
            "type": "choropleth"
           }
          ],
          "contour": [
           {
            "colorbar": {
             "outlinewidth": 0,
             "ticks": ""
            },
            "colorscale": [
             [
              0,
              "#0d0887"
             ],
             [
              0.1111111111111111,
              "#46039f"
             ],
             [
              0.2222222222222222,
              "#7201a8"
             ],
             [
              0.3333333333333333,
              "#9c179e"
             ],
             [
              0.4444444444444444,
              "#bd3786"
             ],
             [
              0.5555555555555556,
              "#d8576b"
             ],
             [
              0.6666666666666666,
              "#ed7953"
             ],
             [
              0.7777777777777778,
              "#fb9f3a"
             ],
             [
              0.8888888888888888,
              "#fdca26"
             ],
             [
              1,
              "#f0f921"
             ]
            ],
            "type": "contour"
           }
          ],
          "contourcarpet": [
           {
            "colorbar": {
             "outlinewidth": 0,
             "ticks": ""
            },
            "type": "contourcarpet"
           }
          ],
          "heatmap": [
           {
            "colorbar": {
             "outlinewidth": 0,
             "ticks": ""
            },
            "colorscale": [
             [
              0,
              "#0d0887"
             ],
             [
              0.1111111111111111,
              "#46039f"
             ],
             [
              0.2222222222222222,
              "#7201a8"
             ],
             [
              0.3333333333333333,
              "#9c179e"
             ],
             [
              0.4444444444444444,
              "#bd3786"
             ],
             [
              0.5555555555555556,
              "#d8576b"
             ],
             [
              0.6666666666666666,
              "#ed7953"
             ],
             [
              0.7777777777777778,
              "#fb9f3a"
             ],
             [
              0.8888888888888888,
              "#fdca26"
             ],
             [
              1,
              "#f0f921"
             ]
            ],
            "type": "heatmap"
           }
          ],
          "heatmapgl": [
           {
            "colorbar": {
             "outlinewidth": 0,
             "ticks": ""
            },
            "colorscale": [
             [
              0,
              "#0d0887"
             ],
             [
              0.1111111111111111,
              "#46039f"
             ],
             [
              0.2222222222222222,
              "#7201a8"
             ],
             [
              0.3333333333333333,
              "#9c179e"
             ],
             [
              0.4444444444444444,
              "#bd3786"
             ],
             [
              0.5555555555555556,
              "#d8576b"
             ],
             [
              0.6666666666666666,
              "#ed7953"
             ],
             [
              0.7777777777777778,
              "#fb9f3a"
             ],
             [
              0.8888888888888888,
              "#fdca26"
             ],
             [
              1,
              "#f0f921"
             ]
            ],
            "type": "heatmapgl"
           }
          ],
          "histogram": [
           {
            "marker": {
             "colorbar": {
              "outlinewidth": 0,
              "ticks": ""
             }
            },
            "type": "histogram"
           }
          ],
          "histogram2d": [
           {
            "colorbar": {
             "outlinewidth": 0,
             "ticks": ""
            },
            "colorscale": [
             [
              0,
              "#0d0887"
             ],
             [
              0.1111111111111111,
              "#46039f"
             ],
             [
              0.2222222222222222,
              "#7201a8"
             ],
             [
              0.3333333333333333,
              "#9c179e"
             ],
             [
              0.4444444444444444,
              "#bd3786"
             ],
             [
              0.5555555555555556,
              "#d8576b"
             ],
             [
              0.6666666666666666,
              "#ed7953"
             ],
             [
              0.7777777777777778,
              "#fb9f3a"
             ],
             [
              0.8888888888888888,
              "#fdca26"
             ],
             [
              1,
              "#f0f921"
             ]
            ],
            "type": "histogram2d"
           }
          ],
          "histogram2dcontour": [
           {
            "colorbar": {
             "outlinewidth": 0,
             "ticks": ""
            },
            "colorscale": [
             [
              0,
              "#0d0887"
             ],
             [
              0.1111111111111111,
              "#46039f"
             ],
             [
              0.2222222222222222,
              "#7201a8"
             ],
             [
              0.3333333333333333,
              "#9c179e"
             ],
             [
              0.4444444444444444,
              "#bd3786"
             ],
             [
              0.5555555555555556,
              "#d8576b"
             ],
             [
              0.6666666666666666,
              "#ed7953"
             ],
             [
              0.7777777777777778,
              "#fb9f3a"
             ],
             [
              0.8888888888888888,
              "#fdca26"
             ],
             [
              1,
              "#f0f921"
             ]
            ],
            "type": "histogram2dcontour"
           }
          ],
          "mesh3d": [
           {
            "colorbar": {
             "outlinewidth": 0,
             "ticks": ""
            },
            "type": "mesh3d"
           }
          ],
          "parcoords": [
           {
            "line": {
             "colorbar": {
              "outlinewidth": 0,
              "ticks": ""
             }
            },
            "type": "parcoords"
           }
          ],
          "pie": [
           {
            "automargin": true,
            "type": "pie"
           }
          ],
          "scatter": [
           {
            "marker": {
             "colorbar": {
              "outlinewidth": 0,
              "ticks": ""
             }
            },
            "type": "scatter"
           }
          ],
          "scatter3d": [
           {
            "line": {
             "colorbar": {
              "outlinewidth": 0,
              "ticks": ""
             }
            },
            "marker": {
             "colorbar": {
              "outlinewidth": 0,
              "ticks": ""
             }
            },
            "type": "scatter3d"
           }
          ],
          "scattercarpet": [
           {
            "marker": {
             "colorbar": {
              "outlinewidth": 0,
              "ticks": ""
             }
            },
            "type": "scattercarpet"
           }
          ],
          "scattergeo": [
           {
            "marker": {
             "colorbar": {
              "outlinewidth": 0,
              "ticks": ""
             }
            },
            "type": "scattergeo"
           }
          ],
          "scattergl": [
           {
            "marker": {
             "colorbar": {
              "outlinewidth": 0,
              "ticks": ""
             }
            },
            "type": "scattergl"
           }
          ],
          "scattermapbox": [
           {
            "marker": {
             "colorbar": {
              "outlinewidth": 0,
              "ticks": ""
             }
            },
            "type": "scattermapbox"
           }
          ],
          "scatterpolar": [
           {
            "marker": {
             "colorbar": {
              "outlinewidth": 0,
              "ticks": ""
             }
            },
            "type": "scatterpolar"
           }
          ],
          "scatterpolargl": [
           {
            "marker": {
             "colorbar": {
              "outlinewidth": 0,
              "ticks": ""
             }
            },
            "type": "scatterpolargl"
           }
          ],
          "scatterternary": [
           {
            "marker": {
             "colorbar": {
              "outlinewidth": 0,
              "ticks": ""
             }
            },
            "type": "scatterternary"
           }
          ],
          "surface": [
           {
            "colorbar": {
             "outlinewidth": 0,
             "ticks": ""
            },
            "colorscale": [
             [
              0,
              "#0d0887"
             ],
             [
              0.1111111111111111,
              "#46039f"
             ],
             [
              0.2222222222222222,
              "#7201a8"
             ],
             [
              0.3333333333333333,
              "#9c179e"
             ],
             [
              0.4444444444444444,
              "#bd3786"
             ],
             [
              0.5555555555555556,
              "#d8576b"
             ],
             [
              0.6666666666666666,
              "#ed7953"
             ],
             [
              0.7777777777777778,
              "#fb9f3a"
             ],
             [
              0.8888888888888888,
              "#fdca26"
             ],
             [
              1,
              "#f0f921"
             ]
            ],
            "type": "surface"
           }
          ],
          "table": [
           {
            "cells": {
             "fill": {
              "color": "#EBF0F8"
             },
             "line": {
              "color": "white"
             }
            },
            "header": {
             "fill": {
              "color": "#C8D4E3"
             },
             "line": {
              "color": "white"
             }
            },
            "type": "table"
           }
          ]
         },
         "layout": {
          "annotationdefaults": {
           "arrowcolor": "#2a3f5f",
           "arrowhead": 0,
           "arrowwidth": 1
          },
          "coloraxis": {
           "colorbar": {
            "outlinewidth": 0,
            "ticks": ""
           }
          },
          "colorscale": {
           "diverging": [
            [
             0,
             "#8e0152"
            ],
            [
             0.1,
             "#c51b7d"
            ],
            [
             0.2,
             "#de77ae"
            ],
            [
             0.3,
             "#f1b6da"
            ],
            [
             0.4,
             "#fde0ef"
            ],
            [
             0.5,
             "#f7f7f7"
            ],
            [
             0.6,
             "#e6f5d0"
            ],
            [
             0.7,
             "#b8e186"
            ],
            [
             0.8,
             "#7fbc41"
            ],
            [
             0.9,
             "#4d9221"
            ],
            [
             1,
             "#276419"
            ]
           ],
           "sequential": [
            [
             0,
             "#0d0887"
            ],
            [
             0.1111111111111111,
             "#46039f"
            ],
            [
             0.2222222222222222,
             "#7201a8"
            ],
            [
             0.3333333333333333,
             "#9c179e"
            ],
            [
             0.4444444444444444,
             "#bd3786"
            ],
            [
             0.5555555555555556,
             "#d8576b"
            ],
            [
             0.6666666666666666,
             "#ed7953"
            ],
            [
             0.7777777777777778,
             "#fb9f3a"
            ],
            [
             0.8888888888888888,
             "#fdca26"
            ],
            [
             1,
             "#f0f921"
            ]
           ],
           "sequentialminus": [
            [
             0,
             "#0d0887"
            ],
            [
             0.1111111111111111,
             "#46039f"
            ],
            [
             0.2222222222222222,
             "#7201a8"
            ],
            [
             0.3333333333333333,
             "#9c179e"
            ],
            [
             0.4444444444444444,
             "#bd3786"
            ],
            [
             0.5555555555555556,
             "#d8576b"
            ],
            [
             0.6666666666666666,
             "#ed7953"
            ],
            [
             0.7777777777777778,
             "#fb9f3a"
            ],
            [
             0.8888888888888888,
             "#fdca26"
            ],
            [
             1,
             "#f0f921"
            ]
           ]
          },
          "colorway": [
           "#636efa",
           "#EF553B",
           "#00cc96",
           "#ab63fa",
           "#FFA15A",
           "#19d3f3",
           "#FF6692",
           "#B6E880",
           "#FF97FF",
           "#FECB52"
          ],
          "font": {
           "color": "#2a3f5f"
          },
          "geo": {
           "bgcolor": "white",
           "lakecolor": "white",
           "landcolor": "#E5ECF6",
           "showlakes": true,
           "showland": true,
           "subunitcolor": "white"
          },
          "hoverlabel": {
           "align": "left"
          },
          "hovermode": "closest",
          "mapbox": {
           "style": "light"
          },
          "paper_bgcolor": "white",
          "plot_bgcolor": "#E5ECF6",
          "polar": {
           "angularaxis": {
            "gridcolor": "white",
            "linecolor": "white",
            "ticks": ""
           },
           "bgcolor": "#E5ECF6",
           "radialaxis": {
            "gridcolor": "white",
            "linecolor": "white",
            "ticks": ""
           }
          },
          "scene": {
           "xaxis": {
            "backgroundcolor": "#E5ECF6",
            "gridcolor": "white",
            "gridwidth": 2,
            "linecolor": "white",
            "showbackground": true,
            "ticks": "",
            "zerolinecolor": "white"
           },
           "yaxis": {
            "backgroundcolor": "#E5ECF6",
            "gridcolor": "white",
            "gridwidth": 2,
            "linecolor": "white",
            "showbackground": true,
            "ticks": "",
            "zerolinecolor": "white"
           },
           "zaxis": {
            "backgroundcolor": "#E5ECF6",
            "gridcolor": "white",
            "gridwidth": 2,
            "linecolor": "white",
            "showbackground": true,
            "ticks": "",
            "zerolinecolor": "white"
           }
          },
          "shapedefaults": {
           "line": {
            "color": "#2a3f5f"
           }
          },
          "ternary": {
           "aaxis": {
            "gridcolor": "white",
            "linecolor": "white",
            "ticks": ""
           },
           "baxis": {
            "gridcolor": "white",
            "linecolor": "white",
            "ticks": ""
           },
           "bgcolor": "#E5ECF6",
           "caxis": {
            "gridcolor": "white",
            "linecolor": "white",
            "ticks": ""
           }
          },
          "title": {
           "x": 0.05
          },
          "xaxis": {
           "automargin": true,
           "gridcolor": "white",
           "linecolor": "white",
           "ticks": "",
           "title": {
            "standoff": 15
           },
           "zerolinecolor": "white",
           "zerolinewidth": 2
          },
          "yaxis": {
           "automargin": true,
           "gridcolor": "white",
           "linecolor": "white",
           "ticks": "",
           "title": {
            "standoff": 15
           },
           "zerolinecolor": "white",
           "zerolinewidth": 2
          }
         }
        },
        "title": {
         "text": "Free App Content Rating "
        },
        "xaxis": {
         "title": {
          "text": "Contents"
         }
        }
       }
      },
      "text/html": [
       "<div>\n",
       "        \n",
       "        \n",
       "            <div id=\"eddd63f1-743d-4ca9-8730-8289e174bcae\" class=\"plotly-graph-div\" style=\"height:525px; width:100%;\"></div>\n",
       "            <script type=\"text/javascript\">\n",
       "                require([\"plotly\"], function(Plotly) {\n",
       "                    window.PLOTLYENV=window.PLOTLYENV || {};\n",
       "                    \n",
       "                if (document.getElementById(\"eddd63f1-743d-4ca9-8730-8289e174bcae\")) {\n",
       "                    Plotly.newPlot(\n",
       "                        'eddd63f1-743d-4ca9-8730-8289e174bcae',\n",
       "                        [{\"name\": \"Free\", \"type\": \"bar\", \"x\": [\"Adults only 18+\", \"Everyone\", \"Everyone 10+\", \"Mature 17+\", \"Teen\", \"Unrated\"], \"y\": [1, 5514, 269, 229, 988, 2]}],\n",
       "                        {\"template\": {\"data\": {\"bar\": [{\"error_x\": {\"color\": \"#2a3f5f\"}, \"error_y\": {\"color\": \"#2a3f5f\"}, \"marker\": {\"line\": {\"color\": \"#E5ECF6\", \"width\": 0.5}}, \"type\": \"bar\"}], \"barpolar\": [{\"marker\": {\"line\": {\"color\": \"#E5ECF6\", \"width\": 0.5}}, \"type\": \"barpolar\"}], \"carpet\": [{\"aaxis\": {\"endlinecolor\": \"#2a3f5f\", \"gridcolor\": \"white\", \"linecolor\": \"white\", \"minorgridcolor\": \"white\", \"startlinecolor\": \"#2a3f5f\"}, \"baxis\": {\"endlinecolor\": \"#2a3f5f\", \"gridcolor\": \"white\", \"linecolor\": \"white\", \"minorgridcolor\": \"white\", \"startlinecolor\": \"#2a3f5f\"}, \"type\": \"carpet\"}], \"choropleth\": [{\"colorbar\": {\"outlinewidth\": 0, \"ticks\": \"\"}, \"type\": \"choropleth\"}], \"contour\": [{\"colorbar\": {\"outlinewidth\": 0, \"ticks\": \"\"}, \"colorscale\": [[0.0, \"#0d0887\"], [0.1111111111111111, \"#46039f\"], [0.2222222222222222, \"#7201a8\"], [0.3333333333333333, \"#9c179e\"], [0.4444444444444444, \"#bd3786\"], [0.5555555555555556, \"#d8576b\"], [0.6666666666666666, \"#ed7953\"], [0.7777777777777778, \"#fb9f3a\"], [0.8888888888888888, \"#fdca26\"], [1.0, \"#f0f921\"]], \"type\": \"contour\"}], \"contourcarpet\": [{\"colorbar\": {\"outlinewidth\": 0, \"ticks\": \"\"}, \"type\": \"contourcarpet\"}], \"heatmap\": [{\"colorbar\": {\"outlinewidth\": 0, \"ticks\": \"\"}, \"colorscale\": [[0.0, \"#0d0887\"], [0.1111111111111111, \"#46039f\"], [0.2222222222222222, \"#7201a8\"], [0.3333333333333333, \"#9c179e\"], [0.4444444444444444, \"#bd3786\"], [0.5555555555555556, \"#d8576b\"], [0.6666666666666666, \"#ed7953\"], [0.7777777777777778, \"#fb9f3a\"], [0.8888888888888888, \"#fdca26\"], [1.0, \"#f0f921\"]], \"type\": \"heatmap\"}], \"heatmapgl\": [{\"colorbar\": {\"outlinewidth\": 0, \"ticks\": \"\"}, \"colorscale\": [[0.0, \"#0d0887\"], [0.1111111111111111, \"#46039f\"], [0.2222222222222222, \"#7201a8\"], [0.3333333333333333, \"#9c179e\"], [0.4444444444444444, \"#bd3786\"], [0.5555555555555556, \"#d8576b\"], [0.6666666666666666, \"#ed7953\"], [0.7777777777777778, \"#fb9f3a\"], [0.8888888888888888, \"#fdca26\"], [1.0, \"#f0f921\"]], \"type\": \"heatmapgl\"}], \"histogram\": [{\"marker\": {\"colorbar\": {\"outlinewidth\": 0, \"ticks\": \"\"}}, \"type\": \"histogram\"}], \"histogram2d\": [{\"colorbar\": {\"outlinewidth\": 0, \"ticks\": \"\"}, \"colorscale\": [[0.0, \"#0d0887\"], [0.1111111111111111, \"#46039f\"], [0.2222222222222222, \"#7201a8\"], [0.3333333333333333, \"#9c179e\"], [0.4444444444444444, \"#bd3786\"], [0.5555555555555556, \"#d8576b\"], [0.6666666666666666, \"#ed7953\"], [0.7777777777777778, \"#fb9f3a\"], [0.8888888888888888, \"#fdca26\"], [1.0, \"#f0f921\"]], \"type\": \"histogram2d\"}], \"histogram2dcontour\": [{\"colorbar\": {\"outlinewidth\": 0, \"ticks\": \"\"}, \"colorscale\": [[0.0, \"#0d0887\"], [0.1111111111111111, \"#46039f\"], [0.2222222222222222, \"#7201a8\"], [0.3333333333333333, \"#9c179e\"], [0.4444444444444444, \"#bd3786\"], [0.5555555555555556, \"#d8576b\"], [0.6666666666666666, \"#ed7953\"], [0.7777777777777778, \"#fb9f3a\"], [0.8888888888888888, \"#fdca26\"], [1.0, \"#f0f921\"]], \"type\": \"histogram2dcontour\"}], \"mesh3d\": [{\"colorbar\": {\"outlinewidth\": 0, \"ticks\": \"\"}, \"type\": \"mesh3d\"}], \"parcoords\": [{\"line\": {\"colorbar\": {\"outlinewidth\": 0, \"ticks\": \"\"}}, \"type\": \"parcoords\"}], \"pie\": [{\"automargin\": true, \"type\": \"pie\"}], \"scatter\": [{\"marker\": {\"colorbar\": {\"outlinewidth\": 0, \"ticks\": \"\"}}, \"type\": \"scatter\"}], \"scatter3d\": [{\"line\": {\"colorbar\": {\"outlinewidth\": 0, \"ticks\": \"\"}}, \"marker\": {\"colorbar\": {\"outlinewidth\": 0, \"ticks\": \"\"}}, \"type\": \"scatter3d\"}], \"scattercarpet\": [{\"marker\": {\"colorbar\": {\"outlinewidth\": 0, \"ticks\": \"\"}}, \"type\": \"scattercarpet\"}], \"scattergeo\": [{\"marker\": {\"colorbar\": {\"outlinewidth\": 0, \"ticks\": \"\"}}, \"type\": \"scattergeo\"}], \"scattergl\": [{\"marker\": {\"colorbar\": {\"outlinewidth\": 0, \"ticks\": \"\"}}, \"type\": \"scattergl\"}], \"scattermapbox\": [{\"marker\": {\"colorbar\": {\"outlinewidth\": 0, \"ticks\": \"\"}}, \"type\": \"scattermapbox\"}], \"scatterpolar\": [{\"marker\": {\"colorbar\": {\"outlinewidth\": 0, \"ticks\": \"\"}}, \"type\": \"scatterpolar\"}], \"scatterpolargl\": [{\"marker\": {\"colorbar\": {\"outlinewidth\": 0, \"ticks\": \"\"}}, \"type\": \"scatterpolargl\"}], \"scatterternary\": [{\"marker\": {\"colorbar\": {\"outlinewidth\": 0, \"ticks\": \"\"}}, \"type\": \"scatterternary\"}], \"surface\": [{\"colorbar\": {\"outlinewidth\": 0, \"ticks\": \"\"}, \"colorscale\": [[0.0, \"#0d0887\"], [0.1111111111111111, \"#46039f\"], [0.2222222222222222, \"#7201a8\"], [0.3333333333333333, \"#9c179e\"], [0.4444444444444444, \"#bd3786\"], [0.5555555555555556, \"#d8576b\"], [0.6666666666666666, \"#ed7953\"], [0.7777777777777778, \"#fb9f3a\"], [0.8888888888888888, \"#fdca26\"], [1.0, \"#f0f921\"]], \"type\": \"surface\"}], \"table\": [{\"cells\": {\"fill\": {\"color\": \"#EBF0F8\"}, \"line\": {\"color\": \"white\"}}, \"header\": {\"fill\": {\"color\": \"#C8D4E3\"}, \"line\": {\"color\": \"white\"}}, \"type\": \"table\"}]}, \"layout\": {\"annotationdefaults\": {\"arrowcolor\": \"#2a3f5f\", \"arrowhead\": 0, \"arrowwidth\": 1}, \"coloraxis\": {\"colorbar\": {\"outlinewidth\": 0, \"ticks\": \"\"}}, \"colorscale\": {\"diverging\": [[0, \"#8e0152\"], [0.1, \"#c51b7d\"], [0.2, \"#de77ae\"], [0.3, \"#f1b6da\"], [0.4, \"#fde0ef\"], [0.5, \"#f7f7f7\"], [0.6, \"#e6f5d0\"], [0.7, \"#b8e186\"], [0.8, \"#7fbc41\"], [0.9, \"#4d9221\"], [1, \"#276419\"]], \"sequential\": [[0.0, \"#0d0887\"], [0.1111111111111111, \"#46039f\"], [0.2222222222222222, \"#7201a8\"], [0.3333333333333333, \"#9c179e\"], [0.4444444444444444, \"#bd3786\"], [0.5555555555555556, \"#d8576b\"], [0.6666666666666666, \"#ed7953\"], [0.7777777777777778, \"#fb9f3a\"], [0.8888888888888888, \"#fdca26\"], [1.0, \"#f0f921\"]], \"sequentialminus\": [[0.0, \"#0d0887\"], [0.1111111111111111, \"#46039f\"], [0.2222222222222222, \"#7201a8\"], [0.3333333333333333, \"#9c179e\"], [0.4444444444444444, \"#bd3786\"], [0.5555555555555556, \"#d8576b\"], [0.6666666666666666, \"#ed7953\"], [0.7777777777777778, \"#fb9f3a\"], [0.8888888888888888, \"#fdca26\"], [1.0, \"#f0f921\"]]}, \"colorway\": [\"#636efa\", \"#EF553B\", \"#00cc96\", \"#ab63fa\", \"#FFA15A\", \"#19d3f3\", \"#FF6692\", \"#B6E880\", \"#FF97FF\", \"#FECB52\"], \"font\": {\"color\": \"#2a3f5f\"}, \"geo\": {\"bgcolor\": \"white\", \"lakecolor\": \"white\", \"landcolor\": \"#E5ECF6\", \"showlakes\": true, \"showland\": true, \"subunitcolor\": \"white\"}, \"hoverlabel\": {\"align\": \"left\"}, \"hovermode\": \"closest\", \"mapbox\": {\"style\": \"light\"}, \"paper_bgcolor\": \"white\", \"plot_bgcolor\": \"#E5ECF6\", \"polar\": {\"angularaxis\": {\"gridcolor\": \"white\", \"linecolor\": \"white\", \"ticks\": \"\"}, \"bgcolor\": \"#E5ECF6\", \"radialaxis\": {\"gridcolor\": \"white\", \"linecolor\": \"white\", \"ticks\": \"\"}}, \"scene\": {\"xaxis\": {\"backgroundcolor\": \"#E5ECF6\", \"gridcolor\": \"white\", \"gridwidth\": 2, \"linecolor\": \"white\", \"showbackground\": true, \"ticks\": \"\", \"zerolinecolor\": \"white\"}, \"yaxis\": {\"backgroundcolor\": \"#E5ECF6\", \"gridcolor\": \"white\", \"gridwidth\": 2, \"linecolor\": \"white\", \"showbackground\": true, \"ticks\": \"\", \"zerolinecolor\": \"white\"}, \"zaxis\": {\"backgroundcolor\": \"#E5ECF6\", \"gridcolor\": \"white\", \"gridwidth\": 2, \"linecolor\": \"white\", \"showbackground\": true, \"ticks\": \"\", \"zerolinecolor\": \"white\"}}, \"shapedefaults\": {\"line\": {\"color\": \"#2a3f5f\"}}, \"ternary\": {\"aaxis\": {\"gridcolor\": \"white\", \"linecolor\": \"white\", \"ticks\": \"\"}, \"baxis\": {\"gridcolor\": \"white\", \"linecolor\": \"white\", \"ticks\": \"\"}, \"bgcolor\": \"#E5ECF6\", \"caxis\": {\"gridcolor\": \"white\", \"linecolor\": \"white\", \"ticks\": \"\"}}, \"title\": {\"x\": 0.05}, \"xaxis\": {\"automargin\": true, \"gridcolor\": \"white\", \"linecolor\": \"white\", \"ticks\": \"\", \"title\": {\"standoff\": 15}, \"zerolinecolor\": \"white\", \"zerolinewidth\": 2}, \"yaxis\": {\"automargin\": true, \"gridcolor\": \"white\", \"linecolor\": \"white\", \"ticks\": \"\", \"title\": {\"standoff\": 15}, \"zerolinecolor\": \"white\", \"zerolinewidth\": 2}}}, \"title\": {\"text\": \"Free App Content Rating \"}, \"xaxis\": {\"title\": {\"text\": \"Contents\"}}},\n",
       "                        {\"responsive\": true}\n",
       "                    ).then(function(){\n",
       "                            \n",
       "var gd = document.getElementById('eddd63f1-743d-4ca9-8730-8289e174bcae');\n",
       "var x = new MutationObserver(function (mutations, observer) {{\n",
       "        var display = window.getComputedStyle(gd).display;\n",
       "        if (!display || display === 'none') {{\n",
       "            console.log([gd, 'removed!']);\n",
       "            Plotly.purge(gd);\n",
       "            observer.disconnect();\n",
       "        }}\n",
       "}});\n",
       "\n",
       "// Listen for the removal of the full notebook cells\n",
       "var notebookContainer = gd.closest('#notebook-container');\n",
       "if (notebookContainer) {{\n",
       "    x.observe(notebookContainer, {childList: true});\n",
       "}}\n",
       "\n",
       "// Listen for the clearing of the current output cell\n",
       "var outputEl = gd.closest('.output');\n",
       "if (outputEl) {{\n",
       "    x.observe(outputEl, {childList: true});\n",
       "}}\n",
       "\n",
       "                        })\n",
       "                };\n",
       "                });\n",
       "            </script>\n",
       "        </div>"
      ]
     },
     "metadata": {},
     "output_type": "display_data"
    }
   ],
   "source": [
    "\n",
    "\n",
    "col='Content Rating'\n",
    "v1=d1[col].value_counts().reset_index()\n",
    "v1=v1.rename(columns={col:'count','index':col})\n",
    "v1['percent']=v1['count'].apply(lambda x : 100*x/sum(v1['count']))\n",
    "v1=v1.sort_values(col)\n",
    "trace1 = go.Bar(x=v1[col], y=v1[\"count\"], name=\"Free\", marker=dict())\n",
    "layout={'title':\"Free App Content Rating \",'xaxis':{'title':\"Contents\"}}\n",
    "fig = go.Figure(data=[trace1], layout=layout)\n",
    "py.offline.iplot(fig)"
   ]
  },
  {
   "cell_type": "code",
   "execution_count": 38,
   "metadata": {},
   "outputs": [
    {
     "data": {
      "application/vnd.plotly.v1+json": {
       "config": {
        "linkText": "Export to plot.ly",
        "plotlyServerURL": "https://plot.ly",
        "showLink": false
       },
       "data": [
        {
         "marker": {
          "color": "#a678de"
         },
         "name": "Free",
         "type": "scatter",
         "x": [
          "1.0",
          "1.2",
          "1.4",
          "1.5",
          "1.6",
          "1.7",
          "1.8",
          "1.9",
          "2.0",
          "2.1",
          "2.2",
          "2.3",
          "2.4",
          "2.5",
          "2.6",
          "2.7",
          "2.8",
          "2.9",
          "3.0",
          "3.1",
          "3.2",
          "3.3",
          "3.4",
          "3.5",
          "3.6",
          "3.7",
          "3.8",
          "3.9",
          "4.0",
          "4.1",
          "4.2",
          "4.3",
          "4.4",
          "4.5",
          "4.6",
          "4.7",
          "4.8",
          "4.9",
          "5.0"
         ],
         "y": [
          "10",
          "1",
          "2",
          "2",
          "3",
          "4",
          "4",
          "8",
          "7",
          "4",
          "8",
          "10",
          "12",
          "12",
          "11",
          "15",
          "20",
          "29",
          "48",
          "42",
          "45",
          "67",
          "79",
          "97",
          "120",
          "152",
          "201",
          "265",
          "384",
          "488",
          "665",
          "1654",
          "755",
          "686",
          "515",
          "282",
          "108",
          "41",
          "147"
         ]
        },
        {
         "marker": {
          "color": "#6ad49b"
         },
         "name": "Paid",
         "type": "scatter",
         "x": [
          1,
          1.7,
          1.8,
          2.3,
          2.4,
          2.7,
          2.8,
          2.9,
          3,
          3.1,
          3.2,
          3.3,
          3.4,
          3.5,
          3.6,
          3.7,
          3.8,
          3.9,
          4,
          4.1,
          4.2,
          4.3,
          4.4,
          4.5,
          4.6,
          4.7,
          4.8,
          4.9,
          5
         ],
         "y": [
          2,
          1,
          1,
          2,
          2,
          2,
          2,
          4,
          7,
          3,
          1,
          4,
          5,
          8,
          6,
          10,
          13,
          13,
          17,
          24,
          45,
          140,
          57,
          51,
          61,
          40,
          29,
          3,
          22
         ]
        }
       ],
       "layout": {
        "template": {
         "data": {
          "bar": [
           {
            "error_x": {
             "color": "#2a3f5f"
            },
            "error_y": {
             "color": "#2a3f5f"
            },
            "marker": {
             "line": {
              "color": "#E5ECF6",
              "width": 0.5
             }
            },
            "type": "bar"
           }
          ],
          "barpolar": [
           {
            "marker": {
             "line": {
              "color": "#E5ECF6",
              "width": 0.5
             }
            },
            "type": "barpolar"
           }
          ],
          "carpet": [
           {
            "aaxis": {
             "endlinecolor": "#2a3f5f",
             "gridcolor": "white",
             "linecolor": "white",
             "minorgridcolor": "white",
             "startlinecolor": "#2a3f5f"
            },
            "baxis": {
             "endlinecolor": "#2a3f5f",
             "gridcolor": "white",
             "linecolor": "white",
             "minorgridcolor": "white",
             "startlinecolor": "#2a3f5f"
            },
            "type": "carpet"
           }
          ],
          "choropleth": [
           {
            "colorbar": {
             "outlinewidth": 0,
             "ticks": ""
            },
            "type": "choropleth"
           }
          ],
          "contour": [
           {
            "colorbar": {
             "outlinewidth": 0,
             "ticks": ""
            },
            "colorscale": [
             [
              0,
              "#0d0887"
             ],
             [
              0.1111111111111111,
              "#46039f"
             ],
             [
              0.2222222222222222,
              "#7201a8"
             ],
             [
              0.3333333333333333,
              "#9c179e"
             ],
             [
              0.4444444444444444,
              "#bd3786"
             ],
             [
              0.5555555555555556,
              "#d8576b"
             ],
             [
              0.6666666666666666,
              "#ed7953"
             ],
             [
              0.7777777777777778,
              "#fb9f3a"
             ],
             [
              0.8888888888888888,
              "#fdca26"
             ],
             [
              1,
              "#f0f921"
             ]
            ],
            "type": "contour"
           }
          ],
          "contourcarpet": [
           {
            "colorbar": {
             "outlinewidth": 0,
             "ticks": ""
            },
            "type": "contourcarpet"
           }
          ],
          "heatmap": [
           {
            "colorbar": {
             "outlinewidth": 0,
             "ticks": ""
            },
            "colorscale": [
             [
              0,
              "#0d0887"
             ],
             [
              0.1111111111111111,
              "#46039f"
             ],
             [
              0.2222222222222222,
              "#7201a8"
             ],
             [
              0.3333333333333333,
              "#9c179e"
             ],
             [
              0.4444444444444444,
              "#bd3786"
             ],
             [
              0.5555555555555556,
              "#d8576b"
             ],
             [
              0.6666666666666666,
              "#ed7953"
             ],
             [
              0.7777777777777778,
              "#fb9f3a"
             ],
             [
              0.8888888888888888,
              "#fdca26"
             ],
             [
              1,
              "#f0f921"
             ]
            ],
            "type": "heatmap"
           }
          ],
          "heatmapgl": [
           {
            "colorbar": {
             "outlinewidth": 0,
             "ticks": ""
            },
            "colorscale": [
             [
              0,
              "#0d0887"
             ],
             [
              0.1111111111111111,
              "#46039f"
             ],
             [
              0.2222222222222222,
              "#7201a8"
             ],
             [
              0.3333333333333333,
              "#9c179e"
             ],
             [
              0.4444444444444444,
              "#bd3786"
             ],
             [
              0.5555555555555556,
              "#d8576b"
             ],
             [
              0.6666666666666666,
              "#ed7953"
             ],
             [
              0.7777777777777778,
              "#fb9f3a"
             ],
             [
              0.8888888888888888,
              "#fdca26"
             ],
             [
              1,
              "#f0f921"
             ]
            ],
            "type": "heatmapgl"
           }
          ],
          "histogram": [
           {
            "marker": {
             "colorbar": {
              "outlinewidth": 0,
              "ticks": ""
             }
            },
            "type": "histogram"
           }
          ],
          "histogram2d": [
           {
            "colorbar": {
             "outlinewidth": 0,
             "ticks": ""
            },
            "colorscale": [
             [
              0,
              "#0d0887"
             ],
             [
              0.1111111111111111,
              "#46039f"
             ],
             [
              0.2222222222222222,
              "#7201a8"
             ],
             [
              0.3333333333333333,
              "#9c179e"
             ],
             [
              0.4444444444444444,
              "#bd3786"
             ],
             [
              0.5555555555555556,
              "#d8576b"
             ],
             [
              0.6666666666666666,
              "#ed7953"
             ],
             [
              0.7777777777777778,
              "#fb9f3a"
             ],
             [
              0.8888888888888888,
              "#fdca26"
             ],
             [
              1,
              "#f0f921"
             ]
            ],
            "type": "histogram2d"
           }
          ],
          "histogram2dcontour": [
           {
            "colorbar": {
             "outlinewidth": 0,
             "ticks": ""
            },
            "colorscale": [
             [
              0,
              "#0d0887"
             ],
             [
              0.1111111111111111,
              "#46039f"
             ],
             [
              0.2222222222222222,
              "#7201a8"
             ],
             [
              0.3333333333333333,
              "#9c179e"
             ],
             [
              0.4444444444444444,
              "#bd3786"
             ],
             [
              0.5555555555555556,
              "#d8576b"
             ],
             [
              0.6666666666666666,
              "#ed7953"
             ],
             [
              0.7777777777777778,
              "#fb9f3a"
             ],
             [
              0.8888888888888888,
              "#fdca26"
             ],
             [
              1,
              "#f0f921"
             ]
            ],
            "type": "histogram2dcontour"
           }
          ],
          "mesh3d": [
           {
            "colorbar": {
             "outlinewidth": 0,
             "ticks": ""
            },
            "type": "mesh3d"
           }
          ],
          "parcoords": [
           {
            "line": {
             "colorbar": {
              "outlinewidth": 0,
              "ticks": ""
             }
            },
            "type": "parcoords"
           }
          ],
          "pie": [
           {
            "automargin": true,
            "type": "pie"
           }
          ],
          "scatter": [
           {
            "marker": {
             "colorbar": {
              "outlinewidth": 0,
              "ticks": ""
             }
            },
            "type": "scatter"
           }
          ],
          "scatter3d": [
           {
            "line": {
             "colorbar": {
              "outlinewidth": 0,
              "ticks": ""
             }
            },
            "marker": {
             "colorbar": {
              "outlinewidth": 0,
              "ticks": ""
             }
            },
            "type": "scatter3d"
           }
          ],
          "scattercarpet": [
           {
            "marker": {
             "colorbar": {
              "outlinewidth": 0,
              "ticks": ""
             }
            },
            "type": "scattercarpet"
           }
          ],
          "scattergeo": [
           {
            "marker": {
             "colorbar": {
              "outlinewidth": 0,
              "ticks": ""
             }
            },
            "type": "scattergeo"
           }
          ],
          "scattergl": [
           {
            "marker": {
             "colorbar": {
              "outlinewidth": 0,
              "ticks": ""
             }
            },
            "type": "scattergl"
           }
          ],
          "scattermapbox": [
           {
            "marker": {
             "colorbar": {
              "outlinewidth": 0,
              "ticks": ""
             }
            },
            "type": "scattermapbox"
           }
          ],
          "scatterpolar": [
           {
            "marker": {
             "colorbar": {
              "outlinewidth": 0,
              "ticks": ""
             }
            },
            "type": "scatterpolar"
           }
          ],
          "scatterpolargl": [
           {
            "marker": {
             "colorbar": {
              "outlinewidth": 0,
              "ticks": ""
             }
            },
            "type": "scatterpolargl"
           }
          ],
          "scatterternary": [
           {
            "marker": {
             "colorbar": {
              "outlinewidth": 0,
              "ticks": ""
             }
            },
            "type": "scatterternary"
           }
          ],
          "surface": [
           {
            "colorbar": {
             "outlinewidth": 0,
             "ticks": ""
            },
            "colorscale": [
             [
              0,
              "#0d0887"
             ],
             [
              0.1111111111111111,
              "#46039f"
             ],
             [
              0.2222222222222222,
              "#7201a8"
             ],
             [
              0.3333333333333333,
              "#9c179e"
             ],
             [
              0.4444444444444444,
              "#bd3786"
             ],
             [
              0.5555555555555556,
              "#d8576b"
             ],
             [
              0.6666666666666666,
              "#ed7953"
             ],
             [
              0.7777777777777778,
              "#fb9f3a"
             ],
             [
              0.8888888888888888,
              "#fdca26"
             ],
             [
              1,
              "#f0f921"
             ]
            ],
            "type": "surface"
           }
          ],
          "table": [
           {
            "cells": {
             "fill": {
              "color": "#EBF0F8"
             },
             "line": {
              "color": "white"
             }
            },
            "header": {
             "fill": {
              "color": "#C8D4E3"
             },
             "line": {
              "color": "white"
             }
            },
            "type": "table"
           }
          ]
         },
         "layout": {
          "annotationdefaults": {
           "arrowcolor": "#2a3f5f",
           "arrowhead": 0,
           "arrowwidth": 1
          },
          "coloraxis": {
           "colorbar": {
            "outlinewidth": 0,
            "ticks": ""
           }
          },
          "colorscale": {
           "diverging": [
            [
             0,
             "#8e0152"
            ],
            [
             0.1,
             "#c51b7d"
            ],
            [
             0.2,
             "#de77ae"
            ],
            [
             0.3,
             "#f1b6da"
            ],
            [
             0.4,
             "#fde0ef"
            ],
            [
             0.5,
             "#f7f7f7"
            ],
            [
             0.6,
             "#e6f5d0"
            ],
            [
             0.7,
             "#b8e186"
            ],
            [
             0.8,
             "#7fbc41"
            ],
            [
             0.9,
             "#4d9221"
            ],
            [
             1,
             "#276419"
            ]
           ],
           "sequential": [
            [
             0,
             "#0d0887"
            ],
            [
             0.1111111111111111,
             "#46039f"
            ],
            [
             0.2222222222222222,
             "#7201a8"
            ],
            [
             0.3333333333333333,
             "#9c179e"
            ],
            [
             0.4444444444444444,
             "#bd3786"
            ],
            [
             0.5555555555555556,
             "#d8576b"
            ],
            [
             0.6666666666666666,
             "#ed7953"
            ],
            [
             0.7777777777777778,
             "#fb9f3a"
            ],
            [
             0.8888888888888888,
             "#fdca26"
            ],
            [
             1,
             "#f0f921"
            ]
           ],
           "sequentialminus": [
            [
             0,
             "#0d0887"
            ],
            [
             0.1111111111111111,
             "#46039f"
            ],
            [
             0.2222222222222222,
             "#7201a8"
            ],
            [
             0.3333333333333333,
             "#9c179e"
            ],
            [
             0.4444444444444444,
             "#bd3786"
            ],
            [
             0.5555555555555556,
             "#d8576b"
            ],
            [
             0.6666666666666666,
             "#ed7953"
            ],
            [
             0.7777777777777778,
             "#fb9f3a"
            ],
            [
             0.8888888888888888,
             "#fdca26"
            ],
            [
             1,
             "#f0f921"
            ]
           ]
          },
          "colorway": [
           "#636efa",
           "#EF553B",
           "#00cc96",
           "#ab63fa",
           "#FFA15A",
           "#19d3f3",
           "#FF6692",
           "#B6E880",
           "#FF97FF",
           "#FECB52"
          ],
          "font": {
           "color": "#2a3f5f"
          },
          "geo": {
           "bgcolor": "white",
           "lakecolor": "white",
           "landcolor": "#E5ECF6",
           "showlakes": true,
           "showland": true,
           "subunitcolor": "white"
          },
          "hoverlabel": {
           "align": "left"
          },
          "hovermode": "closest",
          "mapbox": {
           "style": "light"
          },
          "paper_bgcolor": "white",
          "plot_bgcolor": "#E5ECF6",
          "polar": {
           "angularaxis": {
            "gridcolor": "white",
            "linecolor": "white",
            "ticks": ""
           },
           "bgcolor": "#E5ECF6",
           "radialaxis": {
            "gridcolor": "white",
            "linecolor": "white",
            "ticks": ""
           }
          },
          "scene": {
           "xaxis": {
            "backgroundcolor": "#E5ECF6",
            "gridcolor": "white",
            "gridwidth": 2,
            "linecolor": "white",
            "showbackground": true,
            "ticks": "",
            "zerolinecolor": "white"
           },
           "yaxis": {
            "backgroundcolor": "#E5ECF6",
            "gridcolor": "white",
            "gridwidth": 2,
            "linecolor": "white",
            "showbackground": true,
            "ticks": "",
            "zerolinecolor": "white"
           },
           "zaxis": {
            "backgroundcolor": "#E5ECF6",
            "gridcolor": "white",
            "gridwidth": 2,
            "linecolor": "white",
            "showbackground": true,
            "ticks": "",
            "zerolinecolor": "white"
           }
          },
          "shapedefaults": {
           "line": {
            "color": "#2a3f5f"
           }
          },
          "ternary": {
           "aaxis": {
            "gridcolor": "white",
            "linecolor": "white",
            "ticks": ""
           },
           "baxis": {
            "gridcolor": "white",
            "linecolor": "white",
            "ticks": ""
           },
           "bgcolor": "#E5ECF6",
           "caxis": {
            "gridcolor": "white",
            "linecolor": "white",
            "ticks": ""
           }
          },
          "title": {
           "x": 0.05
          },
          "xaxis": {
           "automargin": true,
           "gridcolor": "white",
           "linecolor": "white",
           "ticks": "",
           "title": {
            "standoff": 15
           },
           "zerolinecolor": "white",
           "zerolinewidth": 2
          },
          "yaxis": {
           "automargin": true,
           "gridcolor": "white",
           "linecolor": "white",
           "ticks": "",
           "title": {
            "standoff": 15
           },
           "zerolinecolor": "white",
           "zerolinewidth": 2
          }
         }
        },
        "title": {
         "text": "Ratings of the free vs paid app"
        },
        "xaxis": {
         "title": {
          "text": "Ratings"
         }
        }
       }
      },
      "text/html": [
       "<div>\n",
       "        \n",
       "        \n",
       "            <div id=\"72849e76-e423-433e-a44a-e8af29c5c2da\" class=\"plotly-graph-div\" style=\"height:525px; width:100%;\"></div>\n",
       "            <script type=\"text/javascript\">\n",
       "                require([\"plotly\"], function(Plotly) {\n",
       "                    window.PLOTLYENV=window.PLOTLYENV || {};\n",
       "                    \n",
       "                if (document.getElementById(\"72849e76-e423-433e-a44a-e8af29c5c2da\")) {\n",
       "                    Plotly.newPlot(\n",
       "                        '72849e76-e423-433e-a44a-e8af29c5c2da',\n",
       "                        [{\"marker\": {\"color\": \"#a678de\"}, \"name\": \"Free\", \"type\": \"scatter\", \"x\": [\"1.0\", \"1.2\", \"1.4\", \"1.5\", \"1.6\", \"1.7\", \"1.8\", \"1.9\", \"2.0\", \"2.1\", \"2.2\", \"2.3\", \"2.4\", \"2.5\", \"2.6\", \"2.7\", \"2.8\", \"2.9\", \"3.0\", \"3.1\", \"3.2\", \"3.3\", \"3.4\", \"3.5\", \"3.6\", \"3.7\", \"3.8\", \"3.9\", \"4.0\", \"4.1\", \"4.2\", \"4.3\", \"4.4\", \"4.5\", \"4.6\", \"4.7\", \"4.8\", \"4.9\", \"5.0\"], \"y\": [\"10\", \"1\", \"2\", \"2\", \"3\", \"4\", \"4\", \"8\", \"7\", \"4\", \"8\", \"10\", \"12\", \"12\", \"11\", \"15\", \"20\", \"29\", \"48\", \"42\", \"45\", \"67\", \"79\", \"97\", \"120\", \"152\", \"201\", \"265\", \"384\", \"488\", \"665\", \"1654\", \"755\", \"686\", \"515\", \"282\", \"108\", \"41\", \"147\"]}, {\"marker\": {\"color\": \"#6ad49b\"}, \"name\": \"Paid\", \"type\": \"scatter\", \"x\": [1.0, 1.7, 1.8, 2.3, 2.4, 2.7, 2.8, 2.9, 3.0, 3.1, 3.2, 3.3, 3.4, 3.5, 3.6, 3.7, 3.8, 3.9, 4.0, 4.1, 4.2, 4.3, 4.4, 4.5, 4.6, 4.7, 4.8, 4.9, 5.0], \"y\": [2, 1, 1, 2, 2, 2, 2, 4, 7, 3, 1, 4, 5, 8, 6, 10, 13, 13, 17, 24, 45, 140, 57, 51, 61, 40, 29, 3, 22]}],\n",
       "                        {\"template\": {\"data\": {\"bar\": [{\"error_x\": {\"color\": \"#2a3f5f\"}, \"error_y\": {\"color\": \"#2a3f5f\"}, \"marker\": {\"line\": {\"color\": \"#E5ECF6\", \"width\": 0.5}}, \"type\": \"bar\"}], \"barpolar\": [{\"marker\": {\"line\": {\"color\": \"#E5ECF6\", \"width\": 0.5}}, \"type\": \"barpolar\"}], \"carpet\": [{\"aaxis\": {\"endlinecolor\": \"#2a3f5f\", \"gridcolor\": \"white\", \"linecolor\": \"white\", \"minorgridcolor\": \"white\", \"startlinecolor\": \"#2a3f5f\"}, \"baxis\": {\"endlinecolor\": \"#2a3f5f\", \"gridcolor\": \"white\", \"linecolor\": \"white\", \"minorgridcolor\": \"white\", \"startlinecolor\": \"#2a3f5f\"}, \"type\": \"carpet\"}], \"choropleth\": [{\"colorbar\": {\"outlinewidth\": 0, \"ticks\": \"\"}, \"type\": \"choropleth\"}], \"contour\": [{\"colorbar\": {\"outlinewidth\": 0, \"ticks\": \"\"}, \"colorscale\": [[0.0, \"#0d0887\"], [0.1111111111111111, \"#46039f\"], [0.2222222222222222, \"#7201a8\"], [0.3333333333333333, \"#9c179e\"], [0.4444444444444444, \"#bd3786\"], [0.5555555555555556, \"#d8576b\"], [0.6666666666666666, \"#ed7953\"], [0.7777777777777778, \"#fb9f3a\"], [0.8888888888888888, \"#fdca26\"], [1.0, \"#f0f921\"]], \"type\": \"contour\"}], \"contourcarpet\": [{\"colorbar\": {\"outlinewidth\": 0, \"ticks\": \"\"}, \"type\": \"contourcarpet\"}], \"heatmap\": [{\"colorbar\": {\"outlinewidth\": 0, \"ticks\": \"\"}, \"colorscale\": [[0.0, \"#0d0887\"], [0.1111111111111111, \"#46039f\"], [0.2222222222222222, \"#7201a8\"], [0.3333333333333333, \"#9c179e\"], [0.4444444444444444, \"#bd3786\"], [0.5555555555555556, \"#d8576b\"], [0.6666666666666666, \"#ed7953\"], [0.7777777777777778, \"#fb9f3a\"], [0.8888888888888888, \"#fdca26\"], [1.0, \"#f0f921\"]], \"type\": \"heatmap\"}], \"heatmapgl\": [{\"colorbar\": {\"outlinewidth\": 0, \"ticks\": \"\"}, \"colorscale\": [[0.0, \"#0d0887\"], [0.1111111111111111, \"#46039f\"], [0.2222222222222222, \"#7201a8\"], [0.3333333333333333, \"#9c179e\"], [0.4444444444444444, \"#bd3786\"], [0.5555555555555556, \"#d8576b\"], [0.6666666666666666, \"#ed7953\"], [0.7777777777777778, \"#fb9f3a\"], [0.8888888888888888, \"#fdca26\"], [1.0, \"#f0f921\"]], \"type\": \"heatmapgl\"}], \"histogram\": [{\"marker\": {\"colorbar\": {\"outlinewidth\": 0, \"ticks\": \"\"}}, \"type\": \"histogram\"}], \"histogram2d\": [{\"colorbar\": {\"outlinewidth\": 0, \"ticks\": \"\"}, \"colorscale\": [[0.0, \"#0d0887\"], [0.1111111111111111, \"#46039f\"], [0.2222222222222222, \"#7201a8\"], [0.3333333333333333, \"#9c179e\"], [0.4444444444444444, \"#bd3786\"], [0.5555555555555556, \"#d8576b\"], [0.6666666666666666, \"#ed7953\"], [0.7777777777777778, \"#fb9f3a\"], [0.8888888888888888, \"#fdca26\"], [1.0, \"#f0f921\"]], \"type\": \"histogram2d\"}], \"histogram2dcontour\": [{\"colorbar\": {\"outlinewidth\": 0, \"ticks\": \"\"}, \"colorscale\": [[0.0, \"#0d0887\"], [0.1111111111111111, \"#46039f\"], [0.2222222222222222, \"#7201a8\"], [0.3333333333333333, \"#9c179e\"], [0.4444444444444444, \"#bd3786\"], [0.5555555555555556, \"#d8576b\"], [0.6666666666666666, \"#ed7953\"], [0.7777777777777778, \"#fb9f3a\"], [0.8888888888888888, \"#fdca26\"], [1.0, \"#f0f921\"]], \"type\": \"histogram2dcontour\"}], \"mesh3d\": [{\"colorbar\": {\"outlinewidth\": 0, \"ticks\": \"\"}, \"type\": \"mesh3d\"}], \"parcoords\": [{\"line\": {\"colorbar\": {\"outlinewidth\": 0, \"ticks\": \"\"}}, \"type\": \"parcoords\"}], \"pie\": [{\"automargin\": true, \"type\": \"pie\"}], \"scatter\": [{\"marker\": {\"colorbar\": {\"outlinewidth\": 0, \"ticks\": \"\"}}, \"type\": \"scatter\"}], \"scatter3d\": [{\"line\": {\"colorbar\": {\"outlinewidth\": 0, \"ticks\": \"\"}}, \"marker\": {\"colorbar\": {\"outlinewidth\": 0, \"ticks\": \"\"}}, \"type\": \"scatter3d\"}], \"scattercarpet\": [{\"marker\": {\"colorbar\": {\"outlinewidth\": 0, \"ticks\": \"\"}}, \"type\": \"scattercarpet\"}], \"scattergeo\": [{\"marker\": {\"colorbar\": {\"outlinewidth\": 0, \"ticks\": \"\"}}, \"type\": \"scattergeo\"}], \"scattergl\": [{\"marker\": {\"colorbar\": {\"outlinewidth\": 0, \"ticks\": \"\"}}, \"type\": \"scattergl\"}], \"scattermapbox\": [{\"marker\": {\"colorbar\": {\"outlinewidth\": 0, \"ticks\": \"\"}}, \"type\": \"scattermapbox\"}], \"scatterpolar\": [{\"marker\": {\"colorbar\": {\"outlinewidth\": 0, \"ticks\": \"\"}}, \"type\": \"scatterpolar\"}], \"scatterpolargl\": [{\"marker\": {\"colorbar\": {\"outlinewidth\": 0, \"ticks\": \"\"}}, \"type\": \"scatterpolargl\"}], \"scatterternary\": [{\"marker\": {\"colorbar\": {\"outlinewidth\": 0, \"ticks\": \"\"}}, \"type\": \"scatterternary\"}], \"surface\": [{\"colorbar\": {\"outlinewidth\": 0, \"ticks\": \"\"}, \"colorscale\": [[0.0, \"#0d0887\"], [0.1111111111111111, \"#46039f\"], [0.2222222222222222, \"#7201a8\"], [0.3333333333333333, \"#9c179e\"], [0.4444444444444444, \"#bd3786\"], [0.5555555555555556, \"#d8576b\"], [0.6666666666666666, \"#ed7953\"], [0.7777777777777778, \"#fb9f3a\"], [0.8888888888888888, \"#fdca26\"], [1.0, \"#f0f921\"]], \"type\": \"surface\"}], \"table\": [{\"cells\": {\"fill\": {\"color\": \"#EBF0F8\"}, \"line\": {\"color\": \"white\"}}, \"header\": {\"fill\": {\"color\": \"#C8D4E3\"}, \"line\": {\"color\": \"white\"}}, \"type\": \"table\"}]}, \"layout\": {\"annotationdefaults\": {\"arrowcolor\": \"#2a3f5f\", \"arrowhead\": 0, \"arrowwidth\": 1}, \"coloraxis\": {\"colorbar\": {\"outlinewidth\": 0, \"ticks\": \"\"}}, \"colorscale\": {\"diverging\": [[0, \"#8e0152\"], [0.1, \"#c51b7d\"], [0.2, \"#de77ae\"], [0.3, \"#f1b6da\"], [0.4, \"#fde0ef\"], [0.5, \"#f7f7f7\"], [0.6, \"#e6f5d0\"], [0.7, \"#b8e186\"], [0.8, \"#7fbc41\"], [0.9, \"#4d9221\"], [1, \"#276419\"]], \"sequential\": [[0.0, \"#0d0887\"], [0.1111111111111111, \"#46039f\"], [0.2222222222222222, \"#7201a8\"], [0.3333333333333333, \"#9c179e\"], [0.4444444444444444, \"#bd3786\"], [0.5555555555555556, \"#d8576b\"], [0.6666666666666666, \"#ed7953\"], [0.7777777777777778, \"#fb9f3a\"], [0.8888888888888888, \"#fdca26\"], [1.0, \"#f0f921\"]], \"sequentialminus\": [[0.0, \"#0d0887\"], [0.1111111111111111, \"#46039f\"], [0.2222222222222222, \"#7201a8\"], [0.3333333333333333, \"#9c179e\"], [0.4444444444444444, \"#bd3786\"], [0.5555555555555556, \"#d8576b\"], [0.6666666666666666, \"#ed7953\"], [0.7777777777777778, \"#fb9f3a\"], [0.8888888888888888, \"#fdca26\"], [1.0, \"#f0f921\"]]}, \"colorway\": [\"#636efa\", \"#EF553B\", \"#00cc96\", \"#ab63fa\", \"#FFA15A\", \"#19d3f3\", \"#FF6692\", \"#B6E880\", \"#FF97FF\", \"#FECB52\"], \"font\": {\"color\": \"#2a3f5f\"}, \"geo\": {\"bgcolor\": \"white\", \"lakecolor\": \"white\", \"landcolor\": \"#E5ECF6\", \"showlakes\": true, \"showland\": true, \"subunitcolor\": \"white\"}, \"hoverlabel\": {\"align\": \"left\"}, \"hovermode\": \"closest\", \"mapbox\": {\"style\": \"light\"}, \"paper_bgcolor\": \"white\", \"plot_bgcolor\": \"#E5ECF6\", \"polar\": {\"angularaxis\": {\"gridcolor\": \"white\", \"linecolor\": \"white\", \"ticks\": \"\"}, \"bgcolor\": \"#E5ECF6\", \"radialaxis\": {\"gridcolor\": \"white\", \"linecolor\": \"white\", \"ticks\": \"\"}}, \"scene\": {\"xaxis\": {\"backgroundcolor\": \"#E5ECF6\", \"gridcolor\": \"white\", \"gridwidth\": 2, \"linecolor\": \"white\", \"showbackground\": true, \"ticks\": \"\", \"zerolinecolor\": \"white\"}, \"yaxis\": {\"backgroundcolor\": \"#E5ECF6\", \"gridcolor\": \"white\", \"gridwidth\": 2, \"linecolor\": \"white\", \"showbackground\": true, \"ticks\": \"\", \"zerolinecolor\": \"white\"}, \"zaxis\": {\"backgroundcolor\": \"#E5ECF6\", \"gridcolor\": \"white\", \"gridwidth\": 2, \"linecolor\": \"white\", \"showbackground\": true, \"ticks\": \"\", \"zerolinecolor\": \"white\"}}, \"shapedefaults\": {\"line\": {\"color\": \"#2a3f5f\"}}, \"ternary\": {\"aaxis\": {\"gridcolor\": \"white\", \"linecolor\": \"white\", \"ticks\": \"\"}, \"baxis\": {\"gridcolor\": \"white\", \"linecolor\": \"white\", \"ticks\": \"\"}, \"bgcolor\": \"#E5ECF6\", \"caxis\": {\"gridcolor\": \"white\", \"linecolor\": \"white\", \"ticks\": \"\"}}, \"title\": {\"x\": 0.05}, \"xaxis\": {\"automargin\": true, \"gridcolor\": \"white\", \"linecolor\": \"white\", \"ticks\": \"\", \"title\": {\"standoff\": 15}, \"zerolinecolor\": \"white\", \"zerolinewidth\": 2}, \"yaxis\": {\"automargin\": true, \"gridcolor\": \"white\", \"linecolor\": \"white\", \"ticks\": \"\", \"title\": {\"standoff\": 15}, \"zerolinecolor\": \"white\", \"zerolinewidth\": 2}}}, \"title\": {\"text\": \"Ratings of the free vs paid app\"}, \"xaxis\": {\"title\": {\"text\": \"Ratings\"}}},\n",
       "                        {\"responsive\": true}\n",
       "                    ).then(function(){\n",
       "                            \n",
       "var gd = document.getElementById('72849e76-e423-433e-a44a-e8af29c5c2da');\n",
       "var x = new MutationObserver(function (mutations, observer) {{\n",
       "        var display = window.getComputedStyle(gd).display;\n",
       "        if (!display || display === 'none') {{\n",
       "            console.log([gd, 'removed!']);\n",
       "            Plotly.purge(gd);\n",
       "            observer.disconnect();\n",
       "        }}\n",
       "}});\n",
       "\n",
       "// Listen for the removal of the full notebook cells\n",
       "var notebookContainer = gd.closest('#notebook-container');\n",
       "if (notebookContainer) {{\n",
       "    x.observe(notebookContainer, {childList: true});\n",
       "}}\n",
       "\n",
       "// Listen for the clearing of the current output cell\n",
       "var outputEl = gd.closest('.output');\n",
       "if (outputEl) {{\n",
       "    x.observe(outputEl, {childList: true});\n",
       "}}\n",
       "\n",
       "                        })\n",
       "                };\n",
       "                });\n",
       "            </script>\n",
       "        </div>"
      ]
     },
     "metadata": {},
     "output_type": "display_data"
    }
   ],
   "source": [
    "col='Rating'\n",
    "v1=d1[col].value_counts().reset_index()\n",
    "v1=v1.rename(columns={col:'count','index':col})\n",
    "v1['percent']=v1['count'].apply(lambda x : 100*x/sum(v1['count']))\n",
    "v1=v1.astype(str).sort_values(col)\n",
    "v2=d2[col].value_counts().reset_index()\n",
    "v2=v2.rename(columns={col:'count','index':col})\n",
    "v2['percent']=v2['count'].apply(lambda x : 100*x/sum(v2['count']))\n",
    "v2=v2.sort_values(col)\n",
    "trace1 = go.Scatter(x=v1[col], y=v1[\"count\"], name=\"Free\", marker=dict(color=\"#a678de\"))\n",
    "trace2 = go.Scatter(x=v2[col], y=v2[\"count\"], name=\"Paid\", marker=dict(color=\"#6ad49b\"))\n",
    "y = [trace1, trace2]\n",
    "layout={'title':\"Ratings of the free vs paid app\",'xaxis':{'title':\"Ratings\"}}\n",
    "fig = go.Figure(data=y, layout=layout)\n",
    "py.offline.iplot(fig)"
   ]
  },
  {
   "cell_type": "code",
   "execution_count": 39,
   "metadata": {},
   "outputs": [
    {
     "data": {
      "application/vnd.plotly.v1+json": {
       "config": {
        "linkText": "Export to plot.ly",
        "plotlyServerURL": "https://plot.ly",
        "showLink": false
       },
       "data": [
        {
         "marker": {
          "color": "#a678de"
         },
         "name": "Free",
         "type": "scatter",
         "x": [
          "1.0 and up",
          "1.5 and up",
          "1.6 and up",
          "2.0 and up",
          "2.0.1 and up",
          "2.1 and up",
          "2.2 - 7.1.1",
          "2.2 and up",
          "2.3 and up",
          "2.3.3 and up",
          "3.0 and up",
          "3.1 and up",
          "3.2 and up",
          "4.0 and up",
          "4.0.3 - 7.1.1",
          "4.0.3 and up",
          "4.1 - 7.1.1",
          "4.1 and up",
          "4.2 and up",
          "4.3 and up",
          "4.4 and up",
          "4.4W and up",
          "5.0 - 6.0",
          "5.0 - 7.1.1",
          "5.0 - 8.0",
          "5.0 and up",
          "5.1 and up",
          "6.0 and up",
          "7.0 and up",
          "7.1 and up",
          "8.0 and up",
          "Varies with device"
         ],
         "y": [
          1,
          10,
          41,
          23,
          2,
          89,
          1,
          152,
          472,
          200,
          148,
          9,
          22,
          897,
          2,
          932,
          1,
          1658,
          261,
          167,
          613,
          5,
          1,
          1,
          2,
          354,
          16,
          39,
          23,
          2,
          3,
          856
         ]
        },
        {
         "marker": {
          "color": "#6ad49b"
         },
         "name": "Paid",
         "type": "scatter",
         "x": [
          "1.5 and up",
          "1.6 and up",
          "2.0 and up",
          "2.0.1 and up",
          "2.1 and up",
          "2.2 and up",
          "2.3 and up",
          "2.3.3 and up",
          "3.0 and up",
          "3.1 and up",
          "3.2 and up",
          "4.0 and up",
          "4.0.3 and up",
          "4.1 and up",
          "4.2 and up",
          "4.3 and up",
          "4.4 and up",
          "5.0 and up",
          "5.1 and up",
          "6.0 and up",
          "7.0 and up",
          "8.0 and up",
          "Varies with device"
         ],
         "y": [
          6,
          21,
          5,
          5,
          21,
          36,
          65,
          26,
          25,
          1,
          7,
          66,
          61,
          89,
          17,
          10,
          27,
          24,
          3,
          4,
          13,
          1,
          42
         ]
        }
       ],
       "layout": {
        "template": {
         "data": {
          "bar": [
           {
            "error_x": {
             "color": "#2a3f5f"
            },
            "error_y": {
             "color": "#2a3f5f"
            },
            "marker": {
             "line": {
              "color": "#E5ECF6",
              "width": 0.5
             }
            },
            "type": "bar"
           }
          ],
          "barpolar": [
           {
            "marker": {
             "line": {
              "color": "#E5ECF6",
              "width": 0.5
             }
            },
            "type": "barpolar"
           }
          ],
          "carpet": [
           {
            "aaxis": {
             "endlinecolor": "#2a3f5f",
             "gridcolor": "white",
             "linecolor": "white",
             "minorgridcolor": "white",
             "startlinecolor": "#2a3f5f"
            },
            "baxis": {
             "endlinecolor": "#2a3f5f",
             "gridcolor": "white",
             "linecolor": "white",
             "minorgridcolor": "white",
             "startlinecolor": "#2a3f5f"
            },
            "type": "carpet"
           }
          ],
          "choropleth": [
           {
            "colorbar": {
             "outlinewidth": 0,
             "ticks": ""
            },
            "type": "choropleth"
           }
          ],
          "contour": [
           {
            "colorbar": {
             "outlinewidth": 0,
             "ticks": ""
            },
            "colorscale": [
             [
              0,
              "#0d0887"
             ],
             [
              0.1111111111111111,
              "#46039f"
             ],
             [
              0.2222222222222222,
              "#7201a8"
             ],
             [
              0.3333333333333333,
              "#9c179e"
             ],
             [
              0.4444444444444444,
              "#bd3786"
             ],
             [
              0.5555555555555556,
              "#d8576b"
             ],
             [
              0.6666666666666666,
              "#ed7953"
             ],
             [
              0.7777777777777778,
              "#fb9f3a"
             ],
             [
              0.8888888888888888,
              "#fdca26"
             ],
             [
              1,
              "#f0f921"
             ]
            ],
            "type": "contour"
           }
          ],
          "contourcarpet": [
           {
            "colorbar": {
             "outlinewidth": 0,
             "ticks": ""
            },
            "type": "contourcarpet"
           }
          ],
          "heatmap": [
           {
            "colorbar": {
             "outlinewidth": 0,
             "ticks": ""
            },
            "colorscale": [
             [
              0,
              "#0d0887"
             ],
             [
              0.1111111111111111,
              "#46039f"
             ],
             [
              0.2222222222222222,
              "#7201a8"
             ],
             [
              0.3333333333333333,
              "#9c179e"
             ],
             [
              0.4444444444444444,
              "#bd3786"
             ],
             [
              0.5555555555555556,
              "#d8576b"
             ],
             [
              0.6666666666666666,
              "#ed7953"
             ],
             [
              0.7777777777777778,
              "#fb9f3a"
             ],
             [
              0.8888888888888888,
              "#fdca26"
             ],
             [
              1,
              "#f0f921"
             ]
            ],
            "type": "heatmap"
           }
          ],
          "heatmapgl": [
           {
            "colorbar": {
             "outlinewidth": 0,
             "ticks": ""
            },
            "colorscale": [
             [
              0,
              "#0d0887"
             ],
             [
              0.1111111111111111,
              "#46039f"
             ],
             [
              0.2222222222222222,
              "#7201a8"
             ],
             [
              0.3333333333333333,
              "#9c179e"
             ],
             [
              0.4444444444444444,
              "#bd3786"
             ],
             [
              0.5555555555555556,
              "#d8576b"
             ],
             [
              0.6666666666666666,
              "#ed7953"
             ],
             [
              0.7777777777777778,
              "#fb9f3a"
             ],
             [
              0.8888888888888888,
              "#fdca26"
             ],
             [
              1,
              "#f0f921"
             ]
            ],
            "type": "heatmapgl"
           }
          ],
          "histogram": [
           {
            "marker": {
             "colorbar": {
              "outlinewidth": 0,
              "ticks": ""
             }
            },
            "type": "histogram"
           }
          ],
          "histogram2d": [
           {
            "colorbar": {
             "outlinewidth": 0,
             "ticks": ""
            },
            "colorscale": [
             [
              0,
              "#0d0887"
             ],
             [
              0.1111111111111111,
              "#46039f"
             ],
             [
              0.2222222222222222,
              "#7201a8"
             ],
             [
              0.3333333333333333,
              "#9c179e"
             ],
             [
              0.4444444444444444,
              "#bd3786"
             ],
             [
              0.5555555555555556,
              "#d8576b"
             ],
             [
              0.6666666666666666,
              "#ed7953"
             ],
             [
              0.7777777777777778,
              "#fb9f3a"
             ],
             [
              0.8888888888888888,
              "#fdca26"
             ],
             [
              1,
              "#f0f921"
             ]
            ],
            "type": "histogram2d"
           }
          ],
          "histogram2dcontour": [
           {
            "colorbar": {
             "outlinewidth": 0,
             "ticks": ""
            },
            "colorscale": [
             [
              0,
              "#0d0887"
             ],
             [
              0.1111111111111111,
              "#46039f"
             ],
             [
              0.2222222222222222,
              "#7201a8"
             ],
             [
              0.3333333333333333,
              "#9c179e"
             ],
             [
              0.4444444444444444,
              "#bd3786"
             ],
             [
              0.5555555555555556,
              "#d8576b"
             ],
             [
              0.6666666666666666,
              "#ed7953"
             ],
             [
              0.7777777777777778,
              "#fb9f3a"
             ],
             [
              0.8888888888888888,
              "#fdca26"
             ],
             [
              1,
              "#f0f921"
             ]
            ],
            "type": "histogram2dcontour"
           }
          ],
          "mesh3d": [
           {
            "colorbar": {
             "outlinewidth": 0,
             "ticks": ""
            },
            "type": "mesh3d"
           }
          ],
          "parcoords": [
           {
            "line": {
             "colorbar": {
              "outlinewidth": 0,
              "ticks": ""
             }
            },
            "type": "parcoords"
           }
          ],
          "pie": [
           {
            "automargin": true,
            "type": "pie"
           }
          ],
          "scatter": [
           {
            "marker": {
             "colorbar": {
              "outlinewidth": 0,
              "ticks": ""
             }
            },
            "type": "scatter"
           }
          ],
          "scatter3d": [
           {
            "line": {
             "colorbar": {
              "outlinewidth": 0,
              "ticks": ""
             }
            },
            "marker": {
             "colorbar": {
              "outlinewidth": 0,
              "ticks": ""
             }
            },
            "type": "scatter3d"
           }
          ],
          "scattercarpet": [
           {
            "marker": {
             "colorbar": {
              "outlinewidth": 0,
              "ticks": ""
             }
            },
            "type": "scattercarpet"
           }
          ],
          "scattergeo": [
           {
            "marker": {
             "colorbar": {
              "outlinewidth": 0,
              "ticks": ""
             }
            },
            "type": "scattergeo"
           }
          ],
          "scattergl": [
           {
            "marker": {
             "colorbar": {
              "outlinewidth": 0,
              "ticks": ""
             }
            },
            "type": "scattergl"
           }
          ],
          "scattermapbox": [
           {
            "marker": {
             "colorbar": {
              "outlinewidth": 0,
              "ticks": ""
             }
            },
            "type": "scattermapbox"
           }
          ],
          "scatterpolar": [
           {
            "marker": {
             "colorbar": {
              "outlinewidth": 0,
              "ticks": ""
             }
            },
            "type": "scatterpolar"
           }
          ],
          "scatterpolargl": [
           {
            "marker": {
             "colorbar": {
              "outlinewidth": 0,
              "ticks": ""
             }
            },
            "type": "scatterpolargl"
           }
          ],
          "scatterternary": [
           {
            "marker": {
             "colorbar": {
              "outlinewidth": 0,
              "ticks": ""
             }
            },
            "type": "scatterternary"
           }
          ],
          "surface": [
           {
            "colorbar": {
             "outlinewidth": 0,
             "ticks": ""
            },
            "colorscale": [
             [
              0,
              "#0d0887"
             ],
             [
              0.1111111111111111,
              "#46039f"
             ],
             [
              0.2222222222222222,
              "#7201a8"
             ],
             [
              0.3333333333333333,
              "#9c179e"
             ],
             [
              0.4444444444444444,
              "#bd3786"
             ],
             [
              0.5555555555555556,
              "#d8576b"
             ],
             [
              0.6666666666666666,
              "#ed7953"
             ],
             [
              0.7777777777777778,
              "#fb9f3a"
             ],
             [
              0.8888888888888888,
              "#fdca26"
             ],
             [
              1,
              "#f0f921"
             ]
            ],
            "type": "surface"
           }
          ],
          "table": [
           {
            "cells": {
             "fill": {
              "color": "#EBF0F8"
             },
             "line": {
              "color": "white"
             }
            },
            "header": {
             "fill": {
              "color": "#C8D4E3"
             },
             "line": {
              "color": "white"
             }
            },
            "type": "table"
           }
          ]
         },
         "layout": {
          "annotationdefaults": {
           "arrowcolor": "#2a3f5f",
           "arrowhead": 0,
           "arrowwidth": 1
          },
          "coloraxis": {
           "colorbar": {
            "outlinewidth": 0,
            "ticks": ""
           }
          },
          "colorscale": {
           "diverging": [
            [
             0,
             "#8e0152"
            ],
            [
             0.1,
             "#c51b7d"
            ],
            [
             0.2,
             "#de77ae"
            ],
            [
             0.3,
             "#f1b6da"
            ],
            [
             0.4,
             "#fde0ef"
            ],
            [
             0.5,
             "#f7f7f7"
            ],
            [
             0.6,
             "#e6f5d0"
            ],
            [
             0.7,
             "#b8e186"
            ],
            [
             0.8,
             "#7fbc41"
            ],
            [
             0.9,
             "#4d9221"
            ],
            [
             1,
             "#276419"
            ]
           ],
           "sequential": [
            [
             0,
             "#0d0887"
            ],
            [
             0.1111111111111111,
             "#46039f"
            ],
            [
             0.2222222222222222,
             "#7201a8"
            ],
            [
             0.3333333333333333,
             "#9c179e"
            ],
            [
             0.4444444444444444,
             "#bd3786"
            ],
            [
             0.5555555555555556,
             "#d8576b"
            ],
            [
             0.6666666666666666,
             "#ed7953"
            ],
            [
             0.7777777777777778,
             "#fb9f3a"
            ],
            [
             0.8888888888888888,
             "#fdca26"
            ],
            [
             1,
             "#f0f921"
            ]
           ],
           "sequentialminus": [
            [
             0,
             "#0d0887"
            ],
            [
             0.1111111111111111,
             "#46039f"
            ],
            [
             0.2222222222222222,
             "#7201a8"
            ],
            [
             0.3333333333333333,
             "#9c179e"
            ],
            [
             0.4444444444444444,
             "#bd3786"
            ],
            [
             0.5555555555555556,
             "#d8576b"
            ],
            [
             0.6666666666666666,
             "#ed7953"
            ],
            [
             0.7777777777777778,
             "#fb9f3a"
            ],
            [
             0.8888888888888888,
             "#fdca26"
            ],
            [
             1,
             "#f0f921"
            ]
           ]
          },
          "colorway": [
           "#636efa",
           "#EF553B",
           "#00cc96",
           "#ab63fa",
           "#FFA15A",
           "#19d3f3",
           "#FF6692",
           "#B6E880",
           "#FF97FF",
           "#FECB52"
          ],
          "font": {
           "color": "#2a3f5f"
          },
          "geo": {
           "bgcolor": "white",
           "lakecolor": "white",
           "landcolor": "#E5ECF6",
           "showlakes": true,
           "showland": true,
           "subunitcolor": "white"
          },
          "hoverlabel": {
           "align": "left"
          },
          "hovermode": "closest",
          "mapbox": {
           "style": "light"
          },
          "paper_bgcolor": "white",
          "plot_bgcolor": "#E5ECF6",
          "polar": {
           "angularaxis": {
            "gridcolor": "white",
            "linecolor": "white",
            "ticks": ""
           },
           "bgcolor": "#E5ECF6",
           "radialaxis": {
            "gridcolor": "white",
            "linecolor": "white",
            "ticks": ""
           }
          },
          "scene": {
           "xaxis": {
            "backgroundcolor": "#E5ECF6",
            "gridcolor": "white",
            "gridwidth": 2,
            "linecolor": "white",
            "showbackground": true,
            "ticks": "",
            "zerolinecolor": "white"
           },
           "yaxis": {
            "backgroundcolor": "#E5ECF6",
            "gridcolor": "white",
            "gridwidth": 2,
            "linecolor": "white",
            "showbackground": true,
            "ticks": "",
            "zerolinecolor": "white"
           },
           "zaxis": {
            "backgroundcolor": "#E5ECF6",
            "gridcolor": "white",
            "gridwidth": 2,
            "linecolor": "white",
            "showbackground": true,
            "ticks": "",
            "zerolinecolor": "white"
           }
          },
          "shapedefaults": {
           "line": {
            "color": "#2a3f5f"
           }
          },
          "ternary": {
           "aaxis": {
            "gridcolor": "white",
            "linecolor": "white",
            "ticks": ""
           },
           "baxis": {
            "gridcolor": "white",
            "linecolor": "white",
            "ticks": ""
           },
           "bgcolor": "#E5ECF6",
           "caxis": {
            "gridcolor": "white",
            "linecolor": "white",
            "ticks": ""
           }
          },
          "title": {
           "x": 0.05
          },
          "xaxis": {
           "automargin": true,
           "gridcolor": "white",
           "linecolor": "white",
           "ticks": "",
           "title": {
            "standoff": 15
           },
           "zerolinecolor": "white",
           "zerolinewidth": 2
          },
          "yaxis": {
           "automargin": true,
           "gridcolor": "white",
           "linecolor": "white",
           "ticks": "",
           "title": {
            "standoff": 15
           },
           "zerolinecolor": "white",
           "zerolinewidth": 2
          }
         }
        },
        "title": {
         "text": "Android Versions"
        }
       }
      },
      "text/html": [
       "<div>\n",
       "        \n",
       "        \n",
       "            <div id=\"e5ab390c-3249-4042-acfc-2b52d865bb35\" class=\"plotly-graph-div\" style=\"height:525px; width:100%;\"></div>\n",
       "            <script type=\"text/javascript\">\n",
       "                require([\"plotly\"], function(Plotly) {\n",
       "                    window.PLOTLYENV=window.PLOTLYENV || {};\n",
       "                    \n",
       "                if (document.getElementById(\"e5ab390c-3249-4042-acfc-2b52d865bb35\")) {\n",
       "                    Plotly.newPlot(\n",
       "                        'e5ab390c-3249-4042-acfc-2b52d865bb35',\n",
       "                        [{\"marker\": {\"color\": \"#a678de\"}, \"name\": \"Free\", \"type\": \"scatter\", \"x\": [\"1.0 and up\", \"1.5 and up\", \"1.6 and up\", \"2.0 and up\", \"2.0.1 and up\", \"2.1 and up\", \"2.2 - 7.1.1\", \"2.2 and up\", \"2.3 and up\", \"2.3.3 and up\", \"3.0 and up\", \"3.1 and up\", \"3.2 and up\", \"4.0 and up\", \"4.0.3 - 7.1.1\", \"4.0.3 and up\", \"4.1 - 7.1.1\", \"4.1 and up\", \"4.2 and up\", \"4.3 and up\", \"4.4 and up\", \"4.4W and up\", \"5.0 - 6.0\", \"5.0 - 7.1.1\", \"5.0 - 8.0\", \"5.0 and up\", \"5.1 and up\", \"6.0 and up\", \"7.0 and up\", \"7.1 and up\", \"8.0 and up\", \"Varies with device\"], \"y\": [1, 10, 41, 23, 2, 89, 1, 152, 472, 200, 148, 9, 22, 897, 2, 932, 1, 1658, 261, 167, 613, 5, 1, 1, 2, 354, 16, 39, 23, 2, 3, 856]}, {\"marker\": {\"color\": \"#6ad49b\"}, \"name\": \"Paid\", \"type\": \"scatter\", \"x\": [\"1.5 and up\", \"1.6 and up\", \"2.0 and up\", \"2.0.1 and up\", \"2.1 and up\", \"2.2 and up\", \"2.3 and up\", \"2.3.3 and up\", \"3.0 and up\", \"3.1 and up\", \"3.2 and up\", \"4.0 and up\", \"4.0.3 and up\", \"4.1 and up\", \"4.2 and up\", \"4.3 and up\", \"4.4 and up\", \"5.0 and up\", \"5.1 and up\", \"6.0 and up\", \"7.0 and up\", \"8.0 and up\", \"Varies with device\"], \"y\": [6, 21, 5, 5, 21, 36, 65, 26, 25, 1, 7, 66, 61, 89, 17, 10, 27, 24, 3, 4, 13, 1, 42]}],\n",
       "                        {\"template\": {\"data\": {\"bar\": [{\"error_x\": {\"color\": \"#2a3f5f\"}, \"error_y\": {\"color\": \"#2a3f5f\"}, \"marker\": {\"line\": {\"color\": \"#E5ECF6\", \"width\": 0.5}}, \"type\": \"bar\"}], \"barpolar\": [{\"marker\": {\"line\": {\"color\": \"#E5ECF6\", \"width\": 0.5}}, \"type\": \"barpolar\"}], \"carpet\": [{\"aaxis\": {\"endlinecolor\": \"#2a3f5f\", \"gridcolor\": \"white\", \"linecolor\": \"white\", \"minorgridcolor\": \"white\", \"startlinecolor\": \"#2a3f5f\"}, \"baxis\": {\"endlinecolor\": \"#2a3f5f\", \"gridcolor\": \"white\", \"linecolor\": \"white\", \"minorgridcolor\": \"white\", \"startlinecolor\": \"#2a3f5f\"}, \"type\": \"carpet\"}], \"choropleth\": [{\"colorbar\": {\"outlinewidth\": 0, \"ticks\": \"\"}, \"type\": \"choropleth\"}], \"contour\": [{\"colorbar\": {\"outlinewidth\": 0, \"ticks\": \"\"}, \"colorscale\": [[0.0, \"#0d0887\"], [0.1111111111111111, \"#46039f\"], [0.2222222222222222, \"#7201a8\"], [0.3333333333333333, \"#9c179e\"], [0.4444444444444444, \"#bd3786\"], [0.5555555555555556, \"#d8576b\"], [0.6666666666666666, \"#ed7953\"], [0.7777777777777778, \"#fb9f3a\"], [0.8888888888888888, \"#fdca26\"], [1.0, \"#f0f921\"]], \"type\": \"contour\"}], \"contourcarpet\": [{\"colorbar\": {\"outlinewidth\": 0, \"ticks\": \"\"}, \"type\": \"contourcarpet\"}], \"heatmap\": [{\"colorbar\": {\"outlinewidth\": 0, \"ticks\": \"\"}, \"colorscale\": [[0.0, \"#0d0887\"], [0.1111111111111111, \"#46039f\"], [0.2222222222222222, \"#7201a8\"], [0.3333333333333333, \"#9c179e\"], [0.4444444444444444, \"#bd3786\"], [0.5555555555555556, \"#d8576b\"], [0.6666666666666666, \"#ed7953\"], [0.7777777777777778, \"#fb9f3a\"], [0.8888888888888888, \"#fdca26\"], [1.0, \"#f0f921\"]], \"type\": \"heatmap\"}], \"heatmapgl\": [{\"colorbar\": {\"outlinewidth\": 0, \"ticks\": \"\"}, \"colorscale\": [[0.0, \"#0d0887\"], [0.1111111111111111, \"#46039f\"], [0.2222222222222222, \"#7201a8\"], [0.3333333333333333, \"#9c179e\"], [0.4444444444444444, \"#bd3786\"], [0.5555555555555556, \"#d8576b\"], [0.6666666666666666, \"#ed7953\"], [0.7777777777777778, \"#fb9f3a\"], [0.8888888888888888, \"#fdca26\"], [1.0, \"#f0f921\"]], \"type\": \"heatmapgl\"}], \"histogram\": [{\"marker\": {\"colorbar\": {\"outlinewidth\": 0, \"ticks\": \"\"}}, \"type\": \"histogram\"}], \"histogram2d\": [{\"colorbar\": {\"outlinewidth\": 0, \"ticks\": \"\"}, \"colorscale\": [[0.0, \"#0d0887\"], [0.1111111111111111, \"#46039f\"], [0.2222222222222222, \"#7201a8\"], [0.3333333333333333, \"#9c179e\"], [0.4444444444444444, \"#bd3786\"], [0.5555555555555556, \"#d8576b\"], [0.6666666666666666, \"#ed7953\"], [0.7777777777777778, \"#fb9f3a\"], [0.8888888888888888, \"#fdca26\"], [1.0, \"#f0f921\"]], \"type\": \"histogram2d\"}], \"histogram2dcontour\": [{\"colorbar\": {\"outlinewidth\": 0, \"ticks\": \"\"}, \"colorscale\": [[0.0, \"#0d0887\"], [0.1111111111111111, \"#46039f\"], [0.2222222222222222, \"#7201a8\"], [0.3333333333333333, \"#9c179e\"], [0.4444444444444444, \"#bd3786\"], [0.5555555555555556, \"#d8576b\"], [0.6666666666666666, \"#ed7953\"], [0.7777777777777778, \"#fb9f3a\"], [0.8888888888888888, \"#fdca26\"], [1.0, \"#f0f921\"]], \"type\": \"histogram2dcontour\"}], \"mesh3d\": [{\"colorbar\": {\"outlinewidth\": 0, \"ticks\": \"\"}, \"type\": \"mesh3d\"}], \"parcoords\": [{\"line\": {\"colorbar\": {\"outlinewidth\": 0, \"ticks\": \"\"}}, \"type\": \"parcoords\"}], \"pie\": [{\"automargin\": true, \"type\": \"pie\"}], \"scatter\": [{\"marker\": {\"colorbar\": {\"outlinewidth\": 0, \"ticks\": \"\"}}, \"type\": \"scatter\"}], \"scatter3d\": [{\"line\": {\"colorbar\": {\"outlinewidth\": 0, \"ticks\": \"\"}}, \"marker\": {\"colorbar\": {\"outlinewidth\": 0, \"ticks\": \"\"}}, \"type\": \"scatter3d\"}], \"scattercarpet\": [{\"marker\": {\"colorbar\": {\"outlinewidth\": 0, \"ticks\": \"\"}}, \"type\": \"scattercarpet\"}], \"scattergeo\": [{\"marker\": {\"colorbar\": {\"outlinewidth\": 0, \"ticks\": \"\"}}, \"type\": \"scattergeo\"}], \"scattergl\": [{\"marker\": {\"colorbar\": {\"outlinewidth\": 0, \"ticks\": \"\"}}, \"type\": \"scattergl\"}], \"scattermapbox\": [{\"marker\": {\"colorbar\": {\"outlinewidth\": 0, \"ticks\": \"\"}}, \"type\": \"scattermapbox\"}], \"scatterpolar\": [{\"marker\": {\"colorbar\": {\"outlinewidth\": 0, \"ticks\": \"\"}}, \"type\": \"scatterpolar\"}], \"scatterpolargl\": [{\"marker\": {\"colorbar\": {\"outlinewidth\": 0, \"ticks\": \"\"}}, \"type\": \"scatterpolargl\"}], \"scatterternary\": [{\"marker\": {\"colorbar\": {\"outlinewidth\": 0, \"ticks\": \"\"}}, \"type\": \"scatterternary\"}], \"surface\": [{\"colorbar\": {\"outlinewidth\": 0, \"ticks\": \"\"}, \"colorscale\": [[0.0, \"#0d0887\"], [0.1111111111111111, \"#46039f\"], [0.2222222222222222, \"#7201a8\"], [0.3333333333333333, \"#9c179e\"], [0.4444444444444444, \"#bd3786\"], [0.5555555555555556, \"#d8576b\"], [0.6666666666666666, \"#ed7953\"], [0.7777777777777778, \"#fb9f3a\"], [0.8888888888888888, \"#fdca26\"], [1.0, \"#f0f921\"]], \"type\": \"surface\"}], \"table\": [{\"cells\": {\"fill\": {\"color\": \"#EBF0F8\"}, \"line\": {\"color\": \"white\"}}, \"header\": {\"fill\": {\"color\": \"#C8D4E3\"}, \"line\": {\"color\": \"white\"}}, \"type\": \"table\"}]}, \"layout\": {\"annotationdefaults\": {\"arrowcolor\": \"#2a3f5f\", \"arrowhead\": 0, \"arrowwidth\": 1}, \"coloraxis\": {\"colorbar\": {\"outlinewidth\": 0, \"ticks\": \"\"}}, \"colorscale\": {\"diverging\": [[0, \"#8e0152\"], [0.1, \"#c51b7d\"], [0.2, \"#de77ae\"], [0.3, \"#f1b6da\"], [0.4, \"#fde0ef\"], [0.5, \"#f7f7f7\"], [0.6, \"#e6f5d0\"], [0.7, \"#b8e186\"], [0.8, \"#7fbc41\"], [0.9, \"#4d9221\"], [1, \"#276419\"]], \"sequential\": [[0.0, \"#0d0887\"], [0.1111111111111111, \"#46039f\"], [0.2222222222222222, \"#7201a8\"], [0.3333333333333333, \"#9c179e\"], [0.4444444444444444, \"#bd3786\"], [0.5555555555555556, \"#d8576b\"], [0.6666666666666666, \"#ed7953\"], [0.7777777777777778, \"#fb9f3a\"], [0.8888888888888888, \"#fdca26\"], [1.0, \"#f0f921\"]], \"sequentialminus\": [[0.0, \"#0d0887\"], [0.1111111111111111, \"#46039f\"], [0.2222222222222222, \"#7201a8\"], [0.3333333333333333, \"#9c179e\"], [0.4444444444444444, \"#bd3786\"], [0.5555555555555556, \"#d8576b\"], [0.6666666666666666, \"#ed7953\"], [0.7777777777777778, \"#fb9f3a\"], [0.8888888888888888, \"#fdca26\"], [1.0, \"#f0f921\"]]}, \"colorway\": [\"#636efa\", \"#EF553B\", \"#00cc96\", \"#ab63fa\", \"#FFA15A\", \"#19d3f3\", \"#FF6692\", \"#B6E880\", \"#FF97FF\", \"#FECB52\"], \"font\": {\"color\": \"#2a3f5f\"}, \"geo\": {\"bgcolor\": \"white\", \"lakecolor\": \"white\", \"landcolor\": \"#E5ECF6\", \"showlakes\": true, \"showland\": true, \"subunitcolor\": \"white\"}, \"hoverlabel\": {\"align\": \"left\"}, \"hovermode\": \"closest\", \"mapbox\": {\"style\": \"light\"}, \"paper_bgcolor\": \"white\", \"plot_bgcolor\": \"#E5ECF6\", \"polar\": {\"angularaxis\": {\"gridcolor\": \"white\", \"linecolor\": \"white\", \"ticks\": \"\"}, \"bgcolor\": \"#E5ECF6\", \"radialaxis\": {\"gridcolor\": \"white\", \"linecolor\": \"white\", \"ticks\": \"\"}}, \"scene\": {\"xaxis\": {\"backgroundcolor\": \"#E5ECF6\", \"gridcolor\": \"white\", \"gridwidth\": 2, \"linecolor\": \"white\", \"showbackground\": true, \"ticks\": \"\", \"zerolinecolor\": \"white\"}, \"yaxis\": {\"backgroundcolor\": \"#E5ECF6\", \"gridcolor\": \"white\", \"gridwidth\": 2, \"linecolor\": \"white\", \"showbackground\": true, \"ticks\": \"\", \"zerolinecolor\": \"white\"}, \"zaxis\": {\"backgroundcolor\": \"#E5ECF6\", \"gridcolor\": \"white\", \"gridwidth\": 2, \"linecolor\": \"white\", \"showbackground\": true, \"ticks\": \"\", \"zerolinecolor\": \"white\"}}, \"shapedefaults\": {\"line\": {\"color\": \"#2a3f5f\"}}, \"ternary\": {\"aaxis\": {\"gridcolor\": \"white\", \"linecolor\": \"white\", \"ticks\": \"\"}, \"baxis\": {\"gridcolor\": \"white\", \"linecolor\": \"white\", \"ticks\": \"\"}, \"bgcolor\": \"#E5ECF6\", \"caxis\": {\"gridcolor\": \"white\", \"linecolor\": \"white\", \"ticks\": \"\"}}, \"title\": {\"x\": 0.05}, \"xaxis\": {\"automargin\": true, \"gridcolor\": \"white\", \"linecolor\": \"white\", \"ticks\": \"\", \"title\": {\"standoff\": 15}, \"zerolinecolor\": \"white\", \"zerolinewidth\": 2}, \"yaxis\": {\"automargin\": true, \"gridcolor\": \"white\", \"linecolor\": \"white\", \"ticks\": \"\", \"title\": {\"standoff\": 15}, \"zerolinecolor\": \"white\", \"zerolinewidth\": 2}}}, \"title\": {\"text\": \"Android Versions\"}},\n",
       "                        {\"responsive\": true}\n",
       "                    ).then(function(){\n",
       "                            \n",
       "var gd = document.getElementById('e5ab390c-3249-4042-acfc-2b52d865bb35');\n",
       "var x = new MutationObserver(function (mutations, observer) {{\n",
       "        var display = window.getComputedStyle(gd).display;\n",
       "        if (!display || display === 'none') {{\n",
       "            console.log([gd, 'removed!']);\n",
       "            Plotly.purge(gd);\n",
       "            observer.disconnect();\n",
       "        }}\n",
       "}});\n",
       "\n",
       "// Listen for the removal of the full notebook cells\n",
       "var notebookContainer = gd.closest('#notebook-container');\n",
       "if (notebookContainer) {{\n",
       "    x.observe(notebookContainer, {childList: true});\n",
       "}}\n",
       "\n",
       "// Listen for the clearing of the current output cell\n",
       "var outputEl = gd.closest('.output');\n",
       "if (outputEl) {{\n",
       "    x.observe(outputEl, {childList: true});\n",
       "}}\n",
       "\n",
       "                        })\n",
       "                };\n",
       "                });\n",
       "            </script>\n",
       "        </div>"
      ]
     },
     "metadata": {},
     "output_type": "display_data"
    }
   ],
   "source": [
    "col='Android Ver'\n",
    "v1=d1[col].value_counts().reset_index()\n",
    "v1=v1.rename(columns={col:'count','index':col})\n",
    "v1['percent']=v1['count'].apply(lambda x : 100*x/sum(v1['count']))\n",
    "v1=v1.sort_values(col)\n",
    "v2=d2[col].value_counts().reset_index()\n",
    "v2=v2.rename(columns={col:'count','index':col})\n",
    "v2['percent']=v2['count'].apply(lambda x : 100*x/sum(v2['count']))\n",
    "v2=v2.sort_values(col)\n",
    "trace1 = go.Scatter(x=v1[col], y=v1[\"count\"], name=\"Free\", marker=dict(color=\"#a678de\"))\n",
    "trace2 = go.Scatter(x=v2[col], y=v2[\"count\"], name=\"Paid\", marker=dict(color=\"#6ad49b\"))\n",
    "y = [trace1, trace2]\n",
    "layout={'title':\"Android Versions\"}\n",
    "fig = go.Figure(data=y, layout=layout)\n",
    "py.offline.iplot(fig)"
   ]
  },
  {
   "cell_type": "code",
   "execution_count": 40,
   "metadata": {},
   "outputs": [
    {
     "data": {
      "application/vnd.plotly.v1+json": {
       "config": {
        "linkText": "Export to plot.ly",
        "plotlyServerURL": "https://plot.ly",
        "showLink": false
       },
       "data": [
        {
         "marker": {
          "color": "#a678de"
         },
         "name": "Free",
         "type": "scatter",
         "x": [
          0,
          1,
          5,
          10,
          50,
          100,
          500,
          1000,
          5000,
          10000,
          50000,
          100000,
          500000,
          1000000,
          5000000,
          10000000,
          50000000,
          100000000,
          500000000,
          1000000000
         ],
         "y": [
          2,
          30,
          45,
          209,
          106,
          410,
          201,
          510,
          268,
          603,
          274,
          678,
          329,
          1050,
          548,
          976,
          268,
          383,
          65,
          48
         ]
        },
        {
         "marker": {
          "color": "#6ad49b"
         },
         "name": "Paid",
         "type": "scatter",
         "x": [
          0,
          1,
          5,
          10,
          50,
          100,
          500,
          1000,
          5000,
          10000,
          50000,
          100000,
          500000,
          1000000,
          10000000
         ],
         "y": [
          7,
          16,
          9,
          48,
          24,
          74,
          28,
          94,
          44,
          90,
          31,
          74,
          10,
          23,
          3
         ]
        }
       ],
       "layout": {
        "template": {
         "data": {
          "bar": [
           {
            "error_x": {
             "color": "#2a3f5f"
            },
            "error_y": {
             "color": "#2a3f5f"
            },
            "marker": {
             "line": {
              "color": "#E5ECF6",
              "width": 0.5
             }
            },
            "type": "bar"
           }
          ],
          "barpolar": [
           {
            "marker": {
             "line": {
              "color": "#E5ECF6",
              "width": 0.5
             }
            },
            "type": "barpolar"
           }
          ],
          "carpet": [
           {
            "aaxis": {
             "endlinecolor": "#2a3f5f",
             "gridcolor": "white",
             "linecolor": "white",
             "minorgridcolor": "white",
             "startlinecolor": "#2a3f5f"
            },
            "baxis": {
             "endlinecolor": "#2a3f5f",
             "gridcolor": "white",
             "linecolor": "white",
             "minorgridcolor": "white",
             "startlinecolor": "#2a3f5f"
            },
            "type": "carpet"
           }
          ],
          "choropleth": [
           {
            "colorbar": {
             "outlinewidth": 0,
             "ticks": ""
            },
            "type": "choropleth"
           }
          ],
          "contour": [
           {
            "colorbar": {
             "outlinewidth": 0,
             "ticks": ""
            },
            "colorscale": [
             [
              0,
              "#0d0887"
             ],
             [
              0.1111111111111111,
              "#46039f"
             ],
             [
              0.2222222222222222,
              "#7201a8"
             ],
             [
              0.3333333333333333,
              "#9c179e"
             ],
             [
              0.4444444444444444,
              "#bd3786"
             ],
             [
              0.5555555555555556,
              "#d8576b"
             ],
             [
              0.6666666666666666,
              "#ed7953"
             ],
             [
              0.7777777777777778,
              "#fb9f3a"
             ],
             [
              0.8888888888888888,
              "#fdca26"
             ],
             [
              1,
              "#f0f921"
             ]
            ],
            "type": "contour"
           }
          ],
          "contourcarpet": [
           {
            "colorbar": {
             "outlinewidth": 0,
             "ticks": ""
            },
            "type": "contourcarpet"
           }
          ],
          "heatmap": [
           {
            "colorbar": {
             "outlinewidth": 0,
             "ticks": ""
            },
            "colorscale": [
             [
              0,
              "#0d0887"
             ],
             [
              0.1111111111111111,
              "#46039f"
             ],
             [
              0.2222222222222222,
              "#7201a8"
             ],
             [
              0.3333333333333333,
              "#9c179e"
             ],
             [
              0.4444444444444444,
              "#bd3786"
             ],
             [
              0.5555555555555556,
              "#d8576b"
             ],
             [
              0.6666666666666666,
              "#ed7953"
             ],
             [
              0.7777777777777778,
              "#fb9f3a"
             ],
             [
              0.8888888888888888,
              "#fdca26"
             ],
             [
              1,
              "#f0f921"
             ]
            ],
            "type": "heatmap"
           }
          ],
          "heatmapgl": [
           {
            "colorbar": {
             "outlinewidth": 0,
             "ticks": ""
            },
            "colorscale": [
             [
              0,
              "#0d0887"
             ],
             [
              0.1111111111111111,
              "#46039f"
             ],
             [
              0.2222222222222222,
              "#7201a8"
             ],
             [
              0.3333333333333333,
              "#9c179e"
             ],
             [
              0.4444444444444444,
              "#bd3786"
             ],
             [
              0.5555555555555556,
              "#d8576b"
             ],
             [
              0.6666666666666666,
              "#ed7953"
             ],
             [
              0.7777777777777778,
              "#fb9f3a"
             ],
             [
              0.8888888888888888,
              "#fdca26"
             ],
             [
              1,
              "#f0f921"
             ]
            ],
            "type": "heatmapgl"
           }
          ],
          "histogram": [
           {
            "marker": {
             "colorbar": {
              "outlinewidth": 0,
              "ticks": ""
             }
            },
            "type": "histogram"
           }
          ],
          "histogram2d": [
           {
            "colorbar": {
             "outlinewidth": 0,
             "ticks": ""
            },
            "colorscale": [
             [
              0,
              "#0d0887"
             ],
             [
              0.1111111111111111,
              "#46039f"
             ],
             [
              0.2222222222222222,
              "#7201a8"
             ],
             [
              0.3333333333333333,
              "#9c179e"
             ],
             [
              0.4444444444444444,
              "#bd3786"
             ],
             [
              0.5555555555555556,
              "#d8576b"
             ],
             [
              0.6666666666666666,
              "#ed7953"
             ],
             [
              0.7777777777777778,
              "#fb9f3a"
             ],
             [
              0.8888888888888888,
              "#fdca26"
             ],
             [
              1,
              "#f0f921"
             ]
            ],
            "type": "histogram2d"
           }
          ],
          "histogram2dcontour": [
           {
            "colorbar": {
             "outlinewidth": 0,
             "ticks": ""
            },
            "colorscale": [
             [
              0,
              "#0d0887"
             ],
             [
              0.1111111111111111,
              "#46039f"
             ],
             [
              0.2222222222222222,
              "#7201a8"
             ],
             [
              0.3333333333333333,
              "#9c179e"
             ],
             [
              0.4444444444444444,
              "#bd3786"
             ],
             [
              0.5555555555555556,
              "#d8576b"
             ],
             [
              0.6666666666666666,
              "#ed7953"
             ],
             [
              0.7777777777777778,
              "#fb9f3a"
             ],
             [
              0.8888888888888888,
              "#fdca26"
             ],
             [
              1,
              "#f0f921"
             ]
            ],
            "type": "histogram2dcontour"
           }
          ],
          "mesh3d": [
           {
            "colorbar": {
             "outlinewidth": 0,
             "ticks": ""
            },
            "type": "mesh3d"
           }
          ],
          "parcoords": [
           {
            "line": {
             "colorbar": {
              "outlinewidth": 0,
              "ticks": ""
             }
            },
            "type": "parcoords"
           }
          ],
          "pie": [
           {
            "automargin": true,
            "type": "pie"
           }
          ],
          "scatter": [
           {
            "marker": {
             "colorbar": {
              "outlinewidth": 0,
              "ticks": ""
             }
            },
            "type": "scatter"
           }
          ],
          "scatter3d": [
           {
            "line": {
             "colorbar": {
              "outlinewidth": 0,
              "ticks": ""
             }
            },
            "marker": {
             "colorbar": {
              "outlinewidth": 0,
              "ticks": ""
             }
            },
            "type": "scatter3d"
           }
          ],
          "scattercarpet": [
           {
            "marker": {
             "colorbar": {
              "outlinewidth": 0,
              "ticks": ""
             }
            },
            "type": "scattercarpet"
           }
          ],
          "scattergeo": [
           {
            "marker": {
             "colorbar": {
              "outlinewidth": 0,
              "ticks": ""
             }
            },
            "type": "scattergeo"
           }
          ],
          "scattergl": [
           {
            "marker": {
             "colorbar": {
              "outlinewidth": 0,
              "ticks": ""
             }
            },
            "type": "scattergl"
           }
          ],
          "scattermapbox": [
           {
            "marker": {
             "colorbar": {
              "outlinewidth": 0,
              "ticks": ""
             }
            },
            "type": "scattermapbox"
           }
          ],
          "scatterpolar": [
           {
            "marker": {
             "colorbar": {
              "outlinewidth": 0,
              "ticks": ""
             }
            },
            "type": "scatterpolar"
           }
          ],
          "scatterpolargl": [
           {
            "marker": {
             "colorbar": {
              "outlinewidth": 0,
              "ticks": ""
             }
            },
            "type": "scatterpolargl"
           }
          ],
          "scatterternary": [
           {
            "marker": {
             "colorbar": {
              "outlinewidth": 0,
              "ticks": ""
             }
            },
            "type": "scatterternary"
           }
          ],
          "surface": [
           {
            "colorbar": {
             "outlinewidth": 0,
             "ticks": ""
            },
            "colorscale": [
             [
              0,
              "#0d0887"
             ],
             [
              0.1111111111111111,
              "#46039f"
             ],
             [
              0.2222222222222222,
              "#7201a8"
             ],
             [
              0.3333333333333333,
              "#9c179e"
             ],
             [
              0.4444444444444444,
              "#bd3786"
             ],
             [
              0.5555555555555556,
              "#d8576b"
             ],
             [
              0.6666666666666666,
              "#ed7953"
             ],
             [
              0.7777777777777778,
              "#fb9f3a"
             ],
             [
              0.8888888888888888,
              "#fdca26"
             ],
             [
              1,
              "#f0f921"
             ]
            ],
            "type": "surface"
           }
          ],
          "table": [
           {
            "cells": {
             "fill": {
              "color": "#EBF0F8"
             },
             "line": {
              "color": "white"
             }
            },
            "header": {
             "fill": {
              "color": "#C8D4E3"
             },
             "line": {
              "color": "white"
             }
            },
            "type": "table"
           }
          ]
         },
         "layout": {
          "annotationdefaults": {
           "arrowcolor": "#2a3f5f",
           "arrowhead": 0,
           "arrowwidth": 1
          },
          "coloraxis": {
           "colorbar": {
            "outlinewidth": 0,
            "ticks": ""
           }
          },
          "colorscale": {
           "diverging": [
            [
             0,
             "#8e0152"
            ],
            [
             0.1,
             "#c51b7d"
            ],
            [
             0.2,
             "#de77ae"
            ],
            [
             0.3,
             "#f1b6da"
            ],
            [
             0.4,
             "#fde0ef"
            ],
            [
             0.5,
             "#f7f7f7"
            ],
            [
             0.6,
             "#e6f5d0"
            ],
            [
             0.7,
             "#b8e186"
            ],
            [
             0.8,
             "#7fbc41"
            ],
            [
             0.9,
             "#4d9221"
            ],
            [
             1,
             "#276419"
            ]
           ],
           "sequential": [
            [
             0,
             "#0d0887"
            ],
            [
             0.1111111111111111,
             "#46039f"
            ],
            [
             0.2222222222222222,
             "#7201a8"
            ],
            [
             0.3333333333333333,
             "#9c179e"
            ],
            [
             0.4444444444444444,
             "#bd3786"
            ],
            [
             0.5555555555555556,
             "#d8576b"
            ],
            [
             0.6666666666666666,
             "#ed7953"
            ],
            [
             0.7777777777777778,
             "#fb9f3a"
            ],
            [
             0.8888888888888888,
             "#fdca26"
            ],
            [
             1,
             "#f0f921"
            ]
           ],
           "sequentialminus": [
            [
             0,
             "#0d0887"
            ],
            [
             0.1111111111111111,
             "#46039f"
            ],
            [
             0.2222222222222222,
             "#7201a8"
            ],
            [
             0.3333333333333333,
             "#9c179e"
            ],
            [
             0.4444444444444444,
             "#bd3786"
            ],
            [
             0.5555555555555556,
             "#d8576b"
            ],
            [
             0.6666666666666666,
             "#ed7953"
            ],
            [
             0.7777777777777778,
             "#fb9f3a"
            ],
            [
             0.8888888888888888,
             "#fdca26"
            ],
            [
             1,
             "#f0f921"
            ]
           ]
          },
          "colorway": [
           "#636efa",
           "#EF553B",
           "#00cc96",
           "#ab63fa",
           "#FFA15A",
           "#19d3f3",
           "#FF6692",
           "#B6E880",
           "#FF97FF",
           "#FECB52"
          ],
          "font": {
           "color": "#2a3f5f"
          },
          "geo": {
           "bgcolor": "white",
           "lakecolor": "white",
           "landcolor": "#E5ECF6",
           "showlakes": true,
           "showland": true,
           "subunitcolor": "white"
          },
          "hoverlabel": {
           "align": "left"
          },
          "hovermode": "closest",
          "mapbox": {
           "style": "light"
          },
          "paper_bgcolor": "white",
          "plot_bgcolor": "#E5ECF6",
          "polar": {
           "angularaxis": {
            "gridcolor": "white",
            "linecolor": "white",
            "ticks": ""
           },
           "bgcolor": "#E5ECF6",
           "radialaxis": {
            "gridcolor": "white",
            "linecolor": "white",
            "ticks": ""
           }
          },
          "scene": {
           "xaxis": {
            "backgroundcolor": "#E5ECF6",
            "gridcolor": "white",
            "gridwidth": 2,
            "linecolor": "white",
            "showbackground": true,
            "ticks": "",
            "zerolinecolor": "white"
           },
           "yaxis": {
            "backgroundcolor": "#E5ECF6",
            "gridcolor": "white",
            "gridwidth": 2,
            "linecolor": "white",
            "showbackground": true,
            "ticks": "",
            "zerolinecolor": "white"
           },
           "zaxis": {
            "backgroundcolor": "#E5ECF6",
            "gridcolor": "white",
            "gridwidth": 2,
            "linecolor": "white",
            "showbackground": true,
            "ticks": "",
            "zerolinecolor": "white"
           }
          },
          "shapedefaults": {
           "line": {
            "color": "#2a3f5f"
           }
          },
          "ternary": {
           "aaxis": {
            "gridcolor": "white",
            "linecolor": "white",
            "ticks": ""
           },
           "baxis": {
            "gridcolor": "white",
            "linecolor": "white",
            "ticks": ""
           },
           "bgcolor": "#E5ECF6",
           "caxis": {
            "gridcolor": "white",
            "linecolor": "white",
            "ticks": ""
           }
          },
          "title": {
           "x": 0.05
          },
          "xaxis": {
           "automargin": true,
           "gridcolor": "white",
           "linecolor": "white",
           "ticks": "",
           "title": {
            "standoff": 15
           },
           "zerolinecolor": "white",
           "zerolinewidth": 2
          },
          "yaxis": {
           "automargin": true,
           "gridcolor": "white",
           "linecolor": "white",
           "ticks": "",
           "title": {
            "standoff": 15
           },
           "zerolinecolor": "white",
           "zerolinewidth": 2
          }
         }
        },
        "title": {
         "text": "Installed App "
        },
        "xaxis": {
         "title": {
          "text": "Installs"
         }
        }
       }
      },
      "text/html": [
       "<div>\n",
       "        \n",
       "        \n",
       "            <div id=\"739d5daf-ae35-4127-985f-671c27529e5f\" class=\"plotly-graph-div\" style=\"height:525px; width:100%;\"></div>\n",
       "            <script type=\"text/javascript\">\n",
       "                require([\"plotly\"], function(Plotly) {\n",
       "                    window.PLOTLYENV=window.PLOTLYENV || {};\n",
       "                    \n",
       "                if (document.getElementById(\"739d5daf-ae35-4127-985f-671c27529e5f\")) {\n",
       "                    Plotly.newPlot(\n",
       "                        '739d5daf-ae35-4127-985f-671c27529e5f',\n",
       "                        [{\"marker\": {\"color\": \"#a678de\"}, \"name\": \"Free\", \"type\": \"scatter\", \"x\": [0, 1, 5, 10, 50, 100, 500, 1000, 5000, 10000, 50000, 100000, 500000, 1000000, 5000000, 10000000, 50000000, 100000000, 500000000, 1000000000], \"y\": [2, 30, 45, 209, 106, 410, 201, 510, 268, 603, 274, 678, 329, 1050, 548, 976, 268, 383, 65, 48]}, {\"marker\": {\"color\": \"#6ad49b\"}, \"name\": \"Paid\", \"type\": \"scatter\", \"x\": [0, 1, 5, 10, 50, 100, 500, 1000, 5000, 10000, 50000, 100000, 500000, 1000000, 10000000], \"y\": [7, 16, 9, 48, 24, 74, 28, 94, 44, 90, 31, 74, 10, 23, 3]}],\n",
       "                        {\"template\": {\"data\": {\"bar\": [{\"error_x\": {\"color\": \"#2a3f5f\"}, \"error_y\": {\"color\": \"#2a3f5f\"}, \"marker\": {\"line\": {\"color\": \"#E5ECF6\", \"width\": 0.5}}, \"type\": \"bar\"}], \"barpolar\": [{\"marker\": {\"line\": {\"color\": \"#E5ECF6\", \"width\": 0.5}}, \"type\": \"barpolar\"}], \"carpet\": [{\"aaxis\": {\"endlinecolor\": \"#2a3f5f\", \"gridcolor\": \"white\", \"linecolor\": \"white\", \"minorgridcolor\": \"white\", \"startlinecolor\": \"#2a3f5f\"}, \"baxis\": {\"endlinecolor\": \"#2a3f5f\", \"gridcolor\": \"white\", \"linecolor\": \"white\", \"minorgridcolor\": \"white\", \"startlinecolor\": \"#2a3f5f\"}, \"type\": \"carpet\"}], \"choropleth\": [{\"colorbar\": {\"outlinewidth\": 0, \"ticks\": \"\"}, \"type\": \"choropleth\"}], \"contour\": [{\"colorbar\": {\"outlinewidth\": 0, \"ticks\": \"\"}, \"colorscale\": [[0.0, \"#0d0887\"], [0.1111111111111111, \"#46039f\"], [0.2222222222222222, \"#7201a8\"], [0.3333333333333333, \"#9c179e\"], [0.4444444444444444, \"#bd3786\"], [0.5555555555555556, \"#d8576b\"], [0.6666666666666666, \"#ed7953\"], [0.7777777777777778, \"#fb9f3a\"], [0.8888888888888888, \"#fdca26\"], [1.0, \"#f0f921\"]], \"type\": \"contour\"}], \"contourcarpet\": [{\"colorbar\": {\"outlinewidth\": 0, \"ticks\": \"\"}, \"type\": \"contourcarpet\"}], \"heatmap\": [{\"colorbar\": {\"outlinewidth\": 0, \"ticks\": \"\"}, \"colorscale\": [[0.0, \"#0d0887\"], [0.1111111111111111, \"#46039f\"], [0.2222222222222222, \"#7201a8\"], [0.3333333333333333, \"#9c179e\"], [0.4444444444444444, \"#bd3786\"], [0.5555555555555556, \"#d8576b\"], [0.6666666666666666, \"#ed7953\"], [0.7777777777777778, \"#fb9f3a\"], [0.8888888888888888, \"#fdca26\"], [1.0, \"#f0f921\"]], \"type\": \"heatmap\"}], \"heatmapgl\": [{\"colorbar\": {\"outlinewidth\": 0, \"ticks\": \"\"}, \"colorscale\": [[0.0, \"#0d0887\"], [0.1111111111111111, \"#46039f\"], [0.2222222222222222, \"#7201a8\"], [0.3333333333333333, \"#9c179e\"], [0.4444444444444444, \"#bd3786\"], [0.5555555555555556, \"#d8576b\"], [0.6666666666666666, \"#ed7953\"], [0.7777777777777778, \"#fb9f3a\"], [0.8888888888888888, \"#fdca26\"], [1.0, \"#f0f921\"]], \"type\": \"heatmapgl\"}], \"histogram\": [{\"marker\": {\"colorbar\": {\"outlinewidth\": 0, \"ticks\": \"\"}}, \"type\": \"histogram\"}], \"histogram2d\": [{\"colorbar\": {\"outlinewidth\": 0, \"ticks\": \"\"}, \"colorscale\": [[0.0, \"#0d0887\"], [0.1111111111111111, \"#46039f\"], [0.2222222222222222, \"#7201a8\"], [0.3333333333333333, \"#9c179e\"], [0.4444444444444444, \"#bd3786\"], [0.5555555555555556, \"#d8576b\"], [0.6666666666666666, \"#ed7953\"], [0.7777777777777778, \"#fb9f3a\"], [0.8888888888888888, \"#fdca26\"], [1.0, \"#f0f921\"]], \"type\": \"histogram2d\"}], \"histogram2dcontour\": [{\"colorbar\": {\"outlinewidth\": 0, \"ticks\": \"\"}, \"colorscale\": [[0.0, \"#0d0887\"], [0.1111111111111111, \"#46039f\"], [0.2222222222222222, \"#7201a8\"], [0.3333333333333333, \"#9c179e\"], [0.4444444444444444, \"#bd3786\"], [0.5555555555555556, \"#d8576b\"], [0.6666666666666666, \"#ed7953\"], [0.7777777777777778, \"#fb9f3a\"], [0.8888888888888888, \"#fdca26\"], [1.0, \"#f0f921\"]], \"type\": \"histogram2dcontour\"}], \"mesh3d\": [{\"colorbar\": {\"outlinewidth\": 0, \"ticks\": \"\"}, \"type\": \"mesh3d\"}], \"parcoords\": [{\"line\": {\"colorbar\": {\"outlinewidth\": 0, \"ticks\": \"\"}}, \"type\": \"parcoords\"}], \"pie\": [{\"automargin\": true, \"type\": \"pie\"}], \"scatter\": [{\"marker\": {\"colorbar\": {\"outlinewidth\": 0, \"ticks\": \"\"}}, \"type\": \"scatter\"}], \"scatter3d\": [{\"line\": {\"colorbar\": {\"outlinewidth\": 0, \"ticks\": \"\"}}, \"marker\": {\"colorbar\": {\"outlinewidth\": 0, \"ticks\": \"\"}}, \"type\": \"scatter3d\"}], \"scattercarpet\": [{\"marker\": {\"colorbar\": {\"outlinewidth\": 0, \"ticks\": \"\"}}, \"type\": \"scattercarpet\"}], \"scattergeo\": [{\"marker\": {\"colorbar\": {\"outlinewidth\": 0, \"ticks\": \"\"}}, \"type\": \"scattergeo\"}], \"scattergl\": [{\"marker\": {\"colorbar\": {\"outlinewidth\": 0, \"ticks\": \"\"}}, \"type\": \"scattergl\"}], \"scattermapbox\": [{\"marker\": {\"colorbar\": {\"outlinewidth\": 0, \"ticks\": \"\"}}, \"type\": \"scattermapbox\"}], \"scatterpolar\": [{\"marker\": {\"colorbar\": {\"outlinewidth\": 0, \"ticks\": \"\"}}, \"type\": \"scatterpolar\"}], \"scatterpolargl\": [{\"marker\": {\"colorbar\": {\"outlinewidth\": 0, \"ticks\": \"\"}}, \"type\": \"scatterpolargl\"}], \"scatterternary\": [{\"marker\": {\"colorbar\": {\"outlinewidth\": 0, \"ticks\": \"\"}}, \"type\": \"scatterternary\"}], \"surface\": [{\"colorbar\": {\"outlinewidth\": 0, \"ticks\": \"\"}, \"colorscale\": [[0.0, \"#0d0887\"], [0.1111111111111111, \"#46039f\"], [0.2222222222222222, \"#7201a8\"], [0.3333333333333333, \"#9c179e\"], [0.4444444444444444, \"#bd3786\"], [0.5555555555555556, \"#d8576b\"], [0.6666666666666666, \"#ed7953\"], [0.7777777777777778, \"#fb9f3a\"], [0.8888888888888888, \"#fdca26\"], [1.0, \"#f0f921\"]], \"type\": \"surface\"}], \"table\": [{\"cells\": {\"fill\": {\"color\": \"#EBF0F8\"}, \"line\": {\"color\": \"white\"}}, \"header\": {\"fill\": {\"color\": \"#C8D4E3\"}, \"line\": {\"color\": \"white\"}}, \"type\": \"table\"}]}, \"layout\": {\"annotationdefaults\": {\"arrowcolor\": \"#2a3f5f\", \"arrowhead\": 0, \"arrowwidth\": 1}, \"coloraxis\": {\"colorbar\": {\"outlinewidth\": 0, \"ticks\": \"\"}}, \"colorscale\": {\"diverging\": [[0, \"#8e0152\"], [0.1, \"#c51b7d\"], [0.2, \"#de77ae\"], [0.3, \"#f1b6da\"], [0.4, \"#fde0ef\"], [0.5, \"#f7f7f7\"], [0.6, \"#e6f5d0\"], [0.7, \"#b8e186\"], [0.8, \"#7fbc41\"], [0.9, \"#4d9221\"], [1, \"#276419\"]], \"sequential\": [[0.0, \"#0d0887\"], [0.1111111111111111, \"#46039f\"], [0.2222222222222222, \"#7201a8\"], [0.3333333333333333, \"#9c179e\"], [0.4444444444444444, \"#bd3786\"], [0.5555555555555556, \"#d8576b\"], [0.6666666666666666, \"#ed7953\"], [0.7777777777777778, \"#fb9f3a\"], [0.8888888888888888, \"#fdca26\"], [1.0, \"#f0f921\"]], \"sequentialminus\": [[0.0, \"#0d0887\"], [0.1111111111111111, \"#46039f\"], [0.2222222222222222, \"#7201a8\"], [0.3333333333333333, \"#9c179e\"], [0.4444444444444444, \"#bd3786\"], [0.5555555555555556, \"#d8576b\"], [0.6666666666666666, \"#ed7953\"], [0.7777777777777778, \"#fb9f3a\"], [0.8888888888888888, \"#fdca26\"], [1.0, \"#f0f921\"]]}, \"colorway\": [\"#636efa\", \"#EF553B\", \"#00cc96\", \"#ab63fa\", \"#FFA15A\", \"#19d3f3\", \"#FF6692\", \"#B6E880\", \"#FF97FF\", \"#FECB52\"], \"font\": {\"color\": \"#2a3f5f\"}, \"geo\": {\"bgcolor\": \"white\", \"lakecolor\": \"white\", \"landcolor\": \"#E5ECF6\", \"showlakes\": true, \"showland\": true, \"subunitcolor\": \"white\"}, \"hoverlabel\": {\"align\": \"left\"}, \"hovermode\": \"closest\", \"mapbox\": {\"style\": \"light\"}, \"paper_bgcolor\": \"white\", \"plot_bgcolor\": \"#E5ECF6\", \"polar\": {\"angularaxis\": {\"gridcolor\": \"white\", \"linecolor\": \"white\", \"ticks\": \"\"}, \"bgcolor\": \"#E5ECF6\", \"radialaxis\": {\"gridcolor\": \"white\", \"linecolor\": \"white\", \"ticks\": \"\"}}, \"scene\": {\"xaxis\": {\"backgroundcolor\": \"#E5ECF6\", \"gridcolor\": \"white\", \"gridwidth\": 2, \"linecolor\": \"white\", \"showbackground\": true, \"ticks\": \"\", \"zerolinecolor\": \"white\"}, \"yaxis\": {\"backgroundcolor\": \"#E5ECF6\", \"gridcolor\": \"white\", \"gridwidth\": 2, \"linecolor\": \"white\", \"showbackground\": true, \"ticks\": \"\", \"zerolinecolor\": \"white\"}, \"zaxis\": {\"backgroundcolor\": \"#E5ECF6\", \"gridcolor\": \"white\", \"gridwidth\": 2, \"linecolor\": \"white\", \"showbackground\": true, \"ticks\": \"\", \"zerolinecolor\": \"white\"}}, \"shapedefaults\": {\"line\": {\"color\": \"#2a3f5f\"}}, \"ternary\": {\"aaxis\": {\"gridcolor\": \"white\", \"linecolor\": \"white\", \"ticks\": \"\"}, \"baxis\": {\"gridcolor\": \"white\", \"linecolor\": \"white\", \"ticks\": \"\"}, \"bgcolor\": \"#E5ECF6\", \"caxis\": {\"gridcolor\": \"white\", \"linecolor\": \"white\", \"ticks\": \"\"}}, \"title\": {\"x\": 0.05}, \"xaxis\": {\"automargin\": true, \"gridcolor\": \"white\", \"linecolor\": \"white\", \"ticks\": \"\", \"title\": {\"standoff\": 15}, \"zerolinecolor\": \"white\", \"zerolinewidth\": 2}, \"yaxis\": {\"automargin\": true, \"gridcolor\": \"white\", \"linecolor\": \"white\", \"ticks\": \"\", \"title\": {\"standoff\": 15}, \"zerolinecolor\": \"white\", \"zerolinewidth\": 2}}}, \"title\": {\"text\": \"Installed App \"}, \"xaxis\": {\"title\": {\"text\": \"Installs\"}}},\n",
       "                        {\"responsive\": true}\n",
       "                    ).then(function(){\n",
       "                            \n",
       "var gd = document.getElementById('739d5daf-ae35-4127-985f-671c27529e5f');\n",
       "var x = new MutationObserver(function (mutations, observer) {{\n",
       "        var display = window.getComputedStyle(gd).display;\n",
       "        if (!display || display === 'none') {{\n",
       "            console.log([gd, 'removed!']);\n",
       "            Plotly.purge(gd);\n",
       "            observer.disconnect();\n",
       "        }}\n",
       "}});\n",
       "\n",
       "// Listen for the removal of the full notebook cells\n",
       "var notebookContainer = gd.closest('#notebook-container');\n",
       "if (notebookContainer) {{\n",
       "    x.observe(notebookContainer, {childList: true});\n",
       "}}\n",
       "\n",
       "// Listen for the clearing of the current output cell\n",
       "var outputEl = gd.closest('.output');\n",
       "if (outputEl) {{\n",
       "    x.observe(outputEl, {childList: true});\n",
       "}}\n",
       "\n",
       "                        })\n",
       "                };\n",
       "                });\n",
       "            </script>\n",
       "        </div>"
      ]
     },
     "metadata": {},
     "output_type": "display_data"
    }
   ],
   "source": [
    "col='Installs'\n",
    "v1=d1[col].value_counts().reset_index()\n",
    "v1=v1.rename(columns={col:'count','index':col})\n",
    "v1['percent']=v1['count'].apply(lambda x : 100*x/sum(v1['count']))\n",
    "v1=v1.sort_values(col)\n",
    "v2=d2[col].value_counts().reset_index()\n",
    "v2=v2.rename(columns={col:'count','index':col})\n",
    "v2['percent']=v2['count'].apply(lambda x : 100*x/sum(v2['count']))\n",
    "v2=v2.sort_values(col)\n",
    "trace1 = go.Scatter(x=v1[col], y=v1[\"count\"], name=\"Free\", marker=dict(color=\"#a678de\"))\n",
    "trace2 = go.Scatter(x=v2[col], y=v2[\"count\"], name=\"Paid\", marker=dict(color=\"#6ad49b\"))\n",
    "y = [trace1, trace2]\n",
    "layout={'title':\"Installed App \",'xaxis':{'title':\"Installs\"}}\n",
    "fig = go.Figure(data=y, layout=layout)\n",
    "py.offline.iplot(fig)"
   ]
  },
  {
   "cell_type": "code",
   "execution_count": 41,
   "metadata": {},
   "outputs": [],
   "source": [
    "#By ovserving the above plot highest installs of the apps are crossing the 1M than 10M than 100k, \n",
    "#very less app are crossing the 500M and dream install 1B . some apps like Instagram,\n",
    "#Youtoube, Facebook Whtsapp etc are crossing the dream installs 1B."
   ]
  },
  {
   "cell_type": "code",
   "execution_count": 42,
   "metadata": {},
   "outputs": [],
   "source": [
    "d3=data[data['Rating']==4.5]\n",
    "d4=data[data['Rating']==4]"
   ]
  },
  {
   "cell_type": "code",
   "execution_count": 43,
   "metadata": {},
   "outputs": [
    {
     "data": {
      "application/vnd.plotly.v1+json": {
       "config": {
        "linkText": "Export to plot.ly",
        "plotlyServerURL": "https://plot.ly",
        "showLink": false
       },
       "data": [
        {
         "marker": {
          "color": "#6ad49b"
         },
         "name": "rating = 4.5",
         "type": "bar",
         "x": [
          "Adults only 18+",
          "Everyone",
          "Everyone 10+",
          "Mature 17+",
          "Teen"
         ],
         "y": [
          1,
          559,
          46,
          22,
          109
         ]
        },
        {
         "name": "rating = 4",
         "type": "bar",
         "x": [
          "Everyone",
          "Everyone 10+",
          "Mature 17+",
          "Teen"
         ],
         "y": [
          298,
          16,
          19,
          68
         ]
        }
       ],
       "layout": {
        "template": {
         "data": {
          "bar": [
           {
            "error_x": {
             "color": "#2a3f5f"
            },
            "error_y": {
             "color": "#2a3f5f"
            },
            "marker": {
             "line": {
              "color": "#E5ECF6",
              "width": 0.5
             }
            },
            "type": "bar"
           }
          ],
          "barpolar": [
           {
            "marker": {
             "line": {
              "color": "#E5ECF6",
              "width": 0.5
             }
            },
            "type": "barpolar"
           }
          ],
          "carpet": [
           {
            "aaxis": {
             "endlinecolor": "#2a3f5f",
             "gridcolor": "white",
             "linecolor": "white",
             "minorgridcolor": "white",
             "startlinecolor": "#2a3f5f"
            },
            "baxis": {
             "endlinecolor": "#2a3f5f",
             "gridcolor": "white",
             "linecolor": "white",
             "minorgridcolor": "white",
             "startlinecolor": "#2a3f5f"
            },
            "type": "carpet"
           }
          ],
          "choropleth": [
           {
            "colorbar": {
             "outlinewidth": 0,
             "ticks": ""
            },
            "type": "choropleth"
           }
          ],
          "contour": [
           {
            "colorbar": {
             "outlinewidth": 0,
             "ticks": ""
            },
            "colorscale": [
             [
              0,
              "#0d0887"
             ],
             [
              0.1111111111111111,
              "#46039f"
             ],
             [
              0.2222222222222222,
              "#7201a8"
             ],
             [
              0.3333333333333333,
              "#9c179e"
             ],
             [
              0.4444444444444444,
              "#bd3786"
             ],
             [
              0.5555555555555556,
              "#d8576b"
             ],
             [
              0.6666666666666666,
              "#ed7953"
             ],
             [
              0.7777777777777778,
              "#fb9f3a"
             ],
             [
              0.8888888888888888,
              "#fdca26"
             ],
             [
              1,
              "#f0f921"
             ]
            ],
            "type": "contour"
           }
          ],
          "contourcarpet": [
           {
            "colorbar": {
             "outlinewidth": 0,
             "ticks": ""
            },
            "type": "contourcarpet"
           }
          ],
          "heatmap": [
           {
            "colorbar": {
             "outlinewidth": 0,
             "ticks": ""
            },
            "colorscale": [
             [
              0,
              "#0d0887"
             ],
             [
              0.1111111111111111,
              "#46039f"
             ],
             [
              0.2222222222222222,
              "#7201a8"
             ],
             [
              0.3333333333333333,
              "#9c179e"
             ],
             [
              0.4444444444444444,
              "#bd3786"
             ],
             [
              0.5555555555555556,
              "#d8576b"
             ],
             [
              0.6666666666666666,
              "#ed7953"
             ],
             [
              0.7777777777777778,
              "#fb9f3a"
             ],
             [
              0.8888888888888888,
              "#fdca26"
             ],
             [
              1,
              "#f0f921"
             ]
            ],
            "type": "heatmap"
           }
          ],
          "heatmapgl": [
           {
            "colorbar": {
             "outlinewidth": 0,
             "ticks": ""
            },
            "colorscale": [
             [
              0,
              "#0d0887"
             ],
             [
              0.1111111111111111,
              "#46039f"
             ],
             [
              0.2222222222222222,
              "#7201a8"
             ],
             [
              0.3333333333333333,
              "#9c179e"
             ],
             [
              0.4444444444444444,
              "#bd3786"
             ],
             [
              0.5555555555555556,
              "#d8576b"
             ],
             [
              0.6666666666666666,
              "#ed7953"
             ],
             [
              0.7777777777777778,
              "#fb9f3a"
             ],
             [
              0.8888888888888888,
              "#fdca26"
             ],
             [
              1,
              "#f0f921"
             ]
            ],
            "type": "heatmapgl"
           }
          ],
          "histogram": [
           {
            "marker": {
             "colorbar": {
              "outlinewidth": 0,
              "ticks": ""
             }
            },
            "type": "histogram"
           }
          ],
          "histogram2d": [
           {
            "colorbar": {
             "outlinewidth": 0,
             "ticks": ""
            },
            "colorscale": [
             [
              0,
              "#0d0887"
             ],
             [
              0.1111111111111111,
              "#46039f"
             ],
             [
              0.2222222222222222,
              "#7201a8"
             ],
             [
              0.3333333333333333,
              "#9c179e"
             ],
             [
              0.4444444444444444,
              "#bd3786"
             ],
             [
              0.5555555555555556,
              "#d8576b"
             ],
             [
              0.6666666666666666,
              "#ed7953"
             ],
             [
              0.7777777777777778,
              "#fb9f3a"
             ],
             [
              0.8888888888888888,
              "#fdca26"
             ],
             [
              1,
              "#f0f921"
             ]
            ],
            "type": "histogram2d"
           }
          ],
          "histogram2dcontour": [
           {
            "colorbar": {
             "outlinewidth": 0,
             "ticks": ""
            },
            "colorscale": [
             [
              0,
              "#0d0887"
             ],
             [
              0.1111111111111111,
              "#46039f"
             ],
             [
              0.2222222222222222,
              "#7201a8"
             ],
             [
              0.3333333333333333,
              "#9c179e"
             ],
             [
              0.4444444444444444,
              "#bd3786"
             ],
             [
              0.5555555555555556,
              "#d8576b"
             ],
             [
              0.6666666666666666,
              "#ed7953"
             ],
             [
              0.7777777777777778,
              "#fb9f3a"
             ],
             [
              0.8888888888888888,
              "#fdca26"
             ],
             [
              1,
              "#f0f921"
             ]
            ],
            "type": "histogram2dcontour"
           }
          ],
          "mesh3d": [
           {
            "colorbar": {
             "outlinewidth": 0,
             "ticks": ""
            },
            "type": "mesh3d"
           }
          ],
          "parcoords": [
           {
            "line": {
             "colorbar": {
              "outlinewidth": 0,
              "ticks": ""
             }
            },
            "type": "parcoords"
           }
          ],
          "pie": [
           {
            "automargin": true,
            "type": "pie"
           }
          ],
          "scatter": [
           {
            "marker": {
             "colorbar": {
              "outlinewidth": 0,
              "ticks": ""
             }
            },
            "type": "scatter"
           }
          ],
          "scatter3d": [
           {
            "line": {
             "colorbar": {
              "outlinewidth": 0,
              "ticks": ""
             }
            },
            "marker": {
             "colorbar": {
              "outlinewidth": 0,
              "ticks": ""
             }
            },
            "type": "scatter3d"
           }
          ],
          "scattercarpet": [
           {
            "marker": {
             "colorbar": {
              "outlinewidth": 0,
              "ticks": ""
             }
            },
            "type": "scattercarpet"
           }
          ],
          "scattergeo": [
           {
            "marker": {
             "colorbar": {
              "outlinewidth": 0,
              "ticks": ""
             }
            },
            "type": "scattergeo"
           }
          ],
          "scattergl": [
           {
            "marker": {
             "colorbar": {
              "outlinewidth": 0,
              "ticks": ""
             }
            },
            "type": "scattergl"
           }
          ],
          "scattermapbox": [
           {
            "marker": {
             "colorbar": {
              "outlinewidth": 0,
              "ticks": ""
             }
            },
            "type": "scattermapbox"
           }
          ],
          "scatterpolar": [
           {
            "marker": {
             "colorbar": {
              "outlinewidth": 0,
              "ticks": ""
             }
            },
            "type": "scatterpolar"
           }
          ],
          "scatterpolargl": [
           {
            "marker": {
             "colorbar": {
              "outlinewidth": 0,
              "ticks": ""
             }
            },
            "type": "scatterpolargl"
           }
          ],
          "scatterternary": [
           {
            "marker": {
             "colorbar": {
              "outlinewidth": 0,
              "ticks": ""
             }
            },
            "type": "scatterternary"
           }
          ],
          "surface": [
           {
            "colorbar": {
             "outlinewidth": 0,
             "ticks": ""
            },
            "colorscale": [
             [
              0,
              "#0d0887"
             ],
             [
              0.1111111111111111,
              "#46039f"
             ],
             [
              0.2222222222222222,
              "#7201a8"
             ],
             [
              0.3333333333333333,
              "#9c179e"
             ],
             [
              0.4444444444444444,
              "#bd3786"
             ],
             [
              0.5555555555555556,
              "#d8576b"
             ],
             [
              0.6666666666666666,
              "#ed7953"
             ],
             [
              0.7777777777777778,
              "#fb9f3a"
             ],
             [
              0.8888888888888888,
              "#fdca26"
             ],
             [
              1,
              "#f0f921"
             ]
            ],
            "type": "surface"
           }
          ],
          "table": [
           {
            "cells": {
             "fill": {
              "color": "#EBF0F8"
             },
             "line": {
              "color": "white"
             }
            },
            "header": {
             "fill": {
              "color": "#C8D4E3"
             },
             "line": {
              "color": "white"
             }
            },
            "type": "table"
           }
          ]
         },
         "layout": {
          "annotationdefaults": {
           "arrowcolor": "#2a3f5f",
           "arrowhead": 0,
           "arrowwidth": 1
          },
          "coloraxis": {
           "colorbar": {
            "outlinewidth": 0,
            "ticks": ""
           }
          },
          "colorscale": {
           "diverging": [
            [
             0,
             "#8e0152"
            ],
            [
             0.1,
             "#c51b7d"
            ],
            [
             0.2,
             "#de77ae"
            ],
            [
             0.3,
             "#f1b6da"
            ],
            [
             0.4,
             "#fde0ef"
            ],
            [
             0.5,
             "#f7f7f7"
            ],
            [
             0.6,
             "#e6f5d0"
            ],
            [
             0.7,
             "#b8e186"
            ],
            [
             0.8,
             "#7fbc41"
            ],
            [
             0.9,
             "#4d9221"
            ],
            [
             1,
             "#276419"
            ]
           ],
           "sequential": [
            [
             0,
             "#0d0887"
            ],
            [
             0.1111111111111111,
             "#46039f"
            ],
            [
             0.2222222222222222,
             "#7201a8"
            ],
            [
             0.3333333333333333,
             "#9c179e"
            ],
            [
             0.4444444444444444,
             "#bd3786"
            ],
            [
             0.5555555555555556,
             "#d8576b"
            ],
            [
             0.6666666666666666,
             "#ed7953"
            ],
            [
             0.7777777777777778,
             "#fb9f3a"
            ],
            [
             0.8888888888888888,
             "#fdca26"
            ],
            [
             1,
             "#f0f921"
            ]
           ],
           "sequentialminus": [
            [
             0,
             "#0d0887"
            ],
            [
             0.1111111111111111,
             "#46039f"
            ],
            [
             0.2222222222222222,
             "#7201a8"
            ],
            [
             0.3333333333333333,
             "#9c179e"
            ],
            [
             0.4444444444444444,
             "#bd3786"
            ],
            [
             0.5555555555555556,
             "#d8576b"
            ],
            [
             0.6666666666666666,
             "#ed7953"
            ],
            [
             0.7777777777777778,
             "#fb9f3a"
            ],
            [
             0.8888888888888888,
             "#fdca26"
            ],
            [
             1,
             "#f0f921"
            ]
           ]
          },
          "colorway": [
           "#636efa",
           "#EF553B",
           "#00cc96",
           "#ab63fa",
           "#FFA15A",
           "#19d3f3",
           "#FF6692",
           "#B6E880",
           "#FF97FF",
           "#FECB52"
          ],
          "font": {
           "color": "#2a3f5f"
          },
          "geo": {
           "bgcolor": "white",
           "lakecolor": "white",
           "landcolor": "#E5ECF6",
           "showlakes": true,
           "showland": true,
           "subunitcolor": "white"
          },
          "hoverlabel": {
           "align": "left"
          },
          "hovermode": "closest",
          "mapbox": {
           "style": "light"
          },
          "paper_bgcolor": "white",
          "plot_bgcolor": "#E5ECF6",
          "polar": {
           "angularaxis": {
            "gridcolor": "white",
            "linecolor": "white",
            "ticks": ""
           },
           "bgcolor": "#E5ECF6",
           "radialaxis": {
            "gridcolor": "white",
            "linecolor": "white",
            "ticks": ""
           }
          },
          "scene": {
           "xaxis": {
            "backgroundcolor": "#E5ECF6",
            "gridcolor": "white",
            "gridwidth": 2,
            "linecolor": "white",
            "showbackground": true,
            "ticks": "",
            "zerolinecolor": "white"
           },
           "yaxis": {
            "backgroundcolor": "#E5ECF6",
            "gridcolor": "white",
            "gridwidth": 2,
            "linecolor": "white",
            "showbackground": true,
            "ticks": "",
            "zerolinecolor": "white"
           },
           "zaxis": {
            "backgroundcolor": "#E5ECF6",
            "gridcolor": "white",
            "gridwidth": 2,
            "linecolor": "white",
            "showbackground": true,
            "ticks": "",
            "zerolinecolor": "white"
           }
          },
          "shapedefaults": {
           "line": {
            "color": "#2a3f5f"
           }
          },
          "ternary": {
           "aaxis": {
            "gridcolor": "white",
            "linecolor": "white",
            "ticks": ""
           },
           "baxis": {
            "gridcolor": "white",
            "linecolor": "white",
            "ticks": ""
           },
           "bgcolor": "#E5ECF6",
           "caxis": {
            "gridcolor": "white",
            "linecolor": "white",
            "ticks": ""
           }
          },
          "title": {
           "x": 0.05
          },
          "xaxis": {
           "automargin": true,
           "gridcolor": "white",
           "linecolor": "white",
           "ticks": "",
           "title": {
            "standoff": 15
           },
           "zerolinecolor": "white",
           "zerolinewidth": 2
          },
          "yaxis": {
           "automargin": true,
           "gridcolor": "white",
           "linecolor": "white",
           "ticks": "",
           "title": {
            "standoff": 15
           },
           "zerolinecolor": "white",
           "zerolinewidth": 2
          }
         }
        },
        "title": {
         "text": "Rating over the contents"
        },
        "xaxis": {
         "title": {
          "text": "Content Rating"
         }
        }
       }
      },
      "text/html": [
       "<div>\n",
       "        \n",
       "        \n",
       "            <div id=\"d157af1c-0b5d-41e8-9317-6cf5824d91ce\" class=\"plotly-graph-div\" style=\"height:525px; width:100%;\"></div>\n",
       "            <script type=\"text/javascript\">\n",
       "                require([\"plotly\"], function(Plotly) {\n",
       "                    window.PLOTLYENV=window.PLOTLYENV || {};\n",
       "                    \n",
       "                if (document.getElementById(\"d157af1c-0b5d-41e8-9317-6cf5824d91ce\")) {\n",
       "                    Plotly.newPlot(\n",
       "                        'd157af1c-0b5d-41e8-9317-6cf5824d91ce',\n",
       "                        [{\"marker\": {\"color\": \"#6ad49b\"}, \"name\": \"rating = 4.5\", \"type\": \"bar\", \"x\": [\"Adults only 18+\", \"Everyone\", \"Everyone 10+\", \"Mature 17+\", \"Teen\"], \"y\": [1, 559, 46, 22, 109]}, {\"name\": \"rating = 4\", \"type\": \"bar\", \"x\": [\"Everyone\", \"Everyone 10+\", \"Mature 17+\", \"Teen\"], \"y\": [298, 16, 19, 68]}],\n",
       "                        {\"template\": {\"data\": {\"bar\": [{\"error_x\": {\"color\": \"#2a3f5f\"}, \"error_y\": {\"color\": \"#2a3f5f\"}, \"marker\": {\"line\": {\"color\": \"#E5ECF6\", \"width\": 0.5}}, \"type\": \"bar\"}], \"barpolar\": [{\"marker\": {\"line\": {\"color\": \"#E5ECF6\", \"width\": 0.5}}, \"type\": \"barpolar\"}], \"carpet\": [{\"aaxis\": {\"endlinecolor\": \"#2a3f5f\", \"gridcolor\": \"white\", \"linecolor\": \"white\", \"minorgridcolor\": \"white\", \"startlinecolor\": \"#2a3f5f\"}, \"baxis\": {\"endlinecolor\": \"#2a3f5f\", \"gridcolor\": \"white\", \"linecolor\": \"white\", \"minorgridcolor\": \"white\", \"startlinecolor\": \"#2a3f5f\"}, \"type\": \"carpet\"}], \"choropleth\": [{\"colorbar\": {\"outlinewidth\": 0, \"ticks\": \"\"}, \"type\": \"choropleth\"}], \"contour\": [{\"colorbar\": {\"outlinewidth\": 0, \"ticks\": \"\"}, \"colorscale\": [[0.0, \"#0d0887\"], [0.1111111111111111, \"#46039f\"], [0.2222222222222222, \"#7201a8\"], [0.3333333333333333, \"#9c179e\"], [0.4444444444444444, \"#bd3786\"], [0.5555555555555556, \"#d8576b\"], [0.6666666666666666, \"#ed7953\"], [0.7777777777777778, \"#fb9f3a\"], [0.8888888888888888, \"#fdca26\"], [1.0, \"#f0f921\"]], \"type\": \"contour\"}], \"contourcarpet\": [{\"colorbar\": {\"outlinewidth\": 0, \"ticks\": \"\"}, \"type\": \"contourcarpet\"}], \"heatmap\": [{\"colorbar\": {\"outlinewidth\": 0, \"ticks\": \"\"}, \"colorscale\": [[0.0, \"#0d0887\"], [0.1111111111111111, \"#46039f\"], [0.2222222222222222, \"#7201a8\"], [0.3333333333333333, \"#9c179e\"], [0.4444444444444444, \"#bd3786\"], [0.5555555555555556, \"#d8576b\"], [0.6666666666666666, \"#ed7953\"], [0.7777777777777778, \"#fb9f3a\"], [0.8888888888888888, \"#fdca26\"], [1.0, \"#f0f921\"]], \"type\": \"heatmap\"}], \"heatmapgl\": [{\"colorbar\": {\"outlinewidth\": 0, \"ticks\": \"\"}, \"colorscale\": [[0.0, \"#0d0887\"], [0.1111111111111111, \"#46039f\"], [0.2222222222222222, \"#7201a8\"], [0.3333333333333333, \"#9c179e\"], [0.4444444444444444, \"#bd3786\"], [0.5555555555555556, \"#d8576b\"], [0.6666666666666666, \"#ed7953\"], [0.7777777777777778, \"#fb9f3a\"], [0.8888888888888888, \"#fdca26\"], [1.0, \"#f0f921\"]], \"type\": \"heatmapgl\"}], \"histogram\": [{\"marker\": {\"colorbar\": {\"outlinewidth\": 0, \"ticks\": \"\"}}, \"type\": \"histogram\"}], \"histogram2d\": [{\"colorbar\": {\"outlinewidth\": 0, \"ticks\": \"\"}, \"colorscale\": [[0.0, \"#0d0887\"], [0.1111111111111111, \"#46039f\"], [0.2222222222222222, \"#7201a8\"], [0.3333333333333333, \"#9c179e\"], [0.4444444444444444, \"#bd3786\"], [0.5555555555555556, \"#d8576b\"], [0.6666666666666666, \"#ed7953\"], [0.7777777777777778, \"#fb9f3a\"], [0.8888888888888888, \"#fdca26\"], [1.0, \"#f0f921\"]], \"type\": \"histogram2d\"}], \"histogram2dcontour\": [{\"colorbar\": {\"outlinewidth\": 0, \"ticks\": \"\"}, \"colorscale\": [[0.0, \"#0d0887\"], [0.1111111111111111, \"#46039f\"], [0.2222222222222222, \"#7201a8\"], [0.3333333333333333, \"#9c179e\"], [0.4444444444444444, \"#bd3786\"], [0.5555555555555556, \"#d8576b\"], [0.6666666666666666, \"#ed7953\"], [0.7777777777777778, \"#fb9f3a\"], [0.8888888888888888, \"#fdca26\"], [1.0, \"#f0f921\"]], \"type\": \"histogram2dcontour\"}], \"mesh3d\": [{\"colorbar\": {\"outlinewidth\": 0, \"ticks\": \"\"}, \"type\": \"mesh3d\"}], \"parcoords\": [{\"line\": {\"colorbar\": {\"outlinewidth\": 0, \"ticks\": \"\"}}, \"type\": \"parcoords\"}], \"pie\": [{\"automargin\": true, \"type\": \"pie\"}], \"scatter\": [{\"marker\": {\"colorbar\": {\"outlinewidth\": 0, \"ticks\": \"\"}}, \"type\": \"scatter\"}], \"scatter3d\": [{\"line\": {\"colorbar\": {\"outlinewidth\": 0, \"ticks\": \"\"}}, \"marker\": {\"colorbar\": {\"outlinewidth\": 0, \"ticks\": \"\"}}, \"type\": \"scatter3d\"}], \"scattercarpet\": [{\"marker\": {\"colorbar\": {\"outlinewidth\": 0, \"ticks\": \"\"}}, \"type\": \"scattercarpet\"}], \"scattergeo\": [{\"marker\": {\"colorbar\": {\"outlinewidth\": 0, \"ticks\": \"\"}}, \"type\": \"scattergeo\"}], \"scattergl\": [{\"marker\": {\"colorbar\": {\"outlinewidth\": 0, \"ticks\": \"\"}}, \"type\": \"scattergl\"}], \"scattermapbox\": [{\"marker\": {\"colorbar\": {\"outlinewidth\": 0, \"ticks\": \"\"}}, \"type\": \"scattermapbox\"}], \"scatterpolar\": [{\"marker\": {\"colorbar\": {\"outlinewidth\": 0, \"ticks\": \"\"}}, \"type\": \"scatterpolar\"}], \"scatterpolargl\": [{\"marker\": {\"colorbar\": {\"outlinewidth\": 0, \"ticks\": \"\"}}, \"type\": \"scatterpolargl\"}], \"scatterternary\": [{\"marker\": {\"colorbar\": {\"outlinewidth\": 0, \"ticks\": \"\"}}, \"type\": \"scatterternary\"}], \"surface\": [{\"colorbar\": {\"outlinewidth\": 0, \"ticks\": \"\"}, \"colorscale\": [[0.0, \"#0d0887\"], [0.1111111111111111, \"#46039f\"], [0.2222222222222222, \"#7201a8\"], [0.3333333333333333, \"#9c179e\"], [0.4444444444444444, \"#bd3786\"], [0.5555555555555556, \"#d8576b\"], [0.6666666666666666, \"#ed7953\"], [0.7777777777777778, \"#fb9f3a\"], [0.8888888888888888, \"#fdca26\"], [1.0, \"#f0f921\"]], \"type\": \"surface\"}], \"table\": [{\"cells\": {\"fill\": {\"color\": \"#EBF0F8\"}, \"line\": {\"color\": \"white\"}}, \"header\": {\"fill\": {\"color\": \"#C8D4E3\"}, \"line\": {\"color\": \"white\"}}, \"type\": \"table\"}]}, \"layout\": {\"annotationdefaults\": {\"arrowcolor\": \"#2a3f5f\", \"arrowhead\": 0, \"arrowwidth\": 1}, \"coloraxis\": {\"colorbar\": {\"outlinewidth\": 0, \"ticks\": \"\"}}, \"colorscale\": {\"diverging\": [[0, \"#8e0152\"], [0.1, \"#c51b7d\"], [0.2, \"#de77ae\"], [0.3, \"#f1b6da\"], [0.4, \"#fde0ef\"], [0.5, \"#f7f7f7\"], [0.6, \"#e6f5d0\"], [0.7, \"#b8e186\"], [0.8, \"#7fbc41\"], [0.9, \"#4d9221\"], [1, \"#276419\"]], \"sequential\": [[0.0, \"#0d0887\"], [0.1111111111111111, \"#46039f\"], [0.2222222222222222, \"#7201a8\"], [0.3333333333333333, \"#9c179e\"], [0.4444444444444444, \"#bd3786\"], [0.5555555555555556, \"#d8576b\"], [0.6666666666666666, \"#ed7953\"], [0.7777777777777778, \"#fb9f3a\"], [0.8888888888888888, \"#fdca26\"], [1.0, \"#f0f921\"]], \"sequentialminus\": [[0.0, \"#0d0887\"], [0.1111111111111111, \"#46039f\"], [0.2222222222222222, \"#7201a8\"], [0.3333333333333333, \"#9c179e\"], [0.4444444444444444, \"#bd3786\"], [0.5555555555555556, \"#d8576b\"], [0.6666666666666666, \"#ed7953\"], [0.7777777777777778, \"#fb9f3a\"], [0.8888888888888888, \"#fdca26\"], [1.0, \"#f0f921\"]]}, \"colorway\": [\"#636efa\", \"#EF553B\", \"#00cc96\", \"#ab63fa\", \"#FFA15A\", \"#19d3f3\", \"#FF6692\", \"#B6E880\", \"#FF97FF\", \"#FECB52\"], \"font\": {\"color\": \"#2a3f5f\"}, \"geo\": {\"bgcolor\": \"white\", \"lakecolor\": \"white\", \"landcolor\": \"#E5ECF6\", \"showlakes\": true, \"showland\": true, \"subunitcolor\": \"white\"}, \"hoverlabel\": {\"align\": \"left\"}, \"hovermode\": \"closest\", \"mapbox\": {\"style\": \"light\"}, \"paper_bgcolor\": \"white\", \"plot_bgcolor\": \"#E5ECF6\", \"polar\": {\"angularaxis\": {\"gridcolor\": \"white\", \"linecolor\": \"white\", \"ticks\": \"\"}, \"bgcolor\": \"#E5ECF6\", \"radialaxis\": {\"gridcolor\": \"white\", \"linecolor\": \"white\", \"ticks\": \"\"}}, \"scene\": {\"xaxis\": {\"backgroundcolor\": \"#E5ECF6\", \"gridcolor\": \"white\", \"gridwidth\": 2, \"linecolor\": \"white\", \"showbackground\": true, \"ticks\": \"\", \"zerolinecolor\": \"white\"}, \"yaxis\": {\"backgroundcolor\": \"#E5ECF6\", \"gridcolor\": \"white\", \"gridwidth\": 2, \"linecolor\": \"white\", \"showbackground\": true, \"ticks\": \"\", \"zerolinecolor\": \"white\"}, \"zaxis\": {\"backgroundcolor\": \"#E5ECF6\", \"gridcolor\": \"white\", \"gridwidth\": 2, \"linecolor\": \"white\", \"showbackground\": true, \"ticks\": \"\", \"zerolinecolor\": \"white\"}}, \"shapedefaults\": {\"line\": {\"color\": \"#2a3f5f\"}}, \"ternary\": {\"aaxis\": {\"gridcolor\": \"white\", \"linecolor\": \"white\", \"ticks\": \"\"}, \"baxis\": {\"gridcolor\": \"white\", \"linecolor\": \"white\", \"ticks\": \"\"}, \"bgcolor\": \"#E5ECF6\", \"caxis\": {\"gridcolor\": \"white\", \"linecolor\": \"white\", \"ticks\": \"\"}}, \"title\": {\"x\": 0.05}, \"xaxis\": {\"automargin\": true, \"gridcolor\": \"white\", \"linecolor\": \"white\", \"ticks\": \"\", \"title\": {\"standoff\": 15}, \"zerolinecolor\": \"white\", \"zerolinewidth\": 2}, \"yaxis\": {\"automargin\": true, \"gridcolor\": \"white\", \"linecolor\": \"white\", \"ticks\": \"\", \"title\": {\"standoff\": 15}, \"zerolinecolor\": \"white\", \"zerolinewidth\": 2}}}, \"title\": {\"text\": \"Rating over the contents\"}, \"xaxis\": {\"title\": {\"text\": \"Content Rating\"}}},\n",
       "                        {\"responsive\": true}\n",
       "                    ).then(function(){\n",
       "                            \n",
       "var gd = document.getElementById('d157af1c-0b5d-41e8-9317-6cf5824d91ce');\n",
       "var x = new MutationObserver(function (mutations, observer) {{\n",
       "        var display = window.getComputedStyle(gd).display;\n",
       "        if (!display || display === 'none') {{\n",
       "            console.log([gd, 'removed!']);\n",
       "            Plotly.purge(gd);\n",
       "            observer.disconnect();\n",
       "        }}\n",
       "}});\n",
       "\n",
       "// Listen for the removal of the full notebook cells\n",
       "var notebookContainer = gd.closest('#notebook-container');\n",
       "if (notebookContainer) {{\n",
       "    x.observe(notebookContainer, {childList: true});\n",
       "}}\n",
       "\n",
       "// Listen for the clearing of the current output cell\n",
       "var outputEl = gd.closest('.output');\n",
       "if (outputEl) {{\n",
       "    x.observe(outputEl, {childList: true});\n",
       "}}\n",
       "\n",
       "                        })\n",
       "                };\n",
       "                });\n",
       "            </script>\n",
       "        </div>"
      ]
     },
     "metadata": {},
     "output_type": "display_data"
    }
   ],
   "source": [
    "col='Content Rating'\n",
    "v1=d3[col].value_counts().reset_index()\n",
    "v1=v1.rename(columns={col:'count','index':col})\n",
    "v1['percent']=v1['count'].apply(lambda x : 100*x/sum(v1['count']))\n",
    "v1=v1.sort_values(col)\n",
    "v2=d4[col].value_counts().reset_index()\n",
    "v2=v2.rename(columns={col:'count','index':col})\n",
    "v2['percent']=v2['count'].apply(lambda x : 100*x/sum(v2['count']))\n",
    "v2=v2.sort_values(col)\n",
    "trace1 = go.Bar(x=v1[col], y=v1[\"count\"], name=\"rating = 4.5\", marker=dict(color=\"#6ad49b\"))\n",
    "trace2 = go.Bar(x=v2[col], y=v2[\"count\"], name=\"rating = 4\", marker=dict())\n",
    "y = [trace1, trace2]\n",
    "layout={'title':\"Rating over the contents\",'xaxis':{'title':\"Content Rating\"}}\n",
    "fig = go.Figure(data=y, layout=layout)\n",
    "py.offline.iplot(fig)"
   ]
  },
  {
   "cell_type": "code",
   "execution_count": 44,
   "metadata": {},
   "outputs": [
    {
     "data": {
      "application/vnd.plotly.v1+json": {
       "config": {
        "linkText": "Export to plot.ly",
        "plotlyServerURL": "https://plot.ly",
        "showLink": false
       },
       "data": [
        {
         "marker": {
          "color": "#a678de"
         },
         "name": "rating = 4.5",
         "type": "scatter",
         "x": [
          "1.5 and up",
          "1.6 and up",
          "2.0 and up",
          "2.1 and up",
          "2.2 and up",
          "2.3 and up",
          "2.3.3 and up",
          "3.0 and up",
          "3.2 and up",
          "4.0 and up",
          "4.0.3 and up",
          "4.1 and up",
          "4.2 and up",
          "4.3 and up",
          "4.4 and up",
          "5.0 - 6.0",
          "5.0 - 8.0",
          "5.0 and up",
          "5.1 and up",
          "6.0 and up",
          "7.0 and up",
          "Varies with device"
         ],
         "y": [
          3,
          4,
          3,
          10,
          7,
          31,
          15,
          9,
          1,
          88,
          128,
          194,
          25,
          12,
          59,
          1,
          2,
          26,
          5,
          2,
          4,
          108
         ]
        },
        {
         "marker": {
          "color": "#6ad49b"
         },
         "name": "rating = 4",
         "type": "scatter",
         "x": [
          "1.6 and up",
          "2.0 and up",
          "2.1 and up",
          "2.2 and up",
          "2.3 and up",
          "2.3.3 and up",
          "3.0 and up",
          "3.2 and up",
          "4.0 and up",
          "4.0.3 - 7.1.1",
          "4.0.3 and up",
          "4.1 and up",
          "4.2 and up",
          "4.3 and up",
          "4.4 and up",
          "5.0 and up",
          "5.1 and up",
          "6.0 and up",
          "7.0 and up",
          "Varies with device"
         ],
         "y": [
          4,
          2,
          5,
          8,
          47,
          15,
          16,
          5,
          49,
          1,
          34,
          73,
          18,
          4,
          40,
          30,
          1,
          5,
          2,
          42
         ]
        }
       ],
       "layout": {
        "template": {
         "data": {
          "bar": [
           {
            "error_x": {
             "color": "#2a3f5f"
            },
            "error_y": {
             "color": "#2a3f5f"
            },
            "marker": {
             "line": {
              "color": "#E5ECF6",
              "width": 0.5
             }
            },
            "type": "bar"
           }
          ],
          "barpolar": [
           {
            "marker": {
             "line": {
              "color": "#E5ECF6",
              "width": 0.5
             }
            },
            "type": "barpolar"
           }
          ],
          "carpet": [
           {
            "aaxis": {
             "endlinecolor": "#2a3f5f",
             "gridcolor": "white",
             "linecolor": "white",
             "minorgridcolor": "white",
             "startlinecolor": "#2a3f5f"
            },
            "baxis": {
             "endlinecolor": "#2a3f5f",
             "gridcolor": "white",
             "linecolor": "white",
             "minorgridcolor": "white",
             "startlinecolor": "#2a3f5f"
            },
            "type": "carpet"
           }
          ],
          "choropleth": [
           {
            "colorbar": {
             "outlinewidth": 0,
             "ticks": ""
            },
            "type": "choropleth"
           }
          ],
          "contour": [
           {
            "colorbar": {
             "outlinewidth": 0,
             "ticks": ""
            },
            "colorscale": [
             [
              0,
              "#0d0887"
             ],
             [
              0.1111111111111111,
              "#46039f"
             ],
             [
              0.2222222222222222,
              "#7201a8"
             ],
             [
              0.3333333333333333,
              "#9c179e"
             ],
             [
              0.4444444444444444,
              "#bd3786"
             ],
             [
              0.5555555555555556,
              "#d8576b"
             ],
             [
              0.6666666666666666,
              "#ed7953"
             ],
             [
              0.7777777777777778,
              "#fb9f3a"
             ],
             [
              0.8888888888888888,
              "#fdca26"
             ],
             [
              1,
              "#f0f921"
             ]
            ],
            "type": "contour"
           }
          ],
          "contourcarpet": [
           {
            "colorbar": {
             "outlinewidth": 0,
             "ticks": ""
            },
            "type": "contourcarpet"
           }
          ],
          "heatmap": [
           {
            "colorbar": {
             "outlinewidth": 0,
             "ticks": ""
            },
            "colorscale": [
             [
              0,
              "#0d0887"
             ],
             [
              0.1111111111111111,
              "#46039f"
             ],
             [
              0.2222222222222222,
              "#7201a8"
             ],
             [
              0.3333333333333333,
              "#9c179e"
             ],
             [
              0.4444444444444444,
              "#bd3786"
             ],
             [
              0.5555555555555556,
              "#d8576b"
             ],
             [
              0.6666666666666666,
              "#ed7953"
             ],
             [
              0.7777777777777778,
              "#fb9f3a"
             ],
             [
              0.8888888888888888,
              "#fdca26"
             ],
             [
              1,
              "#f0f921"
             ]
            ],
            "type": "heatmap"
           }
          ],
          "heatmapgl": [
           {
            "colorbar": {
             "outlinewidth": 0,
             "ticks": ""
            },
            "colorscale": [
             [
              0,
              "#0d0887"
             ],
             [
              0.1111111111111111,
              "#46039f"
             ],
             [
              0.2222222222222222,
              "#7201a8"
             ],
             [
              0.3333333333333333,
              "#9c179e"
             ],
             [
              0.4444444444444444,
              "#bd3786"
             ],
             [
              0.5555555555555556,
              "#d8576b"
             ],
             [
              0.6666666666666666,
              "#ed7953"
             ],
             [
              0.7777777777777778,
              "#fb9f3a"
             ],
             [
              0.8888888888888888,
              "#fdca26"
             ],
             [
              1,
              "#f0f921"
             ]
            ],
            "type": "heatmapgl"
           }
          ],
          "histogram": [
           {
            "marker": {
             "colorbar": {
              "outlinewidth": 0,
              "ticks": ""
             }
            },
            "type": "histogram"
           }
          ],
          "histogram2d": [
           {
            "colorbar": {
             "outlinewidth": 0,
             "ticks": ""
            },
            "colorscale": [
             [
              0,
              "#0d0887"
             ],
             [
              0.1111111111111111,
              "#46039f"
             ],
             [
              0.2222222222222222,
              "#7201a8"
             ],
             [
              0.3333333333333333,
              "#9c179e"
             ],
             [
              0.4444444444444444,
              "#bd3786"
             ],
             [
              0.5555555555555556,
              "#d8576b"
             ],
             [
              0.6666666666666666,
              "#ed7953"
             ],
             [
              0.7777777777777778,
              "#fb9f3a"
             ],
             [
              0.8888888888888888,
              "#fdca26"
             ],
             [
              1,
              "#f0f921"
             ]
            ],
            "type": "histogram2d"
           }
          ],
          "histogram2dcontour": [
           {
            "colorbar": {
             "outlinewidth": 0,
             "ticks": ""
            },
            "colorscale": [
             [
              0,
              "#0d0887"
             ],
             [
              0.1111111111111111,
              "#46039f"
             ],
             [
              0.2222222222222222,
              "#7201a8"
             ],
             [
              0.3333333333333333,
              "#9c179e"
             ],
             [
              0.4444444444444444,
              "#bd3786"
             ],
             [
              0.5555555555555556,
              "#d8576b"
             ],
             [
              0.6666666666666666,
              "#ed7953"
             ],
             [
              0.7777777777777778,
              "#fb9f3a"
             ],
             [
              0.8888888888888888,
              "#fdca26"
             ],
             [
              1,
              "#f0f921"
             ]
            ],
            "type": "histogram2dcontour"
           }
          ],
          "mesh3d": [
           {
            "colorbar": {
             "outlinewidth": 0,
             "ticks": ""
            },
            "type": "mesh3d"
           }
          ],
          "parcoords": [
           {
            "line": {
             "colorbar": {
              "outlinewidth": 0,
              "ticks": ""
             }
            },
            "type": "parcoords"
           }
          ],
          "pie": [
           {
            "automargin": true,
            "type": "pie"
           }
          ],
          "scatter": [
           {
            "marker": {
             "colorbar": {
              "outlinewidth": 0,
              "ticks": ""
             }
            },
            "type": "scatter"
           }
          ],
          "scatter3d": [
           {
            "line": {
             "colorbar": {
              "outlinewidth": 0,
              "ticks": ""
             }
            },
            "marker": {
             "colorbar": {
              "outlinewidth": 0,
              "ticks": ""
             }
            },
            "type": "scatter3d"
           }
          ],
          "scattercarpet": [
           {
            "marker": {
             "colorbar": {
              "outlinewidth": 0,
              "ticks": ""
             }
            },
            "type": "scattercarpet"
           }
          ],
          "scattergeo": [
           {
            "marker": {
             "colorbar": {
              "outlinewidth": 0,
              "ticks": ""
             }
            },
            "type": "scattergeo"
           }
          ],
          "scattergl": [
           {
            "marker": {
             "colorbar": {
              "outlinewidth": 0,
              "ticks": ""
             }
            },
            "type": "scattergl"
           }
          ],
          "scattermapbox": [
           {
            "marker": {
             "colorbar": {
              "outlinewidth": 0,
              "ticks": ""
             }
            },
            "type": "scattermapbox"
           }
          ],
          "scatterpolar": [
           {
            "marker": {
             "colorbar": {
              "outlinewidth": 0,
              "ticks": ""
             }
            },
            "type": "scatterpolar"
           }
          ],
          "scatterpolargl": [
           {
            "marker": {
             "colorbar": {
              "outlinewidth": 0,
              "ticks": ""
             }
            },
            "type": "scatterpolargl"
           }
          ],
          "scatterternary": [
           {
            "marker": {
             "colorbar": {
              "outlinewidth": 0,
              "ticks": ""
             }
            },
            "type": "scatterternary"
           }
          ],
          "surface": [
           {
            "colorbar": {
             "outlinewidth": 0,
             "ticks": ""
            },
            "colorscale": [
             [
              0,
              "#0d0887"
             ],
             [
              0.1111111111111111,
              "#46039f"
             ],
             [
              0.2222222222222222,
              "#7201a8"
             ],
             [
              0.3333333333333333,
              "#9c179e"
             ],
             [
              0.4444444444444444,
              "#bd3786"
             ],
             [
              0.5555555555555556,
              "#d8576b"
             ],
             [
              0.6666666666666666,
              "#ed7953"
             ],
             [
              0.7777777777777778,
              "#fb9f3a"
             ],
             [
              0.8888888888888888,
              "#fdca26"
             ],
             [
              1,
              "#f0f921"
             ]
            ],
            "type": "surface"
           }
          ],
          "table": [
           {
            "cells": {
             "fill": {
              "color": "#EBF0F8"
             },
             "line": {
              "color": "white"
             }
            },
            "header": {
             "fill": {
              "color": "#C8D4E3"
             },
             "line": {
              "color": "white"
             }
            },
            "type": "table"
           }
          ]
         },
         "layout": {
          "annotationdefaults": {
           "arrowcolor": "#2a3f5f",
           "arrowhead": 0,
           "arrowwidth": 1
          },
          "coloraxis": {
           "colorbar": {
            "outlinewidth": 0,
            "ticks": ""
           }
          },
          "colorscale": {
           "diverging": [
            [
             0,
             "#8e0152"
            ],
            [
             0.1,
             "#c51b7d"
            ],
            [
             0.2,
             "#de77ae"
            ],
            [
             0.3,
             "#f1b6da"
            ],
            [
             0.4,
             "#fde0ef"
            ],
            [
             0.5,
             "#f7f7f7"
            ],
            [
             0.6,
             "#e6f5d0"
            ],
            [
             0.7,
             "#b8e186"
            ],
            [
             0.8,
             "#7fbc41"
            ],
            [
             0.9,
             "#4d9221"
            ],
            [
             1,
             "#276419"
            ]
           ],
           "sequential": [
            [
             0,
             "#0d0887"
            ],
            [
             0.1111111111111111,
             "#46039f"
            ],
            [
             0.2222222222222222,
             "#7201a8"
            ],
            [
             0.3333333333333333,
             "#9c179e"
            ],
            [
             0.4444444444444444,
             "#bd3786"
            ],
            [
             0.5555555555555556,
             "#d8576b"
            ],
            [
             0.6666666666666666,
             "#ed7953"
            ],
            [
             0.7777777777777778,
             "#fb9f3a"
            ],
            [
             0.8888888888888888,
             "#fdca26"
            ],
            [
             1,
             "#f0f921"
            ]
           ],
           "sequentialminus": [
            [
             0,
             "#0d0887"
            ],
            [
             0.1111111111111111,
             "#46039f"
            ],
            [
             0.2222222222222222,
             "#7201a8"
            ],
            [
             0.3333333333333333,
             "#9c179e"
            ],
            [
             0.4444444444444444,
             "#bd3786"
            ],
            [
             0.5555555555555556,
             "#d8576b"
            ],
            [
             0.6666666666666666,
             "#ed7953"
            ],
            [
             0.7777777777777778,
             "#fb9f3a"
            ],
            [
             0.8888888888888888,
             "#fdca26"
            ],
            [
             1,
             "#f0f921"
            ]
           ]
          },
          "colorway": [
           "#636efa",
           "#EF553B",
           "#00cc96",
           "#ab63fa",
           "#FFA15A",
           "#19d3f3",
           "#FF6692",
           "#B6E880",
           "#FF97FF",
           "#FECB52"
          ],
          "font": {
           "color": "#2a3f5f"
          },
          "geo": {
           "bgcolor": "white",
           "lakecolor": "white",
           "landcolor": "#E5ECF6",
           "showlakes": true,
           "showland": true,
           "subunitcolor": "white"
          },
          "hoverlabel": {
           "align": "left"
          },
          "hovermode": "closest",
          "mapbox": {
           "style": "light"
          },
          "paper_bgcolor": "white",
          "plot_bgcolor": "#E5ECF6",
          "polar": {
           "angularaxis": {
            "gridcolor": "white",
            "linecolor": "white",
            "ticks": ""
           },
           "bgcolor": "#E5ECF6",
           "radialaxis": {
            "gridcolor": "white",
            "linecolor": "white",
            "ticks": ""
           }
          },
          "scene": {
           "xaxis": {
            "backgroundcolor": "#E5ECF6",
            "gridcolor": "white",
            "gridwidth": 2,
            "linecolor": "white",
            "showbackground": true,
            "ticks": "",
            "zerolinecolor": "white"
           },
           "yaxis": {
            "backgroundcolor": "#E5ECF6",
            "gridcolor": "white",
            "gridwidth": 2,
            "linecolor": "white",
            "showbackground": true,
            "ticks": "",
            "zerolinecolor": "white"
           },
           "zaxis": {
            "backgroundcolor": "#E5ECF6",
            "gridcolor": "white",
            "gridwidth": 2,
            "linecolor": "white",
            "showbackground": true,
            "ticks": "",
            "zerolinecolor": "white"
           }
          },
          "shapedefaults": {
           "line": {
            "color": "#2a3f5f"
           }
          },
          "ternary": {
           "aaxis": {
            "gridcolor": "white",
            "linecolor": "white",
            "ticks": ""
           },
           "baxis": {
            "gridcolor": "white",
            "linecolor": "white",
            "ticks": ""
           },
           "bgcolor": "#E5ECF6",
           "caxis": {
            "gridcolor": "white",
            "linecolor": "white",
            "ticks": ""
           }
          },
          "title": {
           "x": 0.05
          },
          "xaxis": {
           "automargin": true,
           "gridcolor": "white",
           "linecolor": "white",
           "ticks": "",
           "title": {
            "standoff": 15
           },
           "zerolinecolor": "white",
           "zerolinewidth": 2
          },
          "yaxis": {
           "automargin": true,
           "gridcolor": "white",
           "linecolor": "white",
           "ticks": "",
           "title": {
            "standoff": 15
           },
           "zerolinecolor": "white",
           "zerolinewidth": 2
          }
         }
        },
        "title": {
         "text": "Rating over the Android Version "
        }
       }
      },
      "text/html": [
       "<div>\n",
       "        \n",
       "        \n",
       "            <div id=\"7695eea7-e937-4e6f-b859-31f8e973591a\" class=\"plotly-graph-div\" style=\"height:525px; width:100%;\"></div>\n",
       "            <script type=\"text/javascript\">\n",
       "                require([\"plotly\"], function(Plotly) {\n",
       "                    window.PLOTLYENV=window.PLOTLYENV || {};\n",
       "                    \n",
       "                if (document.getElementById(\"7695eea7-e937-4e6f-b859-31f8e973591a\")) {\n",
       "                    Plotly.newPlot(\n",
       "                        '7695eea7-e937-4e6f-b859-31f8e973591a',\n",
       "                        [{\"marker\": {\"color\": \"#a678de\"}, \"name\": \"rating = 4.5\", \"type\": \"scatter\", \"x\": [\"1.5 and up\", \"1.6 and up\", \"2.0 and up\", \"2.1 and up\", \"2.2 and up\", \"2.3 and up\", \"2.3.3 and up\", \"3.0 and up\", \"3.2 and up\", \"4.0 and up\", \"4.0.3 and up\", \"4.1 and up\", \"4.2 and up\", \"4.3 and up\", \"4.4 and up\", \"5.0 - 6.0\", \"5.0 - 8.0\", \"5.0 and up\", \"5.1 and up\", \"6.0 and up\", \"7.0 and up\", \"Varies with device\"], \"y\": [3, 4, 3, 10, 7, 31, 15, 9, 1, 88, 128, 194, 25, 12, 59, 1, 2, 26, 5, 2, 4, 108]}, {\"marker\": {\"color\": \"#6ad49b\"}, \"name\": \"rating = 4\", \"type\": \"scatter\", \"x\": [\"1.6 and up\", \"2.0 and up\", \"2.1 and up\", \"2.2 and up\", \"2.3 and up\", \"2.3.3 and up\", \"3.0 and up\", \"3.2 and up\", \"4.0 and up\", \"4.0.3 - 7.1.1\", \"4.0.3 and up\", \"4.1 and up\", \"4.2 and up\", \"4.3 and up\", \"4.4 and up\", \"5.0 and up\", \"5.1 and up\", \"6.0 and up\", \"7.0 and up\", \"Varies with device\"], \"y\": [4, 2, 5, 8, 47, 15, 16, 5, 49, 1, 34, 73, 18, 4, 40, 30, 1, 5, 2, 42]}],\n",
       "                        {\"template\": {\"data\": {\"bar\": [{\"error_x\": {\"color\": \"#2a3f5f\"}, \"error_y\": {\"color\": \"#2a3f5f\"}, \"marker\": {\"line\": {\"color\": \"#E5ECF6\", \"width\": 0.5}}, \"type\": \"bar\"}], \"barpolar\": [{\"marker\": {\"line\": {\"color\": \"#E5ECF6\", \"width\": 0.5}}, \"type\": \"barpolar\"}], \"carpet\": [{\"aaxis\": {\"endlinecolor\": \"#2a3f5f\", \"gridcolor\": \"white\", \"linecolor\": \"white\", \"minorgridcolor\": \"white\", \"startlinecolor\": \"#2a3f5f\"}, \"baxis\": {\"endlinecolor\": \"#2a3f5f\", \"gridcolor\": \"white\", \"linecolor\": \"white\", \"minorgridcolor\": \"white\", \"startlinecolor\": \"#2a3f5f\"}, \"type\": \"carpet\"}], \"choropleth\": [{\"colorbar\": {\"outlinewidth\": 0, \"ticks\": \"\"}, \"type\": \"choropleth\"}], \"contour\": [{\"colorbar\": {\"outlinewidth\": 0, \"ticks\": \"\"}, \"colorscale\": [[0.0, \"#0d0887\"], [0.1111111111111111, \"#46039f\"], [0.2222222222222222, \"#7201a8\"], [0.3333333333333333, \"#9c179e\"], [0.4444444444444444, \"#bd3786\"], [0.5555555555555556, \"#d8576b\"], [0.6666666666666666, \"#ed7953\"], [0.7777777777777778, \"#fb9f3a\"], [0.8888888888888888, \"#fdca26\"], [1.0, \"#f0f921\"]], \"type\": \"contour\"}], \"contourcarpet\": [{\"colorbar\": {\"outlinewidth\": 0, \"ticks\": \"\"}, \"type\": \"contourcarpet\"}], \"heatmap\": [{\"colorbar\": {\"outlinewidth\": 0, \"ticks\": \"\"}, \"colorscale\": [[0.0, \"#0d0887\"], [0.1111111111111111, \"#46039f\"], [0.2222222222222222, \"#7201a8\"], [0.3333333333333333, \"#9c179e\"], [0.4444444444444444, \"#bd3786\"], [0.5555555555555556, \"#d8576b\"], [0.6666666666666666, \"#ed7953\"], [0.7777777777777778, \"#fb9f3a\"], [0.8888888888888888, \"#fdca26\"], [1.0, \"#f0f921\"]], \"type\": \"heatmap\"}], \"heatmapgl\": [{\"colorbar\": {\"outlinewidth\": 0, \"ticks\": \"\"}, \"colorscale\": [[0.0, \"#0d0887\"], [0.1111111111111111, \"#46039f\"], [0.2222222222222222, \"#7201a8\"], [0.3333333333333333, \"#9c179e\"], [0.4444444444444444, \"#bd3786\"], [0.5555555555555556, \"#d8576b\"], [0.6666666666666666, \"#ed7953\"], [0.7777777777777778, \"#fb9f3a\"], [0.8888888888888888, \"#fdca26\"], [1.0, \"#f0f921\"]], \"type\": \"heatmapgl\"}], \"histogram\": [{\"marker\": {\"colorbar\": {\"outlinewidth\": 0, \"ticks\": \"\"}}, \"type\": \"histogram\"}], \"histogram2d\": [{\"colorbar\": {\"outlinewidth\": 0, \"ticks\": \"\"}, \"colorscale\": [[0.0, \"#0d0887\"], [0.1111111111111111, \"#46039f\"], [0.2222222222222222, \"#7201a8\"], [0.3333333333333333, \"#9c179e\"], [0.4444444444444444, \"#bd3786\"], [0.5555555555555556, \"#d8576b\"], [0.6666666666666666, \"#ed7953\"], [0.7777777777777778, \"#fb9f3a\"], [0.8888888888888888, \"#fdca26\"], [1.0, \"#f0f921\"]], \"type\": \"histogram2d\"}], \"histogram2dcontour\": [{\"colorbar\": {\"outlinewidth\": 0, \"ticks\": \"\"}, \"colorscale\": [[0.0, \"#0d0887\"], [0.1111111111111111, \"#46039f\"], [0.2222222222222222, \"#7201a8\"], [0.3333333333333333, \"#9c179e\"], [0.4444444444444444, \"#bd3786\"], [0.5555555555555556, \"#d8576b\"], [0.6666666666666666, \"#ed7953\"], [0.7777777777777778, \"#fb9f3a\"], [0.8888888888888888, \"#fdca26\"], [1.0, \"#f0f921\"]], \"type\": \"histogram2dcontour\"}], \"mesh3d\": [{\"colorbar\": {\"outlinewidth\": 0, \"ticks\": \"\"}, \"type\": \"mesh3d\"}], \"parcoords\": [{\"line\": {\"colorbar\": {\"outlinewidth\": 0, \"ticks\": \"\"}}, \"type\": \"parcoords\"}], \"pie\": [{\"automargin\": true, \"type\": \"pie\"}], \"scatter\": [{\"marker\": {\"colorbar\": {\"outlinewidth\": 0, \"ticks\": \"\"}}, \"type\": \"scatter\"}], \"scatter3d\": [{\"line\": {\"colorbar\": {\"outlinewidth\": 0, \"ticks\": \"\"}}, \"marker\": {\"colorbar\": {\"outlinewidth\": 0, \"ticks\": \"\"}}, \"type\": \"scatter3d\"}], \"scattercarpet\": [{\"marker\": {\"colorbar\": {\"outlinewidth\": 0, \"ticks\": \"\"}}, \"type\": \"scattercarpet\"}], \"scattergeo\": [{\"marker\": {\"colorbar\": {\"outlinewidth\": 0, \"ticks\": \"\"}}, \"type\": \"scattergeo\"}], \"scattergl\": [{\"marker\": {\"colorbar\": {\"outlinewidth\": 0, \"ticks\": \"\"}}, \"type\": \"scattergl\"}], \"scattermapbox\": [{\"marker\": {\"colorbar\": {\"outlinewidth\": 0, \"ticks\": \"\"}}, \"type\": \"scattermapbox\"}], \"scatterpolar\": [{\"marker\": {\"colorbar\": {\"outlinewidth\": 0, \"ticks\": \"\"}}, \"type\": \"scatterpolar\"}], \"scatterpolargl\": [{\"marker\": {\"colorbar\": {\"outlinewidth\": 0, \"ticks\": \"\"}}, \"type\": \"scatterpolargl\"}], \"scatterternary\": [{\"marker\": {\"colorbar\": {\"outlinewidth\": 0, \"ticks\": \"\"}}, \"type\": \"scatterternary\"}], \"surface\": [{\"colorbar\": {\"outlinewidth\": 0, \"ticks\": \"\"}, \"colorscale\": [[0.0, \"#0d0887\"], [0.1111111111111111, \"#46039f\"], [0.2222222222222222, \"#7201a8\"], [0.3333333333333333, \"#9c179e\"], [0.4444444444444444, \"#bd3786\"], [0.5555555555555556, \"#d8576b\"], [0.6666666666666666, \"#ed7953\"], [0.7777777777777778, \"#fb9f3a\"], [0.8888888888888888, \"#fdca26\"], [1.0, \"#f0f921\"]], \"type\": \"surface\"}], \"table\": [{\"cells\": {\"fill\": {\"color\": \"#EBF0F8\"}, \"line\": {\"color\": \"white\"}}, \"header\": {\"fill\": {\"color\": \"#C8D4E3\"}, \"line\": {\"color\": \"white\"}}, \"type\": \"table\"}]}, \"layout\": {\"annotationdefaults\": {\"arrowcolor\": \"#2a3f5f\", \"arrowhead\": 0, \"arrowwidth\": 1}, \"coloraxis\": {\"colorbar\": {\"outlinewidth\": 0, \"ticks\": \"\"}}, \"colorscale\": {\"diverging\": [[0, \"#8e0152\"], [0.1, \"#c51b7d\"], [0.2, \"#de77ae\"], [0.3, \"#f1b6da\"], [0.4, \"#fde0ef\"], [0.5, \"#f7f7f7\"], [0.6, \"#e6f5d0\"], [0.7, \"#b8e186\"], [0.8, \"#7fbc41\"], [0.9, \"#4d9221\"], [1, \"#276419\"]], \"sequential\": [[0.0, \"#0d0887\"], [0.1111111111111111, \"#46039f\"], [0.2222222222222222, \"#7201a8\"], [0.3333333333333333, \"#9c179e\"], [0.4444444444444444, \"#bd3786\"], [0.5555555555555556, \"#d8576b\"], [0.6666666666666666, \"#ed7953\"], [0.7777777777777778, \"#fb9f3a\"], [0.8888888888888888, \"#fdca26\"], [1.0, \"#f0f921\"]], \"sequentialminus\": [[0.0, \"#0d0887\"], [0.1111111111111111, \"#46039f\"], [0.2222222222222222, \"#7201a8\"], [0.3333333333333333, \"#9c179e\"], [0.4444444444444444, \"#bd3786\"], [0.5555555555555556, \"#d8576b\"], [0.6666666666666666, \"#ed7953\"], [0.7777777777777778, \"#fb9f3a\"], [0.8888888888888888, \"#fdca26\"], [1.0, \"#f0f921\"]]}, \"colorway\": [\"#636efa\", \"#EF553B\", \"#00cc96\", \"#ab63fa\", \"#FFA15A\", \"#19d3f3\", \"#FF6692\", \"#B6E880\", \"#FF97FF\", \"#FECB52\"], \"font\": {\"color\": \"#2a3f5f\"}, \"geo\": {\"bgcolor\": \"white\", \"lakecolor\": \"white\", \"landcolor\": \"#E5ECF6\", \"showlakes\": true, \"showland\": true, \"subunitcolor\": \"white\"}, \"hoverlabel\": {\"align\": \"left\"}, \"hovermode\": \"closest\", \"mapbox\": {\"style\": \"light\"}, \"paper_bgcolor\": \"white\", \"plot_bgcolor\": \"#E5ECF6\", \"polar\": {\"angularaxis\": {\"gridcolor\": \"white\", \"linecolor\": \"white\", \"ticks\": \"\"}, \"bgcolor\": \"#E5ECF6\", \"radialaxis\": {\"gridcolor\": \"white\", \"linecolor\": \"white\", \"ticks\": \"\"}}, \"scene\": {\"xaxis\": {\"backgroundcolor\": \"#E5ECF6\", \"gridcolor\": \"white\", \"gridwidth\": 2, \"linecolor\": \"white\", \"showbackground\": true, \"ticks\": \"\", \"zerolinecolor\": \"white\"}, \"yaxis\": {\"backgroundcolor\": \"#E5ECF6\", \"gridcolor\": \"white\", \"gridwidth\": 2, \"linecolor\": \"white\", \"showbackground\": true, \"ticks\": \"\", \"zerolinecolor\": \"white\"}, \"zaxis\": {\"backgroundcolor\": \"#E5ECF6\", \"gridcolor\": \"white\", \"gridwidth\": 2, \"linecolor\": \"white\", \"showbackground\": true, \"ticks\": \"\", \"zerolinecolor\": \"white\"}}, \"shapedefaults\": {\"line\": {\"color\": \"#2a3f5f\"}}, \"ternary\": {\"aaxis\": {\"gridcolor\": \"white\", \"linecolor\": \"white\", \"ticks\": \"\"}, \"baxis\": {\"gridcolor\": \"white\", \"linecolor\": \"white\", \"ticks\": \"\"}, \"bgcolor\": \"#E5ECF6\", \"caxis\": {\"gridcolor\": \"white\", \"linecolor\": \"white\", \"ticks\": \"\"}}, \"title\": {\"x\": 0.05}, \"xaxis\": {\"automargin\": true, \"gridcolor\": \"white\", \"linecolor\": \"white\", \"ticks\": \"\", \"title\": {\"standoff\": 15}, \"zerolinecolor\": \"white\", \"zerolinewidth\": 2}, \"yaxis\": {\"automargin\": true, \"gridcolor\": \"white\", \"linecolor\": \"white\", \"ticks\": \"\", \"title\": {\"standoff\": 15}, \"zerolinecolor\": \"white\", \"zerolinewidth\": 2}}}, \"title\": {\"text\": \"Rating over the Android Version \"}},\n",
       "                        {\"responsive\": true}\n",
       "                    ).then(function(){\n",
       "                            \n",
       "var gd = document.getElementById('7695eea7-e937-4e6f-b859-31f8e973591a');\n",
       "var x = new MutationObserver(function (mutations, observer) {{\n",
       "        var display = window.getComputedStyle(gd).display;\n",
       "        if (!display || display === 'none') {{\n",
       "            console.log([gd, 'removed!']);\n",
       "            Plotly.purge(gd);\n",
       "            observer.disconnect();\n",
       "        }}\n",
       "}});\n",
       "\n",
       "// Listen for the removal of the full notebook cells\n",
       "var notebookContainer = gd.closest('#notebook-container');\n",
       "if (notebookContainer) {{\n",
       "    x.observe(notebookContainer, {childList: true});\n",
       "}}\n",
       "\n",
       "// Listen for the clearing of the current output cell\n",
       "var outputEl = gd.closest('.output');\n",
       "if (outputEl) {{\n",
       "    x.observe(outputEl, {childList: true});\n",
       "}}\n",
       "\n",
       "                        })\n",
       "                };\n",
       "                });\n",
       "            </script>\n",
       "        </div>"
      ]
     },
     "metadata": {},
     "output_type": "display_data"
    }
   ],
   "source": [
    "col='Android Ver'\n",
    "v1=d3[col].value_counts().reset_index()\n",
    "v1=v1.rename(columns={col:'count','index':col})\n",
    "v1['percent']=v1['count'].apply(lambda x : 100*x/sum(v1['count']))\n",
    "v1=v1.sort_values(col)\n",
    "v2=d4[col].value_counts().reset_index()\n",
    "v2=v2.rename(columns={col:'count','index':col})\n",
    "v2['percent']=v2['count'].apply(lambda x : 100*x/sum(v2['count']))\n",
    "v2=v2.sort_values(col)\n",
    "trace1 = go.Scatter(x=v1[col], y=v1[\"count\"], name=\"rating = 4.5\", marker=dict(color=\"#a678de\"))\n",
    "trace2 = go.Scatter(x=v2[col], y=v2[\"count\"], name=\"rating = 4\", marker=dict(color=\"#6ad49b\"))\n",
    "y = [trace1, trace2]\n",
    "layout={'title':\"Rating over the Android Version \"}\n",
    "fig = go.Figure(data=y, layout=layout)\n",
    "py.offline.iplot(fig)"
   ]
  },
  {
   "cell_type": "code",
   "execution_count": 45,
   "metadata": {},
   "outputs": [
    {
     "data": {
      "text/plain": [
       "1172"
      ]
     },
     "execution_count": 45,
     "metadata": {},
     "output_type": "execute_result"
    }
   ],
   "source": [
    "data.isnull().sum().sum()"
   ]
  },
  {
   "cell_type": "code",
   "execution_count": 46,
   "metadata": {},
   "outputs": [
    {
     "data": {
      "text/html": [
       "<div>\n",
       "<style scoped>\n",
       "    .dataframe tbody tr th:only-of-type {\n",
       "        vertical-align: middle;\n",
       "    }\n",
       "\n",
       "    .dataframe tbody tr th {\n",
       "        vertical-align: top;\n",
       "    }\n",
       "\n",
       "    .dataframe thead th {\n",
       "        text-align: right;\n",
       "    }\n",
       "</style>\n",
       "<table border=\"1\" class=\"dataframe\">\n",
       "  <thead>\n",
       "    <tr style=\"text-align: right;\">\n",
       "      <th></th>\n",
       "      <th>Total</th>\n",
       "      <th>Percent</th>\n",
       "    </tr>\n",
       "  </thead>\n",
       "  <tbody>\n",
       "    <tr>\n",
       "      <td>Android Ver</td>\n",
       "      <td>0</td>\n",
       "      <td>0.000000</td>\n",
       "    </tr>\n",
       "    <tr>\n",
       "      <td>App</td>\n",
       "      <td>0</td>\n",
       "      <td>0.000000</td>\n",
       "    </tr>\n",
       "    <tr>\n",
       "      <td>Category</td>\n",
       "      <td>0</td>\n",
       "      <td>0.000000</td>\n",
       "    </tr>\n",
       "    <tr>\n",
       "      <td>Content Rating</td>\n",
       "      <td>0</td>\n",
       "      <td>0.000000</td>\n",
       "    </tr>\n",
       "    <tr>\n",
       "      <td>Current Ver</td>\n",
       "      <td>0</td>\n",
       "      <td>0.000000</td>\n",
       "    </tr>\n",
       "    <tr>\n",
       "      <td>Genres</td>\n",
       "      <td>0</td>\n",
       "      <td>0.000000</td>\n",
       "    </tr>\n",
       "    <tr>\n",
       "      <td>Installs</td>\n",
       "      <td>0</td>\n",
       "      <td>0.000000</td>\n",
       "    </tr>\n",
       "    <tr>\n",
       "      <td>Last Updated</td>\n",
       "      <td>0</td>\n",
       "      <td>0.000000</td>\n",
       "    </tr>\n",
       "    <tr>\n",
       "      <td>Price</td>\n",
       "      <td>0</td>\n",
       "      <td>0.000000</td>\n",
       "    </tr>\n",
       "    <tr>\n",
       "      <td>Rating</td>\n",
       "      <td>0</td>\n",
       "      <td>0.000000</td>\n",
       "    </tr>\n",
       "    <tr>\n",
       "      <td>Reviews</td>\n",
       "      <td>0</td>\n",
       "      <td>0.000000</td>\n",
       "    </tr>\n",
       "    <tr>\n",
       "      <td>Size</td>\n",
       "      <td>1172</td>\n",
       "      <td>0.154658</td>\n",
       "    </tr>\n",
       "    <tr>\n",
       "      <td>Type</td>\n",
       "      <td>0</td>\n",
       "      <td>0.000000</td>\n",
       "    </tr>\n",
       "  </tbody>\n",
       "</table>\n",
       "</div>"
      ],
      "text/plain": [
       "                Total   Percent\n",
       "Android Ver         0  0.000000\n",
       "App                 0  0.000000\n",
       "Category            0  0.000000\n",
       "Content Rating      0  0.000000\n",
       "Current Ver         0  0.000000\n",
       "Genres              0  0.000000\n",
       "Installs            0  0.000000\n",
       "Last Updated        0  0.000000\n",
       "Price               0  0.000000\n",
       "Rating              0  0.000000\n",
       "Reviews             0  0.000000\n",
       "Size             1172  0.154658\n",
       "Type                0  0.000000"
      ]
     },
     "execution_count": 46,
     "metadata": {},
     "output_type": "execute_result"
    }
   ],
   "source": [
    "total=data.isnull().sum()\n",
    "percent = (data.isnull().sum()/data.isnull().count()).sort_values(ascending=False)\n",
    "missing_data = pd.concat([total, percent], axis=1, keys=['Total', 'Percent'])\n",
    "missing_data.head(13)"
   ]
  },
  {
   "cell_type": "code",
   "execution_count": 47,
   "metadata": {},
   "outputs": [],
   "source": [
    "data['Size'] = data['Size'].fillna(data['Size'].median())"
   ]
  },
  {
   "cell_type": "code",
   "execution_count": null,
   "metadata": {},
   "outputs": [],
   "source": []
  },
  {
   "cell_type": "code",
   "execution_count": 48,
   "metadata": {},
   "outputs": [],
   "source": [
    "catgry=pd.get_dummies(data['Category'],prefix='catg',drop_first=True)\n",
    "typ=pd.get_dummies(data['Type'],prefix='typ',drop_first=True)\n",
    "cr=pd.get_dummies(data['Content Rating'],prefix='cr',drop_first=True)\n",
    "frames=[data,catgry,typ,cr]\n",
    "data=pd.concat(frames,axis=1)\n",
    "data.drop(['Category','Installs','Type','Content Rating'],axis=1,inplace=True)"
   ]
  },
  {
   "cell_type": "code",
   "execution_count": 49,
   "metadata": {},
   "outputs": [],
   "source": [
    "data.drop(['App','Size','Price','Genres','Last Updated','Current Ver','Android Ver'],axis=1,inplace=True)"
   ]
  },
  {
   "cell_type": "code",
   "execution_count": 50,
   "metadata": {},
   "outputs": [],
   "source": [
    "X=data.drop('Rating',axis=1)\n",
    "y=data['Rating'].values\n",
    "y=y.astype('int')"
   ]
  },
  {
   "cell_type": "code",
   "execution_count": 51,
   "metadata": {},
   "outputs": [],
   "source": [
    "from sklearn.model_selection import train_test_split\n",
    "X_train, X_test, y_train, y_test = train_test_split(X, y, test_size = 0.30, random_state=10)"
   ]
  },
  {
   "cell_type": "code",
   "execution_count": 52,
   "metadata": {},
   "outputs": [],
   "source": [
    "from sklearn.preprocessing import StandardScaler\n",
    "sc_X=StandardScaler()\n",
    "X_train=sc_X.fit_transform(X_train)\n",
    "X_test=sc_X.transform(X_test)"
   ]
  },
  {
   "cell_type": "code",
   "execution_count": 54,
   "metadata": {},
   "outputs": [],
   "source": [
    "# DecisionTree Classifier\n",
    "dtree_c=DecisionTreeClassifier(criterion='entropy',random_state=30)\n",
    "dtree_c.fit(X_train,y_train)\n",
    "dtree_pred=dtree_c.predict(X_test)\n",
    "dtree_cm=confusion_matrix(y_test,dtree_pred)\n",
    "dtree_ac=accuracy_score(dtree_pred,y_test)"
   ]
  },
  {
   "cell_type": "code",
   "execution_count": 55,
   "metadata": {},
   "outputs": [
    {
     "name": "stdout",
     "output_type": "stream",
     "text": [
      "DecisionTree_Classifier_accuracy: 0.7049252418645559\n"
     ]
    },
    {
     "data": {
      "image/png": "[encoded data removed]",
      "text/plain": [
       "<Figure size 720x360 with 1 Axes>"
      ]
     },
     "metadata": {
      "needs_background": "light"
     },
     "output_type": "display_data"
    }
   ],
   "source": [
    "plt.figure(figsize=(10,5))\n",
    "plt.title(\"dtree_cm\")\n",
    "sns.heatmap(dtree_cm,annot=True,fmt=\"d\",cbar=False)\n",
    "print('DecisionTree_Classifier_accuracy:',dtree_ac)"
   ]
  },
  {
   "cell_type": "code",
   "execution_count": 57,
   "metadata": {},
   "outputs": [],
   "source": [
    "#SVM regressor\n",
    "svc_r=SVC(kernel='rbf')\n",
    "svc_r.fit(X_train,y_train)\n",
    "svr_pred=svc_r.predict(X_test)\n",
    "svr_cm=confusion_matrix(y_test,svr_pred)\n",
    "svr_ac=accuracy_score(y_test, svr_pred)"
   ]
  },
  {
   "cell_type": "code",
   "execution_count": 58,
   "metadata": {},
   "outputs": [
    {
     "name": "stdout",
     "output_type": "stream",
     "text": [
      "SVM_regressor_accuracy: 0.8034300791556728\n"
     ]
    },
    {
     "data": {
      "image/png": "[encoded data removed]",
      "text/plain": [
       "<Figure size 720x360 with 1 Axes>"
      ]
     },
     "metadata": {
      "needs_background": "light"
     },
     "output_type": "display_data"
    }
   ],
   "source": [
    "plt.figure(figsize=(10,5))\n",
    "plt.title(\"svm_cm\")\n",
    "sns.heatmap(svr_cm,annot=True,cmap=\"Oranges\",fmt=\"d\",cbar=False)\n",
    "print('SVM_regressor_accuracy:',svr_ac)"
   ]
  },
  {
   "cell_type": "code",
   "execution_count": 59,
   "metadata": {},
   "outputs": [],
   "source": [
    "#RandomForest\n",
    "rdf_c=RandomForestClassifier(n_estimators=10,criterion='entropy',random_state=30)\n",
    "rdf_c.fit(X_train,y_train)\n",
    "rdf_pred=rdf_c.predict(X_test)\n",
    "rdf_cm=confusion_matrix(y_test,rdf_pred)\n",
    "rdf_ac=accuracy_score(rdf_pred,y_test)"
   ]
  },
  {
   "cell_type": "code",
   "execution_count": 60,
   "metadata": {},
   "outputs": [
    {
     "name": "stdout",
     "output_type": "stream",
     "text": [
      "RandomForest_accuracy: 0.7559366754617414\n"
     ]
    },
    {
     "data": {
      "image/png": "[encoded data removed]",
      "text/plain": [
       "<Figure size 720x360 with 1 Axes>"
      ]
     },
     "metadata": {
      "needs_background": "light"
     },
     "output_type": "display_data"
    }
   ],
   "source": [
    "plt.figure(figsize=(10,5))\n",
    "plt.title(\"rdf_cm\")\n",
    "sns.heatmap(rdf_cm,annot=True,cmap=\"Blues\",fmt=\"d\",cbar=False)\n",
    "print('RandomForest_accuracy:',rdf_ac)"
   ]
  },
  {
   "cell_type": "code",
   "execution_count": 61,
   "metadata": {},
   "outputs": [
    {
     "name": "stdout",
     "output_type": "stream",
     "text": [
      "Requirement already satisfied: xgboost in c:\\users\\ybyad\\appdata\\local\\continuum\\anaconda3\\lib\\site-packages (0.90)\n",
      "Requirement already satisfied: numpy in c:\\users\\ybyad\\appdata\\local\\continuum\\anaconda3\\lib\\site-packages (from xgboost) (1.16.5)\n",
      "Requirement already satisfied: scipy in c:\\users\\ybyad\\appdata\\local\\continuum\\anaconda3\\lib\\site-packages (from xgboost) (1.3.1)\n",
      "Note: you may need to restart the kernel to use updated packages.\n"
     ]
    }
   ],
   "source": [
    "pip install xgboost"
   ]
  },
  {
   "cell_type": "code",
   "execution_count": 62,
   "metadata": {},
   "outputs": [],
   "source": [
    "import xgboost as xgb"
   ]
  },
  {
   "cell_type": "code",
   "execution_count": 63,
   "metadata": {},
   "outputs": [],
   "source": [
    "from xgboost import XGBClassifier"
   ]
  },
  {
   "cell_type": "code",
   "execution_count": 64,
   "metadata": {},
   "outputs": [
    {
     "name": "stdout",
     "output_type": "stream",
     "text": [
      "Accuracy: 79.99%\n"
     ]
    }
   ],
   "source": [
    "# fit model no training data\n",
    "model = XGBClassifier()\n",
    "model.fit(X_train, y_train)\n",
    "# make predictions for test data\n",
    "y_pred = model.predict(X_test)\n",
    "predictions = [round(value) for value in y_pred]\n",
    "# evaluate predictions\n",
    "accuracy = accuracy_score(y_test, predictions)\n",
    "print(\"Accuracy: %.2f%%\" % (accuracy * 100.0))"
   ]
  },
  {
   "cell_type": "code",
   "execution_count": 65,
   "metadata": {},
   "outputs": [
    {
     "name": "stdout",
     "output_type": "stream",
     "text": [
      "0.7726473175021987\n"
     ]
    }
   ],
   "source": [
    "from sklearn.neighbors import KNeighborsClassifier\n",
    "knn = KNeighborsClassifier(n_neighbors=5)\n",
    "knn.fit(X_train, y_train)\n",
    "y_pred = knn.predict(X_test)\n",
    "print(metrics.accuracy_score(y_test, y_pred))"
   ]
  },
  {
   "cell_type": "code",
   "execution_count": null,
   "metadata": {},
   "outputs": [],
   "source": []
  },
  {
   "cell_type": "code",
   "execution_count": 66,
   "metadata": {},
   "outputs": [
    {
     "data": {
      "text/plain": [
       "Text(0.5, 1.0, 'Model Accracy')"
      ]
     },
     "execution_count": 66,
     "metadata": {},
     "output_type": "execute_result"
    },
    {
     "data": {
      "image/png": "[encoded data removed]",
      "text/plain": [
       "<Figure size 576x576 with 1 Axes>"
      ]
     },
     "metadata": {
      "needs_background": "light"
     },
     "output_type": "display_data"
    }
   ],
   "source": [
    "#Models comparision\n",
    "%matplotlib inline\n",
    "model_accuracy = pd.Series(data=[dtree_ac,svr_ac,rdf_ac,accuracy], \n",
    "        index=['DecisionTree_Classifier','SVM_regressor_accuracy','RandomForest','XGBClassifier'])\n",
    "fig= plt.figure(figsize=(8,8))\n",
    "model_accuracy.sort_values().plot.barh()\n",
    "plt.title('Model Accracy')"
   ]
  },
  {
   "cell_type": "code",
   "execution_count": null,
   "metadata": {},
   "outputs": [],
   "source": []
  },
  {
   "cell_type": "code",
   "execution_count": null,
   "metadata": {},
   "outputs": [],
   "source": []
  }
 ],
 "metadata": {
  "kernelspec": {
   "display_name": "Python 3",
   "language": "python",
   "name": "python3"
  },
  "language_info": {
   "codemirror_mode": {
    "name": "ipython",
    "version": 3
   },
   "file_extension": ".py",
   "mimetype": "text/x-python",
   "name": "python",
   "nbconvert_exporter": "python",
   "pygments_lexer": "ipython3",
   "version": "3.7.4"
  }
 },
 "nbformat": 4,
 "nbformat_minor": 2
}
